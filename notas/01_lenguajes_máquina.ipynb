{
 "cells": [
  {
   "cell_type": "markdown",
   "metadata": {},
   "source": [
    "# Lenguajes máquina"
   ]
  },
  {
   "cell_type": "markdown",
   "metadata": {},
   "source": [
    "Los lenguajes de programación son una forma de comunicar instrucciones a una\n",
    "computadora.\n",
    "Los hay de muchos tipos, con sus respectivas ventajas y desventajas.\n",
    "Se dice que un lenguaje de programación es de *alto nivel* cuando está más\n",
    "cercano al lenguaje humano, y de *bajo nivel* cuando está más cercano al\n",
    "lenguaje de las máquinas.\n",
    "En este cuaderno vamos a explorar los lenguajes de programación de más bajo\n",
    "nivel: los **lenguajes máquina** y sus primos cercanos, los **lenguajes\n",
    "ensambladores**.\n",
    "\n"
   ]
  },
  {
   "cell_type": "markdown",
   "metadata": {},
   "source": [
    "## 1. Máquinas e intérpretes"
   ]
  },
  {
   "cell_type": "markdown",
   "metadata": {},
   "source": [
    "Para hablar de lenguajes máquina primero necesitamos entender qué es una\n",
    "*máquina*.\n",
    "Concretamente, vamos a hablar de *máquinas abstractas*, que son los modelos\n",
    "que nos permiten entender cómo funcionan las computadoras de una manera muy\n",
    "simplificada pero general.\n",
    "Veamos algunos ejemplos de máquinas muy simples antes de poder generalizar una\n",
    "definición.\n",
    "\n",
    "- Una linterna de mano es una máquina muy simple: tiene dos estados, *encendida*\n",
    "  y *apagada*, y podemos cambiar de un estado a otro presionando un botón.\n",
    "- Un temporizador de cocina es otra máquina simple: tiene tres estados,\n",
    "  *apagado*, *encendido* y *sonando*.\n",
    "  Para pasar de *apagado* a *encendido* giramos una perilla que ajusta el tiempo\n",
    "  que deseamos esperar.\n",
    "  En el estado *encendido*, el temporizador suena *tick-tick-tick* hasta que\n",
    "  llega al tiempo programado; en ese momento pasa al estado *sonando* y emite\n",
    "  un sonido.\n",
    "  Acto seguido, el temporizador pasa al estado *apagado*.\n",
    "- El estado civil de una persona puede ser *soltero*, *casado*, *viudo*, o\n",
    "  *divorciado*.\n",
    "  Una persona nace soltera.\n",
    "  Para cambiar de estado, la persona puede casarse, divorciarse, o enviudar.\n",
    "  Una vez que dejas de ser soltero, no puedes volver a serlo.\n",
    "- Un ventilador de pedestal puede estar apagado, y en velocidad 1, 2 o 3;\n",
    "  además, puede estar girando o no.\n",
    "  Esto da un total de 7 estados posibles: *apagado*, *velocidad 1*,\n",
    "  *velocidad 2*, *velocidad 3*, *velocidad 1 con giro*, *velocidad 2 con giro* y\n",
    "  *velocidad 3 con giro*.\n",
    "  Para pasar entre estos estados, podemos presionar botones que cambian la\n",
    "  velocidad, así como jalar/presionar la cabeza del ventilador para permitir\n",
    "  o bloquear el giro."
   ]
  },
  {
   "cell_type": "markdown",
   "metadata": {},
   "source": [
    "¿Qué tienen en común estos sistemas?\n",
    "- El sistema está determinado por un conjunto de estados posibles.\n",
    "  Cada estado describe de forma precisa cómo se encuentra el sistema en un\n",
    "  momento dado.\n",
    "- Hay un conjunto de instrucciones que permiten cambiar de un estado a otro.\n",
    "  Estas instrucciones pueden ser acciones físicas (como presionar un botón o\n",
    "  girar una perilla), eventos externos (como casarse o enviudar), o cualquier\n",
    "  otra índole.\n",
    "  Lo importante es que podemos escribir estas instrucciones y comunicarlas a\n",
    "  alguien más.\n",
    "- El efecto de cada instrucción está determinado por una regla precisa y\n",
    "  determinista (es decir, no hay lugar a interpretaciones).\n",
    "- Antes de que hagamos cualquier acción, el sistema ya se encuentra en un estado\n",
    "  inicial determinado.\n",
    "\n",
    "A los sistemas que tengan estas cuatro características los llamaremos\n",
    "*máquinas abstractas*.\n",
    "Estos modelos son *máquinas* porque permiten la ejecución paso a paso de\n",
    "instrucciones, y son *abstractas* porque no estamos considerando sus\n",
    "limitaciones físicas ni detalles específicos de su funcionamiento."
   ]
  },
  {
   "cell_type": "markdown",
   "metadata": {},
   "source": [
    "Hasta ahora hemos visto máquinas abstractas con un número fijo y finito de\n",
    "estados, pero no hay ninguna restricción sobre esto.\n",
    "\n",
    "**Ejemplo** Una pila de platos sucios es un sistema, y puede tener cualquier\n",
    "cantidad arbitraria de platos en ella; es decir que el número de estados\n",
    "posibles es infinito.\n",
    "Solamente hay dos acciones posibles: agregar un plato a la cima de la pila, o\n",
    "quitar un plato de la cima de la pila para lavarlo.\n",
    "Cada vez que agregamos un plato, el estado de la pila cambia, pues ahora hay\n",
    "un plato más.\n",
    "\n",
    "Las computadoras en realidad son máquinas abstractas muy complejas pero finitas.\n",
    "El estado de una computadora moderna incluye la información almacenada en la\n",
    "memoria RAM, en el disco duro, en la tarjeta de video, en la tarjeta de red, y\n",
    "en muchos otros dispositivos.\n",
    "Para un humano es imposible entender todos los estados posibles de una\n",
    "computadora, así que en nuestra abstracta simplicidad vamos a considerar que\n",
    "una computadora tiene un número finito de estados (memoria infinita), y que\n",
    "cada estado es una secuencia de bits.\n"
   ]
  },
  {
   "cell_type": "markdown",
   "metadata": {},
   "source": [
    "### Estudio de caso: La máquina de pila"
   ]
  },
  {
   "cell_type": "markdown",
   "metadata": {},
   "source": [
    "La máquina de pila es un modelo muy simple de máquina abstracta en la que todas\n",
    "las operaciones se realizan sobre una pila de datos.\n",
    "Una pila de datos funciona igual que una pila de platos: se pueden ir apilando\n",
    "los elementos uno sobre otro, pero siempre entran y salen por la cima de la\n",
    "pila, nunca por el medio o el fondo.\n"
   ]
  },
  {
   "cell_type": "markdown",
   "metadata": {},
   "source": [
    "He preparado una máquina de pila en los materiales del curso para que podamos\n",
    "explorarla juntos."
   ]
  },
  {
   "cell_type": "code",
   "execution_count": 1,
   "metadata": {},
   "outputs": [],
   "source": [
    "from materiales.maquinas import MaquinaDePila\n",
    "\n",
    "maq = MaquinaDePila()"
   ]
  },
  {
   "cell_type": "code",
   "execution_count": 2,
   "metadata": {},
   "outputs": [
    {
     "data": {
      "text/markdown": [
       "| Nivel | Elemento |\n",
       "|---|---|\n",
       "| 2 | `'c'` |\n",
       "| 1 | `'b'` |\n",
       "| 0 | `'a'` |"
      ],
      "text/plain": [
       "<materiales.maquinas.pila.MaquinaDePila at 0x704ac6a9b950>"
      ]
     },
     "execution_count": 2,
     "metadata": {},
     "output_type": "execute_result"
    }
   ],
   "source": [
    "maq.apilar('a')\n",
    "maq.apilar('b')\n",
    "maq.apilar('c')"
   ]
  },
  {
   "cell_type": "markdown",
   "metadata": {},
   "source": [
    "Las máquinas de pila generalmente cuentan con un conjunto limitado pero útil\n",
    "de instrucciones, como sumar, restar, multiplicar, dividir, comparar, etc.\n",
    "Cada una de estas operaciones toma uno o más elementos de la pila, los procesa,\n",
    "y coloca el resultado de vuelta en la pila."
   ]
  },
  {
   "cell_type": "code",
   "execution_count": 3,
   "metadata": {},
   "outputs": [
    {
     "data": {
      "text/markdown": [
       "| Nivel | Elemento |\n",
       "|---|---|\n",
       "| 1 | `'bc'` |\n",
       "| 0 | `'a'` |"
      ],
      "text/plain": [
       "<materiales.maquinas.pila.MaquinaDePila at 0x704ac6a9b950>"
      ]
     },
     "execution_count": 3,
     "metadata": {},
     "output_type": "execute_result"
    }
   ],
   "source": [
    "maq.suma()"
   ]
  },
  {
   "cell_type": "code",
   "execution_count": 4,
   "metadata": {},
   "outputs": [
    {
     "data": {
      "text/markdown": [
       "| Nivel | Elemento |\n",
       "|---|---|"
      ],
      "text/plain": [
       "<materiales.maquinas.pila.MaquinaDePila at 0x704ac6a9b950>"
      ]
     },
     "execution_count": 4,
     "metadata": {},
     "output_type": "execute_result"
    }
   ],
   "source": [
    "maq.vaciar()  # Vaciamos la pila"
   ]
  },
  {
   "cell_type": "markdown",
   "metadata": {},
   "source": [
    "Podemos hacer cáculos con una máquina de pila, pero debemos considerar que\n",
    "las operaciones se escriben al final y no en medio.\n",
    "Por ejemplo, para calcular `3 + 4 * 5` en una máquina de pila, primero\n",
    "colocamos `3` y `4` en la pila, luego `5`, luego multiplicamos, y finalmente\n",
    "sumamos."
   ]
  },
  {
   "cell_type": "code",
   "execution_count": 5,
   "metadata": {},
   "outputs": [
    {
     "data": {
      "text/markdown": [
       "| Nivel | Elemento |\n",
       "|---|---|\n",
       "| 2 | `5` |\n",
       "| 1 | `4` |\n",
       "| 0 | `3` |"
      ],
      "text/plain": [
       "<materiales.maquinas.pila.MaquinaDePila at 0x704ac6a9b950>"
      ]
     },
     "execution_count": 5,
     "metadata": {},
     "output_type": "execute_result"
    }
   ],
   "source": [
    "maq.apilar(3)\n",
    "maq.apilar(4)\n",
    "maq.apilar(5)"
   ]
  },
  {
   "cell_type": "code",
   "execution_count": 6,
   "metadata": {},
   "outputs": [
    {
     "data": {
      "text/markdown": [
       "| Nivel | Elemento |\n",
       "|---|---|\n",
       "| 1 | `20` |\n",
       "| 0 | `3` |"
      ],
      "text/plain": [
       "<materiales.maquinas.pila.MaquinaDePila at 0x704ac6a9b950>"
      ]
     },
     "execution_count": 6,
     "metadata": {},
     "output_type": "execute_result"
    }
   ],
   "source": [
    "maq.multiplicacion()"
   ]
  },
  {
   "cell_type": "code",
   "execution_count": 7,
   "metadata": {},
   "outputs": [
    {
     "data": {
      "text/markdown": [
       "| Nivel | Elemento |\n",
       "|---|---|\n",
       "| 0 | `23` |"
      ],
      "text/plain": [
       "<materiales.maquinas.pila.MaquinaDePila at 0x704ac6a9b950>"
      ]
     },
     "execution_count": 7,
     "metadata": {},
     "output_type": "execute_result"
    }
   ],
   "source": [
    "maq.suma()"
   ]
  },
  {
   "cell_type": "markdown",
   "metadata": {},
   "source": [
    "Como último ejemplo, calculamos el número áureo, usado en arquitectura y arte\n",
    "desde la antigüedad.\n",
    "El número áureo está definido por la ecuación $\\phi + 1 = \\phi^2$.\n",
    "\n",
    "$$\\phi = \\frac{1 + \\sqrt{5}}{2}$$"
   ]
  },
  {
   "cell_type": "code",
   "execution_count": 8,
   "metadata": {},
   "outputs": [
    {
     "data": {
      "text/markdown": [
       "| Nivel | Elemento |\n",
       "|---|---|\n",
       "| 0 | `1.618033988749895` |"
      ],
      "text/plain": [
       "<materiales.maquinas.pila.MaquinaDePila at 0x704ac6a9b950>"
      ]
     },
     "execution_count": 8,
     "metadata": {},
     "output_type": "execute_result"
    }
   ],
   "source": [
    "# Calcular (1 + 5**(0.5))/2 = 1.618... (el número áureo)\n",
    "\n",
    "maq.vaciar()\n",
    "maq.apilar(1)\n",
    "maq.apilar(5)\n",
    "maq.apilar(0.5)\n",
    "maq.potencia()\n",
    "maq.suma()\n",
    "maq.apilar(2)\n",
    "maq.division()\n"
   ]
  },
  {
   "cell_type": "markdown",
   "metadata": {},
   "source": [
    "A pesar de su aparente simplicidad, las máquinas de pila son capaces de realizar\n",
    "cáculos complejos, y son la base de muchos lenguajes de programación de bajo\n",
    "nivel."
   ]
  },
  {
   "cell_type": "markdown",
   "metadata": {},
   "source": [
    "### Estudio de caso: La Computadora del Hombre Pequeño\n"
   ]
  },
  {
   "cell_type": "markdown",
   "metadata": {},
   "source": [
    "A continuación vamos a estudiar una máquina abstracta muy simple que modela las\n",
    "computadoras con arquitectura de von Neumann.\n",
    "Esta arquitectura es la base de la mayoría de las computadoras modernas, y se\n",
    "fundamenta en ideas muy simples:\n",
    "\n",
    "- La computadora tiene una **memoria** que almacena datos en celdas numeradas.\n",
    "- Existe un **procesador** que puede realizar determinadas operaciones de una\n",
    "  lista predefinida llamada **conjunto de instrucciones**.\n",
    "- Los **programas** son suceseciones de estas instrucciones, y se almacenan en\n",
    "  la memoria misma.\n",
    "\n",
    "No puedo enfatizar suficientemente lo revolucionaria que fue la idea de von\n",
    "Neumann de almacenar los programas en la memoria como si fueran meros datos."
   ]
  },
  {
   "cell_type": "markdown",
   "metadata": {},
   "source": [
    "Intuitivamente las máquinas abstractas son abstracciones simplificadas e\n",
    "idealizadas de las computadoras reales.\n",
    "En este sentido, uno de los modelos didácticos más simples es el de la\n",
    "[*Computadora del Hombre Pequeño*](https://en.wikipedia.org/wiki/Little_man_computer)\n",
    "(CHP), que ilustra de manera muy simplificada el funcionamiento de una\n",
    "computadora con arquitecura de Von Neumann (como las computadoras actuales).\n",
    "- La CHP consiste en un hombre pequeño que vive en una sala de correos con una\n",
    "  bandeja de entrada y una bandeja de salida.\n",
    "- El hombre pequeño cuenta con un ábaco (*acumulador*) para almacenar un número\n",
    "  de tres dígitos así como realizar sumas y restas.\n",
    "- La sala tiene 100 cajones numerados del 00 al 99 y cada cajón contiene una \n",
    "  carta con un número de tres dígitos.\n",
    "- El hombre puede leer el contenido de un cajón, escribir en él, y moverse\n",
    "  a otro cajón.\n",
    "- El hombre puede leer el número de la carta en el cajón en el que se encuentra,\n",
    "  y en base a ese número puede decidir qué hacer a continuación.\n",
    "\n",
    "En cada paso, el hombre pequeño realiza un ciclo de tres pasos, mejor conocido\n",
    "como ciclo de *fetch-decode-execute*:\n",
    "1. **Traer**: El hombre lee el número de la carta en el cajón en el que se\n",
    "   encuentra.\n",
    "2. **Decodificar**: El hombre decide qué hacer en base al número de la carta.\n",
    "3. **Ejecutar**: El hombre realiza la acción correspondiente y se mueve al\n",
    "   siguiente cajón a menos que la acción sea moverse a un cajón específico.\n",
    "\n",
    "Para decodificar el número de la carta, el hombre pequeño utiliza una tabla como\n",
    "esta:\n",
    "\n",
    "Instrucción | Número de la carta | Descripción\n",
    ":---------- | :----------------: | :----------\n",
    "**HALT** | 000 | Detente (hora de tomar un descanso).\n",
    "**ADD** | 1xx | Suma a tu ábaco el número de la carta `xx`.\n",
    "**SUBTRACT** | 2xx | Resta de tu ábaco el número de la carta `xx`.\n",
    "**STORE** | 3xx | Escribe el número de tu ábaco en una carta y ponla en el cajón `xx`.\n",
    "**LOAD** | 5xx | Pon en tu ábaco el número que está escrito la carta del cajón `xx`.\n",
    "**BRANCH** | 6xx | Dirígete al cajón `xx`.\n",
    "**BRANCH IF ZERO** | 7xx | Dirígete al cajón `xx` si el número en tu ábaco es cero.\n",
    "**BRANCH IF POSITIVE**| 8xx | Dirígete al cajón `xx` si el número en tu ábaco es positivo.\n",
    "**INPUT** | 901 | Toma una carta de la bandeja de entrada y copia el número en tu ábaco.\n",
    "**OUTPUT** | 902 | Escribe el número de tu ábaco en una carta y ponla en la bandeja de salida."
   ]
  },
  {
   "cell_type": "code",
   "execution_count": 9,
   "metadata": {},
   "outputs": [],
   "source": [
    "from materiales.maquinas import ComputadoraHombrePequenno"
   ]
  },
  {
   "cell_type": "code",
   "execution_count": 10,
   "metadata": {},
   "outputs": [
    {
     "data": {
      "text/html": [
       "↓[<code>002</code>, <code>003</code>, <code>009</code>, <code>019</code>, <code>004</code>, <code>002</code>, <code>000</code>]\n",
       "<table>\n",
       "<tr><td><code>000</code></td><th><strong>X0</strong></th><th><strong>X1</strong></th><th><strong>X2</strong></th><th><strong>X3</strong></th><th><strong>X4</strong></th><th><strong>X5</strong></th><th><strong>X6</strong></th><th><strong>X7</strong></th><th><strong>X8</strong></th><th><strong>X9</strong></th></tr>\n",
       "<tr><th><strong>0X</strong></th><td><code>▶901</code></td><td><code>310</code></td><td><code>901</code></td><td><code>110</code></td><td><code>902</code></td><td><code>000</code></td><td><code>000</code></td><td><code>000</code></td><td><code>000</code></td><td><code>000</code></td></tr>\n",
       "<tr><th><strong>1X</strong></th><td><code>000</code></td><td><code>000</code></td><td><code>000</code></td><td><code>000</code></td><td><code>000</code></td><td><code>000</code></td><td><code>000</code></td><td><code>000</code></td><td><code>000</code></td><td><code>000</code></td></tr>\n",
       "<tr><th><strong>2X</strong></th><td><code>000</code></td><td><code>000</code></td><td><code>000</code></td><td><code>000</code></td><td><code>000</code></td><td><code>000</code></td><td><code>000</code></td><td><code>000</code></td><td><code>000</code></td><td><code>000</code></td></tr>\n",
       "<tr><th><strong>3X</strong></th><td><code>000</code></td><td><code>000</code></td><td><code>000</code></td><td><code>000</code></td><td><code>000</code></td><td><code>000</code></td><td><code>000</code></td><td><code>000</code></td><td><code>000</code></td><td><code>000</code></td></tr>\n",
       "<tr><th><strong>4X</strong></th><td><code>000</code></td><td><code>000</code></td><td><code>000</code></td><td><code>000</code></td><td><code>000</code></td><td><code>000</code></td><td><code>000</code></td><td><code>000</code></td><td><code>000</code></td><td><code>000</code></td></tr>\n",
       "<tr><th><strong>5X</strong></th><td><code>000</code></td><td><code>000</code></td><td><code>000</code></td><td><code>000</code></td><td><code>000</code></td><td><code>000</code></td><td><code>000</code></td><td><code>000</code></td><td><code>000</code></td><td><code>000</code></td></tr>\n",
       "<tr><th><strong>6X</strong></th><td><code>000</code></td><td><code>000</code></td><td><code>000</code></td><td><code>000</code></td><td><code>000</code></td><td><code>000</code></td><td><code>000</code></td><td><code>000</code></td><td><code>000</code></td><td><code>000</code></td></tr>\n",
       "<tr><th><strong>7X</strong></th><td><code>000</code></td><td><code>000</code></td><td><code>000</code></td><td><code>000</code></td><td><code>000</code></td><td><code>000</code></td><td><code>000</code></td><td><code>000</code></td><td><code>000</code></td><td><code>000</code></td></tr>\n",
       "<tr><th><strong>8X</strong></th><td><code>000</code></td><td><code>000</code></td><td><code>000</code></td><td><code>000</code></td><td><code>000</code></td><td><code>000</code></td><td><code>000</code></td><td><code>000</code></td><td><code>000</code></td><td><code>000</code></td></tr>\n",
       "<tr><th><strong>9X</strong></th><td><code>000</code></td><td><code>000</code></td><td><code>000</code></td><td><code>000</code></td><td><code>000</code></td><td><code>000</code></td><td><code>000</code></td><td><code>000</code></td><td><code>000</code></td><td><code>000</code></td></tr>\n",
       "</table>\n",
       "↓[]"
      ],
      "text/plain": [
       "ComputadoraHombrePequenno(programa=[901, 310, 901, 110, 902], contador=0, acumulador=0, entrada=deque([2, 3, 9, 19, 4, 2, 0]), salida=deque([]))"
      ]
     },
     "execution_count": 10,
     "metadata": {},
     "output_type": "execute_result"
    }
   ],
   "source": [
    "# Ejemplo: sumar dos números de la bandeja de entrada y poner el\n",
    "# resultado en la bandeja de salida\n",
    "maq = ComputadoraHombrePequenno()\n",
    "maq.cargar_entrada([2, 3, 9, 19, 4, 2, 0])\n",
    "maq.cargar_programa([901, 310, 901, 110, 902])"
   ]
  },
  {
   "cell_type": "code",
   "execution_count": 11,
   "metadata": {},
   "outputs": [
    {
     "data": {
      "text/html": [
       "↓[<code>003</code>, <code>009</code>, <code>019</code>, <code>004</code>, <code>002</code>, <code>000</code>]\n",
       "<table>\n",
       "<tr><td><code>002</code></td><th><strong>X0</strong></th><th><strong>X1</strong></th><th><strong>X2</strong></th><th><strong>X3</strong></th><th><strong>X4</strong></th><th><strong>X5</strong></th><th><strong>X6</strong></th><th><strong>X7</strong></th><th><strong>X8</strong></th><th><strong>X9</strong></th></tr>\n",
       "<tr><th><strong>0X</strong></th><td><code>901</code></td><td><code>▶310</code></td><td><code>901</code></td><td><code>110</code></td><td><code>902</code></td><td><code>000</code></td><td><code>000</code></td><td><code>000</code></td><td><code>000</code></td><td><code>000</code></td></tr>\n",
       "<tr><th><strong>1X</strong></th><td><code>000</code></td><td><code>000</code></td><td><code>000</code></td><td><code>000</code></td><td><code>000</code></td><td><code>000</code></td><td><code>000</code></td><td><code>000</code></td><td><code>000</code></td><td><code>000</code></td></tr>\n",
       "<tr><th><strong>2X</strong></th><td><code>000</code></td><td><code>000</code></td><td><code>000</code></td><td><code>000</code></td><td><code>000</code></td><td><code>000</code></td><td><code>000</code></td><td><code>000</code></td><td><code>000</code></td><td><code>000</code></td></tr>\n",
       "<tr><th><strong>3X</strong></th><td><code>000</code></td><td><code>000</code></td><td><code>000</code></td><td><code>000</code></td><td><code>000</code></td><td><code>000</code></td><td><code>000</code></td><td><code>000</code></td><td><code>000</code></td><td><code>000</code></td></tr>\n",
       "<tr><th><strong>4X</strong></th><td><code>000</code></td><td><code>000</code></td><td><code>000</code></td><td><code>000</code></td><td><code>000</code></td><td><code>000</code></td><td><code>000</code></td><td><code>000</code></td><td><code>000</code></td><td><code>000</code></td></tr>\n",
       "<tr><th><strong>5X</strong></th><td><code>000</code></td><td><code>000</code></td><td><code>000</code></td><td><code>000</code></td><td><code>000</code></td><td><code>000</code></td><td><code>000</code></td><td><code>000</code></td><td><code>000</code></td><td><code>000</code></td></tr>\n",
       "<tr><th><strong>6X</strong></th><td><code>000</code></td><td><code>000</code></td><td><code>000</code></td><td><code>000</code></td><td><code>000</code></td><td><code>000</code></td><td><code>000</code></td><td><code>000</code></td><td><code>000</code></td><td><code>000</code></td></tr>\n",
       "<tr><th><strong>7X</strong></th><td><code>000</code></td><td><code>000</code></td><td><code>000</code></td><td><code>000</code></td><td><code>000</code></td><td><code>000</code></td><td><code>000</code></td><td><code>000</code></td><td><code>000</code></td><td><code>000</code></td></tr>\n",
       "<tr><th><strong>8X</strong></th><td><code>000</code></td><td><code>000</code></td><td><code>000</code></td><td><code>000</code></td><td><code>000</code></td><td><code>000</code></td><td><code>000</code></td><td><code>000</code></td><td><code>000</code></td><td><code>000</code></td></tr>\n",
       "<tr><th><strong>9X</strong></th><td><code>000</code></td><td><code>000</code></td><td><code>000</code></td><td><code>000</code></td><td><code>000</code></td><td><code>000</code></td><td><code>000</code></td><td><code>000</code></td><td><code>000</code></td><td><code>000</code></td></tr>\n",
       "</table>\n",
       "↓[]"
      ],
      "text/plain": [
       "ComputadoraHombrePequenno(programa=[901, 310, 901, 110, 902], contador=1, acumulador=2, entrada=deque([3, 9, 19, 4, 2, 0]), salida=deque([]))"
      ]
     },
     "execution_count": 11,
     "metadata": {},
     "output_type": "execute_result"
    }
   ],
   "source": [
    "# NOTA: Ejecuta esta celda varias veces para ver el resultado\n",
    "maq.transicion()"
   ]
  },
  {
   "cell_type": "markdown",
   "metadata": {},
   "source": [
    "### Estudio de caso: El desensamblador de Python"
   ]
  },
  {
   "cell_type": "markdown",
   "metadata": {},
   "source": [
    "Python también se puede ver como una máquina abstracta.\n",
    "En este caso, la máquina abstracta de Python es una máquina de pila, al igual\n",
    "que ocurre con la mayoría de los lenguajes de programación de alto nivel.\n",
    "Python incluye un módulo llamado `dis` que muestra las instrucciones de la\n",
    "máquina de pila.\n",
    "Esta máquina usa instrucciones como `LOAD_NAME` y `LOAD_CONST`\n",
    "para colocar un valor en la cima de la pila, y `BINARY_OP` para realizar\n",
    "operaciones binarias como sumar, restar, multiplicar, etc."
   ]
  },
  {
   "cell_type": "code",
   "execution_count": 12,
   "metadata": {},
   "outputs": [
    {
     "name": "stdout",
     "output_type": "stream",
     "text": [
      "  0           0 RESUME                   0\n",
      "\n",
      "  1           2 LOAD_NAME                0 (base)\n",
      "              4 LOAD_NAME                1 (altura)\n",
      "              6 BINARY_OP                5 (*)\n",
      "             10 LOAD_CONST               0 (2)\n",
      "             12 BINARY_OP               11 (/)\n",
      "             16 RETURN_VALUE\n"
     ]
    }
   ],
   "source": [
    "import dis\n",
    "\n",
    "programa = \"(base * altura) / 2\"\n",
    "dis.dis(programa)  # Mostrar en pantalla el programa de la máquina"
   ]
  },
  {
   "cell_type": "markdown",
   "metadata": {},
   "source": [
    "La saida del desensaamblador de Python es una secuencia de instrucciones\n",
    "divididas las siguientes columnas:\n",
    "- La primera columna indica el número de línea en el texto original.\n",
    "- La segunda columna indica la posición de la instrucción la memoria de la\n",
    "  máquina abstracta.\n",
    "  Los números que faltan en la secuencia casi siempre indican que esa posición\n",
    "  está ocupada por un dato, como puede ser un número o una cadena de texto.\n",
    "  Si una de estas instrucciones es el objetivo de un salto condicional, se\n",
    "  indica con una marca `>>`.\n",
    "- La tercera columna indica la instrucción en lenguaje de la máquina.\n",
    "- La cuarta columna indica el argumento de la instrucción, seguido del nombre\n",
    "  entre paréntesis."
   ]
  },
  {
   "cell_type": "markdown",
   "metadata": {},
   "source": [
    "En nuestro siguiente ejemplo tenemos un programa ligeramente más complejo.\n",
    "Este almacena la edad en una *variable* llamada *edad* y luego imprime un\n",
    "mensaje dependiendo de si la edad es mayor o menor que 18."
   ]
  },
  {
   "cell_type": "code",
   "execution_count": 13,
   "metadata": {},
   "outputs": [
    {
     "name": "stdout",
     "output_type": "stream",
     "text": [
      "Vamos por unas chelas\n"
     ]
    }
   ],
   "source": [
    "edad = 23  # Cambia este valor para ver qué pasa\n",
    "mensaje = \"Vamos por un Yakult\"\n",
    "if edad >= 18:\n",
    "    mensaje = \"Vamos por unas chelas\"\n",
    "print(mensaje)"
   ]
  },
  {
   "cell_type": "code",
   "execution_count": 14,
   "metadata": {},
   "outputs": [
    {
     "name": "stdout",
     "output_type": "stream",
     "text": [
      "  0           0 RESUME                   0\n",
      "\n",
      "  2           2 LOAD_CONST               0 (23)\n",
      "              4 STORE_NAME               0 (edad)\n",
      "\n",
      "  3           6 LOAD_CONST               1 ('Vamos por un Yakult')\n",
      "              8 STORE_NAME               1 (mensaje)\n",
      "\n",
      "  4          10 LOAD_NAME                0 (edad)\n",
      "             12 LOAD_CONST               2 (18)\n",
      "             14 COMPARE_OP               5 (>=)\n",
      "             20 POP_JUMP_FORWARD_IF_FALSE     2 (to 26)\n",
      "\n",
      "  5          22 LOAD_CONST               3 ('Vamos por unas chelas')\n",
      "             24 STORE_NAME               1 (mensaje)\n",
      "\n",
      "  6     >>   26 PUSH_NULL\n",
      "             28 LOAD_NAME                2 (print)\n",
      "             30 LOAD_NAME                1 (mensaje)\n",
      "             32 PRECALL                  1\n",
      "             36 CALL                     1\n",
      "             46 POP_TOP\n",
      "             48 LOAD_CONST               4 (None)\n",
      "             50 RETURN_VALUE\n"
     ]
    }
   ],
   "source": [
    "# La triple comilla doble permite escribir cadenas de texto en varias\n",
    "# líneas:\n",
    "programa = \"\"\"\n",
    "edad = 23\n",
    "mensaje = \"Vamos por un Yakult\"\n",
    "if edad >= 18:\n",
    "    mensaje = \"Vamos por unas chelas\"\n",
    "print(mensaje)\n",
    "\"\"\"\n",
    "dis.dis(programa)"
   ]
  },
  {
   "cell_type": "markdown",
   "metadata": {},
   "source": [
    "**Actividad extra**: Si tienes la oportunidad, te recomiendo mucho el videojuego\n",
    "[Human Resource Machine](https://tomorrowcorporation.com/humanresourcemachine),\n",
    "lanzado en 2015 por la compañía *Tomorrow Corporation* para Windows, Mac, Linux,\n",
    "iOS y Android.\n",
    "Este es un juego de programación inspirado en la computadora del hombre pequeño.\n",
    "Ahí te enfrentarás a varios acertijos de programación en una máquina RAM con\n",
    "un conjunto de instrucciones muy limitado.\n",
    "Comienzas con instrucciones muy básicas, pero a medida que avanzas en el juego\n",
    "se te presentan retos más desafiantes con instrucciones más complejas."
   ]
  },
  {
   "cell_type": "markdown",
   "metadata": {},
   "source": [
    "## 2. Implementación de lenguajes de programación"
   ]
  },
  {
   "cell_type": "markdown",
   "metadata": {},
   "source": [
    "Ahora que comprendemos qué es una máquina abstracta, podemos empezar a hablar\n",
    "de los lenguajes máquina.\n",
    "Ya vimos que una máquina abstracta recibe y ejecuta instrucciones para cambiar\n",
    "de estado, así que, si anotamos estas instrucciones en un papel, tendremos una\n",
    "receta para hacer que la máquina haga algo; a esto le llamamos un *programa*."
   ]
  },
  {
   "cell_type": "markdown",
   "metadata": {},
   "source": [
    "**Definición** Sea $M$ una máquina abstracta\n",
    "- Un *programa* $P$ de $M$ es un texto finito que contiene solo instrucciones de\n",
    "  $M$.\n",
    "- Definimos a $L(M)$ “*el lenguaje máquina de $M$*” como el conjunto de todos\n",
    "  los programas de $M$."
   ]
  },
  {
   "cell_type": "markdown",
   "metadata": {},
   "source": [
    "\n",
    "**Definición** Sea $L$ un lenguaje de programación. Una *implementación* de $L$\n",
    "es una máquina abstracta $M$ tal que $L=L(M)$."
   ]
  },
  {
   "cell_type": "markdown",
   "metadata": {},
   "source": [
    "Sea $L=L(M)$. Por definición, $M$ es una máquina que permite la ejecución de\n",
    "programas escritos en lenguaje $L$.\n",
    "De forma recíproca, $L$ es un lenguaje que puede ser ejecutado por muchas\n",
    "(infinitas) máquinas abstractas.\n",
    "\n",
    "**Ejemplo** El procesador de [Intel 8086][x86] es una máquina abstracta que\n",
    "ejecuta programas escritos su propio lenguaje máquina (por definición).\n",
    "Sin embargo, este lenguaje máquina define el estándar de facto *lenguaje máquina\n",
    "x86*.\n",
    "Actualmente muchos procesadores modernos, incluyendo los de Intel y AMD, son\n",
    "capaces de ejecutar programas escritos en lenguaje máquina x86.\n",
    "Es decir que varios de los programas que fueron escritos para el procesador 8086\n",
    "en los años 80 aún pueden ser ejecutados en las computadoras actuales.\n",
    "\n",
    "**Ejemplo** El lenguaje de programación Python es un lenguaje de alto nivel; de\n",
    "hecho, es el lenguaje de programación que usamos en este mismo cuaderno.\n",
    "El intéprete oficial de Python es una máquina abstracta llamada *CPython* y,\n",
    "aunque es la más común, existen otras [implementaciones alternativas][cpython].\n",
    "\n",
    "[x86]: https://es.wikipedia.org/wiki/Intel_8086_y_8088\n",
    "[cpython]: https://docs.python.org/es/3.8/reference/introduction.html#alternate-implementations"
   ]
  },
  {
   "cell_type": "markdown",
   "metadata": {},
   "source": [
    "La implementación de un lenguaje de programación se puede dar de varias maneras,\n",
    "pero en general es una combinación de estos tres casos:"
   ]
  },
  {
   "cell_type": "markdown",
   "metadata": {},
   "source": [
    "### 2.1. Implementación en hardware"
   ]
  },
  {
   "cell_type": "markdown",
   "metadata": {},
   "source": [
    "\n",
    "Implementar un lenguaje en hardware significa construir una máquina real que\n",
    "ejecute programas escritos en el lenguaje.\n",
    "- Utiliza circuitos digitales para implementar las instrucciones de la máquina\n",
    "  así como la memoria.\n",
    "- El lenguaje de programación es el lenguaje de la máquina.\n",
    "- Los programas corren directamente en la máquina, por lo que son generalmente\n",
    "  muy rápidos.\n",
    "- Una vez construidia la máquina, es muy difícil modificarla."
   ]
  },
  {
   "cell_type": "markdown",
   "metadata": {},
   "source": [
    "\n",
    "**Ejemplo** La computadora Burroughs B5500 fue una computadora de la década\n",
    "de 1960 que utilizaba un lenguaje de programación llamado *ALGOL 60*, cuyos\n",
    "programas se ejecutaban directamente en la máquina.\n",
    "Este es un ejemplo de un programa en ALGOL 60 que calcula el elemento más grande\n",
    "en valor absoluto de una matriz:\n",
    "\n",
    "```plaintext\n",
    "procedure Absmax(a) Size:(n, m) Result:(y) Subscripts:(i, k);\n",
    "    value n, m; array a; integer n, m, i, k; real y;\n",
    "comment El elemento más grande en valor absoluto de la matriz a, de tamaño n por\n",
    "    m, se copia en y, y los subíndices de este elemento en i y k;\n",
    "begin\n",
    "    integer p, q;\n",
    "    y := 0; i := k := 1;\n",
    "    for p := 1 step 1 until n do\n",
    "        for q := 1 step 1 until m do\n",
    "            if abs(a[p, q]) > y then\n",
    "                begin y := abs(a[p, q]);\n",
    "                    i := p; k := q\n",
    "                end\n",
    "end Absmax\n",
    "```"
   ]
  },
  {
   "cell_type": "markdown",
   "metadata": {},
   "source": [
    "**Actividad**\n",
    "Hojear el [panfleto de la computadora Burroughs B5500][1] de 1964\n",
    "y señalar las partes que corresponden a la implementación de ALGOL 60.\n",
    "\n",
    "[1]: http://s3data.computerhistory.org/brochures/burroughs.b5500.1964.102646215.pdf"
   ]
  },
  {
   "cell_type": "markdown",
   "metadata": {},
   "source": [
    "### 2.2. Implementación en microcódigo\n",
    "\n",
    "Si disponemos de una máquina $M$ cuyas instrucciones son muy básicas pero muy\n",
    "rápidas, podemos implementar un lenguaje $L$ en $M$ convirtiendo las complejas\n",
    "instrucciones de $L$ en una secuencia de pequeñas instrucciones de $M$.\n",
    "A esta técnica se le conoce como *microprogramación*, *simulación* o\n",
    "*emulación*.\n",
    "\n",
    "- La implementación tiene que simular las instrucciones de $L$ utilizando una\n",
    "  o varias instrucciones de $M$.\n",
    "- Posiblemente se requiera de implementar el propio ciclo de\n",
    "  *traer-decodificar-ejecutar* en $M$.\n",
    "- Más lento que la implementación en hardware, pero aporta flexibilidad.\n",
    "\n",
    "Actualmente muchos de los programas que usamos en el día a día se implementan\n",
    "en microcódigo a través de técnicas como la *compilación*, que veremos más\n",
    "adelante.\n",
    "\n",
    "**Ejemplo** El lenguaje de programación C es un lenguaje de alto nivel que\n",
    "usualmente se implementa en microcódigo: para cada tipo de computadora, como\n",
    "una PC, un teléfono móvil, o un microcontrolador, se cuenta con una herramienta\n",
    "llamada *compilador* que convierte los programas escritos en lenguaje C en\n",
    "instrucciones de máquina (microcódigo) que la computadora que se desea usar.\n",
    "\n",
    "**Actividad** Hojear el [panfleto del sistema IBM 360][1] de 1964 y señalar las\n",
    "partes que corresponden a la implementación de su lenguaje máquina.\n",
    "\n",
    "[1]: https://es.scribd.com/document/338361531/A22-6821-0-360PrincOps-pdf"
   ]
  },
  {
   "cell_type": "markdown",
   "metadata": {},
   "source": [
    "### 2.3. Implementación en software\n",
    "A veces las instrucciones de un lenguaje $L$ son tan complejas que no es\n",
    "práctico implementarlas en hardware o microcódigo.\n",
    "En estos casos tenemos que simular la máquina $M$ en un lenguaje de programación\n",
    "$L^\\prime$ que ya esté implementado en hardware o microcódigo.\n",
    "A la máquina $M$ se le conoce como *máquina virtual* y al lenguaje $L(M)$ se le\n",
    "conoce como *lenguaje de alto nivel*.\n",
    "\n",
    "- Requiere programar en $L^\\prime$ un *intérprete* de $L$.\n",
    "- Aún más lento que la implementación en microcódigo, pero aporta mucha\n",
    "  flexibilidad, ya que solo requiere implementar una máquina virtual para cada\n",
    "  máquina hospedera.\n",
    "\n"
   ]
  },
  {
   "cell_type": "markdown",
   "metadata": {},
   "source": [
    "### 2.4. Implementación mixta\n",
    "En la práctica, la implementación de un lenguaje de programación suele ser una\n",
    "combinación de las tres técnicas anteriores.\n",
    "La forma más común es implementar un compilador que convierte los programas\n",
    "escritos en un lenguaje de alto nivel $L$ en instrucciones de un *lenguaje\n",
    "intermedio* $L^\\prime$ que a su vez es fácil de implementar en microcódigo para\n",
    "una o varias máquinas $M$.\n",
    "\n",
    "**Ejemplo** Java es un lenguaje de programación de alto nivel que se jacta de\n",
    "ser *multiplataforma*, y con justa razón:\n",
    "- Cada programa escrito en Java se compila a un lenguaje intermedio llamado\n",
    "  *Java Bytecode*.\n",
    "- El Java Bytecode es el lenguaje de la *máquina virtual de Java* (JVM), que es\n",
    "  una máquina abstracta.\n",
    "- La JVM es implementada en microcódigo para cada tipo de computadora,\n",
    "  incluyendo PCs, teléfonos móviles, y microcontroladores.\n",
    "\n",
    "**Ejemplo** El lenguaje de programación C# fue creado por Microsoft para\n",
    "competir con Java, y tiene una arquitectura similar:\n",
    "- Los programas escritos en C# se compilan a *Common Intermediate Language*\n",
    "  (CIL).\n",
    "- La *Common Language Runtime* (CLR) es la máquina virtual de C# que ejecuta\n",
    "  las instrucciones de CIL.\n",
    "- La CLR es implementada en microcódigo para cada tipo de computadora soportada\n",
    "  por Microsoft.\n",
    "  \n",
    "**Ejemplo** Aunque muchos creen que Python es un lenguaje interpretado, en\n",
    "realidad tiene una implementación mixta:\n",
    "- Cuando un usuario desea ejecutar un programa en Python, el intérprete de\n",
    "  Python (CPython) lo compila de forma inmediata a *código objeto*, que es un\n",
    "  lenguaje intermedio específico de cada versión de CPython.\n",
    "- El código objeto es interpretado y ejecutado por el *intérprete de Python*,\n",
    "  que en realidad es una máquina virtual.\n",
    "- CPython es implementado en microcódigo para varias plataformas, incluyendo\n",
    "  Windows, macOS, y Linux.\n"
   ]
  },
  {
   "cell_type": "markdown",
   "metadata": {},
   "source": [
    "## 3. Compilación vs. interpretación\n",
    "Denotaremos con $P^L$ a un programa escrito en lenguaje $L$, y con $D$ al\n",
    "conjunto de todos los *datos* de entrada y salida de $P$.\n",
    "Matemáticamente $P$ es una función que mapea $D$ (entradas) a $D$ (salidas),\n",
    "denotado en teoría de conjuntos así:\n",
    "$$P^L: D \\to D$$\n",
    "\n",
    "Sin embargo hay un detalle técnico importante: $P$ no es una función definida en\n",
    "todo su dominio $D$, sino que está definida solamente en un subconjunto (¿por\n",
    "qué?).\n",
    "A esto se le conoce en matemáticas como *función parcial*.\n"
   ]
  },
  {
   "cell_type": "markdown",
   "metadata": {},
   "source": [
    "### 3.1 Intérpretes\n",
    "**Definición** Sea $A$ un lenguaje de programación y $D$ el conjunto de todos\n",
    "los datos de entrada y salida de $A$.\n",
    "Un *intérprete* del lenguaje $A$ es un programa $I^B$, escrito en lenguaje $B$,\n",
    "que recibe como entrada un programa $P^A$, escrito en lenguaje $A$, junto con su\n",
    "entrada $e\\in D$ y lo ejecuta; es decir, define la función parcial siguiente:\n",
    "$$I^B: A \\times D \\to D$$\n",
    "\n",
    "Vamos a diseccionar esta fórmula:\n",
    "- $I^B$ es el intéprete, y actúa como una función.\n",
    "- Esta función recibe dos argumentos, el primero pertenece al lenguaje $A$\n",
    "  (es un programa) y el segundo pertenece a $D$ (es uno o más datos de entrada).\n",
    "- La función $I^B$ transforma ($\\to$) estos dos argumentos en un resultado que\n",
    "  pertenece a $D$ (uno o más datos de salida). "
   ]
  },
  {
   "cell_type": "markdown",
   "metadata": {},
   "source": [
    "**Observación** El intérprete de $A$ es necesario para ejecutar cualquier\n",
    "programa de $A$; este actúa como una *máquina virtual* de $A$."
   ]
  },
  {
   "cell_type": "markdown",
   "metadata": {},
   "source": [
    "Muchos intérpretes incluyen una consola interactiva que permite ejecutar\n",
    "programas de $A$ sin necesidad de escribirlos en un archivo.\n",
    "A este proceso se le conoce como *REPL* (del inglés *Read-Eval-Print Loop*)\n",
    "porque es un ciclo de tres pasos:\n",
    "1. **Leer**: El intérprete lee una línea de texto escrita en lenguaje $A$.\n",
    "2. **Evaluar**: El intérprete ejecuta la línea de texto como una instrucción de\n",
    "   $A$.\n",
    "3. **Imprimir**: El intérprete imprime el resultado de la instrucción en la\n",
    "   pantalla.\n"
   ]
  },
  {
   "cell_type": "markdown",
   "metadata": {},
   "source": [
    "**Ejemplo 1** El intérprete de Python, CPython, se llama así porque es un\n",
    "programa escrito en lenguaje C.\n",
    "CPython recibe como entrada un programa de Python y lo ejecuta.\n",
    "Cuando un programa de Python recibe una entrada o produce una salida, el\n",
    "intérprete de Python se encarga de leer o escribir los datos en la consola."
   ]
  },
  {
   "cell_type": "markdown",
   "metadata": {},
   "source": [
    "**Ejemplo 2** JavaScript es un lenguaje de programación que se ejecuta\n",
    "directamente en el navegador web."
   ]
  },
  {
   "cell_type": "markdown",
   "metadata": {},
   "source": [
    "**Actividad** Probar el intérprete de JavaScript directamente en el navegador\n",
    "web.\n",
    "- Abrir un navegador web moderno (Chrome, Firefox, Edge, etc.).\n",
    "- Abrir las herramientas del desarrollador (tecla F12).\n",
    "- Ir a la pestaña *Consola*.\n",
    "- Escribir el siguiente programa en JavaScript:\n",
    "  ```javascript\n",
    "  console.log(\"Hola mundo\");\n",
    "  ```\n",
    "- Probar con otros programas."
   ]
  },
  {
   "cell_type": "markdown",
   "metadata": {},
   "source": [
    "**Actividad** Analizar la implementación de la CHP en Python, así como\n",
    "proporcionar un intérprete de de acuerdo a la definición anterior."
   ]
  },
  {
   "cell_type": "markdown",
   "metadata": {},
   "source": [
    "En la CHP, el lenguaje consiste de listas de números de tres dígitos, y los\n",
    "datos de entrada y salida son listas de números de tres dígitos."
   ]
  },
  {
   "cell_type": "code",
   "execution_count": 15,
   "metadata": {},
   "outputs": [],
   "source": [
    "from materiales.maquinas.hombre import ComputadoraHombrePequenno\n",
    "\n",
    "\n",
    "def interprete_chp(programa: list[int], entrada: list[int]) -> list[int]:\n",
    "    maq = ComputadoraHombrePequenno(programa=programa, entrada=entrada)\n",
    "    maq.ejecutar()\n",
    "    return list(maq.salida)"
   ]
  },
  {
   "cell_type": "code",
   "execution_count": 16,
   "metadata": {},
   "outputs": [
    {
     "name": "stdout",
     "output_type": "stream",
     "text": [
      "Programa para multiplicar dos números en CHP:\n",
      "[603, 0, 1, 901, 350, 901, 351, 501, 352, 550, 717, 202, 350, 551, 152, 352, 609, 552, 902]\n"
     ]
    }
   ],
   "source": [
    "# Ejemplo: multiplicar dos números de la bandeja de entrada y poner el\n",
    "# resultado en la bandeja de salida.\n",
    "# Para multiplicar m por n, sumamos m veces n.\n",
    "# Este programa coloca m, n y el resultado en las posiciones 50, 51 y 52\n",
    "# de la memoria, respectivamente.\n",
    "programa_de_multiplicar = [\n",
    "    603,  # IR A 3\n",
    "    # Preparar constantes:\n",
    "    0,  # CERO\n",
    "    1,  # UNO\n",
    "    # Línea 3 (inicio del programa):\n",
    "    901,  # entrada -> acumulador\n",
    "    350,  # acumulador -> memoria[50]\n",
    "    901,  # entrada -> acumulador\n",
    "    351,  # acumulador -> memoria[51]\n",
    "    501,  # CERO -> acumulador\n",
    "    352,  # acumulador -> memoria[52]\n",
    "    # Línea 9 (inicio del ciclo):\n",
    "    550,  # memoria[50] -> acumulador\n",
    "    717,  # SI acumulador = 0 ENTONCES IR A 17\n",
    "    202,  # acumulador - UNO -> acumulador\n",
    "    350,  # acumulador -> memoria[50]\n",
    "    551,  # memoria[51] -> acumulador\n",
    "    152,  # acumulador + memoria[52] -> acumulador\n",
    "    352,  # acumulador -> memoria[52]\n",
    "    609,  # IR A 9\n",
    "    # Línea 17 (fin del ciclo):\n",
    "    552,  # memoria[52] -> acumulador\n",
    "    902,  # acumulador -> salida\n",
    "]\n",
    "print(\"Programa para multiplicar dos números en CHP:\")\n",
    "print(programa_de_multiplicar)"
   ]
  },
  {
   "cell_type": "code",
   "execution_count": 17,
   "metadata": {},
   "outputs": [
    {
     "name": "stdout",
     "output_type": "stream",
     "text": [
      "La computadora se detuvo.\n",
      "[40]\n"
     ]
    }
   ],
   "source": [
    "# Usamos el intéreprete para multiplicar los números de la entrada:\n",
    "entrada = [5, 8]\n",
    "salida = interprete_chp(programa_de_multiplicar, entrada)\n",
    "\n",
    "print(salida)"
   ]
  },
  {
   "cell_type": "markdown",
   "metadata": {},
   "source": [
    "**Actividad** Implementar un intérprete de Python en Python."
   ]
  },
  {
   "cell_type": "code",
   "execution_count": 18,
   "metadata": {},
   "outputs": [
    {
     "name": "stdout",
     "output_type": "stream",
     "text": [
      "\u001b[0;31mSignature:\u001b[0m \u001b[0mexec\u001b[0m\u001b[0;34m(\u001b[0m\u001b[0msource\u001b[0m\u001b[0;34m,\u001b[0m \u001b[0mglobals\u001b[0m\u001b[0;34m=\u001b[0m\u001b[0;32mNone\u001b[0m\u001b[0;34m,\u001b[0m \u001b[0mlocals\u001b[0m\u001b[0;34m=\u001b[0m\u001b[0;32mNone\u001b[0m\u001b[0;34m,\u001b[0m \u001b[0;34m/\u001b[0m\u001b[0;34m,\u001b[0m \u001b[0;34m*\u001b[0m\u001b[0;34m,\u001b[0m \u001b[0mclosure\u001b[0m\u001b[0;34m=\u001b[0m\u001b[0;32mNone\u001b[0m\u001b[0;34m)\u001b[0m\u001b[0;34m\u001b[0m\u001b[0;34m\u001b[0m\u001b[0m\n",
      "\u001b[0;31mDocstring:\u001b[0m\n",
      "Execute the given source in the context of globals and locals.\n",
      "\n",
      "The source may be a string representing one or more Python statements\n",
      "or a code object as returned by compile().\n",
      "The globals must be a dictionary and locals can be any mapping,\n",
      "defaulting to the current globals and locals.\n",
      "If only globals is given, locals defaults to it.\n",
      "The closure must be a tuple of cellvars, and can only be used\n",
      "when source is a code object requiring exactly that many cellvars.\n",
      "\u001b[0;31mType:\u001b[0m      builtin_function_or_method"
     ]
    }
   ],
   "source": [
    "?exec"
   ]
  },
  {
   "cell_type": "code",
   "execution_count": 19,
   "metadata": {},
   "outputs": [
    {
     "name": "stdout",
     "output_type": "stream",
     "text": [
      "30\n"
     ]
    }
   ],
   "source": [
    "# Ejemplo de programa minimal en Python\n",
    "x = 10\n",
    "y = 20\n",
    "print(x + y)"
   ]
  },
  {
   "cell_type": "code",
   "execution_count": 20,
   "metadata": {},
   "outputs": [
    {
     "name": "stdout",
     "output_type": "stream",
     "text": [
      "30\n"
     ]
    }
   ],
   "source": [
    "exec(\"x = 10; y = 20; print(x + y)\")"
   ]
  },
  {
   "cell_type": "markdown",
   "metadata": {},
   "source": [
    "De lo anterior podemos concluir que para implementar un REPL de Python en Python\n",
    "podemos hacer lo siguiente:\n",
    "\n",
    "```python\n",
    "while True:\n",
    "    linea = input(\">>> \")  # Leer\n",
    "    resultado = exec(linea)  # Evaluar\n",
    "    print(resultado)  # Imprimir\n",
    "```"
   ]
  },
  {
   "cell_type": "markdown",
   "metadata": {},
   "source": [
    "### 3.2 Compiladores"
   ]
  },
  {
   "cell_type": "markdown",
   "metadata": {},
   "source": [
    "Intuitivamente, un compilador es un programa que traduce un programa de un\n",
    "lenguaje a otro.\n",
    "Sin embargo, la definición formal requiere que especifiquemos que el programa\n",
    "traducido debe ser *equivalente* al original, y ese es un detalle técnico\n",
    "muy importante.\n",
    "¿Qué significa que dos programas sean equivalentes?\n",
    "Que ante la misma entrada, ambos programas producen la misma salida.\n",
    "\n",
    "**Definición** Sean $A$ y $B$ lenguajes de programación.\n",
    "Un *compilador* de $A$ a $B$ es un programa $T$ que recibe como entrada un\n",
    "programa $P^A$ escrito en $A$ y produce como salida un programa $P^B$ escrito en\n",
    "$B$; es decir, define una función\n",
    "$$T: A \\to B\\text{;}$$\n",
    "más aún, $P^B$ es tal que para toda entrada $e\\in D$ se cumple que\n",
    "$$P^B(e) = P^A(e)\\text{.}$$"
   ]
  },
  {
   "cell_type": "markdown",
   "metadata": {},
   "source": [
    "**Observación** Usualmente $B$ es un lenguaje máquina, por lo que $P^B$ es un\n",
    "programa que puede ser ejecutado directamente en una máquina, sin necesidad de\n",
    "un intérprete.\n",
    "Cuando esto no es así, se requiere de un intérprete de $B$ o bien otro\n",
    "compilador de $B$ a un lenguaje máquina."
   ]
  },
  {
   "cell_type": "markdown",
   "metadata": {},
   "source": [
    "**Actividad** Realiza la práctica de compilación de un programa en lenguaje\n",
    "ensamblador que se encuentra en el directorio `practicas/ensamblador/hola`."
   ]
  },
  {
   "cell_type": "markdown",
   "metadata": {},
   "source": [
    "**Actividad** Usar el compilador de C (*gcc*), incluido en el contenedor de\n",
    "Docker para estas notas, para compilar y ejecutar el programa \"*Hola mundo*\".\n",
    "Luego usar un editor de hexadecimales para analizar el código objeto generado.\n",
    "\n",
    "```c\n",
    "#include <stdio.h>\n",
    "int main() {\n",
    "   printf(\"¡Hola, mundo!\");\n",
    "   return 0;\n",
    "}\n",
    "```"
   ]
  },
  {
   "cell_type": "markdown",
   "metadata": {},
   "source": [
    "### 3.3 Lenguajes intermedios y máquinas virtuales\n",
    "\n",
    "En la realidad, la mayoría de los compiladores no traducen directamente de un\n",
    "lenguaje a otro, sino que utilizan un *lenguaje intermedio* y una *máquina\n",
    "virtual*, es decir un híbrido de las técnicas de compilación e interpretación."
   ]
  },
  {
   "cell_type": "markdown",
   "metadata": {},
   "source": [
    "**Actividad** Usar el compilador integrado de Python para analizar el código\n",
    "objeto de un programa, y compararlo con la salida  del deseasamblador de Python."
   ]
  },
  {
   "cell_type": "code",
   "execution_count": 21,
   "metadata": {},
   "outputs": [],
   "source": [
    "# Compilamos el código\n",
    "programa = \"\"\"\n",
    "base = 5\n",
    "altura = 7\n",
    "area = base * altura / 2\n",
    "print(area)\n",
    "\"\"\"\n",
    "obj = compile(programa, filename=\"<string>\", mode=\"exec\")"
   ]
  },
  {
   "cell_type": "code",
   "execution_count": 22,
   "metadata": {},
   "outputs": [
    {
     "data": {
      "text/plain": [
       "bytes"
      ]
     },
     "execution_count": 22,
     "metadata": {},
     "output_type": "execute_result"
    }
   ],
   "source": [
    "# obj.co_code es un objeto de tipo bytes que contiene el programa.\n",
    "type(obj.co_code)"
   ]
  },
  {
   "cell_type": "code",
   "execution_count": 23,
   "metadata": {},
   "outputs": [
    {
     "name": "stdout",
     "output_type": "stream",
     "text": [
      "b'\\x97\\x00d\\x00Z\\x00d\\x01Z\\x01e\\x00e\\x01z\\x05\\x00\\x00d\\x02z\\x0b\\x00\\x00Z\\x02\\x02\\x00e\\x03e\\x02\\xa6\\x01\\x00\\x00\\xab\\x01\\x00\\x00\\x00\\x00\\x00\\x00\\x00\\x00\\x01\\x00d\\x03S\\x00'\n"
     ]
    }
   ],
   "source": [
    "# La salida en bytes es ilegible:\n",
    "print(obj.co_code)"
   ]
  },
  {
   "cell_type": "code",
   "execution_count": 24,
   "metadata": {},
   "outputs": [
    {
     "name": "stdout",
     "output_type": "stream",
     "text": [
      "97 00 64 00 5A 00 64 01 5A 01│· · d · Z · d · Z ·\n",
      "65 00 65 01 7A 05 00 00 64 02│e · e · z · · · d ·\n",
      "7A 0B 00 00 5A 02 02 00 65 03│z \u000b · · Z · · · e ·\n",
      "65 02 A6 01 00 00 AB 01 00 00│e · · · · · · · · ·\n",
      "00 00 00 00 00 00 01 00 64 03│· · · · · · · · d ·\n",
      "53 00                        │S ·\n"
     ]
    }
   ],
   "source": [
    "# Usar un visor hexadecimal puede ayudar a entender el programa,\n",
    "# aunque no mucho.\n",
    "from materiales.visualizaciones import VisorHexadecimal\n",
    "\n",
    "visor = VisorHexadecimal(n_renglon=10)  # Mostrar 10 bytes por renglón\n",
    "visor.mostrar_bytes(obj.co_code)"
   ]
  },
  {
   "cell_type": "code",
   "execution_count": 25,
   "metadata": {},
   "outputs": [
    {
     "name": "stdout",
     "output_type": "stream",
     "text": [
      "  0           0 RESUME                   0\n",
      "\n",
      "  2           2 LOAD_CONST               0 (5)\n",
      "              4 STORE_NAME               0 (base)\n",
      "\n",
      "  3           6 LOAD_CONST               1 (7)\n",
      "              8 STORE_NAME               1 (altura)\n",
      "\n",
      "  4          10 LOAD_NAME                0 (base)\n",
      "             12 LOAD_NAME                1 (altura)\n",
      "             14 BINARY_OP                5 (*)\n",
      "             18 LOAD_CONST               2 (2)\n",
      "             20 BINARY_OP               11 (/)\n",
      "             24 STORE_NAME               2 (area)\n",
      "\n",
      "  5          26 PUSH_NULL\n",
      "             28 LOAD_NAME                3 (print)\n",
      "             30 LOAD_NAME                2 (area)\n",
      "             32 PRECALL                  1\n",
      "             36 CALL                     1\n",
      "             46 POP_TOP\n",
      "             48 LOAD_CONST               3 (None)\n",
      "             50 RETURN_VALUE\n"
     ]
    }
   ],
   "source": [
    "# Podemos comparar el código hexadecimal con el código ensamblador\n",
    "# para observar los códigos de operación así como los operadores.\n",
    "import dis\n",
    "\n",
    "dis.disassemble(obj)"
   ]
  },
  {
   "cell_type": "markdown",
   "metadata": {},
   "source": [
    "**Actividad** Comparar las ventajas y desventajas de la compilación y la\n",
    "interpretación."
   ]
  },
  {
   "cell_type": "markdown",
   "metadata": {},
   "source": [
    "## 4. Jerarquías de máquinas abstractas"
   ]
  },
  {
   "cell_type": "markdown",
   "metadata": {},
   "source": [
    "Las máquinas microprogramadas (virtualmente todas las computadoras actuales)\n",
    "tienen tres niveles de abstracción básicos, cada uno con su propio lenguaje de\n",
    "programación:\n",
    "- *Hardware*: Es la parte física de la máquina, con componentes electrónicos,\n",
    "  mecánicos, y periféricos. Utiliza lenguaje máquina, escrito con voltajes y\n",
    "  corrientes eléctricas.\n",
    "- *Firmware*: Es un tipo de programa que permite controlar y comunicarse con el\n",
    "  hardware de manera directa, generalmente se encuentra programado en un chip\n",
    "  de memoria.\n",
    "- *Software*: Es la parte lógica de un sistema computacional, confoirmado por\n",
    "  programas, datos, y procedimientos que utilizan el hardware para realizar\n",
    "  tareas específicas. Estos programas se escriben en lenguajes de alto nivel\n",
    "  pero se compilan a lenguaje máquina para que puedan ser ejecutados por el\n",
    "  hardware.\n",
    "\n",
    "Esta jerarquía de abstracción se puede ver como una *pila* de máquinas, cada una\n",
    "implementada sobre la anterior, con su propio lenguaje de programación, y\n",
    "proveyendo la funcionalidad básica de la siguiente.\n",
    "En la práctica existen más niveles de abstracción."
   ]
  },
  {
   "cell_type": "markdown",
   "metadata": {},
   "source": [
    "\n",
    "**Ejemplo** Las aplicaciones web se suelen implementar en la nube bajo el modelo\n",
    "de *Software como Servicio* (SaaS, por sus siglas en inglés).\n",
    "En este modelo,\n",
    "- Existen uno o más servidores físicos que proveen la infraestructura de\n",
    "  hardware.\n",
    "  Estos centros de datos están ubicados en ciudades al rededor del mundo como en\n",
    "  Querétaro, o bajo el mar.\n",
    "- En estos centros de datos proveen varias máquinas virtuales para que los\n",
    "  desarrolladores puedan instalar y ejecutar sus aplicaciones.\n",
    "- Muchas de estas aplicaciones están escritas en lenguajes de alto nivel como\n",
    "  Python, Java, o JavaScript, y son ejecutadas por una máquina virtual como la\n",
    "  JVM o la CLR.\n",
    "- Estas aplicaciones interactúan con los usuarios a través de un navegador web.\n",
    "\n",
    "Ahora entiendes la frase “no existe la nube, solo es la computadora de alguien\n",
    "más”."
   ]
  },
  {
   "cell_type": "markdown",
   "metadata": {},
   "source": [
    "**Ejemplo** Los chavos de ahora a veces instalan emuladores de videojuegos en\n",
    "su teléfono móvil para jugar los viejos juegos de consola.\n",
    "- El teléfono móvil es la máquina física, con un procesador, usualmente con un\n",
    "  conjunto de instrucciones ARM.\n",
    "- Los teléfonos de Android en realidad ejecutan un sistema operativo llamado\n",
    "  *Android*, que es una versión modificada de Linux.\n",
    "- El sistema operativo Android provee una máquina virtual de Java, llamada\n",
    "  *Dalvik*, que ejecuta las aplicaciones escritas en Java.\n",
    "- El emulador de videojuegos es un programa de Java que simula ser una\n",
    "  computadora, con procesador, memoria, y tarjeta de video propias de una\n",
    "  consola.\n",
    "- Los videojuegos corren sobre la máquina virtual provista por el emulador.\n",
    "\n",
    "Espero que puedas apreciar la maravilla de la computación moderna, donde podemos\n",
    "simular máquinas dentro de máquinas, y donde cada máquina tiene su propio\n",
    "lenguaje de programación."
   ]
  },
  {
   "cell_type": "markdown",
   "metadata": {},
   "source": [
    "\n",
    "**Actividad** Usar una aplicación de máquina virtual para ejecutar un sistema\n",
    "operativo diferente al que se tiene instalado en la computadora.\n",
    "¿Puedes correr un programa de Java en una máquina virtual de Java que a su vez\n",
    "corre en la máquina virtual de otro sistema operativo?"
   ]
  }
 ],
 "metadata": {
  "kernelspec": {
   "display_name": ".venv",
   "language": "python",
   "name": "python3"
  },
  "language_info": {
   "codemirror_mode": {
    "name": "ipython",
    "version": 3
   },
   "file_extension": ".py",
   "mimetype": "text/x-python",
   "name": "python",
   "nbconvert_exporter": "python",
   "pygments_lexer": "ipython3",
   "version": "3.11.2"
  },
  "orig_nbformat": 4
 },
 "nbformat": 4,
 "nbformat_minor": 2
}
