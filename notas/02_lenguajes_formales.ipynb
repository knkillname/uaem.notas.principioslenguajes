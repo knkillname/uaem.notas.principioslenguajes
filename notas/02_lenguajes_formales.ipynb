{
 "cells": [
  {
   "cell_type": "markdown",
   "metadata": {},
   "source": [
    "# Lenguajes formales\n",
    "\n",
    "Desde el nacimiento estamos expuestos a *lenguajes naturales*; estos son\n",
    "lenguajes escritos y hablados por los seres humanos, como el español, el\n",
    "japonés, el griego, etc.\n",
    "Estos lenguajes han evolucionado a través de los siglos como especies vivientes,\n",
    "y los lingüistas los estudian como tales.\n",
    "Aunque los lenguajes naturales tienen reglas de sintaxis y semántica, estas\n",
    "reglas son muy complejas, contienen muchas excepciones, y cada dialecto tiene\n",
    "sus propias variantes.\n",
    "Véase esta canción sobre lo [difícil que es hablar el español][1] (nótese que la\n",
    "letra es explícita).\n",
    "\n",
    "Los *lenguajes artificiales* son aquellos que han sido creados por los seres\n",
    "humanos para aplicaciones específicas.\n",
    "Por ejemplo, el esperanto es un lenguaje diseñado para la comunicación entre\n",
    "naciones de diferentes lenguas europeas, el Klingon es un lenguaje inventado\n",
    "para la serie de televisión Star Trek, y J. R. Tolkien creó varios lenguajes\n",
    "para sus novelas de fantasía.\n",
    "\n",
    "Los *lenguajes formales* son una forma de lenguaje artificial definido con\n",
    "reglas de sintaxis y semántica muy precisas... matemáticamente precisas, de\n",
    "hecho.\n",
    "En efecto, el propio lenguaje matemático, con sus símbolos de operaciones y\n",
    "relaciones, es una especie de lenguaje formal; también las fórmulas químicas\n",
    "están definidas por un lenguaje formal.\n",
    "Finalmente, dentro de esta categoría están todos los *lenguajes de\n",
    "programación*, diseñados concretamente para expresar algoritmos.\n",
    "\n",
    "[1]: https://www.youtube.com/watch?v=eyGFz-zIjHE"
   ]
  },
  {
   "cell_type": "markdown",
   "metadata": {},
   "source": [
    "## 1. Describir un lenguaje de programación"
   ]
  },
  {
   "cell_type": "markdown",
   "metadata": {},
   "source": [
    "En lingüística, un lenguaje se describe en tres niveles:\n",
    "- *Gramática*: Definida por un alfabeto, léxico, y reglas de sintaxis, \n",
    "  responde la pregunta \"¿qué es una oración válida en este lenguaje?\".\n",
    "- *Semántica*: Atribuye un significado a las oraciones válidas, responde la\n",
    "  pregunta \"¿qué significa esta oración?\".\n",
    "- *Pragmática*: Define el uso del lenguaje, responde la pregunta \"¿cómo usamos\n",
    "  este enunciado significativo?\". Diferentes enunciados con el mismo significado\n",
    "  pueden ser usados de formas distintas por diferentes personas y en diferentes\n",
    "  contextos.\n",
    "\n",
    "**Ejemplo** Consideremos un lenguaje natural usado para describir recetas de\n",
    "cocina en español.\n",
    "La gramática de este lenguaje está definida por el alfabeto español, el léxico\n",
    "se conforma de palabras que se usan en recetas, como \"mezclar\", \"batir\",\n",
    "\"leche\", \"huevos\", etc.\n",
    "La semántica de este lenguaje está dada por el significado de las palabras, por\n",
    "ejemplo, \"mezclar\" significa combinar dos o más ingredientes en un recipiente.\n",
    "Finalmente, la pragmática le indica al lector cómo usar las instrucciones de la\n",
    "receta para preparar el platillo.\n",
    "\n",
    "En el caso de los lenguajes de programación podemos agregar la *implementación*,\n",
    "que responde la pregunta \"¿cómo se realiza este enunciado de forma que respete\n",
    "el significado?\".\n",
    "Continuando el ejemplo anterior, la implementación de una receta la realiza un\n",
    "cocinero, siguiendo las instrucciones de la receta y definiendo de manera\n",
    "precisa (a veces sin darse cuenta) los pasos a seguir para preparar el platillo.\n",
    "Así, \"sal al gusto\" puede significar \"agrega sal hasta que el sabor sea de tu\n",
    "agrado\", y la implementación de esta instrucción depende de la experiencia del\n",
    "cocinero."
   ]
  },
  {
   "cell_type": "markdown",
   "metadata": {},
   "source": [
    "**Actividad** Explorar la [Referencia del Lenguaje Python][1] su definición\n",
    "gramatical, semántica y pragmática.\n",
    "\n",
    "[1]: https://docs.python.org/es/3/reference/index.html"
   ]
  },
  {
   "cell_type": "markdown",
   "metadata": {},
   "source": [
    "## 2. Gramáticas\n",
    "Para describir un lenguaje formal, se requieren conceptos de teoría de lenguajes\n",
    "formales, que son el estudio de la *Teoría de la Computación*.\n",
    "En esta sección se presentan los conceptos básicos de esta teoría, y se\n",
    "presentan las *gramáticas libres de contexto*, que son las que se usan para\n",
    "definir los lenguajes de programación."
   ]
  },
  {
   "cell_type": "markdown",
   "metadata": {},
   "source": [
    "### 2.1 Conceptos de cadenas y lenguajes"
   ]
  },
  {
   "cell_type": "markdown",
   "metadata": {},
   "source": [
    "Un **alfabeto** es un conjunto finito de *símbolos*.\n",
    "La naturaleza de los símbolos nos es irrelevante para la teoría de lenguajes,\n",
    "pero se entiende que son elementos claramente distinguibles entre sí.\n",
    "Usamos las letras griegas mayúsculas como $\\Sigma$ y $\\Gamma$ para denotar\n",
    "alfabetos, y letras de tipo `monoespaciado` para denotar cadenas de símbolos.\n",
    "\n",
    "El alfabeto más usado por las computadoras es el **alfabeto binario**:\n",
    "$$\\Sigma = \\{\\texttt{0}, \\texttt{1}\\}$$\n",
    "pero en general se puede usar cualquier alfabeto, por ejemplo, el alfabeto\n",
    "español:\n",
    "$$\\Sigma = \\{\\texttt{a}, \\texttt{b}, \\texttt{c}, \\ldots, \\texttt{z}\\}$$\n"
   ]
  },
  {
   "cell_type": "code",
   "execution_count": 8,
   "metadata": {},
   "outputs": [
    {
     "name": "stdout",
     "output_type": "stream",
     "text": [
      "0 1 2 3 4 5 6 7 8 9 a b c d e f g h i j k l m n o p q r s t u v w x y z A B C D E F G H I J K L M N O P Q R S T U V W X Y Z ! \" # $ % & ' ( ) * + , - . / : ; < = > ? @ [ \\ ] ^ _ ` { | } ~   \t \n",
      " \u000b \f "
     ]
    }
   ],
   "source": [
    "# Python contiene una biblioteca llamada string que contiene el alfabeto de\n",
    "# caracteres imprimibles en ASCII.\n",
    "import string\n",
    "\n",
    "for simbolo in string.printable:\n",
    "    print(simbolo, end=\" \")"
   ]
  },
  {
   "cell_type": "markdown",
   "metadata": {},
   "source": [
    "Una cadena (usualmente denotada con la letra $w$) es una secuencia finita de\n",
    "símbolos de un alfabeto $\\Sigma$; se denota con los símbolos yuxtapuestos, sin\n",
    "comas entre sus elementos, por ejemplo:\n",
    "$$w = \\texttt{hola}$$\n",
    "$$w = \\texttt{010101}$$\n",
    "\n",
    "La **lognitud** de una cadena $w$ se denota con $\\left|w\\right|$, y es el número de\n",
    "símbolos que contiene:\n",
    "$$\\left|\\texttt{hola}\\right| = 4$$"
   ]
  },
  {
   "cell_type": "code",
   "execution_count": 11,
   "metadata": {},
   "outputs": [
    {
     "data": {
      "text/plain": [
       "'hola'"
      ]
     },
     "execution_count": 11,
     "metadata": {},
     "output_type": "execute_result"
    }
   ],
   "source": [
    "# En Python, las cadenas se pueden definir con comillas simples o dobles.\n",
    "w = \"hola\"\n",
    "w"
   ]
  },
  {
   "cell_type": "code",
   "execution_count": 10,
   "metadata": {},
   "outputs": [
    {
     "data": {
      "text/plain": [
       "4"
      ]
     },
     "execution_count": 10,
     "metadata": {},
     "output_type": "execute_result"
    }
   ],
   "source": [
    "# La longitud de una cadena se puede obtener con la función len.\n",
    "len(w)"
   ]
  },
  {
   "cell_type": "markdown",
   "metadata": {},
   "source": [
    "Decimos que una cadena $z$ es una **subcadena** de otra cadena $w$ si los\n",
    "símbolos de $z$ aparecen consecutivamente en cualquier parte de $w$.\n",
    "Por ejemplo, `cara`, `cola` y `araco` son algunas de las subcadenas de\n",
    "`caracola`.\n"
   ]
  },
  {
   "cell_type": "code",
   "execution_count": 13,
   "metadata": {},
   "outputs": [
    {
     "name": "stdout",
     "output_type": "stream",
     "text": [
      "True\n",
      "True\n",
      "True\n",
      "False\n"
     ]
    }
   ],
   "source": [
    "# En Python, podemos determinar si una cadena es subcadena de otra con\n",
    "# el operador \"in\".\n",
    "w = \"caracola\"\n",
    "print(\"cara\" in w)\n",
    "print(\"cola\" in w)\n",
    "print(\"araco\" in w)\n",
    "print(\"maraca\" in w)"
   ]
  },
  {
   "cell_type": "markdown",
   "metadata": {},
   "source": [
    "Dado que tenemos dos cadenas $x$ y $y$, podemos **concatenarlas** para formar\n",
    "una nueva cadena $xy$.\n",
    "En matemáticas esta se denota simplemente yuxtaponiendo las cadenas, de la misma\n",
    "manera que la multiplicación en álgebra.\n",
    "En cambio, los lenguajes de programación suelen usar operadores como `+` o `&`."
   ]
  },
  {
   "cell_type": "code",
   "execution_count": 14,
   "metadata": {},
   "outputs": [
    {
     "data": {
      "text/plain": [
       "'colchones'"
      ]
     },
     "execution_count": 14,
     "metadata": {},
     "output_type": "execute_result"
    }
   ],
   "source": [
    "# En Python la concatenación de cadenas se realiza con el operador +.\n",
    "\"col\" + \"chones\""
   ]
  },
  {
   "cell_type": "markdown",
   "metadata": {},
   "source": [
    "Si la multiplicación repetida es la potenciación, entonces la concatenación\n",
    "repetida es la **potenciación de cadenas**.\n",
    "Por ejemplo, si $w = \\texttt{na}$, entonces $w^3 = \\texttt{nanana}$, de manera\n",
    "que $\\texttt{ba}{(\\texttt{na})}^2 = \\texttt{banana}$."
   ]
  },
  {
   "cell_type": "code",
   "execution_count": 16,
   "metadata": {},
   "outputs": [
    {
     "data": {
      "text/plain": [
       "'banana'"
      ]
     },
     "execution_count": 16,
     "metadata": {},
     "output_type": "execute_result"
    }
   ],
   "source": [
    "# En Python la repetición de cadenas se realiza con el operador *.\n",
    "\"ba\" + 2 * \"na\""
   ]
  },
  {
   "cell_type": "markdown",
   "metadata": {},
   "source": [
    "El **orden lexicográfico** es el orden que se usa para ordenar las palabras en\n",
    "un diccionario."
   ]
  },
  {
   "cell_type": "code",
   "execution_count": 41,
   "metadata": {},
   "outputs": [
    {
     "data": {
      "text/plain": [
       "['calabaza', 'col', 'itacate', 'jitomate', 'pan', 'panal', 'zapote']"
      ]
     },
     "execution_count": 41,
     "metadata": {},
     "output_type": "execute_result"
    }
   ],
   "source": [
    "# En Python las cadenas están ordenadas lexicográficamente.\n",
    "\n",
    "cadenas = [\"col\", \"itacate\", \"zapote\", \"calabaza\", \"panal\", \"pan\", \"jitomate\"]\n",
    "cadenas.sort()\n",
    "cadenas"
   ]
  },
  {
   "cell_type": "markdown",
   "metadata": {},
   "source": [
    "Usualmente preferimos usar otro orden de manera que las palabras más pequeñas\n",
    "aparezcan primero, este es el orden **shortléxico**, o simplemente **orden\n",
    "de cadenas**."
   ]
  },
  {
   "cell_type": "code",
   "execution_count": 44,
   "metadata": {},
   "outputs": [
    {
     "data": {
      "text/plain": [
       "['col', 'pan', 'panal', 'zapote', 'itacate', 'calabaza', 'jitomate']"
      ]
     },
     "execution_count": 44,
     "metadata": {},
     "output_type": "execute_result"
    }
   ],
   "source": [
    "from functools import cmp_to_key\n",
    "\n",
    "\n",
    "def cmp_shortlex(cadena_1: str, cadena_2: str) -> int:\n",
    "    \"\"\"Compara dos cadenas en orden shortlex.\"\"\"\n",
    "    if cadena_1 == cadena_2:\n",
    "        return 0  # cadena_1 es igual a cadena_2\n",
    "    if len(cadena_1) < len(cadena_2):\n",
    "        return -1  # cadena_1 va antes que cadena_2\n",
    "    elif len(cadena_1) > len(cadena_2):\n",
    "        return 1  # cadena_1 va después que cadena_2\n",
    "\n",
    "    assert len(cadena_1) == len(cadena_2) and cadena_1 != cadena_2\n",
    "    return -1 if cadena_1 < cadena_2 else 1  # Usamos orden lexicográfico\n",
    "\n",
    "\n",
    "cadenas.sort(key=cmp_to_key(cmp_shortlex))\n",
    "cadenas"
   ]
  },
  {
   "cell_type": "markdown",
   "metadata": {},
   "source": [
    "Un **lenguaje** es un conjunto (finito o infinito) de cadenas."
   ]
  },
  {
   "cell_type": "code",
   "execution_count": 47,
   "metadata": {},
   "outputs": [
    {
     "name": "stdout",
     "output_type": "stream",
     "text": [
      "Este es un lenguaje:\n",
      "['col', 'pan', 'panal', 'zapote', 'itacate', 'calabaza', 'jitomate']\n"
     ]
    }
   ],
   "source": [
    "print(\"Este es un lenguaje:\")\n",
    "print(cadenas)"
   ]
  },
  {
   "cell_type": "code",
   "execution_count": 50,
   "metadata": {},
   "outputs": [],
   "source": [
    "# A veces podemos definir un lenguaje escribiendo un algoritmo que\n",
    "# genere todos sus elementos. A este tipo de algoritmos se les conoce\n",
    "# como enumeradores.\n",
    "\n",
    "# TODO"
   ]
  },
  {
   "cell_type": "code",
   "execution_count": 49,
   "metadata": {},
   "outputs": [
    {
     "name": "stdout",
     "output_type": "stream",
     "text": [
      "itacate\n"
     ]
    }
   ],
   "source": [
    "# A veces conviene especificar un lenguaje mediante una relación de\n",
    "# pertenencia (función booleana). A este tipo de algoritmos se les\n",
    "# conoce como decididores.\n",
    "def empieza_con_vocal(cadena: str) -> bool:\n",
    "    \"\"\"Determina si una cadena empieza con una vocal.\"\"\"\n",
    "    return cadena.casefold().startswith(tuple(\"aeiou\"))\n",
    "\n",
    "\n",
    "for cadena in filter(empieza_con_vocal, cadenas):\n",
    "    print(cadena)"
   ]
  },
  {
   "cell_type": "code",
   "execution_count": null,
   "metadata": {},
   "outputs": [],
   "source": []
  },
  {
   "cell_type": "markdown",
   "metadata": {},
   "source": [
    "### 2.2 Gramáticas libres de contexto"
   ]
  },
  {
   "cell_type": "code",
   "execution_count": null,
   "metadata": {},
   "outputs": [],
   "source": []
  }
 ],
 "metadata": {
  "kernelspec": {
   "display_name": ".venv",
   "language": "python",
   "name": "python3"
  },
  "language_info": {
   "codemirror_mode": {
    "name": "ipython",
    "version": 3
   },
   "file_extension": ".py",
   "mimetype": "text/x-python",
   "name": "python",
   "nbconvert_exporter": "python",
   "pygments_lexer": "ipython3",
   "version": "3.11.2"
  },
  "orig_nbformat": 4
 },
 "nbformat": 4,
 "nbformat_minor": 2
}
