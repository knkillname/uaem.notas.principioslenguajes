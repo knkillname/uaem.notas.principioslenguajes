{
 "cells": [
  {
   "cell_type": "markdown",
   "metadata": {},
   "source": [
    "# Lenguajes formales\n",
    "\n",
    "Desde el nacimiento estamos expuestos a *lenguajes naturales*; estos son\n",
    "lenguajes escritos y hablados por los seres humanos, como el español, el\n",
    "japonés, el griego, etc.\n",
    "Estos lenguajes han evolucionado a través de los siglos como especies vivientes,\n",
    "y los lingüistas los estudian como tales.\n",
    "Aunque los lenguajes naturales tienen reglas de sintaxis y semántica, estas\n",
    "reglas son muy complejas, contienen muchas excepciones, y cada dialecto tiene\n",
    "sus propias variantes.\n",
    "Véase esta canción sobre lo [difícil que es hablar el español][1] (nótese que la\n",
    "letra es explícita).\n",
    "\n",
    "Los *lenguajes artificiales* son aquellos que han sido creados por los seres\n",
    "humanos para aplicaciones específicas.\n",
    "Por ejemplo, el esperanto es un lenguaje diseñado para la comunicación entre\n",
    "naciones de diferentes lenguas europeas, el Klingon es un lenguaje inventado\n",
    "para la serie de televisión Star Trek, y J. R. Tolkien creó varios lenguajes\n",
    "para sus novelas de fantasía.\n",
    "\n",
    "Los *lenguajes formales* son una forma de lenguaje artificial definido con\n",
    "reglas de sintaxis y semántica muy precisas... matemáticamente precisas, de\n",
    "hecho.\n",
    "En efecto, el propio lenguaje matemático, con sus símbolos de operaciones y\n",
    "relaciones, es una especie de lenguaje formal; también las fórmulas químicas\n",
    "están definidas por un lenguaje formal.\n",
    "Finalmente, dentro de esta categoría están todos los *lenguajes de\n",
    "programación*, diseñados concretamente para expresar algoritmos.\n",
    "\n",
    "[1]: https://www.youtube.com/watch?v=eyGFz-zIjHE"
   ]
  },
  {
   "cell_type": "markdown",
   "metadata": {},
   "source": [
    "## 1. Describir un lenguaje de programación"
   ]
  },
  {
   "cell_type": "markdown",
   "metadata": {},
   "source": [
    "En lingüística, un lenguaje se describe en tres niveles:\n",
    "- *Gramática*: Definida por un alfabeto, léxico, y reglas de sintaxis, \n",
    "  responde la pregunta \"¿qué es una oración válida en este lenguaje?\".\n",
    "- *Semántica*: Atribuye un significado a las oraciones válidas, responde la\n",
    "  pregunta \"¿qué significa esta oración?\".\n",
    "- *Pragmática*: Define el uso del lenguaje, responde la pregunta \"¿cómo usamos\n",
    "  este enunciado significativo?\". Diferentes enunciados con el mismo significado\n",
    "  pueden ser usados de formas distintas por diferentes personas y en diferentes\n",
    "  contextos.\n",
    "\n",
    "**Ejemplo** Consideremos un lenguaje natural usado para describir recetas de\n",
    "cocina en español.\n",
    "La gramática de este lenguaje está definida por el alfabeto español, el léxico\n",
    "se conforma de palabras que se usan en recetas, como \"mezclar\", \"batir\",\n",
    "\"leche\", \"huevos\", etc.\n",
    "La semántica de este lenguaje está dada por el significado de las palabras, por\n",
    "ejemplo, \"mezclar\" significa combinar dos o más ingredientes en un recipiente.\n",
    "Finalmente, la pragmática le indica al lector cómo usar las instrucciones de la\n",
    "receta para preparar el platillo.\n",
    "\n",
    "En el caso de los lenguajes de programación podemos agregar la *implementación*,\n",
    "que responde la pregunta \"¿cómo se realiza este enunciado de forma que respete\n",
    "el significado?\".\n",
    "Continuando el ejemplo anterior, la implementación de una receta la realiza un\n",
    "cocinero, siguiendo las instrucciones de la receta y definiendo de manera\n",
    "precisa (a veces sin darse cuenta) los pasos a seguir para preparar el platillo.\n",
    "Así, \"sal al gusto\" puede significar \"agrega sal hasta que el sabor sea de tu\n",
    "agrado\", y la implementación de esta instrucción depende de la experiencia del\n",
    "cocinero."
   ]
  },
  {
   "cell_type": "markdown",
   "metadata": {},
   "source": [
    "**Actividad** Explorar la [Referencia del Lenguaje Python][1] su definición\n",
    "gramatical, semántica y pragmática.\n",
    "\n",
    "[1]: https://docs.python.org/es/3/reference/index.html"
   ]
  },
  {
   "cell_type": "code",
   "execution_count": null,
   "metadata": {},
   "outputs": [],
   "source": []
  }
 ],
 "metadata": {
  "language_info": {
   "name": "python"
  },
  "orig_nbformat": 4
 },
 "nbformat": 4,
 "nbformat_minor": 2
}
