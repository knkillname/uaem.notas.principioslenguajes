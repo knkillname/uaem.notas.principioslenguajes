{
 "cells": [
  {
   "cell_type": "markdown",
   "metadata": {},
   "source": [
    "# Lenguajes formales\n",
    "\n",
    "Desde el nacimiento estamos expuestos a *lenguajes naturales*; estos son\n",
    "lenguajes escritos y hablados por los seres humanos, como el español, el\n",
    "japonés, el griego, etc.\n",
    "Estos lenguajes han evolucionado a través de los siglos como especies vivientes,\n",
    "y los lingüistas los estudian como tales.\n",
    "Aunque los lenguajes naturales tienen reglas de sintaxis y semántica, estas\n",
    "reglas son muy complejas, contienen muchas excepciones, y cada dialecto tiene\n",
    "sus propias variantes.\n",
    "Véase esta canción sobre lo [difícil que es hablar el español][1] (nótese que la\n",
    "letra es explícita).\n",
    "\n",
    "Los *lenguajes artificiales* son aquellos que han sido creados por los seres\n",
    "humanos para aplicaciones específicas.\n",
    "Por ejemplo, el esperanto es un lenguaje diseñado para la comunicación entre\n",
    "naciones de diferentes lenguas europeas, el Klingon es un lenguaje inventado\n",
    "para la serie de televisión Star Trek, y J. R. Tolkien creó varios lenguajes\n",
    "para sus novelas de fantasía.\n",
    "\n",
    "Los *lenguajes formales* son una forma de lenguaje artificial definido con\n",
    "reglas de sintaxis y semántica muy precisas... matemáticamente precisas, de\n",
    "hecho.\n",
    "En efecto, el propio lenguaje matemático, con sus símbolos de operaciones y\n",
    "relaciones, es una especie de lenguaje formal; también las fórmulas químicas\n",
    "están definidas por un lenguaje formal.\n",
    "Finalmente, dentro de esta categoría están todos los *lenguajes de\n",
    "programación*, diseñados concretamente para expresar algoritmos.\n",
    "\n",
    "[1]: https://www.youtube.com/watch?v=eyGFz-zIjHE"
   ]
  },
  {
   "cell_type": "markdown",
   "metadata": {},
   "source": [
    "## 1. Describir un lenguaje de programación"
   ]
  },
  {
   "cell_type": "markdown",
   "metadata": {},
   "source": [
    "En lingüística, un lenguaje se describe en tres niveles:\n",
    "- *Gramática*: Definida por un alfabeto, léxico, y reglas de sintaxis, \n",
    "  responde la pregunta \"¿qué es una oración válida en este lenguaje?\".\n",
    "- *Semántica*: Atribuye un significado a las oraciones válidas, responde la\n",
    "  pregunta \"¿qué significa esta oración?\".\n",
    "- *Pragmática*: Define el uso del lenguaje, responde la pregunta \"¿cómo usamos\n",
    "  este enunciado significativo?\". Diferentes enunciados con el mismo significado\n",
    "  pueden ser usados de formas distintas por diferentes personas y en diferentes\n",
    "  contextos.\n",
    "\n",
    "**Ejemplo** Consideremos un lenguaje natural usado para describir recetas de\n",
    "cocina en español.\n",
    "La gramática de este lenguaje está definida por el alfabeto español, el léxico\n",
    "se conforma de palabras que se usan en recetas, como \"mezclar\", \"batir\",\n",
    "\"leche\", \"huevos\", etc.\n",
    "La semántica de este lenguaje está dada por el significado de las palabras, por\n",
    "ejemplo, \"mezclar\" significa combinar dos o más ingredientes en un recipiente.\n",
    "Finalmente, la pragmática le indica al lector cómo usar las instrucciones de la\n",
    "receta para preparar el platillo.\n",
    "\n",
    "En el caso de los lenguajes de programación podemos agregar la *implementación*,\n",
    "que responde la pregunta \"¿cómo se realiza este enunciado de forma que respete\n",
    "el significado?\".\n",
    "Continuando el ejemplo anterior, la implementación de una receta la realiza un\n",
    "cocinero, siguiendo las instrucciones de la receta y definiendo de manera\n",
    "precisa (a veces sin darse cuenta) los pasos a seguir para preparar el platillo.\n",
    "Así, \"sal al gusto\" puede significar \"agrega sal hasta que el sabor sea de tu\n",
    "agrado\", y la implementación de esta instrucción depende de la experiencia del\n",
    "cocinero."
   ]
  },
  {
   "cell_type": "markdown",
   "metadata": {},
   "source": [
    "**Actividad** Explorar la [Referencia del Lenguaje Python][1] su definición\n",
    "gramatical, semántica y pragmática.\n",
    "\n",
    "[1]: https://docs.python.org/es/3/reference/index.html"
   ]
  },
  {
   "cell_type": "markdown",
   "metadata": {},
   "source": [
    "## 2. Gramáticas y lenguajes formales\n",
    "Para describir un lenguaje formal, se requieren conceptos de teoría de lenguajes\n",
    "formales, que son el estudio de la *Teoría de la Computación*.\n",
    "En esta sección se presentan los conceptos básicos de esta teoría, y se\n",
    "presentan las *gramáticas libres de contexto*, que son las que se usan para\n",
    "definir los lenguajes de programación."
   ]
  },
  {
   "cell_type": "markdown",
   "metadata": {},
   "source": [
    "### 2.1 Conceptos de cadenas y lenguajes"
   ]
  },
  {
   "cell_type": "markdown",
   "metadata": {},
   "source": [
    "Un **alfabeto** es un conjunto finito de *símbolos*.\n",
    "La naturaleza de los símbolos nos es irrelevante para la teoría de lenguajes,\n",
    "pero se entiende que son elementos claramente distinguibles entre sí.\n",
    "Usamos las letras griegas mayúsculas como $\\Sigma$ y $\\Gamma$ para denotar\n",
    "alfabetos, y letras de tipo `monoespaciado` para denotar cadenas de símbolos.\n",
    "\n",
    "El alfabeto más usado por las computadoras es el **alfabeto binario**:\n",
    "$$\\Sigma = \\{\\texttt{0}, \\texttt{1}\\}$$\n",
    "pero en general se puede usar cualquier alfabeto, por ejemplo, el alfabeto\n",
    "español:\n",
    "$$\\Sigma = \\{\\texttt{a}, \\texttt{b}, \\texttt{c}, \\ldots, \\texttt{z}\\}$$\n"
   ]
  },
  {
   "cell_type": "markdown",
   "metadata": {},
   "source": [
    "En particular, Python utiliza el alfabeto [Unicode][1], que contiene más de\n",
    "100,000 símbolos, incluyendo letras, números, símbolos matemáticos, emojis,\n",
    "carácteres chinos, etc.\n",
    "\n",
    "[1]: https://unicode.org/"
   ]
  },
  {
   "cell_type": "code",
   "execution_count": null,
   "metadata": {},
   "outputs": [],
   "source": [
    "# La función chr permite convertir un número de símbolo Unicode en el\n",
    "# carácter correspondiente.\n",
    "for codigo in [104, 111, 108, 97]:\n",
    "    print(f\"{codigo} ↦ {chr(codigo)!r}\")"
   ]
  },
  {
   "cell_type": "markdown",
   "metadata": {},
   "source": [
    "Una cadena (usualmente denotada con la letra $w$) es una secuencia finita de\n",
    "símbolos de un alfabeto $\\Sigma$; se denota con los símbolos yuxtapuestos, sin\n",
    "comas entre sus elementos, por ejemplo:\n",
    "$$w = \\texttt{hola}$$\n",
    "$$w = \\texttt{010101}$$\n",
    "\n",
    "La **longitud** de una cadena $w$ se denota con $\\left|w\\right|$, y es el número de\n",
    "símbolos que contiene:\n",
    "$$\\left|\\texttt{hola}\\right| = 4$$"
   ]
  },
  {
   "cell_type": "code",
   "execution_count": null,
   "metadata": {},
   "outputs": [],
   "source": [
    "# En Python, las cadenas se pueden definir con comillas simples o dobles.\n",
    "w = \"hola\"\n",
    "w"
   ]
  },
  {
   "cell_type": "code",
   "execution_count": null,
   "metadata": {},
   "outputs": [],
   "source": [
    "# La longitud de una cadena se puede obtener con la función len.\n",
    "len(w)"
   ]
  },
  {
   "cell_type": "markdown",
   "metadata": {},
   "source": [
    "Existe una cadena especial, llamada **cadena vacía** y denotada con\n",
    "$\\varepsilon$, que no contiene símbolos:"
   ]
  },
  {
   "cell_type": "code",
   "execution_count": null,
   "metadata": {},
   "outputs": [],
   "source": [
    "epsilon = \"\"\n",
    "len(epsilon)"
   ]
  },
  {
   "cell_type": "markdown",
   "metadata": {},
   "source": [
    "Decimos que una cadena $z$ es una **subcadena** de otra cadena $w$ si los\n",
    "símbolos de $z$ aparecen consecutivamente en cualquier parte de $w$.\n",
    "Por ejemplo, `cara`, `cola` y `araco` son algunas de las subcadenas de\n",
    "`caracola`.\n"
   ]
  },
  {
   "cell_type": "code",
   "execution_count": null,
   "metadata": {},
   "outputs": [],
   "source": [
    "# En Python, podemos determinar si una cadena es subcadena de otra con\n",
    "# el operador \"in\".\n",
    "w = \"caracola\"\n",
    "print(\"cara\" in w)\n",
    "print(\"cola\" in w)\n",
    "print(\"araco\" in w)\n",
    "print(\"maraca\" in w)\n",
    "print(\"\" in w)  # La cadena vacía es subcadena de cualquier cadena."
   ]
  },
  {
   "cell_type": "markdown",
   "metadata": {},
   "source": [
    "Dado que tenemos dos cadenas $x$ y $y$, podemos **concatenarlas** para formar\n",
    "una nueva cadena $xy$.\n",
    "En matemáticas esta se denota simplemente yuxtaponiendo las cadenas, de la misma\n",
    "manera que la multiplicación en álgebra.\n",
    "En cambio, los lenguajes de programación suelen usar operadores como `+` o `&`."
   ]
  },
  {
   "cell_type": "code",
   "execution_count": null,
   "metadata": {},
   "outputs": [],
   "source": [
    "# En Python la concatenación de cadenas se realiza con el operador +.\n",
    "\"col\" + \"chones\""
   ]
  },
  {
   "cell_type": "markdown",
   "metadata": {},
   "source": [
    "Si la multiplicación repetida es la potenciación, entonces la concatenación\n",
    "repetida es la **potenciación de cadenas**.\n",
    "Por ejemplo, si $w = \\texttt{na}$, entonces $w^3 = \\texttt{nanana}$, de manera\n",
    "que $\\texttt{ba}{(\\texttt{na})}^2 = \\texttt{banana}$."
   ]
  },
  {
   "cell_type": "code",
   "execution_count": null,
   "metadata": {},
   "outputs": [],
   "source": [
    "# En Python la repetición de cadenas se realiza con el operador *.\n",
    "\"ba\" + 2 * \"na\""
   ]
  },
  {
   "cell_type": "markdown",
   "metadata": {},
   "source": [
    "El **orden lexicográfico** es el orden que se usa para ordenar las palabras en\n",
    "un diccionario."
   ]
  },
  {
   "cell_type": "code",
   "execution_count": null,
   "metadata": {},
   "outputs": [],
   "source": [
    "# En Python las cadenas están ordenadas lexicográficamente.\n",
    "\n",
    "cadenas = [\n",
    "    \"col\",\n",
    "    \"itacate\",\n",
    "    \"zapote\",\n",
    "    \"calabaza\",\n",
    "    \"panal\",\n",
    "    \"pan\",\n",
    "    \"jitomate\",\n",
    "    \"aguacate\",\n",
    "]\n",
    "cadenas.sort()\n",
    "cadenas"
   ]
  },
  {
   "cell_type": "markdown",
   "metadata": {},
   "source": [
    "Las computadoras suelen utilizar una equivalencia entre números y símbolos para\n",
    "compararlas.\n",
    "En nuestro caso, Python utiliza el alfabeto Unicode."
   ]
  },
  {
   "cell_type": "code",
   "execution_count": null,
   "metadata": {},
   "outputs": [],
   "source": [
    "# La función ord es la función inversa de chr, es decir que permite\n",
    "# obtener el código Unicode de un carácter.\n",
    "\n",
    "palabra = \"talavera\"\n",
    "for simbolo in palabra:\n",
    "    print(f\"{simbolo!r} ↦ {ord(simbolo)}\")"
   ]
  },
  {
   "cell_type": "code",
   "execution_count": null,
   "metadata": {},
   "outputs": [],
   "source": [
    "# Nótese que en Unicode, las mayúsculas preceden a las minúsculas:\n",
    "palabra = \"ABZabz\"\n",
    "for simbolo in palabra:\n",
    "    print(f\"{simbolo!r} ↦ {ord(simbolo)}\")"
   ]
  },
  {
   "cell_type": "code",
   "execution_count": null,
   "metadata": {},
   "outputs": [],
   "source": [
    "# Mayúsculas antes que minúsculas.\n",
    "\"Zapato\" < \"alfombra\""
   ]
  },
  {
   "cell_type": "markdown",
   "metadata": {},
   "source": [
    "Usualmente preferimos usar otro orden de manera que las palabras más pequeñas\n",
    "aparezcan primero, este es el orden **shortléxico**, o simplemente **orden\n",
    "de cadenas**."
   ]
  },
  {
   "cell_type": "code",
   "execution_count": null,
   "metadata": {},
   "outputs": [],
   "source": [
    "from materiales.lenguajes.numerabilidad import Shortlex\n",
    "\n",
    "# Ordenar utilizando el orden shortléxico.\n",
    "cadenas.sort(key=Shortlex)\n",
    "cadenas"
   ]
  },
  {
   "cell_type": "markdown",
   "metadata": {},
   "source": [
    "Un **lenguaje** es un conjunto (finito o infinito) de cadenas."
   ]
  },
  {
   "cell_type": "code",
   "execution_count": null,
   "metadata": {},
   "outputs": [],
   "source": [
    "print(\"Este es un lenguaje finito:\")\n",
    "print(cadenas)"
   ]
  },
  {
   "cell_type": "markdown",
   "metadata": {},
   "source": [
    "En computación los lenguajes se pueden representar como una colección (lista,\n",
    "cadena, etc.), pero esto solo funciona con lenguajes finitos.\n",
    "Una forma alternativa es utilizar un **enumerador**, que es un algoritmo que\n",
    "produce todos los elementos de un conjunto.\n",
    "\n",
    "En Python los enumeradores se pueden implementar con *generadores*, que son\n",
    "funciones que producen un valor cada vez utilizando la palabra reservada\n",
    "`yield`."
   ]
  },
  {
   "cell_type": "code",
   "execution_count": null,
   "metadata": {},
   "outputs": [],
   "source": [
    "from typing import Iterator\n",
    "\n",
    "\n",
    "# Definimos un iterador que enumera los puntos cardinales.\n",
    "def puntos_cardinales() -> Iterator[str]:\n",
    "    yield \"este\"\n",
    "    yield \"norte\"\n",
    "    yield \"oeste\"\n",
    "    yield \"sur\"\n",
    "\n",
    "\n",
    "# Un iterador es un objeto que avanza sobre una sucesión de elementos\n",
    "# cada vez que se llama a la función next.\n",
    "iterador = puntos_cardinales()\n",
    "print(next(iterador).upper())\n",
    "print(next(iterador).upper())\n",
    "print(next(iterador).upper())\n",
    "print(next(iterador).upper())\n",
    "# Cando se agotan los elementos se produce una excepción StopIteration.\n",
    "# next(iterador)   # Descomenta esta línea para ver el error."
   ]
  },
  {
   "cell_type": "code",
   "execution_count": null,
   "metadata": {},
   "outputs": [],
   "source": [
    "# Un iterador se suele recorrer con un ciclo for\n",
    "for punto_cardinal in puntos_cardinales():\n",
    "    print(punto_cardinal.upper())"
   ]
  },
  {
   "cell_type": "code",
   "execution_count": null,
   "metadata": {},
   "outputs": [],
   "source": [
    "# La clase `list` se puede usar para convertir un iterador en una lista.\n",
    "list(puntos_cardinales())"
   ]
  },
  {
   "cell_type": "markdown",
   "metadata": {},
   "source": [
    "Los enumeradores son más útiles e interesantes cuando los usamos para generar\n",
    "lenguajes infinitos, por ejemplo, el lenguaje de todos los números primos\n",
    "escritos sobre el alfabeto decimal\n",
    "$$\\Sigma = \\{\\texttt{0}, \\texttt{1}, \\texttt{2}, \\texttt{3}, \\texttt{4},\n",
    "\\texttt{5}, \\texttt{6}, \\texttt{7}, \\texttt{8}, \\texttt{9}\\}$$ \n"
   ]
  },
  {
   "cell_type": "code",
   "execution_count": null,
   "metadata": {},
   "outputs": [],
   "source": [
    "def tiene_divisor(num, primos):\n",
    "    \"\"\"Determina si un número tiene un divisor en la lista de primos.\"\"\"\n",
    "    for primo in primos:\n",
    "        if primo * primo > num:\n",
    "            return False  # No es necesario buscar más\n",
    "        if num % primo == 0:\n",
    "            return True  # Encontramos un divisor\n",
    "    return False\n",
    "\n",
    "\n",
    "def numeros_primos():\n",
    "    \"\"\"Genera todos los números primos.\"\"\"\n",
    "    primos = []\n",
    "    num = 2\n",
    "    while True:\n",
    "        if not tiene_divisor(num, primos):\n",
    "            primos.append(num)\n",
    "            yield str(num)\n",
    "        num += 1"
   ]
  },
  {
   "cell_type": "markdown",
   "metadata": {},
   "source": [
    "Llegados a este punto, no podemos usar un ciclo `for` para enumerar todos los\n",
    "números primos, ni tampoco podemos guardarlos en una lista, porque son\n",
    "infinitos y el generador nunca terminaría.\n",
    "\n",
    "```python\n",
    "# Este ciclo nunca termina:\n",
    "for primo in primos():\n",
    "    print(primo)\n",
    "```\n",
    "\n",
    "```python\n",
    "# Esta instrucción consume toda la memoria disponible y nunca termina:\n",
    "lista = list(primos())\n",
    "```"
   ]
  },
  {
   "cell_type": "code",
   "execution_count": null,
   "metadata": {},
   "outputs": [],
   "source": [
    "# La clase `islice` del módulo itertools permite obtener una porción\n",
    "# finita de un iterador.\n",
    "from itertools import islice\n",
    "\n",
    "lenguaje = numeros_primos()\n",
    "\n",
    "list(islice(lenguaje, 10))  # Primeros 10 números primos"
   ]
  },
  {
   "cell_type": "code",
   "execution_count": null,
   "metadata": {},
   "outputs": [],
   "source": [
    "# Siguientes 10 números primos\n",
    "list(islice(lenguaje, 10))"
   ]
  },
  {
   "cell_type": "markdown",
   "metadata": {},
   "source": [
    "Si $\\Sigma$ es un alfabeto, denotamos con $\\Sigma^*$ (*Sigma estrella*) al lenguaje de todas las cadenas que se pueden formar sobre dicho alfabeto.\n",
    "Al operador estrella se le conoce como la **cerradura de Kleene**."
   ]
  },
  {
   "cell_type": "markdown",
   "metadata": {},
   "source": [
    "**Ejemplo**: El lenguaje de todas las cadenas sobre $\\{\\texttt{a}, \\texttt{b}\\}$."
   ]
  },
  {
   "cell_type": "code",
   "execution_count": null,
   "metadata": {},
   "outputs": [],
   "source": [
    "from materiales.lenguajes.numerabilidad import estrella\n",
    "\n",
    "lenguaje = estrella(alfabeto=\"ab\")\n",
    "list(islice(lenguaje, 10))  # Primeros 10 elementos"
   ]
  },
  {
   "cell_type": "markdown",
   "metadata": {},
   "source": [
    "**Ejemplo** El lenguaje estrella con peras y manzanas (y naranjas)."
   ]
  },
  {
   "cell_type": "code",
   "execution_count": null,
   "metadata": {},
   "outputs": [],
   "source": [
    "lenguaje = estrella(\"🍎🍐🍊\")\n",
    "list(islice(lenguaje, 1020, 1030))  # Elementos del 1020 al 1030"
   ]
  },
  {
   "cell_type": "markdown",
   "metadata": {},
   "source": [
    "El lenguaje $\\Sigma^*$ tiene gran interés teórico porque cualquier lenguaje\n",
    "sobre el alfabeto $\\Sigma$ es un subconjunto de $\\Sigma^*$.\n",
    "De esta forma, para crear un enumerador de un lenguaje $L$ sobre $\\Sigma$ basta\n",
    "con crear un enumerador de $\\Sigma^*$ y filtrar los elementos que no pertenecen\n",
    "a $L$."
   ]
  },
  {
   "cell_type": "markdown",
   "metadata": {},
   "source": [
    "**Ejemplo**: El lenguaje $L$ de todas las cadenas sobre el alfabeto\n",
    "$\\{\\texttt{a}, \\texttt{b}\\}$ que tienen la misma cantidad de `a` que de `b`:\n",
    "$$L = \\left\\{ w \\in \\{\\texttt{a}, \\texttt{b}\\}^* \\middle | w.\\mathit{contar}(\\texttt{a}) = w.\\mathit{contar}(\\texttt{b}) \\right\\}$$"
   ]
  },
  {
   "cell_type": "code",
   "execution_count": null,
   "metadata": {},
   "outputs": [],
   "source": [
    "def lenguaje_ejemplo():\n",
    "    for palabra in estrella(\"ab\"):\n",
    "        if palabra.count(\"a\") == palabra.count(\"b\"):\n",
    "            yield palabra\n",
    "\n",
    "\n",
    "list(islice(lenguaje_ejemplo(), 10))  # Primeros 10 elementos"
   ]
  },
  {
   "cell_type": "markdown",
   "metadata": {},
   "source": [
    "Podemos generalizar el ejemplo anterior:\n",
    "- Una **función booleana** es aquella que devuelve `True` o `False`.\n",
    "- Un **decididor** para un lenguaje $L$ es una función booleana que *siempre*\n",
    "  termina, y que devuelve `True` en las cadenas de $L$ y `False` en las demás.\n",
    "- Si existe un decididor para un lenguaje $L$, entonces podemos construir un\n",
    "  enumerador para $L$ de la siguiente manera:\n",
    "  ```python\n",
    "  def enumerador():\n",
    "      for palabra in estrella(alfabeto):\n",
    "          if decididor(palabra):\n",
    "              yield palabra\n",
    "  ``` "
   ]
  },
  {
   "cell_type": "markdown",
   "metadata": {},
   "source": [
    "**Ejemplo**: Hacer un decididor para el lenguaje Python y un enumerador para el\n",
    "lenguaje de todos los programas Python válidos."
   ]
  },
  {
   "cell_type": "code",
   "execution_count": null,
   "metadata": {},
   "outputs": [],
   "source": [
    "def decididor_python(texto: str) -> bool:\n",
    "    \"\"\"Determina si un texto es un programa Python válido.\"\"\"\n",
    "    try:  # Intentamos compilar el texto como un programa Python.\n",
    "        compile(texto, \"<string>\", \"exec\")\n",
    "    except SyntaxError:\n",
    "        return False\n",
    "    return True"
   ]
  },
  {
   "cell_type": "code",
   "execution_count": null,
   "metadata": {},
   "outputs": [],
   "source": [
    "import string\n",
    "\n",
    "\n",
    "def enumerador_python() -> Iterator[str]:\n",
    "    \"\"\"Genera todos los programas Python válidos.\"\"\"\n",
    "    for palabra in estrella(string.printable):\n",
    "        if decididor_python(palabra):\n",
    "            yield palabra"
   ]
  },
  {
   "cell_type": "code",
   "execution_count": null,
   "metadata": {},
   "outputs": [],
   "source": [
    "# Los programas más pequeños de Python no son muy interesantes.\n",
    "lenguaje = enumerador_python()\n",
    "list(islice(lenguaje, 10))  # Primeros 10 programas"
   ]
  },
  {
   "cell_type": "code",
   "execution_count": null,
   "metadata": {},
   "outputs": [],
   "source": [
    "import warnings\n",
    "\n",
    "# Desactivamos las advertencias de sintaxis que produce el compilador\n",
    "# de Python.\n",
    "warnings.filterwarnings(\"ignore\", category=SyntaxWarning)\n",
    "\n",
    "# Veamos los programas que aparecen después del primer millón.\n",
    "list(islice(lenguaje, 1_000_000, 1_000_010))"
   ]
  },
  {
   "cell_type": "markdown",
   "metadata": {},
   "source": [
    "Obsérvese que en este ejemplo el compilador solamente nos indica si el texto\n",
    "del programa es un programa bien formado, pero no nos dice si el programa\n",
    "funciona correctamente."
   ]
  },
  {
   "cell_type": "markdown",
   "metadata": {},
   "source": [
    "### 2.2 Gramáticas libres de contexto"
   ]
  },
  {
   "cell_type": "markdown",
   "metadata": {},
   "source": [
    "Una **gramática libre de contexto** es un objeto que define a un lenguaje\n",
    "mediante reglas de sustitución como en este ejemplo:\n"
   ]
  },
  {
   "cell_type": "code",
   "execution_count": 1,
   "metadata": {},
   "outputs": [
    {
     "data": {
      "text/markdown": [
       "1. $\\textcolor{firebrick}{\\textit{S}} \\to \\texttt{a} \\textcolor{firebrick}{\\textit{S}} \\texttt{b}$\n",
       "2. $\\textcolor{firebrick}{\\textit{S}} \\to \\textcolor{firebrick}{\\textit{T}}$\n",
       "3. $\\textcolor{firebrick}{\\textit{T}} \\to \\texttt{c} \\textcolor{firebrick}{\\textit{T}}$\n",
       "4. $\\textcolor{firebrick}{\\textit{T}} \\to \\varepsilon$"
      ],
      "text/plain": [
       "(Regla(izquierda=Variable('S'), derecha=(Terminal('a'), Variable('S'), Terminal('b'))),\n",
       " Regla(izquierda=Variable('S'), derecha=(Variable('T'),)),\n",
       " Regla(izquierda=Variable('T'), derecha=(Terminal('c'), Variable('T'))),\n",
       " Regla(izquierda=Variable('T'), derecha=()))"
      ]
     },
     "execution_count": 1,
     "metadata": {},
     "output_type": "execute_result"
    }
   ],
   "source": [
    "from materiales.lenguajes.ejemplos import gramatica1\n",
    "\n",
    "gramatica1 = gramatica1()\n",
    "gramatica1.reglas  # Mostrar las reglas de la gramática"
   ]
  },
  {
   "cell_type": "markdown",
   "metadata": {},
   "source": [
    "A las reglas de sustitución se les conoce como **reglas de producción**.\n",
    "Cada una de estas está indicada por una flecha “$\\to$” que muestra cómo\n",
    "sustituir una **variable** (aquí mostradas en color rojo) por una cadena que a\n",
    "su vez puede contener más variables.\n",
    "Los símbolos que no son variables se llaman **terminales**, y no pueden ser\n",
    "sustituidos por otras cadenas.\n",
    "Todas las gramáticas tienen una **variable inicial**, que  es la que aparece a\n",
    "la izquierda de la primera regla, en este caso es $S$."
   ]
  },
  {
   "cell_type": "markdown",
   "metadata": {},
   "source": [
    "La gramática describe cómo producir cadenas válidas en un lenguaje mediante un\n",
    "proceso que se conoce como **derivación**:\n",
    "1. Escribe la variable inicial.\n",
    "2. Encuentra una variable en la cadena y una producción para esa variable; a\n",
    "   continuación, sustituye la variable por la cadena de la producción.\n",
    "3. Repite el paso 2 hasta que no haya más variables."
   ]
  },
  {
   "cell_type": "markdown",
   "metadata": {},
   "source": [
    "**Ejemplo**: Según la gramática anterior podemos derivar la cadena\n",
    "$\\texttt{aacbb}$ de la siguiente manera:"
   ]
  },
  {
   "cell_type": "code",
   "execution_count": 2,
   "metadata": {},
   "outputs": [
    {
     "data": {
      "text/latex": [
       "$$\\begin{align*}\n",
       "\\textcolor{firebrick}{\\textit{S}} & \\Rightarrow \\texttt{a} \\textcolor{firebrick}{\\textit{S}} \\texttt{b} \\\\\n",
       "& \\Rightarrow \\texttt{a} \\texttt{a} \\textcolor{firebrick}{\\textit{S}} \\texttt{b} \\texttt{b} \\\\\n",
       "& \\Rightarrow \\texttt{a} \\texttt{a} \\textcolor{firebrick}{\\textit{T}} \\texttt{b} \\texttt{b} \\\\\n",
       "& \\Rightarrow \\texttt{a} \\texttt{a} \\texttt{c} \\textcolor{firebrick}{\\textit{T}} \\texttt{b} \\texttt{b} \\\\\n",
       "& \\Rightarrow \\texttt{a} \\texttt{a} \\texttt{c} \\texttt{b} \\texttt{b} \\\\\n",
       "\\end{align*}$$"
      ],
      "text/plain": [
       "<materiales.lenguajes.gramaticas.Derivacion at 0x7fe55c587790>"
      ]
     },
     "execution_count": 2,
     "metadata": {},
     "output_type": "execute_result"
    }
   ],
   "source": [
    "derivacion = (gramatica1.hacer_derivacion()\n",
    "\n",
    "    derivacion.aplicar_regla(1)\n",
    "    .aplicar_regla(1)\n",
    "    .aplicar_regla(2)\n",
    "    .aplicar_regla(3)\n",
    "    .aplicar_regla(4)\n",
    ")"
   ]
  },
  {
   "cell_type": "markdown",
   "metadata": {},
   "source": [
    "Podemos expresar una derivación de manera gráfica mediante un **árbol de\n",
    "derivación**, que es un diagrama de árbol donde cada nodo interno es una\n",
    "variable y cada nodo hoja un símbolo terminal.\n",
    "La raíz del árbol es el símbolo inicial, se dibuja hasta arriba; y cada nodo\n",
    "interno tiene como hijos a los símbolos de la cadena que se obtiene al aplicar\n",
    "la producción correspondiente.\n",
    "\n",
    "![Ejemplo de árbol de derivación](img/arbolderiv.svg)"
   ]
  },
  {
   "cell_type": "markdown",
   "metadata": {},
   "source": [
    "El lenguaje generado por una gramática $G$, denotado por $L(G)$, es el conjunto\n",
    "de todas las cadenas que se pueden derivar a partir de la variable inicial de\n",
    "$G$.\n",
    "En nuestro ejemplo tenemos\n",
    "\n",
    "$$L(G) = \\{\\varepsilon, \\texttt{ab}, \\texttt{c}, \\texttt{aabb}, \\texttt{acb},\n",
    "\\texttt{cc}, \\texttt{aaabbb}, \\texttt{aacbb}, \\texttt{accb}, \\texttt{ccc},\n",
    "\\ldots\\}$$\n",
    "\n",
    "No es difícil convencerse de que el lenguaje generado por esta gramática es el\n",
    "lenguaje de todas las cadenas de la forma $\\texttt{a}^n\\texttt{c}^m\\texttt{b}^n$\n",
    "(el mismo número de `a` que de `b`) para $n, m \\ge 0$."
   ]
  },
  {
   "cell_type": "markdown",
   "metadata": {},
   "source": [
    "#### Definición formal de una gramática libre de contexto\n",
    "A estas alturas la definición formal de una gramática libre de contexto es\n",
    "meramente un tecnicismo, pero la presentamos a continuación para completar el\n",
    "concepto:"
   ]
  },
  {
   "cell_type": "markdown",
   "metadata": {},
   "source": [
    "\n",
    "**Definición** Una *gramática libre de contexto* es una 4-ada\n",
    "$G = \\left( V, \\Sigma, R, S \\right)$ donde\n",
    "\n",
    "- $V$ es un conjunto finito de *variables*.\n",
    "- $\\Sigma$ es un conjunto finito de *símbolos terminales*\n",
    "  ($V \\cap \\Sigma = \\emptyset$).\n",
    "- $R \\subseteq V \\times (V \\cup \\Sigma)^*$ es un conjunto finito de *reglas de\n",
    "  producción*, cada regla $r = (v, w)$ se denota por\n",
    "  $$v\\rightarrow w$$\n",
    "- $S \\in V$ es la *variable inicial*."
   ]
  },
  {
   "cell_type": "markdown",
   "metadata": {},
   "source": [
    "**Definición** Si $A\\to w$ es una regla de la gramática $G$, entonces decimos\n",
    "que $uAv$ **produce** la cadena $uwv$, y lo denotamos por $uAv\\Rightarrow uwv$.\n",
    "Más aún, si $$u = u_1 \\Rightarrow u_2 \\Rightarrow \\cdots \\Rightarrow u_k = v$$\n",
    "es una sucessión de producciones, entonces decimos que $u$ **deriva** a $v$ y\n",
    "lo denotamos por $u\\overset{*}{\\Rightarrow} v$."
   ]
  },
  {
   "cell_type": "markdown",
   "metadata": {},
   "source": [
    "#### Notación BNF\n",
    "En computación, las gramáticas libres de contexto se suelen escribir en una\n",
    "notación estándar llamada *Backus-Naur Form* (BNF).\n",
    "Nombrada así en honor a John Backus y Peter Naur, ambos miembros del comité de\n",
    "Algol, quienes propusieron a las gramáticas libres de contexto para definir al\n",
    "lenguaje Algol60.\n",
    "\n",
    "- La flecha de las reglas de producción se sustituye por `::=`.\n",
    "- Las variables se escriben entre paréntesis angulares; por ejemplo `<S>`.\n",
    "- Las cadenas se escriben entre comillas dobles; por ejemplo `\"hola\"`.\n",
    "- Las producciones que tienen la misma variable a la izquierda se pueden\n",
    "  agrupar usando una barra vertical `|`."
   ]
  },
  {
   "cell_type": "markdown",
   "metadata": {},
   "source": [
    "**Ejemplo**: La gramática anterior se puede escribir en notación BNF de la\n",
    "siguiente manera:\n",
    "\n",
    "```\n",
    "<S> ::= \"a\"<S>\"b\" | <T>\n",
    "<T> ::= \"c\"<T> | \"\"\n",
    "```"
   ]
  },
  {
   "cell_type": "code",
   "execution_count": null,
   "metadata": {},
   "outputs": [],
   "source": [
    "from materiales.lenguajes.gramaticas import GramaticaLibreContexto\n",
    "\n",
    "# Definimos una gramática libre de contexto usando la notación BNF.\n",
    "gramatica_bnf = \"\"\"\n",
    "    <S> ::= \"a\" <S> \"b\" | <T>\n",
    "    <T> ::= \"c\" <T> | \"\"\n",
    "\"\"\"\n",
    "\n",
    "# Creamos una gramática libre de contexto a partir de la notación BNF.\n",
    "gramatica = GramaticaLibreContexto.desde_bnf(gramatica_bnf)\n",
    "gramatica"
   ]
  },
  {
   "cell_type": "markdown",
   "metadata": {},
   "source": []
  }
 ],
 "metadata": {
  "kernelspec": {
   "display_name": ".venv",
   "language": "python",
   "name": "python3"
  },
  "language_info": {
   "codemirror_mode": {
    "name": "ipython",
    "version": 3
   },
   "file_extension": ".py",
   "mimetype": "text/x-python",
   "name": "python",
   "nbconvert_exporter": "python",
   "pygments_lexer": "ipython3",
   "version": "3.11.2"
  },
  "orig_nbformat": 4
 },
 "nbformat": 4,
 "nbformat_minor": 2
}
