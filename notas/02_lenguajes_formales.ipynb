{
 "cells": [
  {
   "cell_type": "markdown",
   "metadata": {},
   "source": [
    "# Lenguajes formales\n",
    "\n",
    "Desde el nacimiento estamos expuestos a *lenguajes naturales*; estos son\n",
    "lenguajes escritos y hablados por los seres humanos, como el español, el\n",
    "japonés, el griego, etc.\n",
    "Estos lenguajes han evolucionado a través de los siglos como especies vivientes,\n",
    "y los lingüistas los estudian como tales.\n",
    "Aunque los lenguajes naturales tienen reglas de sintaxis y semántica, estas\n",
    "reglas son muy complejas, contienen muchas excepciones, y cada dialecto tiene\n",
    "sus propias variantes.\n",
    "Véase esta canción sobre lo [difícil que es hablar el español][1] (nótese que la\n",
    "letra es explícita).\n",
    "\n",
    "Los *lenguajes artificiales* son aquellos que han sido creados por los seres\n",
    "humanos para aplicaciones específicas.\n",
    "Por ejemplo, el esperanto es un lenguaje diseñado para la comunicación entre\n",
    "naciones de diferentes lenguas europeas, el Klingon es un lenguaje inventado\n",
    "para la serie de televisión Star Trek, y J. R. Tolkien creó varios lenguajes\n",
    "para sus novelas de fantasía.\n",
    "\n",
    "Los *lenguajes formales* son una forma de lenguaje artificial definido con\n",
    "reglas de sintaxis y semántica muy precisas... matemáticamente precisas, de\n",
    "hecho.\n",
    "En efecto, el propio lenguaje matemático, con sus símbolos de operaciones y\n",
    "relaciones, es una especie de lenguaje formal; también las fórmulas químicas\n",
    "están definidas por un lenguaje formal.\n",
    "Finalmente, dentro de esta categoría están todos los *lenguajes de\n",
    "programación*, diseñados concretamente para expresar algoritmos.\n",
    "\n",
    "[1]: https://www.youtube.com/watch?v=eyGFz-zIjHE"
   ]
  },
  {
   "cell_type": "markdown",
   "metadata": {},
   "source": [
    "## 1. Describir un lenguaje de programación"
   ]
  },
  {
   "cell_type": "markdown",
   "metadata": {},
   "source": [
    "En lingüística, un lenguaje se describe en tres niveles:\n",
    "- *Gramática*: Definida por un alfabeto, léxico, y reglas de sintaxis, \n",
    "  responde la pregunta \"¿qué es una oración válida en este lenguaje?\".\n",
    "- *Semántica*: Atribuye un significado a las oraciones válidas, responde la\n",
    "  pregunta \"¿qué significa esta oración?\".\n",
    "- *Pragmática*: Define el uso del lenguaje, responde la pregunta \"¿cómo usamos\n",
    "  este enunciado significativo?\". Diferentes enunciados con el mismo significado\n",
    "  pueden ser usados de formas distintas por diferentes personas y en diferentes\n",
    "  contextos.\n",
    "\n",
    "**Ejemplo** Consideremos un lenguaje natural usado para describir recetas de\n",
    "cocina en español.\n",
    "La gramática de este lenguaje está definida por el alfabeto español, el léxico\n",
    "se conforma de palabras que se usan en recetas, como \"mezclar\", \"batir\",\n",
    "\"leche\", \"huevos\", etc.\n",
    "La semántica de este lenguaje está dada por el significado de las palabras, por\n",
    "ejemplo, \"mezclar\" significa combinar dos o más ingredientes en un recipiente.\n",
    "Finalmente, la pragmática le indica al lector cómo usar las instrucciones de la\n",
    "receta para preparar el platillo.\n",
    "\n",
    "En el caso de los lenguajes de programación podemos agregar la *implementación*,\n",
    "que responde la pregunta \"¿cómo se realiza este enunciado de forma que respete\n",
    "el significado?\".\n",
    "Continuando el ejemplo anterior, la implementación de una receta la realiza un\n",
    "cocinero, siguiendo las instrucciones de la receta y definiendo de manera\n",
    "precisa (a veces sin darse cuenta) los pasos a seguir para preparar el platillo.\n",
    "Así, \"sal al gusto\" puede significar \"agrega sal hasta que el sabor sea de tu\n",
    "agrado\", y la implementación de esta instrucción depende de la experiencia del\n",
    "cocinero."
   ]
  },
  {
   "cell_type": "markdown",
   "metadata": {},
   "source": [
    "**Actividad** Explorar la [Referencia del Lenguaje Python][1] su definición\n",
    "gramatical, semántica y pragmática.\n",
    "\n",
    "[1]: https://docs.python.org/es/3/reference/index.html"
   ]
  },
  {
   "cell_type": "markdown",
   "metadata": {},
   "source": [
    "## 2. Elementos de teoría de lenguajes"
   ]
  },
  {
   "cell_type": "markdown",
   "metadata": {},
   "source": [
    "### Alfabetos"
   ]
  },
  {
   "cell_type": "markdown",
   "metadata": {},
   "source": [
    "Para describir un lenguaje formal, se requieren conceptos de teoría de lenguajes\n",
    "formales, que son parte del estudio de la *Teoría de la Computación* y las\n",
    "*Matemáticas Discretas* en general.\n",
    "\n",
    "Un **alfabeto** es un conjunto finito de *símbolos*.\n",
    "La naturaleza de los símbolos nos es irrelevante para la teoría de lenguajes,\n",
    "pero se entiende que son elementos claramente distinguibles entre sí.\n",
    "Usamos las letras griegas mayúsculas como $\\Sigma$ y $\\Gamma$ para denotar\n",
    "alfabetos, y letras de tipo `monoespaciado` para denotar cadenas de símbolos.\n",
    "\n",
    "El alfabeto más usado por las computadoras es el **alfabeto binario**:\n",
    "$$\\Sigma = \\{\\texttt{0}, \\texttt{1}\\}$$\n",
    "pero en general se puede usar cualquier alfabeto, por ejemplo, el alfabeto\n",
    "español:\n",
    "$$\\Sigma = \\{\\texttt{a}, \\texttt{b}, \\texttt{c}, \\ldots, \\texttt{z}\\}$$\n"
   ]
  },
  {
   "cell_type": "markdown",
   "metadata": {},
   "source": [
    "En particular, Python utiliza el alfabeto [Unicode][1], que contiene más de\n",
    "100,000 símbolos, incluyendo letras, números, símbolos matemáticos, emojis,\n",
    "carácteres chinos, etc.\n",
    "\n",
    "[1]: https://unicode.org/"
   ]
  },
  {
   "cell_type": "code",
   "execution_count": 1,
   "metadata": {},
   "outputs": [
    {
     "name": "stdout",
     "output_type": "stream",
     "text": [
      "104 ↦ 'h'\n",
      "111 ↦ 'o'\n",
      "108 ↦ 'l'\n",
      "97 ↦ 'a'\n"
     ]
    }
   ],
   "source": [
    "# La función chr permite convertir un número de símbolo Unicode en el\n",
    "# carácter correspondiente.\n",
    "for codigo in [104, 111, 108, 97]:\n",
    "    print(f\"{codigo} ↦ {chr(codigo)!r}\")"
   ]
  },
  {
   "cell_type": "markdown",
   "metadata": {},
   "source": [
    "### Cadenas"
   ]
  },
  {
   "cell_type": "markdown",
   "metadata": {},
   "source": [
    "Una cadena (usualmente denotada con la letra $w$) es una secuencia finita de\n",
    "símbolos de un alfabeto $\\Sigma$; se denota con los símbolos yuxtapuestos, sin\n",
    "comas entre sus elementos, por ejemplo:\n",
    "$$w = \\texttt{hola}$$\n",
    "$$w = \\texttt{010101}$$\n",
    "\n",
    "La **longitud** de una cadena $w$ se denota con $\\left|w\\right|$, y es el número de\n",
    "símbolos que contiene:\n",
    "$$\\left|\\texttt{hola}\\right| = 4$$"
   ]
  },
  {
   "cell_type": "code",
   "execution_count": 2,
   "metadata": {},
   "outputs": [
    {
     "data": {
      "text/plain": [
       "'hola'"
      ]
     },
     "execution_count": 2,
     "metadata": {},
     "output_type": "execute_result"
    }
   ],
   "source": [
    "# En Python, las cadenas se pueden definir con comillas simples o dobles.\n",
    "w = \"hola\"\n",
    "w"
   ]
  },
  {
   "cell_type": "code",
   "execution_count": 3,
   "metadata": {},
   "outputs": [
    {
     "data": {
      "text/plain": [
       "4"
      ]
     },
     "execution_count": 3,
     "metadata": {},
     "output_type": "execute_result"
    }
   ],
   "source": [
    "# La longitud de una cadena se puede obtener con la función len.\n",
    "len(w)"
   ]
  },
  {
   "cell_type": "markdown",
   "metadata": {},
   "source": [
    "Existe una cadena especial, llamada **cadena vacía** y denotada con\n",
    "$\\varepsilon$, que no contiene símbolos:"
   ]
  },
  {
   "cell_type": "code",
   "execution_count": 4,
   "metadata": {},
   "outputs": [
    {
     "data": {
      "text/plain": [
       "0"
      ]
     },
     "execution_count": 4,
     "metadata": {},
     "output_type": "execute_result"
    }
   ],
   "source": [
    "epsilon = \"\"\n",
    "len(epsilon)"
   ]
  },
  {
   "cell_type": "markdown",
   "metadata": {},
   "source": [
    "Decimos que una cadena $z$ es una **subcadena** de otra cadena $w$ si los\n",
    "símbolos de $z$ aparecen consecutivamente en cualquier parte de $w$.\n",
    "Por ejemplo, `cara`, `cola` y `araco` son algunas de las subcadenas de\n",
    "`caracola`.\n"
   ]
  },
  {
   "cell_type": "code",
   "execution_count": 5,
   "metadata": {},
   "outputs": [
    {
     "name": "stdout",
     "output_type": "stream",
     "text": [
      "True\n",
      "True\n",
      "True\n",
      "False\n",
      "True\n"
     ]
    }
   ],
   "source": [
    "# En Python, podemos determinar si una cadena es subcadena de otra con\n",
    "# el operador \"in\".\n",
    "w = \"caracola\"\n",
    "print(\"cara\" in w)\n",
    "print(\"cola\" in w)\n",
    "print(\"araco\" in w)\n",
    "print(\"maraca\" in w)\n",
    "print(\"\" in w)  # La cadena vacía es subcadena de cualquier cadena."
   ]
  },
  {
   "cell_type": "markdown",
   "metadata": {},
   "source": [
    "Dado que tenemos dos cadenas $x$ y $y$, podemos **concatenarlas** para formar\n",
    "una nueva cadena $xy$.\n",
    "En matemáticas esta se denota simplemente yuxtaponiendo las cadenas, de la misma\n",
    "manera que la multiplicación en álgebra.\n",
    "En cambio, los lenguajes de programación suelen usar operadores como `+` o `&`."
   ]
  },
  {
   "cell_type": "code",
   "execution_count": 6,
   "metadata": {},
   "outputs": [
    {
     "data": {
      "text/plain": [
       "'colchones'"
      ]
     },
     "execution_count": 6,
     "metadata": {},
     "output_type": "execute_result"
    }
   ],
   "source": [
    "# En Python la concatenación de cadenas se realiza con el operador +.\n",
    "\"col\" + \"chones\""
   ]
  },
  {
   "cell_type": "markdown",
   "metadata": {},
   "source": [
    "Si la multiplicación repetida es la potenciación, entonces la concatenación\n",
    "repetida es la **potenciación de cadenas**.\n",
    "Por ejemplo, si $w = \\texttt{na}$, entonces $w^3 = \\texttt{nanana}$, de manera\n",
    "que $\\texttt{ba}{(\\texttt{na})}^2 = \\texttt{banana}$."
   ]
  },
  {
   "cell_type": "code",
   "execution_count": 7,
   "metadata": {},
   "outputs": [
    {
     "data": {
      "text/plain": [
       "'banana'"
      ]
     },
     "execution_count": 7,
     "metadata": {},
     "output_type": "execute_result"
    }
   ],
   "source": [
    "# En Python la repetición de cadenas se realiza con el operador *.\n",
    "\"ba\" + 2 * \"na\""
   ]
  },
  {
   "cell_type": "markdown",
   "metadata": {},
   "source": [
    "El **orden lexicográfico** es el orden que se usa para ordenar las palabras en\n",
    "un diccionario."
   ]
  },
  {
   "cell_type": "code",
   "execution_count": 8,
   "metadata": {},
   "outputs": [
    {
     "data": {
      "text/plain": [
       "['aguacate',\n",
       " 'calabaza',\n",
       " 'col',\n",
       " 'itacate',\n",
       " 'jitomate',\n",
       " 'pan',\n",
       " 'panal',\n",
       " 'zapote']"
      ]
     },
     "execution_count": 8,
     "metadata": {},
     "output_type": "execute_result"
    }
   ],
   "source": [
    "# En Python las cadenas están ordenadas lexicográficamente.\n",
    "\n",
    "cadenas = [\n",
    "    \"col\",\n",
    "    \"itacate\",\n",
    "    \"zapote\",\n",
    "    \"calabaza\",\n",
    "    \"panal\",\n",
    "    \"pan\",\n",
    "    \"jitomate\",\n",
    "    \"aguacate\",\n",
    "]\n",
    "cadenas.sort()\n",
    "cadenas"
   ]
  },
  {
   "cell_type": "markdown",
   "metadata": {},
   "source": [
    "Las computadoras suelen utilizar una equivalencia entre números y símbolos para\n",
    "compararlas.\n",
    "En nuestro caso, Python utiliza el alfabeto Unicode."
   ]
  },
  {
   "cell_type": "code",
   "execution_count": 9,
   "metadata": {},
   "outputs": [
    {
     "name": "stdout",
     "output_type": "stream",
     "text": [
      "'t' ↦ 116\n",
      "'a' ↦ 97\n",
      "'l' ↦ 108\n",
      "'a' ↦ 97\n",
      "'v' ↦ 118\n",
      "'e' ↦ 101\n",
      "'r' ↦ 114\n",
      "'a' ↦ 97\n"
     ]
    }
   ],
   "source": [
    "# La función ord es la función inversa de chr, es decir que permite\n",
    "# obtener el código Unicode de un carácter.\n",
    "\n",
    "palabra = \"talavera\"\n",
    "for simbolo in palabra:\n",
    "    print(f\"{simbolo!r} ↦ {ord(simbolo)}\")"
   ]
  },
  {
   "cell_type": "code",
   "execution_count": 10,
   "metadata": {},
   "outputs": [
    {
     "name": "stdout",
     "output_type": "stream",
     "text": [
      "'A' ↦ 65\n",
      "'B' ↦ 66\n",
      "'Z' ↦ 90\n",
      "'a' ↦ 97\n",
      "'b' ↦ 98\n",
      "'z' ↦ 122\n"
     ]
    }
   ],
   "source": [
    "# Nótese que en Unicode, las mayúsculas preceden a las minúsculas:\n",
    "palabra = \"ABZabz\"\n",
    "for simbolo in palabra:\n",
    "    print(f\"{simbolo!r} ↦ {ord(simbolo)}\")"
   ]
  },
  {
   "cell_type": "code",
   "execution_count": 11,
   "metadata": {},
   "outputs": [
    {
     "data": {
      "text/plain": [
       "True"
      ]
     },
     "execution_count": 11,
     "metadata": {},
     "output_type": "execute_result"
    }
   ],
   "source": [
    "# Mayúsculas antes que minúsculas.\n",
    "\"Zapato\" < \"alfombra\""
   ]
  },
  {
   "cell_type": "markdown",
   "metadata": {},
   "source": [
    "Usualmente preferimos usar otro orden de manera que las palabras más pequeñas\n",
    "aparezcan primero, este es el orden **shortléxico**, o simplemente **orden\n",
    "de cadenas**."
   ]
  },
  {
   "cell_type": "code",
   "execution_count": 12,
   "metadata": {},
   "outputs": [
    {
     "data": {
      "text/plain": [
       "['col',\n",
       " 'pan',\n",
       " 'panal',\n",
       " 'zapote',\n",
       " 'itacate',\n",
       " 'aguacate',\n",
       " 'calabaza',\n",
       " 'jitomate']"
      ]
     },
     "execution_count": 12,
     "metadata": {},
     "output_type": "execute_result"
    }
   ],
   "source": [
    "from materiales.lenguajes.numerabilidad import Shortlex\n",
    "\n",
    "# Ordenar utilizando el orden shortléxico.\n",
    "cadenas.sort(key=Shortlex)\n",
    "cadenas"
   ]
  },
  {
   "cell_type": "markdown",
   "metadata": {},
   "source": [
    "### Lenguajes\n",
    "Un **lenguaje** es un conjunto (finito o infinito) de cadenas."
   ]
  },
  {
   "cell_type": "code",
   "execution_count": 13,
   "metadata": {},
   "outputs": [
    {
     "name": "stdout",
     "output_type": "stream",
     "text": [
      "Este es un lenguaje finito:\n",
      "['col', 'pan', 'panal', 'zapote', 'itacate', 'aguacate', 'calabaza', 'jitomate']\n"
     ]
    }
   ],
   "source": [
    "print(\"Este es un lenguaje finito:\")\n",
    "print(cadenas)"
   ]
  },
  {
   "cell_type": "markdown",
   "metadata": {},
   "source": [
    "En computación los lenguajes se pueden representar como una colección (lista,\n",
    "cadena, etc.), pero esto solo funciona con lenguajes finitos.\n",
    "Una forma alternativa es utilizar un **enumerador**, que es un algoritmo que\n",
    "produce todos los elementos de un conjunto.\n",
    "\n",
    "En Python los enumeradores se pueden implementar con *generadores*, que son\n",
    "funciones que producen un valor cada vez utilizando la palabra reservada\n",
    "`yield`."
   ]
  },
  {
   "cell_type": "code",
   "execution_count": 14,
   "metadata": {},
   "outputs": [
    {
     "name": "stdout",
     "output_type": "stream",
     "text": [
      "ESTE\n",
      "NORTE\n",
      "OESTE\n",
      "SUR\n"
     ]
    }
   ],
   "source": [
    "from typing import Iterator\n",
    "\n",
    "\n",
    "# Definimos un iterador que enumera los puntos cardinales.\n",
    "def puntos_cardinales() -> Iterator[str]:\n",
    "    yield \"este\"\n",
    "    yield \"norte\"\n",
    "    yield \"oeste\"\n",
    "    yield \"sur\"\n",
    "\n",
    "\n",
    "# Un iterador es un objeto que avanza sobre una sucesión de elementos\n",
    "# cada vez que se llama a la función next.\n",
    "iterador = puntos_cardinales()\n",
    "print(next(iterador).upper())\n",
    "print(next(iterador).upper())\n",
    "print(next(iterador).upper())\n",
    "print(next(iterador).upper())\n",
    "# Cando se agotan los elementos se produce una excepción StopIteration.\n",
    "# next(iterador)   # Descomenta esta línea para ver el error."
   ]
  },
  {
   "cell_type": "code",
   "execution_count": 15,
   "metadata": {},
   "outputs": [
    {
     "name": "stdout",
     "output_type": "stream",
     "text": [
      "ESTE\n",
      "NORTE\n",
      "OESTE\n",
      "SUR\n"
     ]
    }
   ],
   "source": [
    "# Un iterador se suele recorrer con un ciclo for\n",
    "for punto_cardinal in puntos_cardinales():\n",
    "    print(punto_cardinal.upper())"
   ]
  },
  {
   "cell_type": "code",
   "execution_count": 16,
   "metadata": {},
   "outputs": [
    {
     "data": {
      "text/plain": [
       "['este', 'norte', 'oeste', 'sur']"
      ]
     },
     "execution_count": 16,
     "metadata": {},
     "output_type": "execute_result"
    }
   ],
   "source": [
    "# La clase `list` se puede usar para convertir un iterador en una lista.\n",
    "list(puntos_cardinales())"
   ]
  },
  {
   "cell_type": "markdown",
   "metadata": {},
   "source": [
    "Los enumeradores son más útiles e interesantes cuando los usamos para generar\n",
    "lenguajes infinitos, por ejemplo, el lenguaje de todos los números primos\n",
    "escritos sobre el alfabeto decimal\n",
    "$$\\Sigma = \\{\\texttt{0}, \\texttt{1}, \\texttt{2}, \\texttt{3}, \\texttt{4},\n",
    "\\texttt{5}, \\texttt{6}, \\texttt{7}, \\texttt{8}, \\texttt{9}\\}$$ \n"
   ]
  },
  {
   "cell_type": "code",
   "execution_count": 17,
   "metadata": {},
   "outputs": [],
   "source": [
    "def tiene_divisor(num, primos):\n",
    "    \"\"\"Determina si un número tiene un divisor en la lista de primos.\"\"\"\n",
    "    for primo in primos:\n",
    "        if primo * primo > num:\n",
    "            return False  # No es necesario buscar más\n",
    "        if num % primo == 0:\n",
    "            return True  # Encontramos un divisor\n",
    "    return False\n",
    "\n",
    "\n",
    "def numeros_primos():\n",
    "    \"\"\"Genera todos los números primos.\"\"\"\n",
    "    primos = []\n",
    "    num = 2\n",
    "    while True:\n",
    "        if not tiene_divisor(num, primos):\n",
    "            primos.append(num)\n",
    "            yield str(num)\n",
    "        num += 1"
   ]
  },
  {
   "cell_type": "markdown",
   "metadata": {},
   "source": [
    "Llegados a este punto, no podemos usar un ciclo `for` para enumerar todos los\n",
    "números primos, ni tampoco podemos guardarlos en una lista, porque son\n",
    "infinitos y el generador nunca terminaría.\n",
    "\n",
    "```python\n",
    "# Este ciclo nunca termina:\n",
    "for primo in primos():\n",
    "    print(primo)\n",
    "```\n",
    "\n",
    "```python\n",
    "# Esta instrucción consume toda la memoria disponible y nunca termina:\n",
    "lista = list(primos())\n",
    "```"
   ]
  },
  {
   "cell_type": "code",
   "execution_count": 18,
   "metadata": {},
   "outputs": [
    {
     "data": {
      "text/plain": [
       "['2', '3', '5', '7', '11', '13', '17', '19', '23', '29']"
      ]
     },
     "execution_count": 18,
     "metadata": {},
     "output_type": "execute_result"
    }
   ],
   "source": [
    "# La clase `islice` del módulo itertools permite obtener una porción\n",
    "# finita de un iterador.\n",
    "from itertools import islice\n",
    "\n",
    "lenguaje = numeros_primos()\n",
    "\n",
    "list(islice(lenguaje, 10))  # Primeros 10 números primos"
   ]
  },
  {
   "cell_type": "code",
   "execution_count": 19,
   "metadata": {},
   "outputs": [
    {
     "data": {
      "text/plain": [
       "['31', '37', '41', '43', '47', '53', '59', '61', '67', '71']"
      ]
     },
     "execution_count": 19,
     "metadata": {},
     "output_type": "execute_result"
    }
   ],
   "source": [
    "# Siguientes 10 números primos\n",
    "list(islice(lenguaje, 10))"
   ]
  },
  {
   "cell_type": "markdown",
   "metadata": {},
   "source": [
    "Si $\\Sigma$ es un alfabeto, denotamos con $\\Sigma^*$ (*Sigma estrella*) al lenguaje de todas las cadenas que se pueden formar sobre dicho alfabeto.\n",
    "Al operador estrella se le conoce como la **cerradura de Kleene**."
   ]
  },
  {
   "cell_type": "markdown",
   "metadata": {},
   "source": [
    "**Ejemplo**: El lenguaje de todas las cadenas sobre $\\{\\texttt{a}, \\texttt{b}\\}$."
   ]
  },
  {
   "cell_type": "code",
   "execution_count": 20,
   "metadata": {},
   "outputs": [
    {
     "data": {
      "text/plain": [
       "['', 'a', 'b', 'aa', 'ab', 'ba', 'bb', 'aaa', 'aab', 'aba']"
      ]
     },
     "execution_count": 20,
     "metadata": {},
     "output_type": "execute_result"
    }
   ],
   "source": [
    "from materiales.lenguajes.numerabilidad import estrella\n",
    "\n",
    "lenguaje = estrella(alfabeto=\"ab\")\n",
    "list(islice(lenguaje, 10))  # Primeros 10 elementos"
   ]
  },
  {
   "cell_type": "markdown",
   "metadata": {},
   "source": [
    "**Ejemplo** El lenguaje estrella con peras y manzanas (y naranjas)."
   ]
  },
  {
   "cell_type": "code",
   "execution_count": 21,
   "metadata": {},
   "outputs": [
    {
     "data": {
      "text/plain": [
       "['🍊🍊🍎🍎🍊🍊',\n",
       " '🍊🍊🍎🍐🍎🍎',\n",
       " '🍊🍊🍎🍐🍎🍐',\n",
       " '🍊🍊🍎🍐🍎🍊',\n",
       " '🍊🍊🍎🍐🍐🍎',\n",
       " '🍊🍊🍎🍐🍐🍐',\n",
       " '🍊🍊🍎🍐🍐🍊',\n",
       " '🍊🍊🍎🍐🍊🍎',\n",
       " '🍊🍊🍎🍐🍊🍐',\n",
       " '🍊🍊🍎🍐🍊🍊']"
      ]
     },
     "execution_count": 21,
     "metadata": {},
     "output_type": "execute_result"
    }
   ],
   "source": [
    "lenguaje = estrella(\"🍎🍐🍊\")\n",
    "list(islice(lenguaje, 1020, 1030))  # Elementos del 1020 al 1030"
   ]
  },
  {
   "cell_type": "markdown",
   "metadata": {},
   "source": [
    "El lenguaje $\\Sigma^*$ tiene gran interés teórico porque cualquier lenguaje\n",
    "sobre el alfabeto $\\Sigma$ es un subconjunto de $\\Sigma^*$.\n",
    "De esta forma, para crear un enumerador de un lenguaje $L$ sobre $\\Sigma$ basta\n",
    "con crear un enumerador de $\\Sigma^*$ y filtrar los elementos que no pertenecen\n",
    "a $L$."
   ]
  },
  {
   "cell_type": "markdown",
   "metadata": {},
   "source": [
    "**Ejemplo**: El lenguaje $L$ de todas las cadenas sobre el alfabeto\n",
    "$\\{\\texttt{a}, \\texttt{b}\\}$ que tienen la misma cantidad de `a` que de `b`:\n",
    "$$L = \\left\\{ w \\in \\{\\texttt{a}, \\texttt{b}\\}^* \\middle | w.\\mathit{contar}(\\texttt{a}) = w.\\mathit{contar}(\\texttt{b}) \\right\\}$$"
   ]
  },
  {
   "cell_type": "code",
   "execution_count": 22,
   "metadata": {},
   "outputs": [
    {
     "data": {
      "text/plain": [
       "['', 'ab', 'ba', 'aabb', 'abab', 'abba', 'baab', 'baba', 'bbaa', 'aaabbb']"
      ]
     },
     "execution_count": 22,
     "metadata": {},
     "output_type": "execute_result"
    }
   ],
   "source": [
    "def lenguaje_ejemplo():\n",
    "    for palabra in estrella(\"ab\"):\n",
    "        if palabra.count(\"a\") == palabra.count(\"b\"):\n",
    "            yield palabra\n",
    "\n",
    "\n",
    "list(islice(lenguaje_ejemplo(), 10))  # Primeros 10 elementos"
   ]
  },
  {
   "cell_type": "markdown",
   "metadata": {},
   "source": [
    "Podemos generalizar el ejemplo anterior:\n",
    "- Una **función booleana** es aquella que devuelve `True` o `False`.\n",
    "- Un **decididor** para un lenguaje $L$ es una función booleana que *siempre*\n",
    "  termina, y que devuelve `True` en las cadenas de $L$ y `False` en las demás.\n",
    "- Si existe un decididor para un lenguaje $L$, entonces podemos construir un\n",
    "  enumerador para $L$ de la siguiente manera:\n",
    "  ```python\n",
    "  def enumerador():\n",
    "      for palabra in estrella(alfabeto):\n",
    "          if decididor(palabra):\n",
    "              yield palabra\n",
    "  ``` "
   ]
  },
  {
   "cell_type": "markdown",
   "metadata": {},
   "source": [
    "**Ejemplo**: Hacer un decididor para el lenguaje Python y un enumerador para el\n",
    "lenguaje de todos los programas Python válidos."
   ]
  },
  {
   "cell_type": "code",
   "execution_count": 23,
   "metadata": {},
   "outputs": [],
   "source": [
    "def decididor_python(texto: str) -> bool:\n",
    "    \"\"\"Determina si un texto es un programa Python válido.\"\"\"\n",
    "    try:  # Intentamos compilar el texto como un programa Python.\n",
    "        compile(texto, \"<string>\", \"exec\")\n",
    "    except SyntaxError:\n",
    "        return False\n",
    "    return True"
   ]
  },
  {
   "cell_type": "code",
   "execution_count": 24,
   "metadata": {},
   "outputs": [
    {
     "data": {
      "text/plain": [
       "'0123456789abcdefghijklmnopqrstuvwxyzABCDEFGHIJKLMNOPQRSTUVWXYZ!\"#$%&\\'()*+,-./:;<=>?@[\\\\]^_`{|}~ \\t\\n\\r\\x0b\\x0c'"
      ]
     },
     "execution_count": 24,
     "metadata": {},
     "output_type": "execute_result"
    }
   ],
   "source": [
    "import string\n",
    "\n",
    "string.printable"
   ]
  },
  {
   "cell_type": "code",
   "execution_count": 25,
   "metadata": {},
   "outputs": [],
   "source": [
    "def enumerador_python() -> Iterator[str]:\n",
    "    \"\"\"Genera todos los programas Python válidos.\"\"\"\n",
    "    for palabra in estrella(string.printable):\n",
    "        if decididor_python(palabra):\n",
    "            yield palabra"
   ]
  },
  {
   "cell_type": "code",
   "execution_count": 26,
   "metadata": {},
   "outputs": [
    {
     "data": {
      "text/plain": [
       "['', '0', '1', '2', '3', '4', '5', '6', '7', '8']"
      ]
     },
     "execution_count": 26,
     "metadata": {},
     "output_type": "execute_result"
    }
   ],
   "source": [
    "# Los programas más pequeños de Python no son muy interesantes.\n",
    "lenguaje = enumerador_python()\n",
    "list(islice(lenguaje, 10))  # Primeros 10 programas"
   ]
  },
  {
   "cell_type": "code",
   "execution_count": 27,
   "metadata": {},
   "outputs": [
    {
     "data": {
      "text/plain": [
       "['9+p',\n",
       " 'NeS',\n",
       " 'O8Q',\n",
       " 'Xu9',\n",
       " '1>0J',\n",
       " '493\\x0c',\n",
       " '5\\nA\\x0c',\n",
       " '6-dH',\n",
       " '9&YT',\n",
       " 'f,h ']"
      ]
     },
     "execution_count": 27,
     "metadata": {},
     "output_type": "execute_result"
    }
   ],
   "source": [
    "from materiales.lenguajes.numerabilidad import muestra\n",
    "import warnings\n",
    "\n",
    "# Desactivamos las advertencias de sintaxis que produce el compilador\n",
    "# de Python.\n",
    "warnings.filterwarnings(\"ignore\", category=SyntaxWarning)\n",
    "\n",
    "# La siguiente línea produce una muestra aleatoria de 10 programas.\n",
    "# Incrementa orden para ver programas más grandes:\n",
    "muestra(enumerador_python(), 10, orden=19)"
   ]
  },
  {
   "cell_type": "markdown",
   "metadata": {},
   "source": [
    "Obsérvese que en este ejemplo el compilador solamente nos indica si el texto\n",
    "del programa es un programa bien formado, pero no nos dice si el programa\n",
    "funciona correctamente."
   ]
  },
  {
   "cell_type": "markdown",
   "metadata": {},
   "source": [
    "## 3. Gramáticas libres de contexto"
   ]
  },
  {
   "cell_type": "code",
   "execution_count": 28,
   "metadata": {},
   "outputs": [],
   "source": [
    "from materiales.lenguajes import ejemplos\n",
    "from materiales.lenguajes.gramaticas import GramaticaLibreContexto\n",
    "from materiales.notacion import Lenguaje"
   ]
  },
  {
   "cell_type": "markdown",
   "metadata": {},
   "source": [
    "### Las gramáticas y su lenguaje\n",
    "Una **gramática libre de contexto** es un objeto que define a un lenguaje\n",
    "mediante reglas de sustitución como en este ejemplo:"
   ]
  },
  {
   "cell_type": "code",
   "execution_count": 29,
   "metadata": {},
   "outputs": [
    {
     "data": {
      "text/markdown": [
       "1. $\\textcolor{firebrick}{\\textit{S}} \\to \\texttt{a} \\textcolor{firebrick}{\\textit{S}} \\texttt{b}$\n",
       "2. $\\textcolor{firebrick}{\\textit{S}} \\to \\textcolor{firebrick}{\\textit{T}}$\n",
       "3. $\\textcolor{firebrick}{\\textit{T}} \\to \\texttt{c} \\textcolor{firebrick}{\\textit{T}}$\n",
       "4. $\\textcolor{firebrick}{\\textit{T}} \\to \\varepsilon$"
      ],
      "text/plain": [
       "(Regla(izquierda=Variable('S'), derecha=(Terminal('a'), Variable('S'), Terminal('b'))),\n",
       " Regla(izquierda=Variable('S'), derecha=(Variable('T'),)),\n",
       " Regla(izquierda=Variable('T'), derecha=(Terminal('c'), Variable('T'))),\n",
       " Regla(izquierda=Variable('T'), derecha=()))"
      ]
     },
     "execution_count": 29,
     "metadata": {},
     "output_type": "execute_result"
    }
   ],
   "source": [
    "gramatica1 = ejemplos.gramatica1()\n",
    "gramatica1.reglas"
   ]
  },
  {
   "cell_type": "markdown",
   "metadata": {},
   "source": [
    "A las reglas de sustitución se les conoce como **reglas de producción**.\n",
    "Cada una de estas está indicada por una flecha “$\\to$” que muestra cómo\n",
    "sustituir una **variable** (aquí mostradas en color rojo) por una cadena que a\n",
    "su vez puede contener más variables.\n",
    "Los símbolos que no son variables se llaman **terminales**, y no pueden ser\n",
    "sustituidos por otras cadenas.\n",
    "Todas las gramáticas tienen una **variable inicial**, que  es la que aparece a\n",
    "la izquierda de la primera regla, en este caso es $S$."
   ]
  },
  {
   "cell_type": "markdown",
   "metadata": {},
   "source": [
    "La gramática describe cómo producir cadenas válidas en un lenguaje mediante un\n",
    "proceso que se conoce como **derivación**:\n",
    "1. Escribe la variable inicial.\n",
    "2. Encuentra una variable en la cadena y una producción para esa variable; a\n",
    "   continuación, sustituye la variable por la cadena de la producción.\n",
    "3. Repite el paso 2 hasta que no haya más variables."
   ]
  },
  {
   "cell_type": "markdown",
   "metadata": {},
   "source": [
    "**Ejemplo**: Según la gramática anterior podemos derivar la cadena\n",
    "$\\texttt{aacbb}$ de la siguiente manera:"
   ]
  },
  {
   "cell_type": "code",
   "execution_count": 30,
   "metadata": {},
   "outputs": [
    {
     "data": {
      "text/latex": [
       "$$\\begin{align*}\n",
       "\\textcolor{firebrick}{\\textit{S}} & \\Rightarrow \\texttt{a} \\textcolor{firebrick}{\\textit{S}} \\texttt{b} & \\text{(por regla 1)} \\\\\n",
       "& \\Rightarrow \\texttt{a} \\texttt{a} \\textcolor{firebrick}{\\textit{S}} \\texttt{b} \\texttt{b} & \\text{(por regla 1)}\\\\\n",
       "& \\Rightarrow \\texttt{a} \\texttt{a} \\textcolor{firebrick}{\\textit{T}} \\texttt{b} \\texttt{b} & \\text{(por regla 2)}\\\\\n",
       "& \\Rightarrow \\texttt{a} \\texttt{a} \\texttt{c} \\textcolor{firebrick}{\\textit{T}} \\texttt{b} \\texttt{b} & \\text{(por regla 3)}\\\\\n",
       "& \\Rightarrow \\texttt{a} \\texttt{a} \\texttt{c} \\texttt{c} \\textcolor{firebrick}{\\textit{T}} \\texttt{b} \\texttt{b} & \\text{(por regla 3)}\\\\\n",
       "& \\Rightarrow \\texttt{a} \\texttt{a} \\texttt{c} \\texttt{c} \\texttt{b} \\texttt{b} & \\text{(por regla 4)}\\\\\n",
       "\\end{align*}$$"
      ],
      "text/plain": [
       "<materiales.lenguajes.gramaticas.Derivacion at 0x7b6b9c0df9d0>"
      ]
     },
     "execution_count": 30,
     "metadata": {},
     "output_type": "execute_result"
    }
   ],
   "source": [
    "derivacion = (\n",
    "    gramatica1.hacer_derivacion()\n",
    "    .aplicar_regla(1)\n",
    "    .aplicar_regla(1)\n",
    "    .aplicar_regla(2)\n",
    "    .aplicar_regla(3)\n",
    "    .aplicar_regla(3)\n",
    "    .aplicar_regla(4)\n",
    ")\n",
    "\n",
    "derivacion  # Mostramos la derivación."
   ]
  },
  {
   "cell_type": "markdown",
   "metadata": {},
   "source": [
    "Podemos expresar una derivación de manera gráfica mediante un **árbol de\n",
    "derivación**, que es un diagrama de árbol donde cada nodo interno es una\n",
    "variable y cada nodo hoja un símbolo terminal.\n",
    "La raíz del árbol es el símbolo inicial, se dibuja hasta arriba; y cada nodo\n",
    "interno tiene como hijos a los símbolos de la cadena que se obtiene al aplicar\n",
    "la producción correspondiente."
   ]
  },
  {
   "cell_type": "code",
   "execution_count": 31,
   "metadata": {},
   "outputs": [
    {
     "data": {
      "image/svg+xml": [
       "<?xml version=\"1.0\" encoding=\"UTF-8\" standalone=\"no\"?>\n",
       "<!DOCTYPE svg PUBLIC \"-//W3C//DTD SVG 1.1//EN\"\n",
       " \"http://www.w3.org/Graphics/SVG/1.1/DTD/svg11.dtd\">\n",
       "<!-- Generated by graphviz version 2.43.0 (0)\n",
       " -->\n",
       "<!-- Pages: 1 -->\n",
       "<svg width=\"110pt\" height=\"329pt\"\n",
       " viewBox=\"0.00 0.00 109.50 329.00\" xmlns=\"http://www.w3.org/2000/svg\" xmlns:xlink=\"http://www.w3.org/1999/xlink\">\n",
       "<g id=\"graph0\" class=\"graph\" transform=\"scale(1 1) rotate(0) translate(4 325)\">\n",
       "<polygon fill=\"white\" stroke=\"transparent\" points=\"-4,4 -4,-325 105.5,-325 105.5,4 -4,4\"/>\n",
       "<!-- var_S1 -->\n",
       "<g id=\"node1\" class=\"node\">\n",
       "<title>var_S1</title>\n",
       "<text text-anchor=\"start\" x=\"45.5\" y=\"-310.8\" font-family=\"Times,serif\" font-style=\"italic\" font-size=\"14.00\" fill=\"firebrick\">S</text>\n",
       "</g>\n",
       "<!-- trm_a1 -->\n",
       "<g id=\"node2\" class=\"node\">\n",
       "<title>trm_a1</title>\n",
       "<text text-anchor=\"middle\" x=\"4.5\" y=\"-258.8\" font-family=\"monospace\" font-size=\"14.00\">a</text>\n",
       "</g>\n",
       "<!-- var_S1&#45;&gt;trm_a1 -->\n",
       "<g id=\"edge1\" class=\"edge\">\n",
       "<title>var_S1&#45;&gt;trm_a1</title>\n",
       "<path fill=\"none\" stroke=\"cornflowerblue\" d=\"M45.22,-306.88C36.16,-297.23 17.79,-277.65 9.16,-268.47\"/>\n",
       "</g>\n",
       "<!-- var_S2 -->\n",
       "<g id=\"node3\" class=\"node\">\n",
       "<title>var_S2</title>\n",
       "<text text-anchor=\"start\" x=\"45.5\" y=\"-259.8\" font-family=\"Times,serif\" font-style=\"italic\" font-size=\"14.00\" fill=\"firebrick\">S</text>\n",
       "</g>\n",
       "<!-- var_S1&#45;&gt;var_S2 -->\n",
       "<g id=\"edge2\" class=\"edge\">\n",
       "<title>var_S1&#45;&gt;var_S2</title>\n",
       "<path fill=\"none\" stroke=\"cornflowerblue\" d=\"M50.5,-305.69C50.5,-296.33 50.5,-279.59 50.5,-270.26\"/>\n",
       "</g>\n",
       "<!-- trm_b1 -->\n",
       "<g id=\"node4\" class=\"node\">\n",
       "<title>trm_b1</title>\n",
       "<text text-anchor=\"middle\" x=\"96.5\" y=\"-258.8\" font-family=\"monospace\" font-size=\"14.00\">b</text>\n",
       "</g>\n",
       "<!-- var_S1&#45;&gt;trm_b1 -->\n",
       "<g id=\"edge3\" class=\"edge\">\n",
       "<title>var_S1&#45;&gt;trm_b1</title>\n",
       "<path fill=\"none\" stroke=\"cornflowerblue\" d=\"M55.78,-306.88C64.84,-297.23 83.21,-277.65 91.84,-268.47\"/>\n",
       "</g>\n",
       "<!-- trm_a2 -->\n",
       "<g id=\"node5\" class=\"node\">\n",
       "<title>trm_a2</title>\n",
       "<text text-anchor=\"middle\" x=\"4.5\" y=\"-207.8\" font-family=\"monospace\" font-size=\"14.00\">a</text>\n",
       "</g>\n",
       "<!-- var_S2&#45;&gt;trm_a2 -->\n",
       "<g id=\"edge4\" class=\"edge\">\n",
       "<title>var_S2&#45;&gt;trm_a2</title>\n",
       "<path fill=\"none\" stroke=\"cornflowerblue\" d=\"M45.22,-255.88C36.16,-246.23 17.79,-226.65 9.16,-217.47\"/>\n",
       "</g>\n",
       "<!-- var_S3 -->\n",
       "<g id=\"node6\" class=\"node\">\n",
       "<title>var_S3</title>\n",
       "<text text-anchor=\"start\" x=\"45.5\" y=\"-208.8\" font-family=\"Times,serif\" font-style=\"italic\" font-size=\"14.00\" fill=\"firebrick\">S</text>\n",
       "</g>\n",
       "<!-- var_S2&#45;&gt;var_S3 -->\n",
       "<g id=\"edge5\" class=\"edge\">\n",
       "<title>var_S2&#45;&gt;var_S3</title>\n",
       "<path fill=\"none\" stroke=\"cornflowerblue\" d=\"M50.5,-254.69C50.5,-245.33 50.5,-228.59 50.5,-219.26\"/>\n",
       "</g>\n",
       "<!-- trm_b2 -->\n",
       "<g id=\"node7\" class=\"node\">\n",
       "<title>trm_b2</title>\n",
       "<text text-anchor=\"middle\" x=\"96.5\" y=\"-207.8\" font-family=\"monospace\" font-size=\"14.00\">b</text>\n",
       "</g>\n",
       "<!-- var_S2&#45;&gt;trm_b2 -->\n",
       "<g id=\"edge6\" class=\"edge\">\n",
       "<title>var_S2&#45;&gt;trm_b2</title>\n",
       "<path fill=\"none\" stroke=\"cornflowerblue\" d=\"M55.78,-255.88C64.84,-246.23 83.21,-226.65 91.84,-217.47\"/>\n",
       "</g>\n",
       "<!-- var_T1 -->\n",
       "<g id=\"node8\" class=\"node\">\n",
       "<title>var_T1</title>\n",
       "<text text-anchor=\"start\" x=\"45.5\" y=\"-157.8\" font-family=\"Times,serif\" font-style=\"italic\" font-size=\"14.00\" fill=\"firebrick\">T</text>\n",
       "</g>\n",
       "<!-- var_S3&#45;&gt;var_T1 -->\n",
       "<g id=\"edge7\" class=\"edge\">\n",
       "<title>var_S3&#45;&gt;var_T1</title>\n",
       "<path fill=\"none\" stroke=\"cornflowerblue\" d=\"M50.5,-203.69C50.5,-194.33 50.5,-177.59 50.5,-168.26\"/>\n",
       "</g>\n",
       "<!-- trm_c1 -->\n",
       "<g id=\"node9\" class=\"node\">\n",
       "<title>trm_c1</title>\n",
       "<text text-anchor=\"middle\" x=\"27.5\" y=\"-105.8\" font-family=\"monospace\" font-size=\"14.00\">c</text>\n",
       "</g>\n",
       "<!-- var_T1&#45;&gt;trm_c1 -->\n",
       "<g id=\"edge8\" class=\"edge\">\n",
       "<title>var_T1&#45;&gt;trm_c1</title>\n",
       "<path fill=\"none\" stroke=\"cornflowerblue\" d=\"M47.3,-152.69C42.91,-143.33 35.05,-126.59 30.67,-117.26\"/>\n",
       "</g>\n",
       "<!-- var_T2 -->\n",
       "<g id=\"node10\" class=\"node\">\n",
       "<title>var_T2</title>\n",
       "<text text-anchor=\"start\" x=\"68.5\" y=\"-106.8\" font-family=\"Times,serif\" font-style=\"italic\" font-size=\"14.00\" fill=\"firebrick\">T</text>\n",
       "</g>\n",
       "<!-- var_T1&#45;&gt;var_T2 -->\n",
       "<g id=\"edge9\" class=\"edge\">\n",
       "<title>var_T1&#45;&gt;var_T2</title>\n",
       "<path fill=\"none\" stroke=\"cornflowerblue\" d=\"M53.7,-152.69C58.09,-143.33 65.95,-126.59 70.33,-117.26\"/>\n",
       "</g>\n",
       "<!-- trm_c2 -->\n",
       "<g id=\"node11\" class=\"node\">\n",
       "<title>trm_c2</title>\n",
       "<text text-anchor=\"middle\" x=\"50.5\" y=\"-54.8\" font-family=\"monospace\" font-size=\"14.00\">c</text>\n",
       "</g>\n",
       "<!-- var_T2&#45;&gt;trm_c2 -->\n",
       "<g id=\"edge10\" class=\"edge\">\n",
       "<title>var_T2&#45;&gt;trm_c2</title>\n",
       "<path fill=\"none\" stroke=\"cornflowerblue\" d=\"M70.3,-101.69C65.91,-92.33 58.05,-75.59 53.67,-66.26\"/>\n",
       "</g>\n",
       "<!-- var_T3 -->\n",
       "<g id=\"node12\" class=\"node\">\n",
       "<title>var_T3</title>\n",
       "<text text-anchor=\"start\" x=\"91.5\" y=\"-55.8\" font-family=\"Times,serif\" font-style=\"italic\" font-size=\"14.00\" fill=\"firebrick\">T</text>\n",
       "</g>\n",
       "<!-- var_T2&#45;&gt;var_T3 -->\n",
       "<g id=\"edge11\" class=\"edge\">\n",
       "<title>var_T2&#45;&gt;var_T3</title>\n",
       "<path fill=\"none\" stroke=\"cornflowerblue\" d=\"M76.7,-101.69C81.09,-92.33 88.95,-75.59 93.33,-66.26\"/>\n",
       "</g>\n",
       "<!-- trm_ε1 -->\n",
       "<g id=\"node13\" class=\"node\">\n",
       "<title>trm_ε1</title>\n",
       "<text text-anchor=\"start\" x=\"92.5\" y=\"-4.8\" font-family=\"Times,serif\" font-style=\"italic\" font-size=\"14.00\" fill=\"slategray\">ε</text>\n",
       "</g>\n",
       "<!-- var_T3&#45;&gt;trm_ε1 -->\n",
       "<g id=\"edge12\" class=\"edge\">\n",
       "<title>var_T3&#45;&gt;trm_ε1</title>\n",
       "<path fill=\"none\" stroke=\"cornflowerblue\" d=\"M96.5,-50.69C96.5,-41.33 96.5,-24.59 96.5,-15.26\"/>\n",
       "</g>\n",
       "</g>\n",
       "</svg>\n"
      ],
      "text/plain": [
       "<materiales.lenguajes.gramaticas.ArbolDeDerivacion at 0x7b6b9c303b50>"
      ]
     },
     "execution_count": 31,
     "metadata": {},
     "output_type": "execute_result"
    }
   ],
   "source": [
    "derivacion.arbol()"
   ]
  },
  {
   "cell_type": "markdown",
   "metadata": {},
   "source": [
    "El lenguaje generado por una gramática $G$, denotado por $L(G)$, es el conjunto\n",
    "de todas las cadenas que se pueden derivar a partir de la variable inicial de\n",
    "$G$.\n",
    "En nuestro ejemplo tenemos"
   ]
  },
  {
   "cell_type": "code",
   "execution_count": 32,
   "metadata": {},
   "outputs": [
    {
     "data": {
      "text/latex": [
       "$\\{\\varepsilon, \\texttt{ab}, \\texttt{c}, \\texttt{aabb}, \\texttt{acb}, \\texttt{cc}, \\texttt{aaabbb}, \\texttt{aacbb}, \\texttt{accb}, \\texttt{ccc}, \\texttt{aaaabbbb}, \\texttt{aaacbbb}, \\texttt{aaccbb}, \\texttt{acccb}, \\texttt{cccc}, \\ldots\\}$"
      ],
      "text/plain": [
       "<materiales.notacion.Lenguaje at 0x7b6b9c0dfa50>"
      ]
     },
     "execution_count": 32,
     "metadata": {},
     "output_type": "execute_result"
    }
   ],
   "source": [
    "lenguaje = gramatica1.producir_lenguaje()\n",
    "\n",
    "# Mostrar los primeros 15 elementos del lenguaje.\n",
    "Lenguaje(lenguaje, rebanada=slice(15))"
   ]
  },
  {
   "cell_type": "markdown",
   "metadata": {},
   "source": [
    "No es difícil convencerse de que el lenguaje generado por esta gramática es el\n",
    "lenguaje de todas las cadenas de la forma $\\texttt{a}^n\\texttt{c}^m\\texttt{b}^n$\n",
    "(el mismo número de `a` que de `b`) para $n, m \\ge 0$."
   ]
  },
  {
   "cell_type": "markdown",
   "metadata": {},
   "source": [
    "**Actividad** Considera la siguiente gramática y deriva las siguientes\n",
    "oraciones:\n",
    "- “Luigi esquiva un caparazón”\n",
    "- “Ella piensa que Mario toma una moneda”"
   ]
  },
  {
   "cell_type": "code",
   "execution_count": 33,
   "metadata": {},
   "outputs": [
    {
     "data": {
      "text/markdown": [
       "1. $\\textcolor{firebrick}{\\textit{Oracion}} \\to \\textcolor{firebrick}{\\textit{Sujeto}} \\texttt{␣} \\textcolor{firebrick}{\\textit{Predicado}}$\n",
       "2. $\\textcolor{firebrick}{\\textit{Sujeto}} \\to \\textcolor{firebrick}{\\textit{Articulo}} \\texttt{␣} \\textcolor{firebrick}{\\textit{Sustantivo}}$\n",
       "3. $\\textcolor{firebrick}{\\textit{Sujeto}} \\to \\textcolor{firebrick}{\\textit{NombrePropio}}$\n",
       "4. $\\textcolor{firebrick}{\\textit{Sujeto}} \\to \\textcolor{firebrick}{\\textit{Pronombre}}$\n",
       "5. $\\textcolor{firebrick}{\\textit{Predicado}} \\to \\textcolor{firebrick}{\\textit{PredicadoSimple}}$\n",
       "6. $\\textcolor{firebrick}{\\textit{Predicado}} \\to \\textcolor{firebrick}{\\textit{PredicadoCompuesto}}$\n",
       "7. $\\textcolor{firebrick}{\\textit{PredicadoSimple}} \\to \\textcolor{firebrick}{\\textit{VerboSimple}} \\texttt{␣} \\textcolor{firebrick}{\\textit{Objeto}}$\n",
       "8. $\\textcolor{firebrick}{\\textit{PredicadoSimple}} \\to \\textcolor{firebrick}{\\textit{VerboSimple}} \\texttt{␣} \\textcolor{firebrick}{\\textit{Preposicon}} \\texttt{␣} \\textcolor{firebrick}{\\textit{Objeto}}$\n",
       "9. $\\textcolor{firebrick}{\\textit{Objeto}} \\to \\textcolor{firebrick}{\\textit{Articulo}} \\texttt{␣} \\textcolor{firebrick}{\\textit{Sustantivo}}$\n",
       "10. $\\textcolor{firebrick}{\\textit{PredicadoCompuesto}} \\to \\textcolor{firebrick}{\\textit{VerboCompuesto}} \\texttt{␣} \\textcolor{firebrick}{\\textit{Oracion}}$\n",
       "11. $\\textcolor{firebrick}{\\textit{Preposicon}} \\to \\texttt{a}$\n",
       "12. $\\textcolor{firebrick}{\\textit{Preposicon}} \\to \\texttt{con}$\n",
       "13. $\\textcolor{firebrick}{\\textit{Preposicon}} \\to \\texttt{de}$\n",
       "14. $\\textcolor{firebrick}{\\textit{Preposicon}} \\to \\texttt{por}$\n",
       "15. $\\textcolor{firebrick}{\\textit{Preposicon}} \\to \\texttt{sobre}$\n",
       "16. $\\textcolor{firebrick}{\\textit{Articulo}} \\to \\texttt{el}$\n",
       "17. $\\textcolor{firebrick}{\\textit{Articulo}} \\to \\texttt{la}$\n",
       "18. $\\textcolor{firebrick}{\\textit{Articulo}} \\to \\texttt{un}$\n",
       "19. $\\textcolor{firebrick}{\\textit{Articulo}} \\to \\texttt{una}$\n",
       "20. $\\textcolor{firebrick}{\\textit{Pronombre}} \\to \\texttt{él}$\n",
       "21. $\\textcolor{firebrick}{\\textit{Pronombre}} \\to \\texttt{ella}$\n",
       "22. $\\textcolor{firebrick}{\\textit{Sustantivo}} \\to \\texttt{moneda}$\n",
       "23. $\\textcolor{firebrick}{\\textit{Sustantivo}} \\to \\texttt{caparazón}$\n",
       "24. $\\textcolor{firebrick}{\\textit{Sustantivo}} \\to \\texttt{hongo}$\n",
       "25. $\\textcolor{firebrick}{\\textit{Sustantivo}} \\to \\texttt{flor}$\n",
       "26. $\\textcolor{firebrick}{\\textit{Sustantivo}} \\to \\texttt{estrella}$\n",
       "27. $\\textcolor{firebrick}{\\textit{NombrePropio}} \\to \\texttt{Mario}$\n",
       "28. $\\textcolor{firebrick}{\\textit{NombrePropio}} \\to \\texttt{Luigi}$\n",
       "29. $\\textcolor{firebrick}{\\textit{VerboSimple}} \\to \\texttt{come}$\n",
       "30. $\\textcolor{firebrick}{\\textit{VerboSimple}} \\to \\texttt{salta}$\n",
       "31. $\\textcolor{firebrick}{\\textit{VerboSimple}} \\to \\texttt{toma}$\n",
       "32. $\\textcolor{firebrick}{\\textit{VerboSimple}} \\to \\texttt{golpea}$\n",
       "33. $\\textcolor{firebrick}{\\textit{VerboSimple}} \\to \\texttt{esquiva}$\n",
       "34. $\\textcolor{firebrick}{\\textit{VerboCompuesto}} \\to \\texttt{dice␣que}$\n",
       "35. $\\textcolor{firebrick}{\\textit{VerboCompuesto}} \\to \\texttt{piensa␣que}$\n",
       "36. $\\textcolor{firebrick}{\\textit{VerboCompuesto}} \\to \\texttt{sabe␣que}$"
      ],
      "text/plain": [
       "(Regla(izquierda=Variable('Oracion'), derecha=(Variable('Sujeto'), Terminal(' '), Variable('Predicado'))),\n",
       " Regla(izquierda=Variable('Sujeto'), derecha=(Variable('Articulo'), Terminal(' '), Variable('Sustantivo'))),\n",
       " Regla(izquierda=Variable('Sujeto'), derecha=(Variable('NombrePropio'),)),\n",
       " Regla(izquierda=Variable('Sujeto'), derecha=(Variable('Pronombre'),)),\n",
       " Regla(izquierda=Variable('Predicado'), derecha=(Variable('PredicadoSimple'),)),\n",
       " Regla(izquierda=Variable('Predicado'), derecha=(Variable('PredicadoCompuesto'),)),\n",
       " Regla(izquierda=Variable('PredicadoSimple'), derecha=(Variable('VerboSimple'), Terminal(' '), Variable('Objeto'))),\n",
       " Regla(izquierda=Variable('PredicadoSimple'), derecha=(Variable('VerboSimple'), Terminal(' '), Variable('Preposicon'), Terminal(' '), Variable('Objeto'))),\n",
       " Regla(izquierda=Variable('Objeto'), derecha=(Variable('Articulo'), Terminal(' '), Variable('Sustantivo'))),\n",
       " Regla(izquierda=Variable('PredicadoCompuesto'), derecha=(Variable('VerboCompuesto'), Terminal(' '), Variable('Oracion'))),\n",
       " Regla(izquierda=Variable('Preposicon'), derecha=(Terminal('a'),)),\n",
       " Regla(izquierda=Variable('Preposicon'), derecha=(Terminal('con'),)),\n",
       " Regla(izquierda=Variable('Preposicon'), derecha=(Terminal('de'),)),\n",
       " Regla(izquierda=Variable('Preposicon'), derecha=(Terminal('por'),)),\n",
       " Regla(izquierda=Variable('Preposicon'), derecha=(Terminal('sobre'),)),\n",
       " Regla(izquierda=Variable('Articulo'), derecha=(Terminal('el'),)),\n",
       " Regla(izquierda=Variable('Articulo'), derecha=(Terminal('la'),)),\n",
       " Regla(izquierda=Variable('Articulo'), derecha=(Terminal('un'),)),\n",
       " Regla(izquierda=Variable('Articulo'), derecha=(Terminal('una'),)),\n",
       " Regla(izquierda=Variable('Pronombre'), derecha=(Terminal('él'),)),\n",
       " Regla(izquierda=Variable('Pronombre'), derecha=(Terminal('ella'),)),\n",
       " Regla(izquierda=Variable('Sustantivo'), derecha=(Terminal('moneda'),)),\n",
       " Regla(izquierda=Variable('Sustantivo'), derecha=(Terminal('caparazón'),)),\n",
       " Regla(izquierda=Variable('Sustantivo'), derecha=(Terminal('hongo'),)),\n",
       " Regla(izquierda=Variable('Sustantivo'), derecha=(Terminal('flor'),)),\n",
       " Regla(izquierda=Variable('Sustantivo'), derecha=(Terminal('estrella'),)),\n",
       " Regla(izquierda=Variable('NombrePropio'), derecha=(Terminal('Mario'),)),\n",
       " Regla(izquierda=Variable('NombrePropio'), derecha=(Terminal('Luigi'),)),\n",
       " Regla(izquierda=Variable('VerboSimple'), derecha=(Terminal('come'),)),\n",
       " Regla(izquierda=Variable('VerboSimple'), derecha=(Terminal('salta'),)),\n",
       " Regla(izquierda=Variable('VerboSimple'), derecha=(Terminal('toma'),)),\n",
       " Regla(izquierda=Variable('VerboSimple'), derecha=(Terminal('golpea'),)),\n",
       " Regla(izquierda=Variable('VerboSimple'), derecha=(Terminal('esquiva'),)),\n",
       " Regla(izquierda=Variable('VerboCompuesto'), derecha=(Terminal('dice que'),)),\n",
       " Regla(izquierda=Variable('VerboCompuesto'), derecha=(Terminal('piensa que'),)),\n",
       " Regla(izquierda=Variable('VerboCompuesto'), derecha=(Terminal('sabe que'),)))"
      ]
     },
     "execution_count": 33,
     "metadata": {},
     "output_type": "execute_result"
    }
   ],
   "source": [
    "gramatica = ejemplos.gramatica2()\n",
    "gramatica.reglas"
   ]
  },
  {
   "cell_type": "code",
   "execution_count": 34,
   "metadata": {},
   "outputs": [
    {
     "data": {
      "text/latex": [
       "$$\\begin{align*}\n",
       "\\textcolor{firebrick}{\\textit{Oracion}} & \\Rightarrow \\textcolor{firebrick}{\\textit{Sujeto}} \\texttt{␣} \\textcolor{firebrick}{\\textit{Predicado}} & \\text{(por regla 1)} \\\\\n",
       "& \\Rightarrow \\textcolor{firebrick}{\\textit{NombrePropio}} \\texttt{␣} \\textcolor{firebrick}{\\textit{Predicado}} & \\text{(por regla 3)}\\\\\n",
       "& \\Rightarrow \\texttt{Luigi} \\texttt{␣} \\textcolor{firebrick}{\\textit{Predicado}} & \\text{(por regla 28)}\\\\\n",
       "& \\Rightarrow \\texttt{Luigi} \\texttt{␣} \\textcolor{firebrick}{\\textit{PredicadoSimple}} & \\text{(por regla 5)}\\\\\n",
       "& \\Rightarrow \\texttt{Luigi} \\texttt{␣} \\textcolor{firebrick}{\\textit{VerboSimple}} \\texttt{␣} \\textcolor{firebrick}{\\textit{Objeto}} & \\text{(por regla 7)}\\\\\n",
       "& \\Rightarrow \\texttt{Luigi} \\texttt{␣} \\texttt{esquiva} \\texttt{␣} \\textcolor{firebrick}{\\textit{Objeto}} & \\text{(por regla 33)}\\\\\n",
       "& \\Rightarrow \\texttt{Luigi} \\texttt{␣} \\texttt{esquiva} \\texttt{␣} \\textcolor{firebrick}{\\textit{Articulo}} \\texttt{␣} \\textcolor{firebrick}{\\textit{Sustantivo}} & \\text{(por regla 9)}\\\\\n",
       "& \\Rightarrow \\texttt{Luigi} \\texttt{␣} \\texttt{esquiva} \\texttt{␣} \\texttt{un} \\texttt{␣} \\textcolor{firebrick}{\\textit{Sustantivo}} & \\text{(por regla 18)}\\\\\n",
       "& \\Rightarrow \\texttt{Luigi} \\texttt{␣} \\texttt{esquiva} \\texttt{␣} \\texttt{un} \\texttt{␣} \\texttt{caparazón} & \\text{(por regla 23)}\\\\\n",
       "\\end{align*}$$"
      ],
      "text/plain": [
       "<materiales.lenguajes.gramaticas.Derivacion at 0x7b6b9c0e5950>"
      ]
     },
     "execution_count": 34,
     "metadata": {},
     "output_type": "execute_result"
    }
   ],
   "source": [
    "derivacion = (\n",
    "    gramatica.hacer_derivacion()\n",
    "    .aplicar_regla(1)\n",
    "    .aplicar_regla(3)\n",
    "    .aplicar_regla(28)\n",
    "    .aplicar_regla(5)\n",
    "    .aplicar_regla(7)\n",
    "    .aplicar_regla(33)\n",
    "    .aplicar_regla(9)\n",
    "    .aplicar_regla(18)\n",
    "    .aplicar_regla(23)\n",
    ")\n",
    "derivacion"
   ]
  },
  {
   "cell_type": "code",
   "execution_count": 35,
   "metadata": {},
   "outputs": [
    {
     "data": {
      "image/svg+xml": [
       "<?xml version=\"1.0\" encoding=\"UTF-8\" standalone=\"no\"?>\n",
       "<!DOCTYPE svg PUBLIC \"-//W3C//DTD SVG 1.1//EN\"\n",
       " \"http://www.w3.org/Graphics/SVG/1.1/DTD/svg11.dtd\">\n",
       "<!-- Generated by graphviz version 2.43.0 (0)\n",
       " -->\n",
       "<!-- Pages: 1 -->\n",
       "<svg width=\"421pt\" height=\"278pt\"\n",
       " viewBox=\"0.00 0.00 421.00 278.00\" xmlns=\"http://www.w3.org/2000/svg\" xmlns:xlink=\"http://www.w3.org/1999/xlink\">\n",
       "<g id=\"graph0\" class=\"graph\" transform=\"scale(1 1) rotate(0) translate(4 274)\">\n",
       "<polygon fill=\"white\" stroke=\"transparent\" points=\"-4,4 -4,-274 417,-274 417,4 -4,4\"/>\n",
       "<!-- var_Oracion1 -->\n",
       "<g id=\"node1\" class=\"node\">\n",
       "<title>var_Oracion1</title>\n",
       "<text text-anchor=\"start\" x=\"94.5\" y=\"-259.8\" font-family=\"Times,serif\" font-style=\"italic\" font-size=\"14.00\" fill=\"firebrick\">Oracion</text>\n",
       "</g>\n",
       "<!-- var_Sujeto1 -->\n",
       "<g id=\"node2\" class=\"node\">\n",
       "<title>var_Sujeto1</title>\n",
       "<text text-anchor=\"start\" x=\"33.5\" y=\"-208.8\" font-family=\"Times,serif\" font-style=\"italic\" font-size=\"14.00\" fill=\"firebrick\">Sujeto</text>\n",
       "</g>\n",
       "<!-- var_Oracion1&#45;&gt;var_Sujeto1 -->\n",
       "<g id=\"edge1\" class=\"edge\">\n",
       "<title>var_Oracion1&#45;&gt;var_Sujeto1</title>\n",
       "<path fill=\"none\" stroke=\"cornflowerblue\" d=\"M113.6,-254.89C100.93,-245.49 77.85,-228.35 65.26,-219\"/>\n",
       "</g>\n",
       "<!-- trm_ 1 -->\n",
       "<g id=\"node3\" class=\"node\">\n",
       "<title>trm_ 1</title>\n",
       "<text text-anchor=\"middle\" x=\"122.5\" y=\"-207.8\" font-family=\"monospace\" font-size=\"14.00\">␣</text>\n",
       "</g>\n",
       "<!-- var_Oracion1&#45;&gt;trm_ 1 -->\n",
       "<g id=\"edge2\" class=\"edge\">\n",
       "<title>var_Oracion1&#45;&gt;trm_ 1</title>\n",
       "<path fill=\"none\" stroke=\"cornflowerblue\" d=\"M122.5,-254.69C122.5,-245.33 122.5,-228.59 122.5,-219.26\"/>\n",
       "</g>\n",
       "<!-- var_Predicado1 -->\n",
       "<g id=\"node4\" class=\"node\">\n",
       "<title>var_Predicado1</title>\n",
       "<text text-anchor=\"start\" x=\"164.5\" y=\"-208.8\" font-family=\"Times,serif\" font-style=\"italic\" font-size=\"14.00\" fill=\"firebrick\">Predicado</text>\n",
       "</g>\n",
       "<!-- var_Oracion1&#45;&gt;var_Predicado1 -->\n",
       "<g id=\"edge3\" class=\"edge\">\n",
       "<title>var_Oracion1&#45;&gt;var_Predicado1</title>\n",
       "<path fill=\"none\" stroke=\"cornflowerblue\" d=\"M133.02,-254.89C147.99,-245.49 175.27,-228.35 190.15,-219\"/>\n",
       "</g>\n",
       "<!-- var_NombrePropio1 -->\n",
       "<g id=\"node5\" class=\"node\">\n",
       "<title>var_NombrePropio1</title>\n",
       "<text text-anchor=\"start\" x=\"0\" y=\"-157.8\" font-family=\"Times,serif\" font-style=\"italic\" font-size=\"14.00\" fill=\"firebrick\">NombrePropio</text>\n",
       "</g>\n",
       "<!-- var_Sujeto1&#45;&gt;var_NombrePropio1 -->\n",
       "<g id=\"edge4\" class=\"edge\">\n",
       "<title>var_Sujeto1&#45;&gt;var_NombrePropio1</title>\n",
       "<path fill=\"none\" stroke=\"cornflowerblue\" d=\"M55.94,-203.69C55.18,-194.33 53.81,-177.59 53.05,-168.26\"/>\n",
       "</g>\n",
       "<!-- var_PredicadoSimple1 -->\n",
       "<g id=\"node6\" class=\"node\">\n",
       "<title>var_PredicadoSimple1</title>\n",
       "<text text-anchor=\"start\" x=\"151\" y=\"-157.8\" font-family=\"Times,serif\" font-style=\"italic\" font-size=\"14.00\" fill=\"firebrick\">PredicadoSimple</text>\n",
       "</g>\n",
       "<!-- var_Predicado1&#45;&gt;var_PredicadoSimple1 -->\n",
       "<g id=\"edge5\" class=\"edge\">\n",
       "<title>var_Predicado1&#45;&gt;var_PredicadoSimple1</title>\n",
       "<path fill=\"none\" stroke=\"cornflowerblue\" d=\"M202.03,-203.69C204.13,-194.33 207.89,-177.59 209.98,-168.26\"/>\n",
       "</g>\n",
       "<!-- trm_Luigi1 -->\n",
       "<g id=\"node7\" class=\"node\">\n",
       "<title>trm_Luigi1</title>\n",
       "<text text-anchor=\"middle\" x=\"32.5\" y=\"-105.8\" font-family=\"monospace\" font-size=\"14.00\">Luigi</text>\n",
       "</g>\n",
       "<!-- var_NombrePropio1&#45;&gt;trm_Luigi1 -->\n",
       "<g id=\"edge6\" class=\"edge\">\n",
       "<title>var_NombrePropio1&#45;&gt;trm_Luigi1</title>\n",
       "<path fill=\"none\" stroke=\"cornflowerblue\" d=\"M49.72,-152.69C45.9,-143.33 39.07,-126.59 35.26,-117.26\"/>\n",
       "</g>\n",
       "<!-- var_VerboSimple1 -->\n",
       "<g id=\"node8\" class=\"node\">\n",
       "<title>var_VerboSimple1</title>\n",
       "<text text-anchor=\"start\" x=\"90\" y=\"-106.8\" font-family=\"Times,serif\" font-style=\"italic\" font-size=\"14.00\" fill=\"firebrick\">VerboSimple</text>\n",
       "</g>\n",
       "<!-- var_PredicadoSimple1&#45;&gt;var_VerboSimple1 -->\n",
       "<g id=\"edge7\" class=\"edge\">\n",
       "<title>var_PredicadoSimple1&#45;&gt;var_VerboSimple1</title>\n",
       "<path fill=\"none\" stroke=\"cornflowerblue\" d=\"M201.25,-152.89C186.66,-143.49 160.08,-126.35 145.59,-117\"/>\n",
       "</g>\n",
       "<!-- trm_ 2 -->\n",
       "<g id=\"node9\" class=\"node\">\n",
       "<title>trm_ 2</title>\n",
       "<text text-anchor=\"middle\" x=\"221.5\" y=\"-105.8\" font-family=\"monospace\" font-size=\"14.00\">␣</text>\n",
       "</g>\n",
       "<!-- var_PredicadoSimple1&#45;&gt;trm_ 2 -->\n",
       "<g id=\"edge8\" class=\"edge\">\n",
       "<title>var_PredicadoSimple1&#45;&gt;trm_ 2</title>\n",
       "<path fill=\"none\" stroke=\"cornflowerblue\" d=\"M212.89,-152.69C214.8,-143.33 218.22,-126.59 220.12,-117.26\"/>\n",
       "</g>\n",
       "<!-- var_Objeto1 -->\n",
       "<g id=\"node10\" class=\"node\">\n",
       "<title>var_Objeto1</title>\n",
       "<text text-anchor=\"start\" x=\"268.5\" y=\"-106.8\" font-family=\"Times,serif\" font-style=\"italic\" font-size=\"14.00\" fill=\"firebrick\">Objeto</text>\n",
       "</g>\n",
       "<!-- var_PredicadoSimple1&#45;&gt;var_Objeto1 -->\n",
       "<g id=\"edge9\" class=\"edge\">\n",
       "<title>var_PredicadoSimple1&#45;&gt;var_Objeto1</title>\n",
       "<path fill=\"none\" stroke=\"cornflowerblue\" d=\"M222.42,-152.89C237.97,-143.49 266.3,-126.35 281.75,-117\"/>\n",
       "</g>\n",
       "<!-- trm_esquiva1 -->\n",
       "<g id=\"node11\" class=\"node\">\n",
       "<title>trm_esquiva1</title>\n",
       "<text text-anchor=\"middle\" x=\"132.5\" y=\"-54.8\" font-family=\"monospace\" font-size=\"14.00\">esquiva</text>\n",
       "</g>\n",
       "<!-- var_VerboSimple1&#45;&gt;trm_esquiva1 -->\n",
       "<g id=\"edge10\" class=\"edge\">\n",
       "<title>var_VerboSimple1&#45;&gt;trm_esquiva1</title>\n",
       "<path fill=\"none\" stroke=\"cornflowerblue\" d=\"M135.08,-101.69C134.51,-92.33 133.48,-75.59 132.91,-66.26\"/>\n",
       "</g>\n",
       "<!-- var_Articulo1 -->\n",
       "<g id=\"node12\" class=\"node\">\n",
       "<title>var_Articulo1</title>\n",
       "<text text-anchor=\"start\" x=\"198\" y=\"-55.8\" font-family=\"Times,serif\" font-style=\"italic\" font-size=\"14.00\" fill=\"firebrick\">Articulo</text>\n",
       "</g>\n",
       "<!-- var_Objeto1&#45;&gt;var_Articulo1 -->\n",
       "<g id=\"edge11\" class=\"edge\">\n",
       "<title>var_Objeto1&#45;&gt;var_Articulo1</title>\n",
       "<path fill=\"none\" stroke=\"cornflowerblue\" d=\"M283.6,-101.89C270.93,-92.49 247.85,-75.35 235.26,-66\"/>\n",
       "</g>\n",
       "<!-- trm_ 3 -->\n",
       "<g id=\"node13\" class=\"node\">\n",
       "<title>trm_ 3</title>\n",
       "<text text-anchor=\"middle\" x=\"295.5\" y=\"-54.8\" font-family=\"monospace\" font-size=\"14.00\">␣</text>\n",
       "</g>\n",
       "<!-- var_Objeto1&#45;&gt;trm_ 3 -->\n",
       "<g id=\"edge12\" class=\"edge\">\n",
       "<title>var_Objeto1&#45;&gt;trm_ 3</title>\n",
       "<path fill=\"none\" stroke=\"cornflowerblue\" d=\"M292.92,-101.69C293.49,-92.33 294.52,-75.59 295.09,-66.26\"/>\n",
       "</g>\n",
       "<!-- var_Sustantivo1 -->\n",
       "<g id=\"node14\" class=\"node\">\n",
       "<title>var_Sustantivo1</title>\n",
       "<text text-anchor=\"start\" x=\"336\" y=\"-55.8\" font-family=\"Times,serif\" font-style=\"italic\" font-size=\"14.00\" fill=\"firebrick\">Sustantivo</text>\n",
       "</g>\n",
       "<!-- var_Objeto1&#45;&gt;var_Sustantivo1 -->\n",
       "<g id=\"edge13\" class=\"edge\">\n",
       "<title>var_Objeto1&#45;&gt;var_Sustantivo1</title>\n",
       "<path fill=\"none\" stroke=\"cornflowerblue\" d=\"M303.56,-101.89C319.3,-92.49 347.98,-75.35 363.62,-66\"/>\n",
       "</g>\n",
       "<!-- trm_un1 -->\n",
       "<g id=\"node15\" class=\"node\">\n",
       "<title>trm_un1</title>\n",
       "<text text-anchor=\"middle\" x=\"226.5\" y=\"-3.8\" font-family=\"monospace\" font-size=\"14.00\">un</text>\n",
       "</g>\n",
       "<!-- var_Articulo1&#45;&gt;trm_un1 -->\n",
       "<g id=\"edge14\" class=\"edge\">\n",
       "<title>var_Articulo1&#45;&gt;trm_un1</title>\n",
       "<path fill=\"none\" stroke=\"cornflowerblue\" d=\"M226.5,-50.69C226.5,-41.33 226.5,-24.59 226.5,-15.26\"/>\n",
       "</g>\n",
       "<!-- trm_caparazón1 -->\n",
       "<g id=\"node16\" class=\"node\">\n",
       "<title>trm_caparazón1</title>\n",
       "<text text-anchor=\"middle\" x=\"374.5\" y=\"-3.8\" font-family=\"monospace\" font-size=\"14.00\">caparazón</text>\n",
       "</g>\n",
       "<!-- var_Sustantivo1&#45;&gt;trm_caparazón1 -->\n",
       "<g id=\"edge15\" class=\"edge\">\n",
       "<title>var_Sustantivo1&#45;&gt;trm_caparazón1</title>\n",
       "<path fill=\"none\" stroke=\"cornflowerblue\" d=\"M374.5,-50.69C374.5,-41.33 374.5,-24.59 374.5,-15.26\"/>\n",
       "</g>\n",
       "</g>\n",
       "</svg>\n"
      ],
      "text/plain": [
       "<materiales.lenguajes.gramaticas.ArbolDeDerivacion at 0x7b6b9c0ea590>"
      ]
     },
     "execution_count": 35,
     "metadata": {},
     "output_type": "execute_result"
    }
   ],
   "source": [
    "derivacion.arbol()"
   ]
  },
  {
   "cell_type": "code",
   "execution_count": 36,
   "metadata": {},
   "outputs": [
    {
     "data": {
      "text/latex": [
       "$$\\begin{align*}\n",
       "\\textcolor{firebrick}{\\textit{Oracion}} & \\Rightarrow \\textcolor{firebrick}{\\textit{Sujeto}} \\texttt{␣} \\textcolor{firebrick}{\\textit{Predicado}} & \\text{(por regla 1)} \\\\\n",
       "& \\Rightarrow \\textcolor{firebrick}{\\textit{Pronombre}} \\texttt{␣} \\textcolor{firebrick}{\\textit{Predicado}} & \\text{(por regla 4)}\\\\\n",
       "& \\Rightarrow \\texttt{ella} \\texttt{␣} \\textcolor{firebrick}{\\textit{Predicado}} & \\text{(por regla 21)}\\\\\n",
       "& \\Rightarrow \\texttt{ella} \\texttt{␣} \\textcolor{firebrick}{\\textit{PredicadoCompuesto}} & \\text{(por regla 6)}\\\\\n",
       "& \\Rightarrow \\texttt{ella} \\texttt{␣} \\textcolor{firebrick}{\\textit{VerboCompuesto}} \\texttt{␣} \\textcolor{firebrick}{\\textit{Oracion}} & \\text{(por regla 10)}\\\\\n",
       "& \\Rightarrow \\texttt{ella} \\texttt{␣} \\texttt{piensa␣que} \\texttt{␣} \\textcolor{firebrick}{\\textit{Oracion}} & \\text{(por regla 35)}\\\\\n",
       "& \\Rightarrow \\texttt{ella} \\texttt{␣} \\texttt{piensa␣que} \\texttt{␣} \\textcolor{firebrick}{\\textit{Sujeto}} \\texttt{␣} \\textcolor{firebrick}{\\textit{Predicado}} & \\text{(por regla 1)}\\\\\n",
       "& \\Rightarrow \\texttt{ella} \\texttt{␣} \\texttt{piensa␣que} \\texttt{␣} \\textcolor{firebrick}{\\textit{NombrePropio}} \\texttt{␣} \\textcolor{firebrick}{\\textit{Predicado}} & \\text{(por regla 3)}\\\\\n",
       "& \\Rightarrow \\texttt{ella} \\texttt{␣} \\texttt{piensa␣que} \\texttt{␣} \\texttt{Mario} \\texttt{␣} \\textcolor{firebrick}{\\textit{Predicado}} & \\text{(por regla 27)}\\\\\n",
       "& \\Rightarrow \\texttt{ella} \\texttt{␣} \\texttt{piensa␣que} \\texttt{␣} \\texttt{Mario} \\texttt{␣} \\textcolor{firebrick}{\\textit{PredicadoSimple}} & \\text{(por regla 5)}\\\\\n",
       "& \\Rightarrow \\texttt{ella} \\texttt{␣} \\texttt{piensa␣que} \\texttt{␣} \\texttt{Mario} \\texttt{␣} \\textcolor{firebrick}{\\textit{VerboSimple}} \\texttt{␣} \\textcolor{firebrick}{\\textit{Objeto}} & \\text{(por regla 7)}\\\\\n",
       "& \\Rightarrow \\texttt{ella} \\texttt{␣} \\texttt{piensa␣que} \\texttt{␣} \\texttt{Mario} \\texttt{␣} \\texttt{come} \\texttt{␣} \\textcolor{firebrick}{\\textit{Objeto}} & \\text{(por regla 29)}\\\\\n",
       "& \\Rightarrow \\texttt{ella} \\texttt{␣} \\texttt{piensa␣que} \\texttt{␣} \\texttt{Mario} \\texttt{␣} \\texttt{come} \\texttt{␣} \\textcolor{firebrick}{\\textit{Articulo}} \\texttt{␣} \\textcolor{firebrick}{\\textit{Sustantivo}} & \\text{(por regla 9)}\\\\\n",
       "& \\Rightarrow \\texttt{ella} \\texttt{␣} \\texttt{piensa␣que} \\texttt{␣} \\texttt{Mario} \\texttt{␣} \\texttt{come} \\texttt{␣} \\texttt{un} \\texttt{␣} \\textcolor{firebrick}{\\textit{Sustantivo}} & \\text{(por regla 18)}\\\\\n",
       "& \\Rightarrow \\texttt{ella} \\texttt{␣} \\texttt{piensa␣que} \\texttt{␣} \\texttt{Mario} \\texttt{␣} \\texttt{come} \\texttt{␣} \\texttt{un} \\texttt{␣} \\texttt{hongo} & \\text{(por regla 24)}\\\\\n",
       "\\end{align*}$$"
      ],
      "text/plain": [
       "<materiales.lenguajes.gramaticas.Derivacion at 0x7b6b9c0e55d0>"
      ]
     },
     "execution_count": 36,
     "metadata": {},
     "output_type": "execute_result"
    }
   ],
   "source": [
    "derivacion = (\n",
    "    gramatica.hacer_derivacion()\n",
    "    .aplicar_regla(1)\n",
    "    .aplicar_regla(4)\n",
    "    .aplicar_regla(21)\n",
    "    .aplicar_regla(6)\n",
    "    .aplicar_regla(10)\n",
    "    .aplicar_regla(35)\n",
    "    .aplicar_regla(1)\n",
    "    .aplicar_regla(3)\n",
    "    .aplicar_regla(27)\n",
    "    .aplicar_regla(5)\n",
    "    .aplicar_regla(7)\n",
    "    .aplicar_regla(29)\n",
    "    .aplicar_regla(9)\n",
    "    .aplicar_regla(18)\n",
    "    .aplicar_regla(24)\n",
    ")\n",
    "derivacion"
   ]
  },
  {
   "cell_type": "code",
   "execution_count": 37,
   "metadata": {},
   "outputs": [
    {
     "data": {
      "image/svg+xml": [
       "<?xml version=\"1.0\" encoding=\"UTF-8\" standalone=\"no\"?>\n",
       "<!DOCTYPE svg PUBLIC \"-//W3C//DTD SVG 1.1//EN\"\n",
       " \"http://www.w3.org/Graphics/SVG/1.1/DTD/svg11.dtd\">\n",
       "<!-- Generated by graphviz version 2.43.0 (0)\n",
       " -->\n",
       "<!-- Pages: 1 -->\n",
       "<svg width=\"591pt\" height=\"431pt\"\n",
       " viewBox=\"0.00 0.00 590.50 431.00\" xmlns=\"http://www.w3.org/2000/svg\" xmlns:xlink=\"http://www.w3.org/1999/xlink\">\n",
       "<g id=\"graph0\" class=\"graph\" transform=\"scale(1 1) rotate(0) translate(4 427)\">\n",
       "<polygon fill=\"white\" stroke=\"transparent\" points=\"-4,4 -4,-427 586.5,-427 586.5,4 -4,4\"/>\n",
       "<!-- var_Oracion1 -->\n",
       "<g id=\"node1\" class=\"node\">\n",
       "<title>var_Oracion1</title>\n",
       "<text text-anchor=\"start\" x=\"93\" y=\"-412.8\" font-family=\"Times,serif\" font-style=\"italic\" font-size=\"14.00\" fill=\"firebrick\">Oracion</text>\n",
       "</g>\n",
       "<!-- var_Sujeto1 -->\n",
       "<g id=\"node2\" class=\"node\">\n",
       "<title>var_Sujeto1</title>\n",
       "<text text-anchor=\"start\" x=\"31\" y=\"-361.8\" font-family=\"Times,serif\" font-style=\"italic\" font-size=\"14.00\" fill=\"firebrick\">Sujeto</text>\n",
       "</g>\n",
       "<!-- var_Oracion1&#45;&gt;var_Sujeto1 -->\n",
       "<g id=\"edge1\" class=\"edge\">\n",
       "<title>var_Oracion1&#45;&gt;var_Sujeto1</title>\n",
       "<path fill=\"none\" stroke=\"cornflowerblue\" d=\"M111.96,-407.89C99.11,-398.49 75.67,-381.35 62.89,-372\"/>\n",
       "</g>\n",
       "<!-- trm_ 1 -->\n",
       "<g id=\"node3\" class=\"node\">\n",
       "<title>trm_ 1</title>\n",
       "<text text-anchor=\"middle\" x=\"121\" y=\"-360.8\" font-family=\"monospace\" font-size=\"14.00\">␣</text>\n",
       "</g>\n",
       "<!-- var_Oracion1&#45;&gt;trm_ 1 -->\n",
       "<g id=\"edge2\" class=\"edge\">\n",
       "<title>var_Oracion1&#45;&gt;trm_ 1</title>\n",
       "<path fill=\"none\" stroke=\"cornflowerblue\" d=\"M121,-407.69C121,-398.33 121,-381.59 121,-372.26\"/>\n",
       "</g>\n",
       "<!-- var_Predicado1 -->\n",
       "<g id=\"node4\" class=\"node\">\n",
       "<title>var_Predicado1</title>\n",
       "<text text-anchor=\"start\" x=\"163\" y=\"-361.8\" font-family=\"Times,serif\" font-style=\"italic\" font-size=\"14.00\" fill=\"firebrick\">Predicado</text>\n",
       "</g>\n",
       "<!-- var_Oracion1&#45;&gt;var_Predicado1 -->\n",
       "<g id=\"edge3\" class=\"edge\">\n",
       "<title>var_Oracion1&#45;&gt;var_Predicado1</title>\n",
       "<path fill=\"none\" stroke=\"cornflowerblue\" d=\"M131.52,-407.89C146.49,-398.49 173.77,-381.35 188.65,-372\"/>\n",
       "</g>\n",
       "<!-- var_Pronombre1 -->\n",
       "<g id=\"node5\" class=\"node\">\n",
       "<title>var_Pronombre1</title>\n",
       "<text text-anchor=\"start\" x=\"9\" y=\"-310.8\" font-family=\"Times,serif\" font-style=\"italic\" font-size=\"14.00\" fill=\"firebrick\">Pronombre</text>\n",
       "</g>\n",
       "<!-- var_Sujeto1&#45;&gt;var_Pronombre1 -->\n",
       "<g id=\"edge4\" class=\"edge\">\n",
       "<title>var_Sujeto1&#45;&gt;var_Pronombre1</title>\n",
       "<path fill=\"none\" stroke=\"cornflowerblue\" d=\"M53.3,-356.69C52.35,-347.33 50.64,-330.59 49.69,-321.26\"/>\n",
       "</g>\n",
       "<!-- var_PredicadoCompuesto1 -->\n",
       "<g id=\"node6\" class=\"node\">\n",
       "<title>var_PredicadoCompuesto1</title>\n",
       "<text text-anchor=\"start\" x=\"141\" y=\"-310.8\" font-family=\"Times,serif\" font-style=\"italic\" font-size=\"14.00\" fill=\"firebrick\">PredicadoCompuesto</text>\n",
       "</g>\n",
       "<!-- var_Predicado1&#45;&gt;var_PredicadoCompuesto1 -->\n",
       "<g id=\"edge5\" class=\"edge\">\n",
       "<title>var_Predicado1&#45;&gt;var_PredicadoCompuesto1</title>\n",
       "<path fill=\"none\" stroke=\"cornflowerblue\" d=\"M201.5,-356.69C204.94,-347.33 211.09,-330.59 214.52,-321.26\"/>\n",
       "</g>\n",
       "<!-- trm_ella1 -->\n",
       "<g id=\"node7\" class=\"node\">\n",
       "<title>trm_ella1</title>\n",
       "<text text-anchor=\"middle\" x=\"17\" y=\"-258.8\" font-family=\"monospace\" font-size=\"14.00\">ella</text>\n",
       "</g>\n",
       "<!-- var_Pronombre1&#45;&gt;trm_ella1 -->\n",
       "<g id=\"edge6\" class=\"edge\">\n",
       "<title>var_Pronombre1&#45;&gt;trm_ella1</title>\n",
       "<path fill=\"none\" stroke=\"cornflowerblue\" d=\"M44.55,-305.69C38.44,-296.33 27.51,-279.59 21.41,-270.26\"/>\n",
       "</g>\n",
       "<!-- var_VerboCompuesto1 -->\n",
       "<g id=\"node8\" class=\"node\">\n",
       "<title>var_VerboCompuesto1</title>\n",
       "<text text-anchor=\"start\" x=\"70\" y=\"-259.8\" font-family=\"Times,serif\" font-style=\"italic\" font-size=\"14.00\" fill=\"firebrick\">VerboCompuesto</text>\n",
       "</g>\n",
       "<!-- var_PredicadoCompuesto1&#45;&gt;var_VerboCompuesto1 -->\n",
       "<g id=\"edge7\" class=\"edge\">\n",
       "<title>var_PredicadoCompuesto1&#45;&gt;var_VerboCompuesto1</title>\n",
       "<path fill=\"none\" stroke=\"cornflowerblue\" d=\"M205.4,-305.89C188.9,-296.49 158.82,-279.35 142.41,-270\"/>\n",
       "</g>\n",
       "<!-- trm_ 2 -->\n",
       "<g id=\"node9\" class=\"node\">\n",
       "<title>trm_ 2</title>\n",
       "<text text-anchor=\"middle\" x=\"233\" y=\"-258.8\" font-family=\"monospace\" font-size=\"14.00\">␣</text>\n",
       "</g>\n",
       "<!-- var_PredicadoCompuesto1&#45;&gt;trm_ 2 -->\n",
       "<g id=\"edge8\" class=\"edge\">\n",
       "<title>var_PredicadoCompuesto1&#45;&gt;trm_ 2</title>\n",
       "<path fill=\"none\" stroke=\"cornflowerblue\" d=\"M219.22,-305.69C222.28,-296.33 227.75,-279.59 230.79,-270.26\"/>\n",
       "</g>\n",
       "<!-- var_Oracion2 -->\n",
       "<g id=\"node10\" class=\"node\">\n",
       "<title>var_Oracion2</title>\n",
       "<text text-anchor=\"start\" x=\"274\" y=\"-259.8\" font-family=\"Times,serif\" font-style=\"italic\" font-size=\"14.00\" fill=\"firebrick\">Oracion</text>\n",
       "</g>\n",
       "<!-- var_PredicadoCompuesto1&#45;&gt;var_Oracion2 -->\n",
       "<g id=\"edge9\" class=\"edge\">\n",
       "<title>var_PredicadoCompuesto1&#45;&gt;var_Oracion2</title>\n",
       "<path fill=\"none\" stroke=\"cornflowerblue\" d=\"M228.46,-305.89C244.78,-296.49 274.5,-279.35 290.72,-270\"/>\n",
       "</g>\n",
       "<!-- trm_piensa que1 -->\n",
       "<g id=\"node11\" class=\"node\">\n",
       "<title>trm_piensa que1</title>\n",
       "<text text-anchor=\"middle\" x=\"131\" y=\"-207.8\" font-family=\"monospace\" font-size=\"14.00\">piensa␣que</text>\n",
       "</g>\n",
       "<!-- var_VerboCompuesto1&#45;&gt;trm_piensa que1 -->\n",
       "<g id=\"edge10\" class=\"edge\">\n",
       "<title>var_VerboCompuesto1&#45;&gt;trm_piensa que1</title>\n",
       "<path fill=\"none\" stroke=\"cornflowerblue\" d=\"M131,-254.69C131,-245.33 131,-228.59 131,-219.26\"/>\n",
       "</g>\n",
       "<!-- var_Sujeto2 -->\n",
       "<g id=\"node12\" class=\"node\">\n",
       "<title>var_Sujeto2</title>\n",
       "<text text-anchor=\"start\" x=\"212\" y=\"-208.8\" font-family=\"Times,serif\" font-style=\"italic\" font-size=\"14.00\" fill=\"firebrick\">Sujeto</text>\n",
       "</g>\n",
       "<!-- var_Oracion2&#45;&gt;var_Sujeto2 -->\n",
       "<g id=\"edge11\" class=\"edge\">\n",
       "<title>var_Oracion2&#45;&gt;var_Sujeto2</title>\n",
       "<path fill=\"none\" stroke=\"cornflowerblue\" d=\"M292.96,-254.89C280.11,-245.49 256.67,-228.35 243.89,-219\"/>\n",
       "</g>\n",
       "<!-- trm_ 3 -->\n",
       "<g id=\"node13\" class=\"node\">\n",
       "<title>trm_ 3</title>\n",
       "<text text-anchor=\"middle\" x=\"302\" y=\"-207.8\" font-family=\"monospace\" font-size=\"14.00\">␣</text>\n",
       "</g>\n",
       "<!-- var_Oracion2&#45;&gt;trm_ 3 -->\n",
       "<g id=\"edge12\" class=\"edge\">\n",
       "<title>var_Oracion2&#45;&gt;trm_ 3</title>\n",
       "<path fill=\"none\" stroke=\"cornflowerblue\" d=\"M302,-254.69C302,-245.33 302,-228.59 302,-219.26\"/>\n",
       "</g>\n",
       "<!-- var_Predicado2 -->\n",
       "<g id=\"node14\" class=\"node\">\n",
       "<title>var_Predicado2</title>\n",
       "<text text-anchor=\"start\" x=\"350\" y=\"-208.8\" font-family=\"Times,serif\" font-style=\"italic\" font-size=\"14.00\" fill=\"firebrick\">Predicado</text>\n",
       "</g>\n",
       "<!-- var_Oracion2&#45;&gt;var_Predicado2 -->\n",
       "<g id=\"edge13\" class=\"edge\">\n",
       "<title>var_Oracion2&#45;&gt;var_Predicado2</title>\n",
       "<path fill=\"none\" stroke=\"cornflowerblue\" d=\"M313.33,-254.89C329.45,-245.49 358.83,-228.35 374.85,-219\"/>\n",
       "</g>\n",
       "<!-- var_NombrePropio1 -->\n",
       "<g id=\"node15\" class=\"node\">\n",
       "<title>var_NombrePropio1</title>\n",
       "<text text-anchor=\"start\" x=\"178.5\" y=\"-157.8\" font-family=\"Times,serif\" font-style=\"italic\" font-size=\"14.00\" fill=\"firebrick\">NombrePropio</text>\n",
       "</g>\n",
       "<!-- var_Sujeto2&#45;&gt;var_NombrePropio1 -->\n",
       "<g id=\"edge14\" class=\"edge\">\n",
       "<title>var_Sujeto2&#45;&gt;var_NombrePropio1</title>\n",
       "<path fill=\"none\" stroke=\"cornflowerblue\" d=\"M234.44,-203.69C233.68,-194.33 232.31,-177.59 231.55,-168.26\"/>\n",
       "</g>\n",
       "<!-- var_PredicadoSimple1 -->\n",
       "<g id=\"node16\" class=\"node\">\n",
       "<title>var_PredicadoSimple1</title>\n",
       "<text text-anchor=\"start\" x=\"329.5\" y=\"-157.8\" font-family=\"Times,serif\" font-style=\"italic\" font-size=\"14.00\" fill=\"firebrick\">PredicadoSimple</text>\n",
       "</g>\n",
       "<!-- var_Predicado2&#45;&gt;var_PredicadoSimple1 -->\n",
       "<g id=\"edge15\" class=\"edge\">\n",
       "<title>var_Predicado2&#45;&gt;var_PredicadoSimple1</title>\n",
       "<path fill=\"none\" stroke=\"cornflowerblue\" d=\"M386.56,-203.69C387.32,-194.33 388.69,-177.59 389.45,-168.26\"/>\n",
       "</g>\n",
       "<!-- trm_Mario1 -->\n",
       "<g id=\"node17\" class=\"node\">\n",
       "<title>trm_Mario1</title>\n",
       "<text text-anchor=\"middle\" x=\"211\" y=\"-105.8\" font-family=\"monospace\" font-size=\"14.00\">Mario</text>\n",
       "</g>\n",
       "<!-- var_NombrePropio1&#45;&gt;trm_Mario1 -->\n",
       "<g id=\"edge16\" class=\"edge\">\n",
       "<title>var_NombrePropio1&#45;&gt;trm_Mario1</title>\n",
       "<path fill=\"none\" stroke=\"cornflowerblue\" d=\"M228.22,-152.69C224.4,-143.33 217.57,-126.59 213.76,-117.26\"/>\n",
       "</g>\n",
       "<!-- var_VerboSimple1 -->\n",
       "<g id=\"node18\" class=\"node\">\n",
       "<title>var_VerboSimple1</title>\n",
       "<text text-anchor=\"start\" x=\"268.5\" y=\"-106.8\" font-family=\"Times,serif\" font-style=\"italic\" font-size=\"14.00\" fill=\"firebrick\">VerboSimple</text>\n",
       "</g>\n",
       "<!-- var_PredicadoSimple1&#45;&gt;var_VerboSimple1 -->\n",
       "<g id=\"edge17\" class=\"edge\">\n",
       "<title>var_PredicadoSimple1&#45;&gt;var_VerboSimple1</title>\n",
       "<path fill=\"none\" stroke=\"cornflowerblue\" d=\"M379.75,-152.89C365.16,-143.49 338.58,-126.35 324.09,-117\"/>\n",
       "</g>\n",
       "<!-- trm_ 4 -->\n",
       "<g id=\"node19\" class=\"node\">\n",
       "<title>trm_ 4</title>\n",
       "<text text-anchor=\"middle\" x=\"400\" y=\"-105.8\" font-family=\"monospace\" font-size=\"14.00\">␣</text>\n",
       "</g>\n",
       "<!-- var_PredicadoSimple1&#45;&gt;trm_ 4 -->\n",
       "<g id=\"edge18\" class=\"edge\">\n",
       "<title>var_PredicadoSimple1&#45;&gt;trm_ 4</title>\n",
       "<path fill=\"none\" stroke=\"cornflowerblue\" d=\"M391.39,-152.69C393.3,-143.33 396.72,-126.59 398.62,-117.26\"/>\n",
       "</g>\n",
       "<!-- var_Objeto1 -->\n",
       "<g id=\"node20\" class=\"node\">\n",
       "<title>var_Objeto1</title>\n",
       "<text text-anchor=\"start\" x=\"441\" y=\"-106.8\" font-family=\"Times,serif\" font-style=\"italic\" font-size=\"14.00\" fill=\"firebrick\">Objeto</text>\n",
       "</g>\n",
       "<!-- var_PredicadoSimple1&#45;&gt;var_Objeto1 -->\n",
       "<g id=\"edge19\" class=\"edge\">\n",
       "<title>var_PredicadoSimple1&#45;&gt;var_Objeto1</title>\n",
       "<path fill=\"none\" stroke=\"cornflowerblue\" d=\"M400.11,-152.89C414.51,-143.49 440.74,-126.35 455.05,-117\"/>\n",
       "</g>\n",
       "<!-- trm_come1 -->\n",
       "<g id=\"node21\" class=\"node\">\n",
       "<title>trm_come1</title>\n",
       "<text text-anchor=\"middle\" x=\"314\" y=\"-54.8\" font-family=\"monospace\" font-size=\"14.00\">come</text>\n",
       "</g>\n",
       "<!-- var_VerboSimple1&#45;&gt;trm_come1 -->\n",
       "<g id=\"edge20\" class=\"edge\">\n",
       "<title>var_VerboSimple1&#45;&gt;trm_come1</title>\n",
       "<path fill=\"none\" stroke=\"cornflowerblue\" d=\"M314,-101.69C314,-92.33 314,-75.59 314,-66.26\"/>\n",
       "</g>\n",
       "<!-- var_Articulo1 -->\n",
       "<g id=\"node22\" class=\"node\">\n",
       "<title>var_Articulo1</title>\n",
       "<text text-anchor=\"start\" x=\"367.5\" y=\"-55.8\" font-family=\"Times,serif\" font-style=\"italic\" font-size=\"14.00\" fill=\"firebrick\">Articulo</text>\n",
       "</g>\n",
       "<!-- var_Objeto1&#45;&gt;var_Articulo1 -->\n",
       "<g id=\"edge21\" class=\"edge\">\n",
       "<title>var_Objeto1&#45;&gt;var_Articulo1</title>\n",
       "<path fill=\"none\" stroke=\"cornflowerblue\" d=\"M455.69,-101.89C442.45,-92.49 418.32,-75.35 405.16,-66\"/>\n",
       "</g>\n",
       "<!-- trm_ 5 -->\n",
       "<g id=\"node23\" class=\"node\">\n",
       "<title>trm_ 5</title>\n",
       "<text text-anchor=\"middle\" x=\"465\" y=\"-54.8\" font-family=\"monospace\" font-size=\"14.00\">␣</text>\n",
       "</g>\n",
       "<!-- var_Objeto1&#45;&gt;trm_ 5 -->\n",
       "<g id=\"edge22\" class=\"edge\">\n",
       "<title>var_Objeto1&#45;&gt;trm_ 5</title>\n",
       "<path fill=\"none\" stroke=\"cornflowerblue\" d=\"M465,-101.69C465,-92.33 465,-75.59 465,-66.26\"/>\n",
       "</g>\n",
       "<!-- var_Sustantivo1 -->\n",
       "<g id=\"node24\" class=\"node\">\n",
       "<title>var_Sustantivo1</title>\n",
       "<text text-anchor=\"start\" x=\"505.5\" y=\"-55.8\" font-family=\"Times,serif\" font-style=\"italic\" font-size=\"14.00\" fill=\"firebrick\">Sustantivo</text>\n",
       "</g>\n",
       "<!-- var_Objeto1&#45;&gt;var_Sustantivo1 -->\n",
       "<g id=\"edge23\" class=\"edge\">\n",
       "<title>var_Objeto1&#45;&gt;var_Sustantivo1</title>\n",
       "<path fill=\"none\" stroke=\"cornflowerblue\" d=\"M475.65,-101.89C490.82,-92.49 518.45,-75.35 533.51,-66\"/>\n",
       "</g>\n",
       "<!-- trm_un1 -->\n",
       "<g id=\"node25\" class=\"node\">\n",
       "<title>trm_un1</title>\n",
       "<text text-anchor=\"middle\" x=\"396\" y=\"-3.8\" font-family=\"monospace\" font-size=\"14.00\">un</text>\n",
       "</g>\n",
       "<!-- var_Articulo1&#45;&gt;trm_un1 -->\n",
       "<g id=\"edge24\" class=\"edge\">\n",
       "<title>var_Articulo1&#45;&gt;trm_un1</title>\n",
       "<path fill=\"none\" stroke=\"cornflowerblue\" d=\"M396,-50.69C396,-41.33 396,-24.59 396,-15.26\"/>\n",
       "</g>\n",
       "<!-- trm_hongo1 -->\n",
       "<g id=\"node26\" class=\"node\">\n",
       "<title>trm_hongo1</title>\n",
       "<text text-anchor=\"middle\" x=\"544\" y=\"-3.8\" font-family=\"monospace\" font-size=\"14.00\">hongo</text>\n",
       "</g>\n",
       "<!-- var_Sustantivo1&#45;&gt;trm_hongo1 -->\n",
       "<g id=\"edge25\" class=\"edge\">\n",
       "<title>var_Sustantivo1&#45;&gt;trm_hongo1</title>\n",
       "<path fill=\"none\" stroke=\"cornflowerblue\" d=\"M544,-50.69C544,-41.33 544,-24.59 544,-15.26\"/>\n",
       "</g>\n",
       "</g>\n",
       "</svg>\n"
      ],
      "text/plain": [
       "<materiales.lenguajes.gramaticas.ArbolDeDerivacion at 0x7b6b9c0ea9d0>"
      ]
     },
     "execution_count": 37,
     "metadata": {},
     "output_type": "execute_result"
    }
   ],
   "source": [
    "derivacion.arbol()"
   ]
  },
  {
   "cell_type": "code",
   "execution_count": 38,
   "metadata": {},
   "outputs": [
    {
     "data": {
      "text/plain": [
       "<module 'materiales.lenguajes.numerabilidad' from '/workspaces/uaem.notas.principioslenguajes/src/materiales/lenguajes/numerabilidad.py'>"
      ]
     },
     "execution_count": 38,
     "metadata": {},
     "output_type": "execute_result"
    }
   ],
   "source": [
    "from importlib import reload\n",
    "from materiales.lenguajes import numerabilidad\n",
    "\n",
    "reload(numerabilidad)"
   ]
  },
  {
   "cell_type": "code",
   "execution_count": 39,
   "metadata": {},
   "outputs": [
    {
     "name": "stdout",
     "output_type": "stream",
     "text": [
      "Luigi esquiva a la flor\n",
      "un hongo toma de un estrella\n",
      "una moneda toma con una flor\n",
      "él sabe que ella toma un caparazón\n",
      "el caparazón dice que Mario salta la moneda\n",
      "Mario dice que una estrella toma el hongo\n",
      "Mario piensa que ella salta de la moneda\n",
      "él sabe que la moneda toma una hongo\n",
      "el caparazón dice que ella golpea por una hongo\n",
      "el estrella piensa que él esquiva de un moneda\n"
     ]
    }
   ],
   "source": [
    "lenguaje = gramatica.producir_lenguaje()\n",
    "for w in muestra(lenguaje, 10):\n",
    "    print(w)"
   ]
  },
  {
   "cell_type": "markdown",
   "metadata": {},
   "source": [
    "**Actividad** Aquí hay algunas aplicaciones divertidas de las gramáticas libres\n",
    "de contexto:\n",
    "- [Mathgen][1] genera artículos de matemáticas completamente aleatorios.\n",
    "- [Dada Engine][2] genera historias cortas a partir de plantillas; requiere\n",
    "  compilar.\n",
    "- [Tracery][3] es una librería de Python para generar texto a partir de\n",
    "  gramáticas libres de contexto.\n",
    "\n",
    "[1]: https://thatsmathematics.com/mathgen/\n",
    "[2]: https://dev.null.org/dadaengine/\n",
    "[3]: https://tracery.io/\n"
   ]
  },
  {
   "cell_type": "markdown",
   "metadata": {},
   "source": [
    "### La definición formal de gramáticas libres de contexto\n",
    "A estas alturas la definición formal de una gramática libre de contexto es\n",
    "meramente un tecnicismo, pero la presentamos a continuación para completar el\n",
    "concepto:"
   ]
  },
  {
   "cell_type": "markdown",
   "metadata": {},
   "source": [
    "\n",
    "**Definición** Una *gramática libre de contexto* es una 4-ada\n",
    "$G = \\left( V, \\Sigma, R, S \\right)$ donde\n",
    "\n",
    "- $V$ es un conjunto finito de *variables*.\n",
    "- $\\Sigma$ es un conjunto finito de *símbolos terminales*\n",
    "  ($V \\cap \\Sigma = \\emptyset$).\n",
    "- $R \\subseteq V \\times (V \\cup \\Sigma)^*$ es un conjunto finito de *reglas de\n",
    "  producción*, cada regla $r = (v, w)$ se denota por\n",
    "  $$v\\rightarrow w$$\n",
    "- $S \\in V$ es la *variable inicial*."
   ]
  },
  {
   "cell_type": "markdown",
   "metadata": {},
   "source": [
    "**Definición** Si $A\\to w$ es una regla de la gramática $G$, entonces decimos\n",
    "que $uAv$ **produce** la cadena $uwv$, y lo denotamos por $uAv\\Rightarrow uwv$.\n",
    "Más aún, si $$u = u_1 \\Rightarrow u_2 \\Rightarrow \\cdots \\Rightarrow u_k = v$$\n",
    "es una sucesión de producciones, entonces decimos que $u$ **deriva** a $v$ y\n",
    "lo denotamos por $u\\overset{*}{\\Rightarrow} v$."
   ]
  },
  {
   "cell_type": "markdown",
   "metadata": {},
   "source": [
    "**Definición** El *lenjuage generado* por una gramática $G=(V, \\Sigma, R, S)$, denotado por\n",
    "$L(G)$, es el conjunto de todas las cadenas que se pueden derivar a partir de\n",
    "la variable inicial.\n",
    "$$L(G) = \\{w\\in \\Sigma^* \\mid S \\overset{*}{\\Rightarrow} w\\}$$"
   ]
  },
  {
   "cell_type": "markdown",
   "metadata": {},
   "source": [
    "### Estudio de caso: Los árboles de sintaxis abstracta de Python\n",
    "Python incluye su propio módulo para analizar el código fuente de un programa."
   ]
  },
  {
   "cell_type": "code",
   "execution_count": 40,
   "metadata": {},
   "outputs": [
    {
     "data": {
      "text/plain": [
       "<ast.Expression at 0x7b6b9c0d62f0>"
      ]
     },
     "execution_count": 40,
     "metadata": {},
     "output_type": "execute_result"
    }
   ],
   "source": [
    "import ast  # Abstract Syntax Tree\n",
    "\n",
    "arbol = ast.parse(\"2*x + cos(math.pi)\", mode=\"eval\")\n",
    "arbol"
   ]
  },
  {
   "cell_type": "code",
   "execution_count": 41,
   "metadata": {},
   "outputs": [
    {
     "data": {
      "text/plain": [
       "<ast.BinOp at 0x7b6b9c0d5810>"
      ]
     },
     "execution_count": 41,
     "metadata": {},
     "output_type": "execute_result"
    }
   ],
   "source": [
    "raiz = arbol.body\n",
    "raiz"
   ]
  },
  {
   "cell_type": "code",
   "execution_count": 42,
   "metadata": {},
   "outputs": [
    {
     "name": "stdout",
     "output_type": "stream",
     "text": [
      "BinOp(left=BinOp(left=Constant(value=2), op=Mult(), right=Name(id='x', ctx=Load())), op=Add(), right=Call(func=Name(id='cos', ctx=Load()), args=[Attribute(value=Name(id='math', ctx=Load()), attr='pi', ctx=Load())], keywords=[]))\n"
     ]
    }
   ],
   "source": [
    "print(ast.dump(raiz))"
   ]
  },
  {
   "cell_type": "code",
   "execution_count": 43,
   "metadata": {},
   "outputs": [
    {
     "data": {
      "text/plain": [
       "<ast.Add at 0x7b6ba03c42b0>"
      ]
     },
     "execution_count": 43,
     "metadata": {},
     "output_type": "execute_result"
    }
   ],
   "source": [
    "raiz.op"
   ]
  },
  {
   "cell_type": "code",
   "execution_count": 44,
   "metadata": {},
   "outputs": [
    {
     "data": {
      "text/plain": [
       "[<ast.BinOp at 0x7b6b9c0d57b0>,\n",
       " <ast.Add at 0x7b6ba03c42b0>,\n",
       " <ast.Call at 0x7b6b9c0d77c0>]"
      ]
     },
     "execution_count": 44,
     "metadata": {},
     "output_type": "execute_result"
    }
   ],
   "source": [
    "list(ast.iter_child_nodes(raiz))"
   ]
  },
  {
   "cell_type": "code",
   "execution_count": 45,
   "metadata": {},
   "outputs": [
    {
     "data": {
      "image/svg+xml": [
       "<?xml version=\"1.0\" encoding=\"UTF-8\" standalone=\"no\"?>\n",
       "<!DOCTYPE svg PUBLIC \"-//W3C//DTD SVG 1.1//EN\"\n",
       " \"http://www.w3.org/Graphics/SVG/1.1/DTD/svg11.dtd\">\n",
       "<!-- Generated by graphviz version 2.43.0 (0)\n",
       " -->\n",
       "<!-- Pages: 1 -->\n",
       "<svg width=\"721pt\" height=\"380pt\"\n",
       " viewBox=\"0.00 0.00 721.15 380.00\" xmlns=\"http://www.w3.org/2000/svg\" xmlns:xlink=\"http://www.w3.org/1999/xlink\">\n",
       "<g id=\"graph0\" class=\"graph\" transform=\"scale(1 1) rotate(0) translate(4 376)\">\n",
       "<polygon fill=\"white\" stroke=\"transparent\" points=\"-4,4 -4,-376 717.15,-376 717.15,4 -4,4\"/>\n",
       "<!-- 1 -->\n",
       "<g id=\"node1\" class=\"node\">\n",
       "<title>1</title>\n",
       "<ellipse fill=\"none\" stroke=\"black\" cx=\"312\" cy=\"-354\" rx=\"39.79\" ry=\"18\"/>\n",
       "<text text-anchor=\"start\" x=\"289.5\" y=\"-351.3\" font-family=\"Times,serif\" font-style=\"italic\" font-size=\"14.00\" fill=\"firebrick\">BinOp</text>\n",
       "</g>\n",
       "<!-- 2 -->\n",
       "<g id=\"node2\" class=\"node\">\n",
       "<title>2</title>\n",
       "<ellipse fill=\"none\" stroke=\"black\" cx=\"215\" cy=\"-270\" rx=\"39.79\" ry=\"18\"/>\n",
       "<text text-anchor=\"start\" x=\"192.5\" y=\"-267.3\" font-family=\"Times,serif\" font-style=\"italic\" font-size=\"14.00\" fill=\"firebrick\">BinOp</text>\n",
       "</g>\n",
       "<!-- 1&#45;&gt;2 -->\n",
       "<g id=\"edge1\" class=\"edge\">\n",
       "<title>1&#45;&gt;2</title>\n",
       "<path fill=\"none\" stroke=\"cornflowerblue\" d=\"M293.76,-337.58C276.3,-322.82 250.15,-300.71 232.84,-286.08\"/>\n",
       "<text text-anchor=\"middle\" x=\"279.5\" y=\"-309.2\" font-family=\"sans\" font-size=\"11.00\" fill=\"darkolivegreen\">left</text>\n",
       "</g>\n",
       "<!-- 10 -->\n",
       "<g id=\"node3\" class=\"node\">\n",
       "<title>10</title>\n",
       "<ellipse fill=\"none\" stroke=\"black\" cx=\"312\" cy=\"-270\" rx=\"28.7\" ry=\"18\"/>\n",
       "<text text-anchor=\"start\" x=\"298\" y=\"-267.3\" font-family=\"Times,serif\" font-style=\"italic\" font-size=\"14.00\" fill=\"firebrick\">Add</text>\n",
       "</g>\n",
       "<!-- 1&#45;&gt;10 -->\n",
       "<g id=\"edge2\" class=\"edge\">\n",
       "<title>1&#45;&gt;10</title>\n",
       "<path fill=\"none\" stroke=\"cornflowerblue\" d=\"M312,-335.61C312,-321.6 312,-302.01 312,-288.08\"/>\n",
       "<text text-anchor=\"middle\" x=\"319\" y=\"-309.2\" font-family=\"sans\" font-size=\"11.00\" fill=\"darkolivegreen\">op</text>\n",
       "</g>\n",
       "<!-- 11 -->\n",
       "<g id=\"node4\" class=\"node\">\n",
       "<title>11</title>\n",
       "<ellipse fill=\"none\" stroke=\"black\" cx=\"393\" cy=\"-270\" rx=\"28.7\" ry=\"18\"/>\n",
       "<text text-anchor=\"start\" x=\"379\" y=\"-267.3\" font-family=\"Times,serif\" font-style=\"italic\" font-size=\"14.00\" fill=\"firebrick\">Call</text>\n",
       "</g>\n",
       "<!-- 1&#45;&gt;11 -->\n",
       "<g id=\"edge3\" class=\"edge\">\n",
       "<title>1&#45;&gt;11</title>\n",
       "<path fill=\"none\" stroke=\"cornflowerblue\" d=\"M327.62,-337.19C342.33,-322.3 364.19,-300.16 378.52,-285.66\"/>\n",
       "<text text-anchor=\"middle\" x=\"371\" y=\"-309.2\" font-family=\"sans\" font-size=\"11.00\" fill=\"darkolivegreen\">right</text>\n",
       "</g>\n",
       "<!-- 3 -->\n",
       "<g id=\"node5\" class=\"node\">\n",
       "<title>3</title>\n",
       "<ellipse fill=\"none\" stroke=\"black\" cx=\"78\" cy=\"-186\" rx=\"52.79\" ry=\"18\"/>\n",
       "<text text-anchor=\"start\" x=\"45.5\" y=\"-183.3\" font-family=\"Times,serif\" font-style=\"italic\" font-size=\"14.00\" fill=\"firebrick\">Constant</text>\n",
       "</g>\n",
       "<!-- 2&#45;&gt;3 -->\n",
       "<g id=\"edge4\" class=\"edge\">\n",
       "<title>2&#45;&gt;3</title>\n",
       "<path fill=\"none\" stroke=\"cornflowerblue\" d=\"M192.07,-255.28C167.39,-240.5 128.27,-217.09 102.86,-201.88\"/>\n",
       "<text text-anchor=\"middle\" x=\"164.5\" y=\"-225.2\" font-family=\"sans\" font-size=\"11.00\" fill=\"darkolivegreen\">left</text>\n",
       "</g>\n",
       "<!-- 6 -->\n",
       "<g id=\"node6\" class=\"node\">\n",
       "<title>6</title>\n",
       "<ellipse fill=\"none\" stroke=\"black\" cx=\"181\" cy=\"-186\" rx=\"32.49\" ry=\"18\"/>\n",
       "<text text-anchor=\"start\" x=\"164\" y=\"-183.3\" font-family=\"Times,serif\" font-style=\"italic\" font-size=\"14.00\" fill=\"firebrick\">Mult</text>\n",
       "</g>\n",
       "<!-- 2&#45;&gt;6 -->\n",
       "<g id=\"edge5\" class=\"edge\">\n",
       "<title>2&#45;&gt;6</title>\n",
       "<path fill=\"none\" stroke=\"cornflowerblue\" d=\"M207.96,-252.01C202.08,-237.84 193.76,-217.77 187.92,-203.69\"/>\n",
       "<text text-anchor=\"middle\" x=\"208\" y=\"-225.2\" font-family=\"sans\" font-size=\"11.00\" fill=\"darkolivegreen\">op</text>\n",
       "</g>\n",
       "<!-- 7 -->\n",
       "<g id=\"node7\" class=\"node\">\n",
       "<title>7</title>\n",
       "<ellipse fill=\"none\" stroke=\"black\" cx=\"270\" cy=\"-186\" rx=\"38.19\" ry=\"18\"/>\n",
       "<text text-anchor=\"start\" x=\"248.5\" y=\"-183.3\" font-family=\"Times,serif\" font-style=\"italic\" font-size=\"14.00\" fill=\"firebrick\">Name</text>\n",
       "</g>\n",
       "<!-- 2&#45;&gt;7 -->\n",
       "<g id=\"edge6\" class=\"edge\">\n",
       "<title>2&#45;&gt;7</title>\n",
       "<path fill=\"none\" stroke=\"cornflowerblue\" d=\"M226.13,-252.41C235.74,-238.09 249.53,-217.52 259.07,-203.29\"/>\n",
       "<text text-anchor=\"middle\" x=\"259\" y=\"-225.2\" font-family=\"sans\" font-size=\"11.00\" fill=\"darkolivegreen\">right</text>\n",
       "</g>\n",
       "<!-- 12 -->\n",
       "<g id=\"node12\" class=\"node\">\n",
       "<title>12</title>\n",
       "<ellipse fill=\"none\" stroke=\"black\" cx=\"393\" cy=\"-186\" rx=\"38.19\" ry=\"18\"/>\n",
       "<text text-anchor=\"start\" x=\"371.5\" y=\"-183.3\" font-family=\"Times,serif\" font-style=\"italic\" font-size=\"14.00\" fill=\"firebrick\">Name</text>\n",
       "</g>\n",
       "<!-- 11&#45;&gt;12 -->\n",
       "<g id=\"edge11\" class=\"edge\">\n",
       "<title>11&#45;&gt;12</title>\n",
       "<path fill=\"none\" stroke=\"cornflowerblue\" d=\"M393,-251.61C393,-237.6 393,-218.01 393,-204.08\"/>\n",
       "<text text-anchor=\"middle\" x=\"405\" y=\"-225.2\" font-family=\"sans\" font-size=\"11.00\" fill=\"darkolivegreen\">func</text>\n",
       "</g>\n",
       "<!-- 15 -->\n",
       "<g id=\"node13\" class=\"node\">\n",
       "<title>15</title>\n",
       "<ellipse fill=\"none\" stroke=\"black\" cx=\"569\" cy=\"-186\" rx=\"53.09\" ry=\"18\"/>\n",
       "<text text-anchor=\"start\" x=\"536\" y=\"-183.3\" font-family=\"Times,serif\" font-style=\"italic\" font-size=\"14.00\" fill=\"firebrick\">Attribute</text>\n",
       "</g>\n",
       "<!-- 11&#45;&gt;15 -->\n",
       "<g id=\"edge12\" class=\"edge\">\n",
       "<title>11&#45;&gt;15</title>\n",
       "<path fill=\"none\" stroke=\"cornflowerblue\" d=\"M415.29,-258.61C446.65,-244.01 503.87,-217.35 538.95,-201\"/>\n",
       "<text text-anchor=\"middle\" x=\"512\" y=\"-225.2\" font-family=\"sans\" font-size=\"11.00\" fill=\"darkolivegreen\">args[0]</text>\n",
       "</g>\n",
       "<!-- 4 -->\n",
       "<g id=\"node8\" class=\"node\">\n",
       "<title>4</title>\n",
       "<polygon fill=\"none\" stroke=\"black\" points=\"54,-120 0,-120 0,-84 54,-84 54,-120\"/>\n",
       "<text text-anchor=\"middle\" x=\"27\" y=\"-98.3\" font-family=\"monospace\" font-size=\"14.00\">2</text>\n",
       "</g>\n",
       "<!-- 3&#45;&gt;4 -->\n",
       "<g id=\"edge7\" class=\"edge\">\n",
       "<title>3&#45;&gt;4</title>\n",
       "<path fill=\"none\" stroke=\"cornflowerblue\" d=\"M65.39,-168.18C61.3,-162.5 56.82,-156.06 53,-150 46.93,-140.38 40.74,-129.25 35.92,-120.24\"/>\n",
       "<text text-anchor=\"middle\" x=\"68.5\" y=\"-141.2\" font-family=\"sans\" font-size=\"11.00\" fill=\"darkolivegreen\">value</text>\n",
       "</g>\n",
       "<!-- 5 -->\n",
       "<g id=\"node9\" class=\"node\">\n",
       "<title>5</title>\n",
       "<polygon fill=\"none\" stroke=\"black\" points=\"126,-120 72,-120 72,-84 126,-84 126,-120\"/>\n",
       "<text text-anchor=\"middle\" x=\"99\" y=\"-98.3\" font-family=\"monospace\" font-size=\"14.00\">None</text>\n",
       "</g>\n",
       "<!-- 3&#45;&gt;5 -->\n",
       "<g id=\"edge8\" class=\"edge\">\n",
       "<title>3&#45;&gt;5</title>\n",
       "<path fill=\"none\" stroke=\"cornflowerblue\" d=\"M82.35,-168.01C85.93,-154.03 90.98,-134.3 94.58,-120.25\"/>\n",
       "<text text-anchor=\"middle\" x=\"101.5\" y=\"-141.2\" font-family=\"sans\" font-size=\"11.00\" fill=\"darkolivegreen\">kind</text>\n",
       "</g>\n",
       "<!-- 8 -->\n",
       "<g id=\"node10\" class=\"node\">\n",
       "<title>8</title>\n",
       "<polygon fill=\"none\" stroke=\"black\" points=\"219,-120 165,-120 165,-84 219,-84 219,-120\"/>\n",
       "<text text-anchor=\"middle\" x=\"192\" y=\"-98.3\" font-family=\"monospace\" font-size=\"14.00\">&#39;x&#39;</text>\n",
       "</g>\n",
       "<!-- 7&#45;&gt;8 -->\n",
       "<g id=\"edge9\" class=\"edge\">\n",
       "<title>7&#45;&gt;8</title>\n",
       "<path fill=\"none\" stroke=\"cornflowerblue\" d=\"M254.96,-169.19C241.59,-155.13 222.09,-134.63 208.34,-120.18\"/>\n",
       "<text text-anchor=\"middle\" x=\"241\" y=\"-141.2\" font-family=\"sans\" font-size=\"11.00\" fill=\"darkolivegreen\">id</text>\n",
       "</g>\n",
       "<!-- 9 -->\n",
       "<g id=\"node11\" class=\"node\">\n",
       "<title>9</title>\n",
       "<ellipse fill=\"none\" stroke=\"black\" cx=\"270\" cy=\"-102\" rx=\"33.29\" ry=\"18\"/>\n",
       "<text text-anchor=\"start\" x=\"252.5\" y=\"-99.3\" font-family=\"Times,serif\" font-style=\"italic\" font-size=\"14.00\" fill=\"firebrick\">Load</text>\n",
       "</g>\n",
       "<!-- 7&#45;&gt;9 -->\n",
       "<g id=\"edge10\" class=\"edge\">\n",
       "<title>7&#45;&gt;9</title>\n",
       "<path fill=\"none\" stroke=\"cornflowerblue\" d=\"M270,-167.61C270,-153.6 270,-134.01 270,-120.08\"/>\n",
       "<text text-anchor=\"middle\" x=\"279\" y=\"-141.2\" font-family=\"sans\" font-size=\"11.00\" fill=\"darkolivegreen\">ctx</text>\n",
       "</g>\n",
       "<!-- 13 -->\n",
       "<g id=\"node14\" class=\"node\">\n",
       "<title>13</title>\n",
       "<polygon fill=\"none\" stroke=\"black\" points=\"379,-120 321,-120 321,-84 379,-84 379,-120\"/>\n",
       "<text text-anchor=\"middle\" x=\"350\" y=\"-98.3\" font-family=\"monospace\" font-size=\"14.00\">&#39;cos&#39;</text>\n",
       "</g>\n",
       "<!-- 12&#45;&gt;13 -->\n",
       "<g id=\"edge13\" class=\"edge\">\n",
       "<title>12&#45;&gt;13</title>\n",
       "<path fill=\"none\" stroke=\"cornflowerblue\" d=\"M384.3,-168.41C376.94,-154.37 366.43,-134.32 358.98,-120.13\"/>\n",
       "<text text-anchor=\"middle\" x=\"380\" y=\"-141.2\" font-family=\"sans\" font-size=\"11.00\" fill=\"darkolivegreen\">id</text>\n",
       "</g>\n",
       "<!-- 14 -->\n",
       "<g id=\"node15\" class=\"node\">\n",
       "<title>14</title>\n",
       "<ellipse fill=\"none\" stroke=\"black\" cx=\"430\" cy=\"-102\" rx=\"33.29\" ry=\"18\"/>\n",
       "<text text-anchor=\"start\" x=\"412.5\" y=\"-99.3\" font-family=\"Times,serif\" font-style=\"italic\" font-size=\"14.00\" fill=\"firebrick\">Load</text>\n",
       "</g>\n",
       "<!-- 12&#45;&gt;14 -->\n",
       "<g id=\"edge14\" class=\"edge\">\n",
       "<title>12&#45;&gt;14</title>\n",
       "<path fill=\"none\" stroke=\"cornflowerblue\" d=\"M400.67,-168.01C407.06,-153.84 416.12,-133.77 422.47,-119.69\"/>\n",
       "<text text-anchor=\"middle\" x=\"423\" y=\"-141.2\" font-family=\"sans\" font-size=\"11.00\" fill=\"darkolivegreen\">ctx</text>\n",
       "</g>\n",
       "<!-- 16 -->\n",
       "<g id=\"node16\" class=\"node\">\n",
       "<title>16</title>\n",
       "<ellipse fill=\"none\" stroke=\"black\" cx=\"519\" cy=\"-102\" rx=\"38.19\" ry=\"18\"/>\n",
       "<text text-anchor=\"start\" x=\"497.5\" y=\"-99.3\" font-family=\"Times,serif\" font-style=\"italic\" font-size=\"14.00\" fill=\"firebrick\">Name</text>\n",
       "</g>\n",
       "<!-- 15&#45;&gt;16 -->\n",
       "<g id=\"edge15\" class=\"edge\">\n",
       "<title>15&#45;&gt;16</title>\n",
       "<path fill=\"none\" stroke=\"cornflowerblue\" d=\"M558.64,-168.01C549.94,-153.75 537.6,-133.5 529.01,-119.41\"/>\n",
       "<text text-anchor=\"middle\" x=\"562.5\" y=\"-141.2\" font-family=\"sans\" font-size=\"11.00\" fill=\"darkolivegreen\">value</text>\n",
       "</g>\n",
       "<!-- 19 -->\n",
       "<g id=\"node17\" class=\"node\">\n",
       "<title>19</title>\n",
       "<polygon fill=\"none\" stroke=\"black\" points=\"629,-120 575,-120 575,-84 629,-84 629,-120\"/>\n",
       "<text text-anchor=\"middle\" x=\"602\" y=\"-98.3\" font-family=\"monospace\" font-size=\"14.00\">&#39;pi&#39;</text>\n",
       "</g>\n",
       "<!-- 15&#45;&gt;19 -->\n",
       "<g id=\"edge16\" class=\"edge\">\n",
       "<title>15&#45;&gt;19</title>\n",
       "<path fill=\"none\" stroke=\"cornflowerblue\" d=\"M575.84,-168.01C581.46,-154.03 589.4,-134.3 595.06,-120.25\"/>\n",
       "<text text-anchor=\"middle\" x=\"598.5\" y=\"-141.2\" font-family=\"sans\" font-size=\"11.00\" fill=\"darkolivegreen\">attr</text>\n",
       "</g>\n",
       "<!-- 20 -->\n",
       "<g id=\"node18\" class=\"node\">\n",
       "<title>20</title>\n",
       "<ellipse fill=\"none\" stroke=\"black\" cx=\"680\" cy=\"-102\" rx=\"33.29\" ry=\"18\"/>\n",
       "<text text-anchor=\"start\" x=\"662.5\" y=\"-99.3\" font-family=\"Times,serif\" font-style=\"italic\" font-size=\"14.00\" fill=\"firebrick\">Load</text>\n",
       "</g>\n",
       "<!-- 15&#45;&gt;20 -->\n",
       "<g id=\"edge17\" class=\"edge\">\n",
       "<title>15&#45;&gt;20</title>\n",
       "<path fill=\"none\" stroke=\"cornflowerblue\" d=\"M590.14,-169.38C610.65,-154.23 641.47,-131.46 661.16,-116.92\"/>\n",
       "<text text-anchor=\"middle\" x=\"641\" y=\"-141.2\" font-family=\"sans\" font-size=\"11.00\" fill=\"darkolivegreen\">ctx</text>\n",
       "</g>\n",
       "<!-- 17 -->\n",
       "<g id=\"node19\" class=\"node\">\n",
       "<title>17</title>\n",
       "<polygon fill=\"none\" stroke=\"black\" points=\"510,-36 444,-36 444,0 510,0 510,-36\"/>\n",
       "<text text-anchor=\"middle\" x=\"477\" y=\"-14.3\" font-family=\"monospace\" font-size=\"14.00\">&#39;math&#39;</text>\n",
       "</g>\n",
       "<!-- 16&#45;&gt;17 -->\n",
       "<g id=\"edge18\" class=\"edge\">\n",
       "<title>16&#45;&gt;17</title>\n",
       "<path fill=\"none\" stroke=\"cornflowerblue\" d=\"M510.5,-84.41C503.31,-70.37 493.04,-50.32 485.78,-36.13\"/>\n",
       "<text text-anchor=\"middle\" x=\"506\" y=\"-57.2\" font-family=\"sans\" font-size=\"11.00\" fill=\"darkolivegreen\">id</text>\n",
       "</g>\n",
       "<!-- 18 -->\n",
       "<g id=\"node20\" class=\"node\">\n",
       "<title>18</title>\n",
       "<ellipse fill=\"none\" stroke=\"black\" cx=\"561\" cy=\"-18\" rx=\"33.29\" ry=\"18\"/>\n",
       "<text text-anchor=\"start\" x=\"543.5\" y=\"-15.3\" font-family=\"Times,serif\" font-style=\"italic\" font-size=\"14.00\" fill=\"firebrick\">Load</text>\n",
       "</g>\n",
       "<!-- 16&#45;&gt;18 -->\n",
       "<g id=\"edge19\" class=\"edge\">\n",
       "<title>16&#45;&gt;18</title>\n",
       "<path fill=\"none\" stroke=\"cornflowerblue\" d=\"M527.5,-84.41C534.79,-70.18 545.23,-49.79 552.51,-35.57\"/>\n",
       "<text text-anchor=\"middle\" x=\"552\" y=\"-57.2\" font-family=\"sans\" font-size=\"11.00\" fill=\"darkolivegreen\">ctx</text>\n",
       "</g>\n",
       "</g>\n",
       "</svg>\n"
      ],
      "text/plain": [
       "<materiales.visualizaciones.diagramasast.DiagramaAST at 0x7b6b5dd80350>"
      ]
     },
     "execution_count": 45,
     "metadata": {},
     "output_type": "execute_result"
    }
   ],
   "source": [
    "from materiales.visualizaciones.diagramasast import DiagramaAST\n",
    "\n",
    "DiagramaAST(raiz)"
   ]
  },
  {
   "cell_type": "markdown",
   "metadata": {},
   "source": [
    "### Diseño de gramáticas\n",
    "En computación, las gramáticas libres de contexto se suelen escribir en una\n",
    "notación estándar llamada *Backus-Naur Form* (BNF).\n",
    "Es nombrada así en honor a John Backus y Peter Naur, ambos miembros del comité\n",
    "de Algol, quienes propusieron a las gramáticas libres de contexto para definir\n",
    "al lenguaje Algol60.\n",
    "\n",
    "- La flecha de las reglas de producción se sustituye por `::=`.\n",
    "- Las variables se escriben entre paréntesis angulares; por ejemplo `<S>`.\n",
    "- Las cadenas se escriben entre comillas dobles; por ejemplo `\"hola\"`.\n",
    "- Las producciones que tienen la misma variable a la izquierda se pueden\n",
    "  agrupar usando una barra vertical `|`."
   ]
  },
  {
   "cell_type": "markdown",
   "metadata": {},
   "source": [
    "**Ejemplo**: La gramática anterior se puede escribir en notación BNF de la\n",
    "siguiente manera:\n",
    "\n",
    "```\n",
    "<S> ::= \"a\"<S>\"b\" | <T>\n",
    "<T> ::= \"c\"<T> | \"\"\n",
    "```"
   ]
  },
  {
   "cell_type": "code",
   "execution_count": 46,
   "metadata": {},
   "outputs": [
    {
     "data": {
      "text/latex": [
       "$$\\begin{align*}\n",
       "\\textcolor{firebrick}{\\textit{S}} & \\to \\texttt{a} \\textcolor{firebrick}{\\textit{S}} \\texttt{b} \\mid \\textcolor{firebrick}{\\textit{T}} \\\\\n",
       "\\textcolor{firebrick}{\\textit{T}} & \\to \\texttt{c} \\textcolor{firebrick}{\\textit{T}} \\mid \\varepsilon \\\\\n",
       "\\end{align*}$$"
      ],
      "text/markdown": [
       "- ***S*** $\\to$ `a`***S***`b` | ***T***\n",
       "- ***T*** $\\to$ `c`***T*** | ${\\varepsilon}$"
      ],
      "text/plain": [
       "GramaticaLibreContexto({Variable('S'): ((Terminal('a'), Variable('S'), Terminal('b')), (Variable('T'),)), Variable('T'): ((Terminal('c'), Variable('T')), ())})"
      ]
     },
     "execution_count": 46,
     "metadata": {},
     "output_type": "execute_result"
    }
   ],
   "source": [
    "# Definimos una gramática libre de contexto usando la notación BNF.\n",
    "texto_bnf = \"\"\"\n",
    "    <S> ::= \"a\" <S> \"b\" | <T>\n",
    "    <T> ::= \"c\" <T> | \"\"\n",
    "\"\"\"\n",
    "\n",
    "# Creamos una gramática libre de contexto a partir de la notación BNF.\n",
    "gramatica = GramaticaLibreContexto.desde_bnf(texto_bnf)\n",
    "gramatica"
   ]
  },
  {
   "cell_type": "markdown",
   "metadata": {},
   "source": [
    "#### Ambigüedad en gramáticas\n",
    "Una gramática **ambigua** es aquella en donde hay al menos una cadena que se\n",
    "puede derivar de dos o más maneras distintas.\n",
    "Esto es de principal preocupación para los diseñadores de lenguajes de\n",
    "programación, porque una ambigüedad en la gramática puede llevar a dos\n",
    "interpretaciones distintas para un mismo segmento de código."
   ]
  },
  {
   "cell_type": "code",
   "execution_count": 47,
   "metadata": {},
   "outputs": [
    {
     "data": {
      "text/markdown": [
       "1. $\\textcolor{firebrick}{\\textit{EXPR}} \\to \\textcolor{firebrick}{\\textit{ID}}$\n",
       "2. $\\textcolor{firebrick}{\\textit{EXPR}} \\to \\textcolor{firebrick}{\\textit{EXPR}} \\texttt{+} \\textcolor{firebrick}{\\textit{EXPR}}$\n",
       "3. $\\textcolor{firebrick}{\\textit{EXPR}} \\to \\textcolor{firebrick}{\\textit{EXPR}} \\texttt{*} \\textcolor{firebrick}{\\textit{EXPR}}$\n",
       "4. $\\textcolor{firebrick}{\\textit{EXPR}} \\to \\texttt{-} \\textcolor{firebrick}{\\textit{EXPR}}$\n",
       "5. $\\textcolor{firebrick}{\\textit{EXPR}} \\to \\texttt{(} \\textcolor{firebrick}{\\textit{EXPR}} \\texttt{)}$\n",
       "6. $\\textcolor{firebrick}{\\textit{ID}} \\to \\texttt{a}$\n",
       "7. $\\textcolor{firebrick}{\\textit{ID}} \\to \\texttt{b}$\n",
       "8. $\\textcolor{firebrick}{\\textit{ID}} \\to \\texttt{c}$"
      ],
      "text/plain": [
       "(Regla(izquierda=Variable('EXPR'), derecha=(Variable('ID'),)),\n",
       " Regla(izquierda=Variable('EXPR'), derecha=(Variable('EXPR'), Terminal('+'), Variable('EXPR'))),\n",
       " Regla(izquierda=Variable('EXPR'), derecha=(Variable('EXPR'), Terminal('*'), Variable('EXPR'))),\n",
       " Regla(izquierda=Variable('EXPR'), derecha=(Terminal('-'), Variable('EXPR'))),\n",
       " Regla(izquierda=Variable('EXPR'), derecha=(Terminal('('), Variable('EXPR'), Terminal(')'))),\n",
       " Regla(izquierda=Variable('ID'), derecha=(Terminal('a'),)),\n",
       " Regla(izquierda=Variable('ID'), derecha=(Terminal('b'),)),\n",
       " Regla(izquierda=Variable('ID'), derecha=(Terminal('c'),)))"
      ]
     },
     "execution_count": 47,
     "metadata": {},
     "output_type": "execute_result"
    }
   ],
   "source": [
    "texto_bnf = \"\"\"\n",
    "    <EXPR> ::= <ID> | <EXPR>\"+\"<EXPR> | <EXPR>\"*\"<EXPR> | \"-\"<EXPR>  | \"(\"<EXPR>\")\"\n",
    "    <ID> ::= \"a\" | \"b\" | \"c\"\n",
    "\"\"\"\n",
    "gramatica = GramaticaLibreContexto.desde_bnf(texto_bnf)\n",
    "gramatica.reglas"
   ]
  },
  {
   "cell_type": "code",
   "execution_count": 48,
   "metadata": {},
   "outputs": [
    {
     "data": {
      "text/latex": [
       "$$\\begin{align*}\n",
       "\\textcolor{firebrick}{\\textit{EXPR}} & \\Rightarrow \\textcolor{firebrick}{\\textit{EXPR}} \\texttt{+} \\textcolor{firebrick}{\\textit{EXPR}} & \\text{(por regla 2)} \\\\\n",
       "& \\Rightarrow \\textcolor{firebrick}{\\textit{ID}} \\texttt{+} \\textcolor{firebrick}{\\textit{EXPR}} & \\text{(por regla 1)}\\\\\n",
       "& \\Rightarrow \\texttt{a} \\texttt{+} \\textcolor{firebrick}{\\textit{EXPR}} & \\text{(por regla 6)}\\\\\n",
       "& \\Rightarrow \\texttt{a} \\texttt{+} \\textcolor{firebrick}{\\textit{EXPR}} \\texttt{*} \\textcolor{firebrick}{\\textit{EXPR}} & \\text{(por regla 3)}\\\\\n",
       "& \\Rightarrow \\texttt{a} \\texttt{+} \\textcolor{firebrick}{\\textit{ID}} \\texttt{*} \\textcolor{firebrick}{\\textit{EXPR}} & \\text{(por regla 1)}\\\\\n",
       "& \\Rightarrow \\texttt{a} \\texttt{+} \\texttt{b} \\texttt{*} \\textcolor{firebrick}{\\textit{EXPR}} & \\text{(por regla 7)}\\\\\n",
       "& \\Rightarrow \\texttt{a} \\texttt{+} \\texttt{b} \\texttt{*} \\textcolor{firebrick}{\\textit{ID}} & \\text{(por regla 1)}\\\\\n",
       "& \\Rightarrow \\texttt{a} \\texttt{+} \\texttt{b} \\texttt{*} \\texttt{c} & \\text{(por regla 8)}\\\\\n",
       "\\end{align*}$$"
      ],
      "text/plain": [
       "<materiales.lenguajes.gramaticas.Derivacion at 0x7b6b5dd67b90>"
      ]
     },
     "execution_count": 48,
     "metadata": {},
     "output_type": "execute_result"
    }
   ],
   "source": [
    "derivacion1 = (\n",
    "    gramatica.hacer_derivacion()\n",
    "    .aplicar_regla(2)\n",
    "    .aplicar_regla(1)\n",
    "    .aplicar_regla(6)\n",
    "    .aplicar_regla(3)\n",
    "    .aplicar_regla(1)\n",
    "    .aplicar_regla(7)\n",
    "    .aplicar_regla(1)\n",
    "    .aplicar_regla(8)\n",
    ")\n",
    "derivacion1"
   ]
  },
  {
   "cell_type": "code",
   "execution_count": 49,
   "metadata": {},
   "outputs": [
    {
     "data": {
      "text/latex": [
       "$$\\begin{align*}\n",
       "\\textcolor{firebrick}{\\textit{EXPR}} & \\Rightarrow \\textcolor{firebrick}{\\textit{EXPR}} \\texttt{*} \\textcolor{firebrick}{\\textit{EXPR}} & \\text{(por regla 3)} \\\\\n",
       "& \\Rightarrow \\textcolor{firebrick}{\\textit{EXPR}} \\texttt{+} \\textcolor{firebrick}{\\textit{EXPR}} \\texttt{*} \\textcolor{firebrick}{\\textit{EXPR}} & \\text{(por regla 2)}\\\\\n",
       "& \\Rightarrow \\textcolor{firebrick}{\\textit{ID}} \\texttt{+} \\textcolor{firebrick}{\\textit{EXPR}} \\texttt{*} \\textcolor{firebrick}{\\textit{EXPR}} & \\text{(por regla 1)}\\\\\n",
       "& \\Rightarrow \\texttt{a} \\texttt{+} \\textcolor{firebrick}{\\textit{EXPR}} \\texttt{*} \\textcolor{firebrick}{\\textit{EXPR}} & \\text{(por regla 6)}\\\\\n",
       "& \\Rightarrow \\texttt{a} \\texttt{+} \\textcolor{firebrick}{\\textit{ID}} \\texttt{*} \\textcolor{firebrick}{\\textit{EXPR}} & \\text{(por regla 1)}\\\\\n",
       "& \\Rightarrow \\texttt{a} \\texttt{+} \\texttt{b} \\texttt{*} \\textcolor{firebrick}{\\textit{EXPR}} & \\text{(por regla 7)}\\\\\n",
       "& \\Rightarrow \\texttt{a} \\texttt{+} \\texttt{b} \\texttt{*} \\textcolor{firebrick}{\\textit{ID}} & \\text{(por regla 1)}\\\\\n",
       "& \\Rightarrow \\texttt{a} \\texttt{+} \\texttt{b} \\texttt{*} \\texttt{c} & \\text{(por regla 8)}\\\\\n",
       "\\end{align*}$$"
      ],
      "text/plain": [
       "<materiales.lenguajes.gramaticas.Derivacion at 0x7b6b5dd67250>"
      ]
     },
     "execution_count": 49,
     "metadata": {},
     "output_type": "execute_result"
    }
   ],
   "source": [
    "derivacion2 = (\n",
    "    gramatica.hacer_derivacion()\n",
    "    .aplicar_regla(3)\n",
    "    .aplicar_regla(2)\n",
    "    .aplicar_regla(1)\n",
    "    .aplicar_regla(6)\n",
    "    .aplicar_regla(1)\n",
    "    .aplicar_regla(7)\n",
    "    .aplicar_regla(1)\n",
    "    .aplicar_regla(8)\n",
    ")\n",
    "derivacion2"
   ]
  },
  {
   "cell_type": "markdown",
   "metadata": {},
   "source": [
    "Aunque ambas derivaciones producen la misma cadena `a+b*c`, sus árboles de\n",
    "sintraxis abstracta son distintos, y por lo tanto, el significado de la cadena\n",
    "es distinto: "
   ]
  },
  {
   "cell_type": "code",
   "execution_count": 50,
   "metadata": {},
   "outputs": [
    {
     "data": {
      "image/svg+xml": [
       "<?xml version=\"1.0\" encoding=\"UTF-8\" standalone=\"no\"?>\n",
       "<!DOCTYPE svg PUBLIC \"-//W3C//DTD SVG 1.1//EN\"\n",
       " \"http://www.w3.org/Graphics/SVG/1.1/DTD/svg11.dtd\">\n",
       "<!-- Generated by graphviz version 2.43.0 (0)\n",
       " -->\n",
       "<!-- Pages: 1 -->\n",
       "<svg width=\"234pt\" height=\"227pt\"\n",
       " viewBox=\"0.00 0.00 234.00 227.00\" xmlns=\"http://www.w3.org/2000/svg\" xmlns:xlink=\"http://www.w3.org/1999/xlink\">\n",
       "<g id=\"graph0\" class=\"graph\" transform=\"scale(1 1) rotate(0) translate(4 223)\">\n",
       "<polygon fill=\"white\" stroke=\"transparent\" points=\"-4,4 -4,-223 230,-223 230,4 -4,4\"/>\n",
       "<!-- var_EXPR1 -->\n",
       "<g id=\"node1\" class=\"node\">\n",
       "<title>var_EXPR1</title>\n",
       "<text text-anchor=\"start\" x=\"62\" y=\"-208.8\" font-family=\"Times,serif\" font-style=\"italic\" font-size=\"14.00\" fill=\"firebrick\">EXPR</text>\n",
       "</g>\n",
       "<!-- var_EXPR2 -->\n",
       "<g id=\"node2\" class=\"node\">\n",
       "<title>var_EXPR2</title>\n",
       "<text text-anchor=\"start\" x=\"0\" y=\"-157.8\" font-family=\"Times,serif\" font-style=\"italic\" font-size=\"14.00\" fill=\"firebrick\">EXPR</text>\n",
       "</g>\n",
       "<!-- var_EXPR1&#45;&gt;var_EXPR2 -->\n",
       "<g id=\"edge1\" class=\"edge\">\n",
       "<title>var_EXPR1&#45;&gt;var_EXPR2</title>\n",
       "<path fill=\"none\" stroke=\"cornflowerblue\" d=\"M74.14,-203.89C62.24,-194.49 40.56,-177.35 28.73,-168\"/>\n",
       "</g>\n",
       "<!-- trm_+1 -->\n",
       "<g id=\"node3\" class=\"node\">\n",
       "<title>trm_+1</title>\n",
       "<text text-anchor=\"middle\" x=\"82.5\" y=\"-156.8\" font-family=\"monospace\" font-size=\"14.00\">+</text>\n",
       "</g>\n",
       "<!-- var_EXPR1&#45;&gt;trm_+1 -->\n",
       "<g id=\"edge2\" class=\"edge\">\n",
       "<title>var_EXPR1&#45;&gt;trm_+1</title>\n",
       "<path fill=\"none\" stroke=\"cornflowerblue\" d=\"M82.5,-203.69C82.5,-194.33 82.5,-177.59 82.5,-168.26\"/>\n",
       "</g>\n",
       "<!-- var_EXPR3 -->\n",
       "<g id=\"node4\" class=\"node\">\n",
       "<title>var_EXPR3</title>\n",
       "<text text-anchor=\"start\" x=\"123\" y=\"-157.8\" font-family=\"Times,serif\" font-style=\"italic\" font-size=\"14.00\" fill=\"firebrick\">EXPR</text>\n",
       "</g>\n",
       "<!-- var_EXPR1&#45;&gt;var_EXPR3 -->\n",
       "<g id=\"edge3\" class=\"edge\">\n",
       "<title>var_EXPR1&#45;&gt;var_EXPR3</title>\n",
       "<path fill=\"none\" stroke=\"cornflowerblue\" d=\"M90.73,-203.89C102.43,-194.49 123.77,-177.35 135.4,-168\"/>\n",
       "</g>\n",
       "<!-- var_ID1 -->\n",
       "<g id=\"node5\" class=\"node\">\n",
       "<title>var_ID1</title>\n",
       "<text text-anchor=\"start\" x=\"10\" y=\"-106.8\" font-family=\"Times,serif\" font-style=\"italic\" font-size=\"14.00\" fill=\"firebrick\">ID</text>\n",
       "</g>\n",
       "<!-- var_EXPR2&#45;&gt;var_ID1 -->\n",
       "<g id=\"edge4\" class=\"edge\">\n",
       "<title>var_EXPR2&#45;&gt;var_ID1</title>\n",
       "<path fill=\"none\" stroke=\"cornflowerblue\" d=\"M20.22,-152.69C19.84,-143.33 19.16,-126.59 18.78,-117.26\"/>\n",
       "</g>\n",
       "<!-- var_EXPR4 -->\n",
       "<g id=\"node6\" class=\"node\">\n",
       "<title>var_EXPR4</title>\n",
       "<text text-anchor=\"start\" x=\"63\" y=\"-106.8\" font-family=\"Times,serif\" font-style=\"italic\" font-size=\"14.00\" fill=\"firebrick\">EXPR</text>\n",
       "</g>\n",
       "<!-- var_EXPR3&#45;&gt;var_EXPR4 -->\n",
       "<g id=\"edge5\" class=\"edge\">\n",
       "<title>var_EXPR3&#45;&gt;var_EXPR4</title>\n",
       "<path fill=\"none\" stroke=\"cornflowerblue\" d=\"M135.16,-152.69C123.69,-143.33 103.2,-126.59 91.77,-117.26\"/>\n",
       "</g>\n",
       "<!-- trm_*1 -->\n",
       "<g id=\"node7\" class=\"node\">\n",
       "<title>trm_*1</title>\n",
       "<text text-anchor=\"middle\" x=\"144.5\" y=\"-105.8\" font-family=\"monospace\" font-size=\"14.00\">*</text>\n",
       "</g>\n",
       "<!-- var_EXPR3&#45;&gt;trm_*1 -->\n",
       "<g id=\"edge6\" class=\"edge\">\n",
       "<title>var_EXPR3&#45;&gt;trm_*1</title>\n",
       "<path fill=\"none\" stroke=\"cornflowerblue\" d=\"M143.64,-152.69C143.83,-143.33 144.17,-126.59 144.36,-117.26\"/>\n",
       "</g>\n",
       "<!-- var_EXPR5 -->\n",
       "<g id=\"node8\" class=\"node\">\n",
       "<title>var_EXPR5</title>\n",
       "<text text-anchor=\"start\" x=\"185\" y=\"-106.8\" font-family=\"Times,serif\" font-style=\"italic\" font-size=\"14.00\" fill=\"firebrick\">EXPR</text>\n",
       "</g>\n",
       "<!-- var_EXPR3&#45;&gt;var_EXPR5 -->\n",
       "<g id=\"edge7\" class=\"edge\">\n",
       "<title>var_EXPR3&#45;&gt;var_EXPR5</title>\n",
       "<path fill=\"none\" stroke=\"cornflowerblue\" d=\"M151.86,-152.89C163.76,-143.49 185.44,-126.35 197.27,-117\"/>\n",
       "</g>\n",
       "<!-- trm_a1 -->\n",
       "<g id=\"node9\" class=\"node\">\n",
       "<title>trm_a1</title>\n",
       "<text text-anchor=\"middle\" x=\"18.5\" y=\"-54.8\" font-family=\"monospace\" font-size=\"14.00\">a</text>\n",
       "</g>\n",
       "<!-- var_ID1&#45;&gt;trm_a1 -->\n",
       "<g id=\"edge8\" class=\"edge\">\n",
       "<title>var_ID1&#45;&gt;trm_a1</title>\n",
       "<path fill=\"none\" stroke=\"cornflowerblue\" d=\"M18.5,-101.69C18.5,-92.33 18.5,-75.59 18.5,-66.26\"/>\n",
       "</g>\n",
       "<!-- var_ID2 -->\n",
       "<g id=\"node10\" class=\"node\">\n",
       "<title>var_ID2</title>\n",
       "<text text-anchor=\"start\" x=\"75\" y=\"-55.8\" font-family=\"Times,serif\" font-style=\"italic\" font-size=\"14.00\" fill=\"firebrick\">ID</text>\n",
       "</g>\n",
       "<!-- var_EXPR4&#45;&gt;var_ID2 -->\n",
       "<g id=\"edge9\" class=\"edge\">\n",
       "<title>var_EXPR4&#45;&gt;var_ID2</title>\n",
       "<path fill=\"none\" stroke=\"cornflowerblue\" d=\"M83.5,-101.69C83.5,-92.33 83.5,-75.59 83.5,-66.26\"/>\n",
       "</g>\n",
       "<!-- var_ID3 -->\n",
       "<g id=\"node11\" class=\"node\">\n",
       "<title>var_ID3</title>\n",
       "<text text-anchor=\"start\" x=\"197\" y=\"-55.8\" font-family=\"Times,serif\" font-style=\"italic\" font-size=\"14.00\" fill=\"firebrick\">ID</text>\n",
       "</g>\n",
       "<!-- var_EXPR5&#45;&gt;var_ID3 -->\n",
       "<g id=\"edge10\" class=\"edge\">\n",
       "<title>var_EXPR5&#45;&gt;var_ID3</title>\n",
       "<path fill=\"none\" stroke=\"cornflowerblue\" d=\"M205.5,-101.69C205.5,-92.33 205.5,-75.59 205.5,-66.26\"/>\n",
       "</g>\n",
       "<!-- trm_b1 -->\n",
       "<g id=\"node12\" class=\"node\">\n",
       "<title>trm_b1</title>\n",
       "<text text-anchor=\"middle\" x=\"83.5\" y=\"-3.8\" font-family=\"monospace\" font-size=\"14.00\">b</text>\n",
       "</g>\n",
       "<!-- var_ID2&#45;&gt;trm_b1 -->\n",
       "<g id=\"edge11\" class=\"edge\">\n",
       "<title>var_ID2&#45;&gt;trm_b1</title>\n",
       "<path fill=\"none\" stroke=\"cornflowerblue\" d=\"M83.5,-50.69C83.5,-41.33 83.5,-24.59 83.5,-15.26\"/>\n",
       "</g>\n",
       "<!-- trm_c1 -->\n",
       "<g id=\"node13\" class=\"node\">\n",
       "<title>trm_c1</title>\n",
       "<text text-anchor=\"middle\" x=\"205.5\" y=\"-3.8\" font-family=\"monospace\" font-size=\"14.00\">c</text>\n",
       "</g>\n",
       "<!-- var_ID3&#45;&gt;trm_c1 -->\n",
       "<g id=\"edge12\" class=\"edge\">\n",
       "<title>var_ID3&#45;&gt;trm_c1</title>\n",
       "<path fill=\"none\" stroke=\"cornflowerblue\" d=\"M205.5,-50.69C205.5,-41.33 205.5,-24.59 205.5,-15.26\"/>\n",
       "</g>\n",
       "</g>\n",
       "</svg>\n"
      ],
      "text/plain": [
       "<materiales.lenguajes.gramaticas.ArbolDeDerivacion at 0x7b6b9c0dfcd0>"
      ]
     },
     "execution_count": 50,
     "metadata": {},
     "output_type": "execute_result"
    }
   ],
   "source": [
    "derivacion1.arbol()"
   ]
  },
  {
   "cell_type": "code",
   "execution_count": 51,
   "metadata": {},
   "outputs": [
    {
     "data": {
      "image/svg+xml": [
       "<?xml version=\"1.0\" encoding=\"UTF-8\" standalone=\"no\"?>\n",
       "<!DOCTYPE svg PUBLIC \"-//W3C//DTD SVG 1.1//EN\"\n",
       " \"http://www.w3.org/Graphics/SVG/1.1/DTD/svg11.dtd\">\n",
       "<!-- Generated by graphviz version 2.43.0 (0)\n",
       " -->\n",
       "<!-- Pages: 1 -->\n",
       "<svg width=\"235pt\" height=\"227pt\"\n",
       " viewBox=\"0.00 0.00 235.00 227.00\" xmlns=\"http://www.w3.org/2000/svg\" xmlns:xlink=\"http://www.w3.org/1999/xlink\">\n",
       "<g id=\"graph0\" class=\"graph\" transform=\"scale(1 1) rotate(0) translate(4 223)\">\n",
       "<polygon fill=\"white\" stroke=\"transparent\" points=\"-4,4 -4,-223 231,-223 231,4 -4,4\"/>\n",
       "<!-- var_EXPR1 -->\n",
       "<g id=\"node1\" class=\"node\">\n",
       "<title>var_EXPR1</title>\n",
       "<text text-anchor=\"start\" x=\"125\" y=\"-208.8\" font-family=\"Times,serif\" font-style=\"italic\" font-size=\"14.00\" fill=\"firebrick\">EXPR</text>\n",
       "</g>\n",
       "<!-- var_EXPR2 -->\n",
       "<g id=\"node2\" class=\"node\">\n",
       "<title>var_EXPR2</title>\n",
       "<text text-anchor=\"start\" x=\"63\" y=\"-157.8\" font-family=\"Times,serif\" font-style=\"italic\" font-size=\"14.00\" fill=\"firebrick\">EXPR</text>\n",
       "</g>\n",
       "<!-- var_EXPR1&#45;&gt;var_EXPR2 -->\n",
       "<g id=\"edge1\" class=\"edge\">\n",
       "<title>var_EXPR1&#45;&gt;var_EXPR2</title>\n",
       "<path fill=\"none\" stroke=\"cornflowerblue\" d=\"M137.14,-203.89C125.24,-194.49 103.56,-177.35 91.73,-168\"/>\n",
       "</g>\n",
       "<!-- trm_*1 -->\n",
       "<g id=\"node3\" class=\"node\">\n",
       "<title>trm_*1</title>\n",
       "<text text-anchor=\"middle\" x=\"145.5\" y=\"-156.8\" font-family=\"monospace\" font-size=\"14.00\">*</text>\n",
       "</g>\n",
       "<!-- var_EXPR1&#45;&gt;trm_*1 -->\n",
       "<g id=\"edge2\" class=\"edge\">\n",
       "<title>var_EXPR1&#45;&gt;trm_*1</title>\n",
       "<path fill=\"none\" stroke=\"cornflowerblue\" d=\"M145.5,-203.69C145.5,-194.33 145.5,-177.59 145.5,-168.26\"/>\n",
       "</g>\n",
       "<!-- var_EXPR3 -->\n",
       "<g id=\"node4\" class=\"node\">\n",
       "<title>var_EXPR3</title>\n",
       "<text text-anchor=\"start\" x=\"186\" y=\"-157.8\" font-family=\"Times,serif\" font-style=\"italic\" font-size=\"14.00\" fill=\"firebrick\">EXPR</text>\n",
       "</g>\n",
       "<!-- var_EXPR1&#45;&gt;var_EXPR3 -->\n",
       "<g id=\"edge3\" class=\"edge\">\n",
       "<title>var_EXPR1&#45;&gt;var_EXPR3</title>\n",
       "<path fill=\"none\" stroke=\"cornflowerblue\" d=\"M153.73,-203.89C165.43,-194.49 186.77,-177.35 198.4,-168\"/>\n",
       "</g>\n",
       "<!-- var_EXPR4 -->\n",
       "<g id=\"node5\" class=\"node\">\n",
       "<title>var_EXPR4</title>\n",
       "<text text-anchor=\"start\" x=\"0\" y=\"-106.8\" font-family=\"Times,serif\" font-style=\"italic\" font-size=\"14.00\" fill=\"firebrick\">EXPR</text>\n",
       "</g>\n",
       "<!-- var_EXPR2&#45;&gt;var_EXPR4 -->\n",
       "<g id=\"edge4\" class=\"edge\">\n",
       "<title>var_EXPR2&#45;&gt;var_EXPR4</title>\n",
       "<path fill=\"none\" stroke=\"cornflowerblue\" d=\"M75,-152.89C62.91,-143.49 40.88,-126.35 28.86,-117\"/>\n",
       "</g>\n",
       "<!-- trm_+1 -->\n",
       "<g id=\"node6\" class=\"node\">\n",
       "<title>trm_+1</title>\n",
       "<text text-anchor=\"middle\" x=\"81.5\" y=\"-105.8\" font-family=\"monospace\" font-size=\"14.00\">+</text>\n",
       "</g>\n",
       "<!-- var_EXPR2&#45;&gt;trm_+1 -->\n",
       "<g id=\"edge5\" class=\"edge\">\n",
       "<title>var_EXPR2&#45;&gt;trm_+1</title>\n",
       "<path fill=\"none\" stroke=\"cornflowerblue\" d=\"M83.22,-152.69C82.84,-143.33 82.16,-126.59 81.78,-117.26\"/>\n",
       "</g>\n",
       "<!-- var_EXPR5 -->\n",
       "<g id=\"node7\" class=\"node\">\n",
       "<title>var_EXPR5</title>\n",
       "<text text-anchor=\"start\" x=\"122\" y=\"-106.8\" font-family=\"Times,serif\" font-style=\"italic\" font-size=\"14.00\" fill=\"firebrick\">EXPR</text>\n",
       "</g>\n",
       "<!-- var_EXPR2&#45;&gt;var_EXPR5 -->\n",
       "<g id=\"edge6\" class=\"edge\">\n",
       "<title>var_EXPR2&#45;&gt;var_EXPR5</title>\n",
       "<path fill=\"none\" stroke=\"cornflowerblue\" d=\"M91.7,-152.69C102.98,-143.33 123.13,-126.59 134.37,-117.26\"/>\n",
       "</g>\n",
       "<!-- var_ID3 -->\n",
       "<g id=\"node8\" class=\"node\">\n",
       "<title>var_ID3</title>\n",
       "<text text-anchor=\"start\" x=\"199\" y=\"-106.8\" font-family=\"Times,serif\" font-style=\"italic\" font-size=\"14.00\" fill=\"firebrick\">ID</text>\n",
       "</g>\n",
       "<!-- var_EXPR3&#45;&gt;var_ID3 -->\n",
       "<g id=\"edge7\" class=\"edge\">\n",
       "<title>var_EXPR3&#45;&gt;var_ID3</title>\n",
       "<path fill=\"none\" stroke=\"cornflowerblue\" d=\"M206.64,-152.69C206.83,-143.33 207.17,-126.59 207.36,-117.26\"/>\n",
       "</g>\n",
       "<!-- var_ID1 -->\n",
       "<g id=\"node9\" class=\"node\">\n",
       "<title>var_ID1</title>\n",
       "<text text-anchor=\"start\" x=\"12\" y=\"-55.8\" font-family=\"Times,serif\" font-style=\"italic\" font-size=\"14.00\" fill=\"firebrick\">ID</text>\n",
       "</g>\n",
       "<!-- var_EXPR4&#45;&gt;var_ID1 -->\n",
       "<g id=\"edge8\" class=\"edge\">\n",
       "<title>var_EXPR4&#45;&gt;var_ID1</title>\n",
       "<path fill=\"none\" stroke=\"cornflowerblue\" d=\"M20.5,-101.69C20.5,-92.33 20.5,-75.59 20.5,-66.26\"/>\n",
       "</g>\n",
       "<!-- var_ID2 -->\n",
       "<g id=\"node10\" class=\"node\">\n",
       "<title>var_ID2</title>\n",
       "<text text-anchor=\"start\" x=\"134\" y=\"-55.8\" font-family=\"Times,serif\" font-style=\"italic\" font-size=\"14.00\" fill=\"firebrick\">ID</text>\n",
       "</g>\n",
       "<!-- var_EXPR5&#45;&gt;var_ID2 -->\n",
       "<g id=\"edge9\" class=\"edge\">\n",
       "<title>var_EXPR5&#45;&gt;var_ID2</title>\n",
       "<path fill=\"none\" stroke=\"cornflowerblue\" d=\"M142.5,-101.69C142.5,-92.33 142.5,-75.59 142.5,-66.26\"/>\n",
       "</g>\n",
       "<!-- trm_c1 -->\n",
       "<g id=\"node13\" class=\"node\">\n",
       "<title>trm_c1</title>\n",
       "<text text-anchor=\"middle\" x=\"207.5\" y=\"-54.8\" font-family=\"monospace\" font-size=\"14.00\">c</text>\n",
       "</g>\n",
       "<!-- var_ID3&#45;&gt;trm_c1 -->\n",
       "<g id=\"edge12\" class=\"edge\">\n",
       "<title>var_ID3&#45;&gt;trm_c1</title>\n",
       "<path fill=\"none\" stroke=\"cornflowerblue\" d=\"M207.5,-101.69C207.5,-92.33 207.5,-75.59 207.5,-66.26\"/>\n",
       "</g>\n",
       "<!-- trm_a1 -->\n",
       "<g id=\"node11\" class=\"node\">\n",
       "<title>trm_a1</title>\n",
       "<text text-anchor=\"middle\" x=\"20.5\" y=\"-3.8\" font-family=\"monospace\" font-size=\"14.00\">a</text>\n",
       "</g>\n",
       "<!-- var_ID1&#45;&gt;trm_a1 -->\n",
       "<g id=\"edge10\" class=\"edge\">\n",
       "<title>var_ID1&#45;&gt;trm_a1</title>\n",
       "<path fill=\"none\" stroke=\"cornflowerblue\" d=\"M20.5,-50.69C20.5,-41.33 20.5,-24.59 20.5,-15.26\"/>\n",
       "</g>\n",
       "<!-- trm_b1 -->\n",
       "<g id=\"node12\" class=\"node\">\n",
       "<title>trm_b1</title>\n",
       "<text text-anchor=\"middle\" x=\"142.5\" y=\"-3.8\" font-family=\"monospace\" font-size=\"14.00\">b</text>\n",
       "</g>\n",
       "<!-- var_ID2&#45;&gt;trm_b1 -->\n",
       "<g id=\"edge11\" class=\"edge\">\n",
       "<title>var_ID2&#45;&gt;trm_b1</title>\n",
       "<path fill=\"none\" stroke=\"cornflowerblue\" d=\"M142.5,-50.69C142.5,-41.33 142.5,-24.59 142.5,-15.26\"/>\n",
       "</g>\n",
       "</g>\n",
       "</svg>\n"
      ],
      "text/plain": [
       "<materiales.lenguajes.gramaticas.ArbolDeDerivacion at 0x7b6b5dd668d0>"
      ]
     },
     "execution_count": 51,
     "metadata": {},
     "output_type": "execute_result"
    }
   ],
   "source": [
    "derivacion2.arbol()"
   ]
  },
  {
   "cell_type": "markdown",
   "metadata": {},
   "source": [
    "## 4. Diseño de compiladores\n",
    "\n",
    "Como hemos visto, las gramáticas libres de contexto son una herramienta muy\n",
    "importante para diseñar lenguajes de programación.\n",
    "El siguiente paso es diseñar un compilador que traduzca el código fuente\n",
    "definido por la gramática en un programa ejecutable.\n",
    "\n",
    "En general, un compilador se divide en los siguientes procesos:\n",
    "\n",
    "1. **Análisis léxico**: El código fuente se secciona en **tokens** o palabras\n",
    "   individuales, que son los elementos más pequeños del lenguaje.\n",
    "   Por ejemplo, números, variables, signos de operación, etc.\n",
    "2. **Análisis sintáctico**: Los tokens se agrupan en árboles de sintaxis\n",
    "   abstracta, que representan la estructura del programa.\n",
    "3. **Análisis semántico**: Los árboles de sintaxis abstracta se anotan con\n",
    "   información adicional, como el tipo de dato de cada variable.\n",
    "4. **Generación de forma intermedia**: Se genera un programa en un lenguaje\n",
    "   intermedio, que es más fácil de traducir a código máquina.\n",
    "5. **Optimización**: Se aplican optimizaciones al programa intermedio.\n",
    "6. **Generación de código**: Se genera el código máquina del programa.\n"
   ]
  },
  {
   "cell_type": "markdown",
   "metadata": {},
   "source": [
    "### El análisis léxico\n",
    "El propósito del análisis léxico es dividir una cadena texto (el *código\n",
    "fuente*) en una sucesión finita de *tokens*.\n",
    "Los tokens son las unidades más pequeñas del lenguaje y usualmente se\n",
    "representan con constantes enteras, por ejemplo, `NUMERO = 1`, `SUMA = 2`,\n",
    "`RESTA = 3`, `IDENTIFICADOR = 4`, etc.\n",
    "\n",
    "Cuando se usa esta representación, es necesario utilizar una **tabla de\n",
    "símbolos** para almacenar los identificadores y sus valores, de manera que si a\n",
    "continuación tenemos un token de tipo `IDENTIFICADOR`, podemos obtener su valor\n",
    "(el nombre de la variable, función o clase) de la tabla.\n",
    "\n",
    "Otra representación es utilizar parejas de la forma $(\\mathit{tipo},\n",
    "\\mathit{valor})$, donde $\\mathit{tipo}$ es un entero que indica el tipo de token\n",
    "y $\\mathit{valor}$ es el valor del token en caso de que sea un identificador,\n",
    "un número, etc.\n",
    "\n",
    "En cualquier caso, el análisis léxico es una función que toma una cadena de\n",
    "texto y devuelve una lista de tokens.\n",
    "\n",
    "**Actividad** Revisar el ejemplo [*Escribir un Tokenizador*][1] de la\n",
    "documentación de Python.\n",
    "\n",
    "[1]: https://docs.python.org/es/3/library/re.html#writing-a-tokenizer\n"
   ]
  },
  {
   "cell_type": "markdown",
   "metadata": {},
   "source": [
    "### El análisis sintáctico\n",
    "\n",
    "El análisis sintáctico es el proceso de analizar una sucesión de tokens y\n",
    "producir un árbol de sintaxis abstracta, de la misma forma que vimos en el\n",
    "ejemplo de la gramática de Python.\n",
    "\n",
    "Aquí es donde las gramáticas libres de contexto entran en juego, porque los\n",
    "árboles de sintaxis abstracta se pueden generar a partir de los árboles de\n",
    "derivación de una gramática de forma muy natural.\n",
    "\n",
    "Existe mucha teoría sobre el análisis sintáctico, ya que encontrar un árbol\n",
    "de derivación para una cadena de tokens es un problema complejo.\n",
    "El interesado puede consultar una introducción mediante ejemplos mirando el\n",
    "siguiente video:\n",
    "\n",
    "[![Análisis sintáctico](https://img.youtube.com/vi/ww0Z9uc3a2U/0.jpg)](https://www.youtube.com/watch?v=ww0Z9uc3a2U)"
   ]
  },
  {
   "cell_type": "markdown",
   "metadata": {},
   "source": [
    "Existen *compiladores de compiladores* que pueden generar un *analizador\n",
    "sintáctico* de forma automática a partir de una gramática escrita en BNF.\n",
    "Entre estos podemos destacar a [ANTLR][1], y [Bison][2].\n",
    "\n",
    "[1]: https://www.antlr.org/\n",
    "[2]: https://www.gnu.org/software/bison/"
   ]
  },
  {
   "cell_type": "markdown",
   "metadata": {},
   "source": [
    "**Actividad** Realiza la práctica *Explorando una gramática de ejemplo con\n",
    "Bison* incluida en el directorio `practicas/Bison` de este repositorio."
   ]
  },
  {
   "cell_type": "markdown",
   "metadata": {},
   "source": [
    "### El análisis semántico\n",
    "\n",
    "El árbol de sintaxis abstracta nos indica que el código fuente es\n",
    "sintácticamente válido, pero no considera el contexto de estas instrucciones.\n",
    "Por ejemplo, en los lenguajes donde las variables deben ser declaradas y\n",
    "asociadas a un tipo de dato (p.ej. números enteros solamente), el árbol de\n",
    "sintaxis abstracta no nos dice si una variable se está usando de forma correcta.\n",
    "\n",
    "Por ejemplo, el siguiente fragmento de código es sintácticamente correcto en \n",
    "Python, pero está plagado de errores semánticos (¿Puedes encontrarlos todos?):\n",
    "    \n",
    "```python\n",
    "# Obtendrás errores si ejecutas esta línea:\n",
    "'Esto'[15] = (None + 'está').mal**2\n",
    "```"
   ]
  },
  {
   "cell_type": "code",
   "execution_count": 52,
   "metadata": {},
   "outputs": [
    {
     "data": {
      "image/svg+xml": [
       "<?xml version=\"1.0\" encoding=\"UTF-8\" standalone=\"no\"?>\n",
       "<!DOCTYPE svg PUBLIC \"-//W3C//DTD SVG 1.1//EN\"\n",
       " \"http://www.w3.org/Graphics/SVG/1.1/DTD/svg11.dtd\">\n",
       "<!-- Generated by graphviz version 2.43.0 (0)\n",
       " -->\n",
       "<!-- Pages: 1 -->\n",
       "<svg width=\"730pt\" height=\"464pt\"\n",
       " viewBox=\"0.00 0.00 730.00 464.00\" xmlns=\"http://www.w3.org/2000/svg\" xmlns:xlink=\"http://www.w3.org/1999/xlink\">\n",
       "<g id=\"graph0\" class=\"graph\" transform=\"scale(1 1) rotate(0) translate(4 460)\">\n",
       "<polygon fill=\"white\" stroke=\"transparent\" points=\"-4,4 -4,-460 726,-460 726,4 -4,4\"/>\n",
       "<!-- 1 -->\n",
       "<g id=\"node1\" class=\"node\">\n",
       "<title>1</title>\n",
       "<ellipse fill=\"none\" stroke=\"black\" cx=\"485\" cy=\"-438\" rx=\"41.69\" ry=\"18\"/>\n",
       "<text text-anchor=\"start\" x=\"461\" y=\"-435.3\" font-family=\"Times,serif\" font-style=\"italic\" font-size=\"14.00\" fill=\"firebrick\">Assign</text>\n",
       "</g>\n",
       "<!-- 2 -->\n",
       "<g id=\"node2\" class=\"node\">\n",
       "<title>2</title>\n",
       "<ellipse fill=\"none\" stroke=\"black\" cx=\"321\" cy=\"-354\" rx=\"55.79\" ry=\"18\"/>\n",
       "<text text-anchor=\"start\" x=\"286\" y=\"-351.3\" font-family=\"Times,serif\" font-style=\"italic\" font-size=\"14.00\" fill=\"firebrick\">Subscript</text>\n",
       "</g>\n",
       "<!-- 1&#45;&gt;2 -->\n",
       "<g id=\"edge1\" class=\"edge\">\n",
       "<title>1&#45;&gt;2</title>\n",
       "<path fill=\"none\" stroke=\"cornflowerblue\" d=\"M458.65,-423.83C428.95,-408.98 380.81,-384.91 350.05,-369.52\"/>\n",
       "<text text-anchor=\"middle\" x=\"441\" y=\"-393.2\" font-family=\"sans\" font-size=\"11.00\" fill=\"darkolivegreen\">targets[0]</text>\n",
       "</g>\n",
       "<!-- 10 -->\n",
       "<g id=\"node3\" class=\"node\">\n",
       "<title>10</title>\n",
       "<ellipse fill=\"none\" stroke=\"black\" cx=\"485\" cy=\"-354\" rx=\"39.79\" ry=\"18\"/>\n",
       "<text text-anchor=\"start\" x=\"462.5\" y=\"-351.3\" font-family=\"Times,serif\" font-style=\"italic\" font-size=\"14.00\" fill=\"firebrick\">BinOp</text>\n",
       "</g>\n",
       "<!-- 1&#45;&gt;10 -->\n",
       "<g id=\"edge2\" class=\"edge\">\n",
       "<title>1&#45;&gt;10</title>\n",
       "<path fill=\"none\" stroke=\"cornflowerblue\" d=\"M485,-419.61C485,-405.6 485,-386.01 485,-372.08\"/>\n",
       "<text text-anchor=\"middle\" x=\"500.5\" y=\"-393.2\" font-family=\"sans\" font-size=\"11.00\" fill=\"darkolivegreen\">value</text>\n",
       "</g>\n",
       "<!-- 26 -->\n",
       "<g id=\"node4\" class=\"node\">\n",
       "<title>26</title>\n",
       "<polygon fill=\"none\" stroke=\"black\" points=\"597,-372 543,-372 543,-336 597,-336 597,-372\"/>\n",
       "<text text-anchor=\"middle\" x=\"570\" y=\"-350.3\" font-family=\"monospace\" font-size=\"14.00\">None</text>\n",
       "</g>\n",
       "<!-- 1&#45;&gt;26 -->\n",
       "<g id=\"edge3\" class=\"edge\">\n",
       "<title>1&#45;&gt;26</title>\n",
       "<path fill=\"none\" stroke=\"cornflowerblue\" d=\"M501.39,-421.19C515.96,-407.13 537.21,-386.63 552.19,-372.18\"/>\n",
       "<text text-anchor=\"middle\" x=\"574\" y=\"-393.2\" font-family=\"sans\" font-size=\"11.00\" fill=\"darkolivegreen\">type_comment</text>\n",
       "</g>\n",
       "<!-- 3 -->\n",
       "<g id=\"node5\" class=\"node\">\n",
       "<title>3</title>\n",
       "<ellipse fill=\"none\" stroke=\"black\" cx=\"105\" cy=\"-270\" rx=\"52.79\" ry=\"18\"/>\n",
       "<text text-anchor=\"start\" x=\"72.5\" y=\"-267.3\" font-family=\"Times,serif\" font-style=\"italic\" font-size=\"14.00\" fill=\"firebrick\">Constant</text>\n",
       "</g>\n",
       "<!-- 2&#45;&gt;3 -->\n",
       "<g id=\"edge4\" class=\"edge\">\n",
       "<title>2&#45;&gt;3</title>\n",
       "<path fill=\"none\" stroke=\"cornflowerblue\" d=\"M286.3,-339.83C245.75,-324.43 179.11,-299.13 138.91,-283.87\"/>\n",
       "<text text-anchor=\"middle\" x=\"241.5\" y=\"-309.2\" font-family=\"sans\" font-size=\"11.00\" fill=\"darkolivegreen\">value</text>\n",
       "</g>\n",
       "<!-- 6 -->\n",
       "<g id=\"node6\" class=\"node\">\n",
       "<title>6</title>\n",
       "<ellipse fill=\"none\" stroke=\"black\" cx=\"228\" cy=\"-270\" rx=\"52.79\" ry=\"18\"/>\n",
       "<text text-anchor=\"start\" x=\"195.5\" y=\"-267.3\" font-family=\"Times,serif\" font-style=\"italic\" font-size=\"14.00\" fill=\"firebrick\">Constant</text>\n",
       "</g>\n",
       "<!-- 2&#45;&gt;6 -->\n",
       "<g id=\"edge5\" class=\"edge\">\n",
       "<title>2&#45;&gt;6</title>\n",
       "<path fill=\"none\" stroke=\"cornflowerblue\" d=\"M302.63,-336.8C286.32,-322.42 262.63,-301.53 246.34,-287.17\"/>\n",
       "<text text-anchor=\"middle\" x=\"293.5\" y=\"-309.2\" font-family=\"sans\" font-size=\"11.00\" fill=\"darkolivegreen\">slice</text>\n",
       "</g>\n",
       "<!-- 9 -->\n",
       "<g id=\"node7\" class=\"node\">\n",
       "<title>9</title>\n",
       "<ellipse fill=\"none\" stroke=\"black\" cx=\"335\" cy=\"-270\" rx=\"36.29\" ry=\"18\"/>\n",
       "<text text-anchor=\"start\" x=\"315\" y=\"-267.3\" font-family=\"Times,serif\" font-style=\"italic\" font-size=\"14.00\" fill=\"firebrick\">Store</text>\n",
       "</g>\n",
       "<!-- 2&#45;&gt;9 -->\n",
       "<g id=\"edge6\" class=\"edge\">\n",
       "<title>2&#45;&gt;9</title>\n",
       "<path fill=\"none\" stroke=\"cornflowerblue\" d=\"M323.9,-336.01C326.3,-321.94 329.7,-302.04 332.1,-287.97\"/>\n",
       "<text text-anchor=\"middle\" x=\"338\" y=\"-309.2\" font-family=\"sans\" font-size=\"11.00\" fill=\"darkolivegreen\">ctx</text>\n",
       "</g>\n",
       "<!-- 11 -->\n",
       "<g id=\"node12\" class=\"node\">\n",
       "<title>11</title>\n",
       "<ellipse fill=\"none\" stroke=\"black\" cx=\"443\" cy=\"-270\" rx=\"53.09\" ry=\"18\"/>\n",
       "<text text-anchor=\"start\" x=\"410\" y=\"-267.3\" font-family=\"Times,serif\" font-style=\"italic\" font-size=\"14.00\" fill=\"firebrick\">Attribute</text>\n",
       "</g>\n",
       "<!-- 10&#45;&gt;11 -->\n",
       "<g id=\"edge11\" class=\"edge\">\n",
       "<title>10&#45;&gt;11</title>\n",
       "<path fill=\"none\" stroke=\"cornflowerblue\" d=\"M476.5,-336.41C469.26,-322.27 458.91,-302.06 451.63,-287.85\"/>\n",
       "<text text-anchor=\"middle\" x=\"476.5\" y=\"-309.2\" font-family=\"sans\" font-size=\"11.00\" fill=\"darkolivegreen\">left</text>\n",
       "</g>\n",
       "<!-- 22 -->\n",
       "<g id=\"node13\" class=\"node\">\n",
       "<title>22</title>\n",
       "<ellipse fill=\"none\" stroke=\"black\" cx=\"544\" cy=\"-270\" rx=\"29.8\" ry=\"18\"/>\n",
       "<text text-anchor=\"start\" x=\"529\" y=\"-267.3\" font-family=\"Times,serif\" font-style=\"italic\" font-size=\"14.00\" fill=\"firebrick\">Pow</text>\n",
       "</g>\n",
       "<!-- 10&#45;&gt;22 -->\n",
       "<g id=\"edge12\" class=\"edge\">\n",
       "<title>10&#45;&gt;22</title>\n",
       "<path fill=\"none\" stroke=\"cornflowerblue\" d=\"M496.94,-336.41C507.38,-321.9 522.43,-300.98 532.68,-286.73\"/>\n",
       "<text text-anchor=\"middle\" x=\"526\" y=\"-309.2\" font-family=\"sans\" font-size=\"11.00\" fill=\"darkolivegreen\">op</text>\n",
       "</g>\n",
       "<!-- 23 -->\n",
       "<g id=\"node14\" class=\"node\">\n",
       "<title>23</title>\n",
       "<ellipse fill=\"none\" stroke=\"black\" cx=\"645\" cy=\"-270\" rx=\"52.79\" ry=\"18\"/>\n",
       "<text text-anchor=\"start\" x=\"612.5\" y=\"-267.3\" font-family=\"Times,serif\" font-style=\"italic\" font-size=\"14.00\" fill=\"firebrick\">Constant</text>\n",
       "</g>\n",
       "<!-- 10&#45;&gt;23 -->\n",
       "<g id=\"edge13\" class=\"edge\">\n",
       "<title>10&#45;&gt;23</title>\n",
       "<path fill=\"none\" stroke=\"cornflowerblue\" d=\"M510.35,-340.01C539.43,-325.1 586.96,-300.75 617.08,-285.31\"/>\n",
       "<text text-anchor=\"middle\" x=\"588\" y=\"-309.2\" font-family=\"sans\" font-size=\"11.00\" fill=\"darkolivegreen\">right</text>\n",
       "</g>\n",
       "<!-- 4 -->\n",
       "<g id=\"node8\" class=\"node\">\n",
       "<title>4</title>\n",
       "<polygon fill=\"none\" stroke=\"black\" points=\"66,-204 0,-204 0,-168 66,-168 66,-204\"/>\n",
       "<text text-anchor=\"middle\" x=\"33\" y=\"-182.3\" font-family=\"monospace\" font-size=\"14.00\">&#39;Hola&#39;</text>\n",
       "</g>\n",
       "<!-- 3&#45;&gt;4 -->\n",
       "<g id=\"edge7\" class=\"edge\">\n",
       "<title>3&#45;&gt;4</title>\n",
       "<path fill=\"none\" stroke=\"cornflowerblue\" d=\"M89.9,-252.73C84.52,-246.87 78.45,-240.17 73,-234 64.35,-224.2 54.86,-213.06 47.3,-204.09\"/>\n",
       "<text text-anchor=\"middle\" x=\"88.5\" y=\"-225.2\" font-family=\"sans\" font-size=\"11.00\" fill=\"darkolivegreen\">value</text>\n",
       "</g>\n",
       "<!-- 5 -->\n",
       "<g id=\"node9\" class=\"node\">\n",
       "<title>5</title>\n",
       "<polygon fill=\"none\" stroke=\"black\" points=\"138,-204 84,-204 84,-168 138,-168 138,-204\"/>\n",
       "<text text-anchor=\"middle\" x=\"111\" y=\"-182.3\" font-family=\"monospace\" font-size=\"14.00\">None</text>\n",
       "</g>\n",
       "<!-- 3&#45;&gt;5 -->\n",
       "<g id=\"edge8\" class=\"edge\">\n",
       "<title>3&#45;&gt;5</title>\n",
       "<path fill=\"none\" stroke=\"cornflowerblue\" d=\"M106.27,-251.61C107.3,-237.6 108.73,-218.01 109.75,-204.08\"/>\n",
       "<text text-anchor=\"middle\" x=\"120.5\" y=\"-225.2\" font-family=\"sans\" font-size=\"11.00\" fill=\"darkolivegreen\">kind</text>\n",
       "</g>\n",
       "<!-- 7 -->\n",
       "<g id=\"node10\" class=\"node\">\n",
       "<title>7</title>\n",
       "<polygon fill=\"none\" stroke=\"black\" points=\"221,-204 167,-204 167,-168 221,-168 221,-204\"/>\n",
       "<text text-anchor=\"middle\" x=\"194\" y=\"-182.3\" font-family=\"monospace\" font-size=\"14.00\">15</text>\n",
       "</g>\n",
       "<!-- 6&#45;&gt;7 -->\n",
       "<g id=\"edge9\" class=\"edge\">\n",
       "<title>6&#45;&gt;7</title>\n",
       "<path fill=\"none\" stroke=\"cornflowerblue\" d=\"M220.6,-251.94C218.16,-246.25 215.44,-239.86 213,-234 208.87,-224.09 204.36,-212.95 200.78,-204\"/>\n",
       "<text text-anchor=\"middle\" x=\"228.5\" y=\"-225.2\" font-family=\"sans\" font-size=\"11.00\" fill=\"darkolivegreen\">value</text>\n",
       "</g>\n",
       "<!-- 8 -->\n",
       "<g id=\"node11\" class=\"node\">\n",
       "<title>8</title>\n",
       "<polygon fill=\"none\" stroke=\"black\" points=\"293,-204 239,-204 239,-168 293,-168 293,-204\"/>\n",
       "<text text-anchor=\"middle\" x=\"266\" y=\"-182.3\" font-family=\"monospace\" font-size=\"14.00\">None</text>\n",
       "</g>\n",
       "<!-- 6&#45;&gt;8 -->\n",
       "<g id=\"edge10\" class=\"edge\">\n",
       "<title>6&#45;&gt;8</title>\n",
       "<path fill=\"none\" stroke=\"cornflowerblue\" d=\"M235.87,-252.01C242.35,-238.03 251.49,-218.3 258.01,-204.25\"/>\n",
       "<text text-anchor=\"middle\" x=\"261.5\" y=\"-225.2\" font-family=\"sans\" font-size=\"11.00\" fill=\"darkolivegreen\">kind</text>\n",
       "</g>\n",
       "<!-- 12 -->\n",
       "<g id=\"node15\" class=\"node\">\n",
       "<title>12</title>\n",
       "<ellipse fill=\"none\" stroke=\"black\" cx=\"356\" cy=\"-186\" rx=\"39.79\" ry=\"18\"/>\n",
       "<text text-anchor=\"start\" x=\"333.5\" y=\"-183.3\" font-family=\"Times,serif\" font-style=\"italic\" font-size=\"14.00\" fill=\"firebrick\">BinOp</text>\n",
       "</g>\n",
       "<!-- 11&#45;&gt;12 -->\n",
       "<g id=\"edge14\" class=\"edge\">\n",
       "<title>11&#45;&gt;12</title>\n",
       "<path fill=\"none\" stroke=\"cornflowerblue\" d=\"M425.81,-252.8C410.36,-238.24 387.82,-216.99 372.56,-202.61\"/>\n",
       "<text text-anchor=\"middle\" x=\"420.5\" y=\"-225.2\" font-family=\"sans\" font-size=\"11.00\" fill=\"darkolivegreen\">value</text>\n",
       "</g>\n",
       "<!-- 20 -->\n",
       "<g id=\"node16\" class=\"node\">\n",
       "<title>20</title>\n",
       "<polygon fill=\"none\" stroke=\"black\" points=\"472,-204 414,-204 414,-168 472,-168 472,-204\"/>\n",
       "<text text-anchor=\"middle\" x=\"443\" y=\"-182.3\" font-family=\"monospace\" font-size=\"14.00\">&#39;mal&#39;</text>\n",
       "</g>\n",
       "<!-- 11&#45;&gt;20 -->\n",
       "<g id=\"edge15\" class=\"edge\">\n",
       "<title>11&#45;&gt;20</title>\n",
       "<path fill=\"none\" stroke=\"cornflowerblue\" d=\"M443,-251.61C443,-237.6 443,-218.01 443,-204.08\"/>\n",
       "<text text-anchor=\"middle\" x=\"453.5\" y=\"-225.2\" font-family=\"sans\" font-size=\"11.00\" fill=\"darkolivegreen\">attr</text>\n",
       "</g>\n",
       "<!-- 21 -->\n",
       "<g id=\"node17\" class=\"node\">\n",
       "<title>21</title>\n",
       "<ellipse fill=\"none\" stroke=\"black\" cx=\"523\" cy=\"-186\" rx=\"33.29\" ry=\"18\"/>\n",
       "<text text-anchor=\"start\" x=\"505.5\" y=\"-183.3\" font-family=\"Times,serif\" font-style=\"italic\" font-size=\"14.00\" fill=\"firebrick\">Load</text>\n",
       "</g>\n",
       "<!-- 11&#45;&gt;21 -->\n",
       "<g id=\"edge16\" class=\"edge\">\n",
       "<title>11&#45;&gt;21</title>\n",
       "<path fill=\"none\" stroke=\"cornflowerblue\" d=\"M458.81,-252.8C473.1,-238.14 494.01,-216.72 508.04,-202.33\"/>\n",
       "<text text-anchor=\"middle\" x=\"497\" y=\"-225.2\" font-family=\"sans\" font-size=\"11.00\" fill=\"darkolivegreen\">ctx</text>\n",
       "</g>\n",
       "<!-- 24 -->\n",
       "<g id=\"node25\" class=\"node\">\n",
       "<title>24</title>\n",
       "<polygon fill=\"none\" stroke=\"black\" points=\"650,-204 596,-204 596,-168 650,-168 650,-204\"/>\n",
       "<text text-anchor=\"middle\" x=\"623\" y=\"-182.3\" font-family=\"monospace\" font-size=\"14.00\">2</text>\n",
       "</g>\n",
       "<!-- 23&#45;&gt;24 -->\n",
       "<g id=\"edge24\" class=\"edge\">\n",
       "<title>23&#45;&gt;24</title>\n",
       "<path fill=\"none\" stroke=\"cornflowerblue\" d=\"M640.44,-252.01C636.69,-238.03 631.4,-218.3 627.63,-204.25\"/>\n",
       "<text text-anchor=\"middle\" x=\"651.5\" y=\"-225.2\" font-family=\"sans\" font-size=\"11.00\" fill=\"darkolivegreen\">value</text>\n",
       "</g>\n",
       "<!-- 25 -->\n",
       "<g id=\"node26\" class=\"node\">\n",
       "<title>25</title>\n",
       "<polygon fill=\"none\" stroke=\"black\" points=\"722,-204 668,-204 668,-168 722,-168 722,-204\"/>\n",
       "<text text-anchor=\"middle\" x=\"695\" y=\"-182.3\" font-family=\"monospace\" font-size=\"14.00\">None</text>\n",
       "</g>\n",
       "<!-- 23&#45;&gt;25 -->\n",
       "<g id=\"edge25\" class=\"edge\">\n",
       "<title>23&#45;&gt;25</title>\n",
       "<path fill=\"none\" stroke=\"cornflowerblue\" d=\"M658.28,-252.31C662.55,-246.64 667.17,-240.17 671,-234 676.89,-224.5 682.62,-213.38 687,-204.35\"/>\n",
       "<text text-anchor=\"middle\" x=\"689.5\" y=\"-225.2\" font-family=\"sans\" font-size=\"11.00\" fill=\"darkolivegreen\">kind</text>\n",
       "</g>\n",
       "<!-- 13 -->\n",
       "<g id=\"node18\" class=\"node\">\n",
       "<title>13</title>\n",
       "<ellipse fill=\"none\" stroke=\"black\" cx=\"257\" cy=\"-102\" rx=\"52.79\" ry=\"18\"/>\n",
       "<text text-anchor=\"start\" x=\"224.5\" y=\"-99.3\" font-family=\"Times,serif\" font-style=\"italic\" font-size=\"14.00\" fill=\"firebrick\">Constant</text>\n",
       "</g>\n",
       "<!-- 12&#45;&gt;13 -->\n",
       "<g id=\"edge17\" class=\"edge\">\n",
       "<title>12&#45;&gt;13</title>\n",
       "<path fill=\"none\" stroke=\"cornflowerblue\" d=\"M337.84,-169.96C320.31,-155.44 293.88,-133.55 276.06,-118.78\"/>\n",
       "<text text-anchor=\"middle\" x=\"322.5\" y=\"-141.2\" font-family=\"sans\" font-size=\"11.00\" fill=\"darkolivegreen\">left</text>\n",
       "</g>\n",
       "<!-- 16 -->\n",
       "<g id=\"node19\" class=\"node\">\n",
       "<title>16</title>\n",
       "<ellipse fill=\"none\" stroke=\"black\" cx=\"356\" cy=\"-102\" rx=\"28.7\" ry=\"18\"/>\n",
       "<text text-anchor=\"start\" x=\"342\" y=\"-99.3\" font-family=\"Times,serif\" font-style=\"italic\" font-size=\"14.00\" fill=\"firebrick\">Add</text>\n",
       "</g>\n",
       "<!-- 12&#45;&gt;16 -->\n",
       "<g id=\"edge18\" class=\"edge\">\n",
       "<title>12&#45;&gt;16</title>\n",
       "<path fill=\"none\" stroke=\"cornflowerblue\" d=\"M356,-167.61C356,-153.6 356,-134.01 356,-120.08\"/>\n",
       "<text text-anchor=\"middle\" x=\"363\" y=\"-141.2\" font-family=\"sans\" font-size=\"11.00\" fill=\"darkolivegreen\">op</text>\n",
       "</g>\n",
       "<!-- 17 -->\n",
       "<g id=\"node20\" class=\"node\">\n",
       "<title>17</title>\n",
       "<ellipse fill=\"none\" stroke=\"black\" cx=\"455\" cy=\"-102\" rx=\"52.79\" ry=\"18\"/>\n",
       "<text text-anchor=\"start\" x=\"422.5\" y=\"-99.3\" font-family=\"Times,serif\" font-style=\"italic\" font-size=\"14.00\" fill=\"firebrick\">Constant</text>\n",
       "</g>\n",
       "<!-- 12&#45;&gt;17 -->\n",
       "<g id=\"edge19\" class=\"edge\">\n",
       "<title>12&#45;&gt;17</title>\n",
       "<path fill=\"none\" stroke=\"cornflowerblue\" d=\"M374.16,-169.96C391.69,-155.44 418.12,-133.55 435.94,-118.78\"/>\n",
       "<text text-anchor=\"middle\" x=\"425\" y=\"-141.2\" font-family=\"sans\" font-size=\"11.00\" fill=\"darkolivegreen\">right</text>\n",
       "</g>\n",
       "<!-- 14 -->\n",
       "<g id=\"node21\" class=\"node\">\n",
       "<title>14</title>\n",
       "<polygon fill=\"none\" stroke=\"black\" points=\"258,-36 204,-36 204,0 258,0 258,-36\"/>\n",
       "<text text-anchor=\"middle\" x=\"231\" y=\"-14.3\" font-family=\"monospace\" font-size=\"14.00\">None</text>\n",
       "</g>\n",
       "<!-- 13&#45;&gt;14 -->\n",
       "<g id=\"edge20\" class=\"edge\">\n",
       "<title>13&#45;&gt;14</title>\n",
       "<path fill=\"none\" stroke=\"cornflowerblue\" d=\"M251.61,-84.01C247.18,-70.03 240.92,-50.3 236.47,-36.25\"/>\n",
       "<text text-anchor=\"middle\" x=\"261.5\" y=\"-57.2\" font-family=\"sans\" font-size=\"11.00\" fill=\"darkolivegreen\">value</text>\n",
       "</g>\n",
       "<!-- 15 -->\n",
       "<g id=\"node22\" class=\"node\">\n",
       "<title>15</title>\n",
       "<polygon fill=\"none\" stroke=\"black\" points=\"330,-36 276,-36 276,0 330,0 330,-36\"/>\n",
       "<text text-anchor=\"middle\" x=\"303\" y=\"-14.3\" font-family=\"monospace\" font-size=\"14.00\">None</text>\n",
       "</g>\n",
       "<!-- 13&#45;&gt;15 -->\n",
       "<g id=\"edge21\" class=\"edge\">\n",
       "<title>13&#45;&gt;15</title>\n",
       "<path fill=\"none\" stroke=\"cornflowerblue\" d=\"M269.29,-84.27C273.24,-78.6 277.49,-72.14 281,-66 286.46,-56.46 291.71,-45.34 295.71,-36.31\"/>\n",
       "<text text-anchor=\"middle\" x=\"299.5\" y=\"-57.2\" font-family=\"sans\" font-size=\"11.00\" fill=\"darkolivegreen\">kind</text>\n",
       "</g>\n",
       "<!-- 18 -->\n",
       "<g id=\"node23\" class=\"node\">\n",
       "<title>18</title>\n",
       "<polygon fill=\"none\" stroke=\"black\" points=\"435,-36 369,-36 369,0 435,0 435,-36\"/>\n",
       "<text text-anchor=\"middle\" x=\"402\" y=\"-14.3\" font-family=\"monospace\" font-size=\"14.00\">&#39;está&#39;</text>\n",
       "</g>\n",
       "<!-- 17&#45;&gt;18 -->\n",
       "<g id=\"edge22\" class=\"edge\">\n",
       "<title>17&#45;&gt;18</title>\n",
       "<path fill=\"none\" stroke=\"cornflowerblue\" d=\"M443.96,-84.29C440.15,-78.51 435.87,-71.98 432,-66 425.58,-56.09 418.47,-44.95 412.78,-36\"/>\n",
       "<text text-anchor=\"middle\" x=\"447.5\" y=\"-57.2\" font-family=\"sans\" font-size=\"11.00\" fill=\"darkolivegreen\">value</text>\n",
       "</g>\n",
       "<!-- 19 -->\n",
       "<g id=\"node24\" class=\"node\">\n",
       "<title>19</title>\n",
       "<polygon fill=\"none\" stroke=\"black\" points=\"507,-36 453,-36 453,0 507,0 507,-36\"/>\n",
       "<text text-anchor=\"middle\" x=\"480\" y=\"-14.3\" font-family=\"monospace\" font-size=\"14.00\">None</text>\n",
       "</g>\n",
       "<!-- 17&#45;&gt;19 -->\n",
       "<g id=\"edge23\" class=\"edge\">\n",
       "<title>17&#45;&gt;19</title>\n",
       "<path fill=\"none\" stroke=\"cornflowerblue\" d=\"M460.18,-84.01C464.44,-70.03 470.46,-50.3 474.74,-36.25\"/>\n",
       "<text text-anchor=\"middle\" x=\"480.5\" y=\"-57.2\" font-family=\"sans\" font-size=\"11.00\" fill=\"darkolivegreen\">kind</text>\n",
       "</g>\n",
       "</g>\n",
       "</svg>\n"
      ],
      "text/plain": [
       "<materiales.visualizaciones.diagramasast.DiagramaAST at 0x7b6b5dd65ed0>"
      ]
     },
     "execution_count": 52,
     "metadata": {},
     "output_type": "execute_result"
    }
   ],
   "source": [
    "from materiales.visualizaciones.diagramasast import DiagramaAST\n",
    "import ast\n",
    "\n",
    "# Python dice que esta expresión es sintácticamente correcta, y hasta\n",
    "# produce un árbol de sintaxis abstracta sin problemas.\n",
    "arbol = ast.parse(\"'Hola'[15] = (None + 'está').mal**2\", mode=\"exec\")\n",
    "raiz = arbol.body[0]\n",
    "DiagramaAST(raiz)"
   ]
  },
  {
   "cell_type": "markdown",
   "metadata": {},
   "source": [
    "El objetivo del análisis semántico es detectar este tipo de violaciones a las\n",
    "restricciones semánticas del lenguaje y reportarlas al usuario durante el\n",
    "proceso de compilación."
   ]
  },
  {
   "cell_type": "markdown",
   "metadata": {},
   "source": [
    "### La generación de forma intermedia\n",
    "\n",
    "La forma intermedia es un programa en un lenguaje intermedio que es más fácil\n",
    "de traducir a código máquina, pero que aún está abierto a la posibilidad de\n",
    "aplicar optimizaciones.\n",
    "\n",
    "- La forma intermedia puede ser una estructura de datos en memoria, como un\n",
    "  árbol de sintaxis abstracta con anotaciones semánticas, o un lenguaje de tipo\n",
    "  ensamblador de alto nivel.\n",
    "- Si un lenguaje tiene que soportar varias arquitecturas de computadora, es\n",
    "  conveniente utilizar una forma intermedia independiente de la arquitectura\n",
    "  objetivo.\n",
    "- A veces se utiliza un lenguaje intermedio estándar, como [LLVM][1], pero en\n",
    "  otros casos se utiliza un lenguaje intermedio propio del compilador.\n",
    "\n",
    "A la persona interesada le recomiendo revisar el tutorial de LLVM [My First\n",
    "Language Frontend with LLVM Tutorial][2]\n",
    "\n",
    "[1]: https://llvm.org/\n",
    "[2]: https://llvm.org/docs/tutorial/MyFirstLanguageFrontend/index.html"
   ]
  },
  {
   "cell_type": "markdown",
   "metadata": {},
   "source": [
    "### La optimización de código\n",
    "\n",
    "El código producido en las fases anteriores seguramente puede ser optimizado:\n",
    "\n",
    "- **Quitar código muerto** El *código muerto* son instrucciones que no tienen\n",
    "  efecto en el programa.\n",
    "  Por ejemplo, una variable que se declara pero nunca se usa.\n",
    "- **Expansión en línea** Algunas llamadas a funciones ocurren muy frecuentemente\n",
    "  y son demasiado cortas, por lo que es más eficiente reemplazar la llamada por\n",
    "  el código de la función.\n",
    "- **Factorización de subexpresiones** Si calculas el mismo valor varias veces,\n",
    "  es más eficiente calcularlo una sola vez y guardarlo en una variable.\n",
    "- **Optimización de bucles** Existen varias optimizaciones que se pueden aplicar\n",
    "  a los bucles, como la eliminación de bucles vacíos, pero una de las\n",
    "  optimzaciones más comunes consiste en mover las instrucciones que calculan\n",
    "  constantes fuera del bucle."
   ]
  },
  {
   "cell_type": "code",
   "execution_count": 53,
   "metadata": {},
   "outputs": [],
   "source": [
    "def f(x):\n",
    "    return 5\n",
    "    print(\"hola\")  # Este es código muerto."
   ]
  },
  {
   "cell_type": "markdown",
   "metadata": {},
   "source": [
    "### La generación de código\n",
    "\n",
    "Finalmente, la forma intermedia se traduce a lenguaje máquina.\n",
    "En esta fase desaparecen los identificadores y son reemplazados por números de\n",
    "registros en memoria.\n"
   ]
  },
  {
   "cell_type": "markdown",
   "metadata": {},
   "source": [
    "## 5. Los límites de la programación"
   ]
  },
  {
   "cell_type": "markdown",
   "metadata": {},
   "source": [
    "Muchos de los temas que hemos visto hasta ahora pertenecen al dominio de la\n",
    "**Teoría de la Computación**, que estudia las capacidades y limitaciones de las\n",
    "los algoritmos o, equivalentemente, de las computadoras que los ejecutan.\n",
    "\n",
    "- Para definir un *lenguaje máquina* en el tema anterior, primero tuvimos que\n",
    "  tener un concepto de *máquina abstracta*.\n",
    "  Esto es parte de la teoría de autómatas.\n",
    "- En el tema de las gramáticas libres de contexto, vimos la forma de definir un\n",
    "  lenguaje mediante reglas de producción.\n",
    "  Esto es parte de la teoría de lenguajes formales.\n",
    "- En realidad, la teoría de autómatas y de lenguajes formales se consideran una\n",
    "  misma, ya que para cada lenguaje hay un autómata (*compilador* o *intérprete*)\n",
    "  que es equivalente.\n",
    "  Esta equivalencia en su momento no fue obvia, y se le reconoce a Noam Chomsky\n",
    "  por haberla demostrado."
   ]
  },
  {
   "cell_type": "markdown",
   "metadata": {},
   "source": [
    "Para nuestro curso de principios de lenguajes de programación, no ahondaremos en\n",
    "la teoría de la computación, pero sí es importante que tengas una idea de la\n",
    "limitante que poseen los lenguajes de programación.\n",
    "En resumen: no todos los problemas computacionales se pueden resolver mediante\n",
    "un programa de computadora."
   ]
  },
  {
   "cell_type": "markdown",
   "metadata": {},
   "source": [
    "### Problemas computacionales"
   ]
  },
  {
   "cell_type": "markdown",
   "metadata": {},
   "source": [
    "**Definición**. Un **problema computacional** es una relación $\\mathcal R$ entre\n",
    "datos de entrada ($\\mathcal I$) y datos de salida ($\\mathcal S$)."
   ]
  },
  {
   "cell_type": "markdown",
   "metadata": {},
   "source": [
    "Usaremos la fórmula “**dado(s)** $I$, **encontrar** $S$ tal que $\\mathcal R$”\n",
    "como en este ejemplo:\n",
    "\n",
    "> **Problema** (de la factorización):\n",
    "> - **Dado** un número entero $n > 1$,\n",
    "> - **encontrar** un número mayor a $1$ pero menor a $n$ que lo divida\n",
    ">   exactamente."
   ]
  },
  {
   "cell_type": "markdown",
   "metadata": {},
   "source": [
    "\n",
    "Esta fórmula contiene los tres ingredientes para definir el problema\n",
    "computacional:\n",
    "- El conjunto de *instancias* del problema, que son todos los números enteros\n",
    "  mayores a 1.\n",
    "  $$\\mathcal I = \\{2, 3, 4, 5, 6, \\ldots\\}$$\n",
    "- El conjunto de *soluciones* del problema, que también son números enteros.\n",
    "  $$\\mathcal S = \\{2, 3, 4, 5, 6, \\ldots\\}$$\n",
    "- La *relación* entre las instancias dice que $k$ es solución de $n$ si $k$\n",
    "  es menor a $n$ y divide exactamente a $n$.\n",
    "  $$\\mathcal R = \\{(n, k) \\in \\mathcal I \\times \\mathcal S \\mid k < n;\n",
    "  n \\bmod k = 0\\}$$ \n"
   ]
  },
  {
   "cell_type": "markdown",
   "metadata": {},
   "source": [
    "\n",
    "**Observación**.\n",
    "Desde el punto de vista matemático podemos representar a un problema\n",
    "computacional simplemente como\n",
    "$\\mathcal R \\subseteq \\mathcal I \\times \\mathcal S$, ya que $S$ es una solución\n",
    "de la instancia $I$ si y solo si $(I, S) \\in \\mathcal R$."
   ]
  },
  {
   "cell_type": "markdown",
   "metadata": {},
   "source": [
    "Este problema lo podemos resolver mediante un algoritmo como por ejemplo este:"
   ]
  },
  {
   "cell_type": "code",
   "execution_count": 54,
   "metadata": {},
   "outputs": [
    {
     "name": "stdout",
     "output_type": "stream",
     "text": [
      "encontrar_factor(4)=2\n",
      "encontrar_factor(9)=3\n",
      "encontrar_factor(11)=None\n"
     ]
    }
   ],
   "source": [
    "def encontrar_factor(n: int) -> int | None:\n",
    "    \"\"\"Encuentra un factor de un número.\"\"\"\n",
    "    # Verificamos que la entrada esté en el conjunto de instancias:\n",
    "    if not isinstance(n, int) or n <= 1:\n",
    "        raise ValueError(\"n debe ser un entero mayor que 1\")\n",
    "    \n",
    "    # Procedemos a buscar una solución por fuerza bruta:\n",
    "    for k in range(2, n):\n",
    "        if n % k == 0:\n",
    "            return k\n",
    "    \n",
    "    # No hay solución:\n",
    "    return None\n",
    "\n",
    "print(f\"{encontrar_factor(4)=}\")\n",
    "print(f\"{encontrar_factor(9)=}\")\n",
    "print(f\"{encontrar_factor(11)=}\")"
   ]
  },
  {
   "cell_type": "markdown",
   "metadata": {},
   "source": [
    "Existen problemas computacionales que requieren más de un dato, o bien datos\n",
    "complejos; por ejemplo el problema de *devolver el cambio*:\n",
    "\n",
    "> **Problema** (de la suma de subconjuntos):\n",
    "> - **Dada** una lista de números enteros $S$ y un número entero $k$,\n",
    "> - **encontrar** una sublista de $S$ cuya suma sea $k$.\n",
    "\n",
    "En este caso, una instancia podría ser la lista $S = [1, 2, 3, 4, 5]$ y el\n",
    "número $k = 7$, y una solución sería la sublista $[2, 5]$, porque $2 + 5 = 7$.\n",
    "También hay instancias sin solución, como por ejemplo $S = [2, 3, 5]$ con\n",
    "$k = 6$.\n",
    "Si lo piensas bien, esta es una generalización del problema que tienen que\n",
    "resolver los cajeros de las tiendas cuando te devuelven el cambio, es sólo que\n",
    "el sistema monetario está diseñado para que la solución siempre sea fácil de\n",
    "encontrar (o de determinar que no existe).\n"
   ]
  },
  {
   "cell_type": "markdown",
   "metadata": {},
   "source": [
    "**Actividad** El sitio [*CodeSignal*][codesignal] es una plataforma de\n",
    "entrenamiento para programadores y contiene muchos problemas computacionales.\n",
    "Entra al sitio, elige cinco problemas, e identifica cuáles son las instancias,\n",
    "las soluciones, y la relación entre ellas.\n",
    "\n",
    "[codesignal]: https://app.codesignal.com/"
   ]
  },
  {
   "cell_type": "markdown",
   "metadata": {},
   "source": [
    "**Definición**. Decimos que un algorimto **resuelve** un problema computacional\n",
    "$\\mathcal R$ si para cada instancia $I\\in \\mathcal I$, el algoritmo produce una\n",
    "solución correcta $S \\in \\mathcal S$ en un número finito de pasos, o bien indica\n",
    "que no hay solución."
   ]
  },
  {
   "cell_type": "markdown",
   "metadata": {},
   "source": [
    "Como ya te había adelantado, no todos los problemas computacionales se pueden\n",
    "resolver mediante un programa de computadora; no es que no sepamos resolverlos,\n",
    "sino que tenemos la certeza matemática de que es así.\n",
    "En esencia hay dos situaciones que nos hacen llegar a esta conclusión:\n",
    "\n",
    "1. Existen más problemas que algoritmos: tanto el conjunto de problemas como de\n",
    "   algoritmos son infinitos, pero veremos que un infinito es más grande que el\n",
    "   otro.\n",
    "2. Si los programas pueden hacer referencia a otros programas (como\n",
    "   compiladores), en particular pueden hacer referencia a sí mismos (como un\n",
    "   compilador que compila su propio código), y esto nos puede llevar a\n",
    "   situaciones muy paradójicas."
   ]
  }
 ],
 "metadata": {
  "kernelspec": {
   "display_name": ".venv",
   "language": "python",
   "name": "python3"
  },
  "language_info": {
   "codemirror_mode": {
    "name": "ipython",
    "version": 3
   },
   "file_extension": ".py",
   "mimetype": "text/x-python",
   "name": "python",
   "nbconvert_exporter": "python",
   "pygments_lexer": "ipython3",
   "version": "3.11.2"
  },
  "orig_nbformat": 4
 },
 "nbformat": 4,
 "nbformat_minor": 2
}
