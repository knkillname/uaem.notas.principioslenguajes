{
 "cells": [
  {
   "cell_type": "markdown",
   "metadata": {},
   "source": [
    "# Máquinas abstractas"
   ]
  },
  {
   "cell_type": "markdown",
   "metadata": {},
   "source": [
    "## 1. Máquinas e intérpretes"
   ]
  },
  {
   "cell_type": "markdown",
   "metadata": {},
   "source": [
    "Una *máquina abstracta* es un modelo de sistema computacional que recibe \n",
    "entradas y produce salidas de acuerdo a un conjunto de reglas.\n",
    "Estos modelos son *máquinas* porque permiten la ejecución paso a paso de\n",
    "instrucciones, y son *abstractas* porque no están limitadas por las leyes\n",
    "físicas.\n",
    "Toda máquina abstracta particular define un conjunto de *estados* en los que se\n",
    "puede encontrar, y cuentan con un conjunto de *instrucciones* que permiten \n",
    "alterar el estado de la máquina."
   ]
  },
  {
   "cell_type": "markdown",
   "metadata": {},
   "source": [
    "\n",
    "**Ejemplo** El estatus civil de una persona puede ser soltero, casado, viudo,\n",
    "divorciado, etc. Estos son los estados posibles de una persona. Las\n",
    "instrucciones que permiten alterar el estado civil son casarse, divorciarse,\n",
    "enviudar, etc."
   ]
  },
  {
   "cell_type": "markdown",
   "metadata": {},
   "source": [
    "### Estudio de caso: La Computadora del Hombre Pequeño\n",
    "Intuitivamente las máquinas abstractas son abstracciones simplificadas e\n",
    "idealizadas de las computadoras reales.\n",
    "En este sentido, uno de los modelos didácticos más simples es el de la\n",
    "[*Computadora del Hombre Pequeño*](https://en.wikipedia.org/wiki/Little_man_computer)\n",
    "(CHP), que ilustra de manera muy simplificada el funcionamiento de una\n",
    "computadora con arquitecura de Von Neumann (como las computadoras actuales).\n",
    "- La CHP consiste en un hombre pequeño que vive en una sala de correos con una\n",
    "  bandeja de entrada y una bandeja de salida.\n",
    "- El hombre pequeño cuenta con un ábaco (*acumulador*) para almacenar un número\n",
    "  de tres dígitos así como realizar sumas y restas.\n",
    "- La sala tiene 100 cajones numerados del 00 al 99 y cada cajón contiene una \n",
    "  carta con un número de tres dígitos.\n",
    "- El hombre puede leer el contenido de un cajón, escribir en él, y moverse\n",
    "  a otro cajón.\n",
    "- El hombre puede leer el número de la carta en el cajón en el que se encuentra,\n",
    "  y en base a ese número puede decidir qué hacer a continuación.\n",
    "\n",
    "En cada paso, el hombre pequeño realiza un ciclo de tres pasos, mejor conocido\n",
    "como ciclo de *fetch-decode-execute*:\n",
    "1. **Traer**: El hombre lee el número de la carta en el cajón en el que se\n",
    "   encuentra.\n",
    "2. **Decodificar**: El hombre decide qué hacer en base al número de la carta.\n",
    "3. **Ejecutar**: El hombre realiza la acción correspondiente y se mueve al\n",
    "   siguiente cajón a menos que la acción sea moverse a un cajón específico.\n",
    "\n",
    "Para decodificar el número de la carta, el hombre pequeño utiliza una tabla como\n",
    "esta:\n",
    "\n",
    "Instrucción | Número de la carta | Descripción\n",
    ":---------- | :----------------: | :----------\n",
    "**HALT** | 000 | Detente (hora de tomar un descanso).\n",
    "**ADD** | 1xx | Suma a tu ábaco el número de la carta `xx`.\n",
    "**SUBTRACT** | 2xx | Resta de tu ábaco el número de la carta `xx`.\n",
    "**STORE** | 3xx | Escribe el número de tu ábaco en una carta y ponla en el cajón `xx`.\n",
    "**LOAD** | 5xx | Pon en tu ábaco el número que está escrito la carta del cajón `xx`.\n",
    "**BRANCH** | 6xx | Dirígete al cajón `xx`.\n",
    "**BRANCH IF ZERO** | 7xx | Dirígete al cajón `xx` si el número en tu ábaco es cero.\n",
    "**BRANCH IF POSITIVE**| 8xx | Dirígete al cajón `xx` si el número en tu ábaco es positivo.\n",
    "**INPUT** | 901 | Toma una carta de la bandeja de entrada y copia el número en tu ábaco.\n",
    "**OUTPUT** | 902 | Escribe el número de tu ábaco en una carta y ponla en la bandeja de salida."
   ]
  },
  {
   "cell_type": "code",
   "execution_count": null,
   "metadata": {},
   "outputs": [],
   "source": [
    "from materiales.maquinas.hombre import ComputadoraHombrePequenno"
   ]
  },
  {
   "cell_type": "code",
   "execution_count": null,
   "metadata": {},
   "outputs": [],
   "source": [
    "# Ejemplo: sumar dos números de la bandeja de entrada y poner el \n",
    "# resultado en la bandeja de salida\n",
    "maq = ComputadoraHombrePequenno()\n",
    "maq.cargar_entrada([2, 3])\n",
    "maq.cargar_programa([901, 310, 901, 110, 902, 0])"
   ]
  },
  {
   "cell_type": "code",
   "execution_count": null,
   "metadata": {},
   "outputs": [],
   "source": [
    "maq.transicion()"
   ]
  },
  {
   "cell_type": "code",
   "execution_count": null,
   "metadata": {},
   "outputs": [],
   "source": [
    "maq.transicion()"
   ]
  },
  {
   "cell_type": "code",
   "execution_count": null,
   "metadata": {},
   "outputs": [],
   "source": [
    "maq.transicion()"
   ]
  },
  {
   "cell_type": "code",
   "execution_count": null,
   "metadata": {},
   "outputs": [],
   "source": [
    "maq.transicion()"
   ]
  },
  {
   "cell_type": "code",
   "execution_count": null,
   "metadata": {},
   "outputs": [],
   "source": [
    "maq.transicion()"
   ]
  },
  {
   "cell_type": "code",
   "execution_count": null,
   "metadata": {},
   "outputs": [],
   "source": [
    "maq.transicion()"
   ]
  },
  {
   "cell_type": "code",
   "execution_count": null,
   "metadata": {},
   "outputs": [],
   "source": [
    "maq.transicion()"
   ]
  },
  {
   "cell_type": "markdown",
   "metadata": {},
   "source": []
  },
  {
   "cell_type": "code",
   "execution_count": null,
   "metadata": {},
   "outputs": [],
   "source": []
  }
 ],
 "metadata": {
  "kernelspec": {
   "display_name": ".venv",
   "language": "python",
   "name": "python3"
  },
  "language_info": {
   "codemirror_mode": {
    "name": "ipython",
    "version": 3
   },
   "file_extension": ".py",
   "mimetype": "text/x-python",
   "name": "python",
   "nbconvert_exporter": "python",
   "pygments_lexer": "ipython3",
   "version": "3.11.2"
  },
  "orig_nbformat": 4
 },
 "nbformat": 4,
 "nbformat_minor": 2
}
