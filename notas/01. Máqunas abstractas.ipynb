{
 "cells": [
  {
   "cell_type": "markdown",
   "metadata": {},
   "source": [
    "# Máquinas abstractas"
   ]
  },
  {
   "cell_type": "markdown",
   "metadata": {},
   "source": [
    "## 1. Máquinas e intérpretes"
   ]
  },
  {
   "cell_type": "markdown",
   "metadata": {},
   "source": [
    "Una *máquina abstracta* es un modelo de sistema computacional que recibe \n",
    "entradas y produce salidas de acuerdo a un conjunto de reglas.\n",
    "Estos modelos son *máquinas* porque permiten la ejecución paso a paso de\n",
    "instrucciones, y son *abstractas* porque no están limitadas por las leyes\n",
    "físicas.\n",
    "Toda máquina abstracta particular define un conjunto de *estados* en los que se\n",
    "puede encontrar, y cuentan con un conjunto de *instrucciones* que permiten \n",
    "alterar el estado de la máquina."
   ]
  },
  {
   "cell_type": "markdown",
   "metadata": {},
   "source": [
    "**Ejemplo** El estatus civil de una persona puede ser soltero, casado, viudo,\n",
    "divorciado, etc. Estos son los estados posibles de una persona. Las\n",
    "instrucciones que permiten alterar el estado civil son casarse, divorciarse,\n",
    "enviudar, etc."
   ]
  },
  {
   "cell_type": "markdown",
   "metadata": {},
   "source": [
    "### Estudio de caso: La Computadora del Hombre Pequeño\n",
    "Intuitivamente las máquinas abstractas son abstracciones simplificadas e\n",
    "idealizadas de las computadoras reales.\n",
    "En este sentido, uno de los modelos didácticos más simples es el de la\n",
    "[*Computadora del Hombre Pequeño*](https://en.wikipedia.org/wiki/Little_man_computer)\n",
    "(CHP), que ilustra de manera muy simplificada el funcionamiento de una\n",
    "computadora con arquitecura de Von Neumann (como las computadoras actuales).\n",
    "- La CHP consiste en un hombre pequeño que vive en una sala de correos con una\n",
    "  bandeja de entrada y una bandeja de salida.\n",
    "- El hombre pequeño cuenta con un ábaco (*acumulador*) para almacenar un número\n",
    "  de tres dígitos así como realizar sumas y restas.\n",
    "- La sala tiene 100 cajones numerados del 00 al 99 y cada cajón contiene una \n",
    "  carta con un número de tres dígitos.\n",
    "- El hombre puede leer el contenido de un cajón, escribir en él, y moverse\n",
    "  a otro cajón.\n",
    "- El hombre puede leer el número de la carta en el cajón en el que se encuentra,\n",
    "  y en base a ese número puede decidir qué hacer a continuación.\n",
    "\n",
    "En cada paso, el hombre pequeño realiza un ciclo de tres pasos, mejor conocido\n",
    "como ciclo de *fetch-decode-execute*:\n",
    "1. **Traer**: El hombre lee el número de la carta en el cajón en el que se\n",
    "   encuentra.\n",
    "2. **Decodificar**: El hombre decide qué hacer en base al número de la carta.\n",
    "3. **Ejecutar**: El hombre realiza la acción correspondiente y se mueve al\n",
    "   siguiente cajón a menos que la acción sea moverse a un cajón específico.\n",
    "\n",
    "Para decodificar el número de la carta, el hombre pequeño utiliza una tabla como\n",
    "esta:\n",
    "\n",
    "Instrucción | Número de la carta | Descripción\n",
    ":---------- | :----------------: | :----------\n",
    "**HALT** | 000 | Detente (hora de tomar un descanso).\n",
    "**ADD** | 1xx | Suma a tu ábaco el número de la carta `xx`.\n",
    "**SUBTRACT** | 2xx | Resta de tu ábaco el número de la carta `xx`.\n",
    "**STORE** | 3xx | Escribe el número de tu ábaco en una carta y ponla en el cajón `xx`.\n",
    "**LOAD** | 5xx | Pon en tu ábaco el número que está escrito la carta del cajón `xx`.\n",
    "**BRANCH** | 6xx | Dirígete al cajón `xx`.\n",
    "**BRANCH IF ZERO** | 7xx | Dirígete al cajón `xx` si el número en tu ábaco es cero.\n",
    "**BRANCH IF POSITIVE**| 8xx | Dirígete al cajón `xx` si el número en tu ábaco es positivo.\n",
    "**INPUT** | 901 | Toma una carta de la bandeja de entrada y copia el número en tu ábaco.\n",
    "**OUTPUT** | 902 | Escribe el número de tu ábaco en una carta y ponla en la bandeja de salida."
   ]
  },
  {
   "cell_type": "code",
   "execution_count": 1,
   "metadata": {},
   "outputs": [],
   "source": [
    "from materiales.maquinas.hombre import ComputadoraHombrePequenno"
   ]
  },
  {
   "cell_type": "code",
   "execution_count": 2,
   "metadata": {},
   "outputs": [
    {
     "data": {
      "text/html": [
       "↓[<code>002</code>, <code>003</code>, <code>009</code>, <code>019</code>, <code>004</code>, <code>002</code>, <code>000</code>]\n",
       "<table>\n",
       "<tr><td><code>000</code></td><th><strong>X0</strong></th><th><strong>X1</strong></th><th><strong>X2</strong></th><th><strong>X3</strong></th><th><strong>X4</strong></th><th><strong>X5</strong></th><th><strong>X6</strong></th><th><strong>X7</strong></th><th><strong>X8</strong></th><th><strong>X9</strong></th></tr>\n",
       "<tr><th><strong>0X</strong></th><td><code>▶901</code></td><td><code>310</code></td><td><code>901</code></td><td><code>110</code></td><td><code>902</code></td><td><code>000</code></td><td><code>000</code></td><td><code>000</code></td><td><code>000</code></td><td><code>000</code></td></tr>\n",
       "<tr><th><strong>1X</strong></th><td><code>000</code></td><td><code>000</code></td><td><code>000</code></td><td><code>000</code></td><td><code>000</code></td><td><code>000</code></td><td><code>000</code></td><td><code>000</code></td><td><code>000</code></td><td><code>000</code></td></tr>\n",
       "<tr><th><strong>2X</strong></th><td><code>000</code></td><td><code>000</code></td><td><code>000</code></td><td><code>000</code></td><td><code>000</code></td><td><code>000</code></td><td><code>000</code></td><td><code>000</code></td><td><code>000</code></td><td><code>000</code></td></tr>\n",
       "<tr><th><strong>3X</strong></th><td><code>000</code></td><td><code>000</code></td><td><code>000</code></td><td><code>000</code></td><td><code>000</code></td><td><code>000</code></td><td><code>000</code></td><td><code>000</code></td><td><code>000</code></td><td><code>000</code></td></tr>\n",
       "<tr><th><strong>4X</strong></th><td><code>000</code></td><td><code>000</code></td><td><code>000</code></td><td><code>000</code></td><td><code>000</code></td><td><code>000</code></td><td><code>000</code></td><td><code>000</code></td><td><code>000</code></td><td><code>000</code></td></tr>\n",
       "<tr><th><strong>5X</strong></th><td><code>000</code></td><td><code>000</code></td><td><code>000</code></td><td><code>000</code></td><td><code>000</code></td><td><code>000</code></td><td><code>000</code></td><td><code>000</code></td><td><code>000</code></td><td><code>000</code></td></tr>\n",
       "<tr><th><strong>6X</strong></th><td><code>000</code></td><td><code>000</code></td><td><code>000</code></td><td><code>000</code></td><td><code>000</code></td><td><code>000</code></td><td><code>000</code></td><td><code>000</code></td><td><code>000</code></td><td><code>000</code></td></tr>\n",
       "<tr><th><strong>7X</strong></th><td><code>000</code></td><td><code>000</code></td><td><code>000</code></td><td><code>000</code></td><td><code>000</code></td><td><code>000</code></td><td><code>000</code></td><td><code>000</code></td><td><code>000</code></td><td><code>000</code></td></tr>\n",
       "<tr><th><strong>8X</strong></th><td><code>000</code></td><td><code>000</code></td><td><code>000</code></td><td><code>000</code></td><td><code>000</code></td><td><code>000</code></td><td><code>000</code></td><td><code>000</code></td><td><code>000</code></td><td><code>000</code></td></tr>\n",
       "<tr><th><strong>9X</strong></th><td><code>000</code></td><td><code>000</code></td><td><code>000</code></td><td><code>000</code></td><td><code>000</code></td><td><code>000</code></td><td><code>000</code></td><td><code>000</code></td><td><code>000</code></td><td><code>000</code></td></tr>\n",
       "</table>\n",
       "↓[]"
      ],
      "text/plain": [
       "ComputadoraHombrePequenno(programa=[901, 310, 901, 110, 902], contador=0, acumulador=0, entrada=deque([2, 3, 9, 19, 4, 2, 0]), salida=deque([]))"
      ]
     },
     "execution_count": 2,
     "metadata": {},
     "output_type": "execute_result"
    }
   ],
   "source": [
    "# Ejemplo: sumar dos números de la bandeja de entrada y poner el\n",
    "# resultado en la bandeja de salida\n",
    "maq = ComputadoraHombrePequenno()\n",
    "maq.cargar_entrada([2, 3, 9, 19, 4, 2, 0])\n",
    "maq.cargar_programa([901, 310, 901, 110, 902])"
   ]
  },
  {
   "cell_type": "code",
   "execution_count": 3,
   "metadata": {},
   "outputs": [
    {
     "data": {
      "text/html": [
       "↓[<code>003</code>, <code>009</code>, <code>019</code>, <code>004</code>, <code>002</code>, <code>000</code>]\n",
       "<table>\n",
       "<tr><td><code>002</code></td><th><strong>X0</strong></th><th><strong>X1</strong></th><th><strong>X2</strong></th><th><strong>X3</strong></th><th><strong>X4</strong></th><th><strong>X5</strong></th><th><strong>X6</strong></th><th><strong>X7</strong></th><th><strong>X8</strong></th><th><strong>X9</strong></th></tr>\n",
       "<tr><th><strong>0X</strong></th><td><code>901</code></td><td><code>▶310</code></td><td><code>901</code></td><td><code>110</code></td><td><code>902</code></td><td><code>000</code></td><td><code>000</code></td><td><code>000</code></td><td><code>000</code></td><td><code>000</code></td></tr>\n",
       "<tr><th><strong>1X</strong></th><td><code>000</code></td><td><code>000</code></td><td><code>000</code></td><td><code>000</code></td><td><code>000</code></td><td><code>000</code></td><td><code>000</code></td><td><code>000</code></td><td><code>000</code></td><td><code>000</code></td></tr>\n",
       "<tr><th><strong>2X</strong></th><td><code>000</code></td><td><code>000</code></td><td><code>000</code></td><td><code>000</code></td><td><code>000</code></td><td><code>000</code></td><td><code>000</code></td><td><code>000</code></td><td><code>000</code></td><td><code>000</code></td></tr>\n",
       "<tr><th><strong>3X</strong></th><td><code>000</code></td><td><code>000</code></td><td><code>000</code></td><td><code>000</code></td><td><code>000</code></td><td><code>000</code></td><td><code>000</code></td><td><code>000</code></td><td><code>000</code></td><td><code>000</code></td></tr>\n",
       "<tr><th><strong>4X</strong></th><td><code>000</code></td><td><code>000</code></td><td><code>000</code></td><td><code>000</code></td><td><code>000</code></td><td><code>000</code></td><td><code>000</code></td><td><code>000</code></td><td><code>000</code></td><td><code>000</code></td></tr>\n",
       "<tr><th><strong>5X</strong></th><td><code>000</code></td><td><code>000</code></td><td><code>000</code></td><td><code>000</code></td><td><code>000</code></td><td><code>000</code></td><td><code>000</code></td><td><code>000</code></td><td><code>000</code></td><td><code>000</code></td></tr>\n",
       "<tr><th><strong>6X</strong></th><td><code>000</code></td><td><code>000</code></td><td><code>000</code></td><td><code>000</code></td><td><code>000</code></td><td><code>000</code></td><td><code>000</code></td><td><code>000</code></td><td><code>000</code></td><td><code>000</code></td></tr>\n",
       "<tr><th><strong>7X</strong></th><td><code>000</code></td><td><code>000</code></td><td><code>000</code></td><td><code>000</code></td><td><code>000</code></td><td><code>000</code></td><td><code>000</code></td><td><code>000</code></td><td><code>000</code></td><td><code>000</code></td></tr>\n",
       "<tr><th><strong>8X</strong></th><td><code>000</code></td><td><code>000</code></td><td><code>000</code></td><td><code>000</code></td><td><code>000</code></td><td><code>000</code></td><td><code>000</code></td><td><code>000</code></td><td><code>000</code></td><td><code>000</code></td></tr>\n",
       "<tr><th><strong>9X</strong></th><td><code>000</code></td><td><code>000</code></td><td><code>000</code></td><td><code>000</code></td><td><code>000</code></td><td><code>000</code></td><td><code>000</code></td><td><code>000</code></td><td><code>000</code></td><td><code>000</code></td></tr>\n",
       "</table>\n",
       "↓[]"
      ],
      "text/plain": [
       "ComputadoraHombrePequenno(programa=[901, 310, 901, 110, 902], contador=1, acumulador=2, entrada=deque([3, 9, 19, 4, 2, 0]), salida=deque([]))"
      ]
     },
     "execution_count": 3,
     "metadata": {},
     "output_type": "execute_result"
    }
   ],
   "source": [
    "# NOTA: Ejecuta esta celda varias veces para ver el resultado\n",
    "maq.transicion()"
   ]
  },
  {
   "cell_type": "markdown",
   "metadata": {},
   "source": [
    "### Estudio de caso: El desensamblador de Python"
   ]
  },
  {
   "cell_type": "markdown",
   "metadata": {},
   "source": [
    "Python también se puede ver como una máquina abstracta.\n",
    "En este caso, la máquina abstracta de Python es una máquina de pila, es decir,\n",
    "una máquina que utiliza una pila para almacenar datos y realizar operaciones.\n",
    "\n",
    "Una *pila* es una estructura de datos que permite almacenar datos y recuperarlos\n",
    "en el orden inverso al que fueron almacenados.\n",
    "Es decir, en una pila los datos solamente se pueden *apilar* en la cima o\n",
    "*desapilar* de la cima."
   ]
  },
  {
   "cell_type": "code",
   "execution_count": 4,
   "metadata": {},
   "outputs": [
    {
     "name": "stdout",
     "output_type": "stream",
     "text": [
      "100\n"
     ]
    }
   ],
   "source": [
    "# Ejemplo de pequeño programa de Python:\n",
    "x = 100\n",
    "print(x)"
   ]
  },
  {
   "cell_type": "code",
   "execution_count": 5,
   "metadata": {},
   "outputs": [
    {
     "name": "stdout",
     "output_type": "stream",
     "text": [
      "  0           0 RESUME                   0\n",
      "\n",
      "  2           2 LOAD_CONST               0 (100)\n",
      "              4 STORE_NAME               0 (x)\n",
      "\n",
      "  3           6 PUSH_NULL\n",
      "              8 LOAD_NAME                1 (print)\n",
      "             10 LOAD_NAME                0 (x)\n",
      "             12 PRECALL                  1\n",
      "             16 CALL                     1\n",
      "             26 POP_TOP\n",
      "             28 LOAD_CONST               1 (None)\n",
      "             30 RETURN_VALUE\n"
     ]
    }
   ],
   "source": [
    "import dis\n",
    "\n",
    "# Una cadena de texto entre triples comillas puede tener saltos de línea.\n",
    "texto = \"\"\"\n",
    "x = 100\n",
    "print(x)\n",
    "\"\"\"\n",
    "dis.dis(texto)  # Mostrar en pantalla el programa de la máquina abstracta"
   ]
  },
  {
   "cell_type": "markdown",
   "metadata": {},
   "source": [
    "La saida del desensaamblador de Python es una secuencia de instrucciones\n",
    "divididas las siguientes columnas:\n",
    "- La primera columna indica el número de línea en el texto original.\n",
    "- La segunda columna indica la posición de la instrucción la memoria de la\n",
    "  máquina abstracta.\n",
    "  Los números que faltan en la secuencia casi siempre indican que esa posición\n",
    "  está ocupada por un dato, como puede ser un número o una cadena de texto.\n",
    "  Si una de estas instrucciones es el objetivo de un salto condicional, se\n",
    "  indica con una marca `>>`.\n",
    "- La tercera columna indica la instrucción en lenguaje de la máquina.\n",
    "- La cuarta columna indica el argumento de la instrucción, seguido del nombre\n",
    "  entre paréntesis."
   ]
  },
  {
   "cell_type": "code",
   "execution_count": 6,
   "metadata": {},
   "outputs": [
    {
     "name": "stdout",
     "output_type": "stream",
     "text": [
      "  0           0 RESUME                   0\n",
      "\n",
      "  2           2 LOAD_CONST               0 (23)\n",
      "              4 STORE_NAME               0 (edad)\n",
      "\n",
      "  3           6 LOAD_CONST               1 ('Vamos por un Yakult')\n",
      "              8 STORE_NAME               1 (mensaje)\n",
      "\n",
      "  4          10 LOAD_NAME                0 (edad)\n",
      "             12 LOAD_CONST               2 (18)\n",
      "             14 COMPARE_OP               5 (>=)\n",
      "             20 POP_JUMP_FORWARD_IF_FALSE     4 (to 30)\n",
      "\n",
      "  5          22 LOAD_CONST               3 ('Vamos por unas chelas')\n",
      "             24 STORE_NAME               1 (mensaje)\n",
      "             26 LOAD_CONST               4 (None)\n",
      "             28 RETURN_VALUE\n",
      "\n",
      "  4     >>   30 LOAD_CONST               4 (None)\n",
      "             32 RETURN_VALUE\n"
     ]
    }
   ],
   "source": [
    "programa = \"\"\"\n",
    "edad = 23\n",
    "mensaje = \"Vamos por un Yakult\"\n",
    "if edad >= 18:\n",
    "    mensaje = \"Vamos por unas chelas\"\n",
    "\"\"\"\n",
    "dis.dis(programa)"
   ]
  },
  {
   "cell_type": "markdown",
   "metadata": {},
   "source": [
    "## 2. Implementación de lenguajes de programación"
   ]
  },
  {
   "cell_type": "markdown",
   "metadata": {},
   "source": [
    "**Definición** Sea $M$ una máquina abstracta\n",
    "- Un *programa* $P$ de $M$ es un texto finito que define operaciones de $M$ y\n",
    "  que hace que $M$ transite de un estado a otro de forma legal.\n",
    "- Definimos a $L(M)$ “*el lenguaje máquina de $M$*” como el conjunto de todos\n",
    "  los programas de $M$."
   ]
  },
  {
   "cell_type": "markdown",
   "metadata": {},
   "source": [
    "Sea $L=L(M)$. Por definición, $M$ es una máquina que permite la ejecución de\n",
    "programas escritos en lenguaje $L$.\n",
    "De forma recíproca, $L$ es un lenguaje que puede ser ejecutado por muchas\n",
    "(infinitas) máquinas abstractas."
   ]
  },
  {
   "cell_type": "markdown",
   "metadata": {},
   "source": [
    "\n",
    "**Definición** Sea $L$ un lenguaje de programación. Una *implementación* de $L$\n",
    "es una máquina abstracta $M$ tal que $L=L(M)$."
   ]
  },
  {
   "cell_type": "markdown",
   "metadata": {},
   "source": [
    "La implementación de un lenguaje de programación se puede dar de varias maneras,\n",
    "pero en general es una combinación de estos tres casos:"
   ]
  },
  {
   "cell_type": "markdown",
   "metadata": {},
   "source": [
    "### 2.1. Implementación en hardware\n",
    "Implementar un lenguaje en hardware significa construir una máquina real que\n",
    "ejecute programas escritos en el lenguaje.\n",
    "- Utiliza circuitos digitales para implementar las instrucciones de la máquina\n",
    "  así como la memoria.\n",
    "- El lenguaje de programación es el lenguaje de la máquina.\n",
    "- Los programas corren directamente en la máquina, por lo que son generalmente\n",
    "  muy rápidos.\n",
    "- Una vez construidia la máquina, es muy difícil modificarla.\n",
    "\n",
    "**Ejemplo** La computadora Burroughs B5500 fue una computadora de la década\n",
    "de 1960 que utilizaba un lenguaje de programación llamado *ALGOL 60*, cuyos\n",
    "programas se ejecutaban directamente en la máquina.\n",
    "Este es un ejemplo de un programa en ALGOL 60 que calcula el elemento más grande\n",
    "en valor absoluto de una matriz:\n",
    "\n",
    "----\n",
    "```algol\n",
    "procedure Absmax(a) Size:(n, m) Result:(y) Subscripts:(i, k);\n",
    "    value n, m; array a; integer n, m, i, k; real y;\n",
    "comment El elemento más grande en valor absoluto de la matriz a, de tamaño n por\n",
    "    m, se copia en y, y los subíndices de este elemento en i y k;\n",
    "begin\n",
    "    integer p, q;\n",
    "    y := 0; i := k := 1;\n",
    "    for p := 1 step 1 until n do\n",
    "        for q := 1 step 1 until m do\n",
    "            if abs(a[p, q]) > y then\n",
    "                begin y := abs(a[p, q]);\n",
    "                    i := p; k := q\n",
    "                end\n",
    "end Absmax\n",
    "```\n",
    "----\n",
    "**Actividad**\n",
    "Hojear el [panfleto de la computadora Burroughs B5500][1] de 1964\n",
    "y señalar las partes que corresponden a la implementación de ALGOL 60.\n",
    "\n",
    "[1]: recursos/burroughs.b5500.1964.102646215.pdf"
   ]
  },
  {
   "cell_type": "markdown",
   "metadata": {},
   "source": [
    "### 2.2. Implementación en microcódigo\n",
    "Si disponemos de una máquina $M$ cuyas instrucciones son muy básicas pero muy\n",
    "rápidas, podemos implementar un lenguaje $L$ en $M$ convirtiendo las complejas\n",
    "instrucciones de $L$ encon una secuencia de pequeñas instrucciones de $M$.\n",
    "A esta técnica se le conoce como *microprogramación*, *simulación* o\n",
    "*emulación*.\n",
    "\n",
    "- La implementación tiene que simular las instrucciones de $L$ utilizando una\n",
    "  o varias instrucciones de $M$.\n",
    "- Posiblemente se requiera de implementar el propio cilco de\n",
    "  *traer-decodificar-ejecutar* en $M$.\n",
    "- Más lento que la implementación en hardware, pero aporta flexibilidad.\n",
    "\n",
    "Actualmente muchos de los programas que usamos en el día a día se implementan\n",
    "en microcódigo a través de técnicas como la *compilación*, que veremos más\n",
    "adelante.\n",
    "\n",
    "**Actividad** Hojear el [panfleto del sistema IBM 360][1] de 1964 y señalar las\n",
    "partes que corresponden a la implementación de su lenguaje máquina.\n",
    "\n",
    "[1]: recursos/A22-6821-0_360PrincOps.pdf"
   ]
  },
  {
   "cell_type": "markdown",
   "metadata": {},
   "source": [
    "### 2.3. Implementación en software\n",
    "A veces las instrucciones de un lenguaje $L$ son tan complejas que no es\n",
    "práctico implementarlas en hardware o microcódigo.\n",
    "En estos casos tenemos que simular la máquina $M$ en un lenguaje de programación\n",
    "$L^\\prime$ que ya esté implementado en hardware o microcódigo.\n",
    "A la máquina $M$ se le conoce como *máquina virtual* y al lenguaje $L(M)$ se le\n",
    "conoce como *lenguaje de alto nivel*.\n",
    "\n",
    "- Requiere programar en $L^\\prime$ un *intérprete* de $L$.\n",
    "- Aún más lento que la implementación en microcódigo, pero aporta mucha\n",
    "  flexibilidad, ya que solo requiere implementar una máquina virtual para cada\n",
    "  máquina hospedera."
   ]
  },
  {
   "cell_type": "markdown",
   "metadata": {},
   "source": [
    "### 2.4. Implementación mixta\n",
    "En la práctica, la implementación de un lenguaje de programación suele ser una\n",
    "combinación de las tres técnicas anteriores.\n",
    "Por ejemplo, el lenguaje de programación Python se implementa mediante un\n",
    "intérprete en lenguaje C (con su respectiva máquina virtual de Python que vimos\n",
    "en el estudio de caso anterior), y a su vez el lenguaje C se implementa en\n",
    "microcódigo en la mayoría de las computadoras modernas."
   ]
  },
  {
   "cell_type": "markdown",
   "metadata": {},
   "source": [
    "## 3. Compilación vs. interpretación\n",
    "Denotaremos con $P^L$ a un programa escrito en lenguaje $L$, y con $D$ al\n",
    "conjunto de todos los *datos* de entrada y salida de $P$.\n",
    "Matemáticamente $P$ es una función que mapea $D$ (entradas) a $D$ (salidas),\n",
    "denotado en teoría de conjuntos así:\n",
    "$$P^L: D \\to D$$\n",
    "\n",
    "Sin embargo hay un detalle técnico importante: $P$ no es una función definida en\n",
    "todo su dominio $D$, sino que está definida solamente en un subconjunto (¿por\n",
    "qué?).\n",
    "A esto se le conoce en matemáticas como *función parcial*.\n"
   ]
  },
  {
   "cell_type": "markdown",
   "metadata": {},
   "source": [
    "### 3.1 Intérpretes\n",
    "**Definición** Sea $A$ un lenguaje de programación y $D$ el conjunto de todos\n",
    "los datos de entrada y salida de $A$.\n",
    "Un *intérprete* del lenguaje $A$ es un programa $I^B$, escrito en lenguaje $B$,\n",
    "que recibe como entrada un programa $P^A$, escrito en lenguaje $A$, junto con su\n",
    "entrada $e\\in D$ y lo ejecuta; es decir, define la función parcial siguiente:\n",
    "$$I^B: A \\times D \\to D$$"
   ]
  },
  {
   "cell_type": "markdown",
   "metadata": {},
   "source": [
    "**Observación** El intérprete de $A$ es necesario para ejecutar cualquier\n",
    "programa de $A$; este actúa como una *máquina virtual* de $A$."
   ]
  },
  {
   "cell_type": "markdown",
   "metadata": {},
   "source": [
    "Muchos intérpretes incluyen una consola interactiva que permite ejecutar\n",
    "programas de $A$ sin necesidad de escribirlos en un archivo.\n",
    "A este proceso se le conoce como *REPL* (del inglés *Read-Eval-Print Loop*)\n",
    "porque es un ciclo de tres pasos:\n",
    "1. **Leer**: El intérprete lee una línea de texto escrita en lenguaje $A$.\n",
    "2. **Evaluar**: El intérprete ejecuta la línea de texto como una instrucción de\n",
    "   $A$.\n",
    "3. **Imprimir**: El intérprete imprime el resultado de la instrucción en la\n",
    "   pantalla.\n"
   ]
  },
  {
   "cell_type": "markdown",
   "metadata": {},
   "source": [
    "**Ejemplo 1** El intérprete de Python es un programa escrito en C que recibe como\n",
    "entrada un programa de Python y lo ejecuta. Cuando un programa de Python recibe\n",
    "una entrada o produce una salida, el intérprete de Python se encarga de leer o\n",
    "escribir los datos en la consola."
   ]
  },
  {
   "cell_type": "markdown",
   "metadata": {},
   "source": [
    "**Ejemplo 2** JavaScript es un lenguaje de programación que se ejecuta\n",
    "directamente en el navegador web."
   ]
  },
  {
   "cell_type": "markdown",
   "metadata": {},
   "source": [
    "**Actividad** Probar el intérprete de JavaScript directamente en el navegador\n",
    "web.\n",
    "- Abrir un navegador web moderno (Chrome, Firefox, Edge, etc.).\n",
    "- Abrir las herramientas del desarrollador (tecla F12).\n",
    "- Ir a la pestaña *Consola*.\n",
    "- Escribir el siguiente programa en JavaScript:\n",
    "  ```javascript\n",
    "  console.log(\"Hola mundo\");\n",
    "  ```\n",
    "- Probar con otros programas."
   ]
  },
  {
   "cell_type": "markdown",
   "metadata": {},
   "source": [
    "**Actividad** Analizar la implementación de la CHP en Python, así como\n",
    "proporcionar un intérprete de de acuerdo a la definición anterior."
   ]
  },
  {
   "cell_type": "markdown",
   "metadata": {},
   "source": [
    "En la CHP, el lenguaje consiste de listas de números de tres dígitos, y los\n",
    "datos de entrada y salida son listas de números de tres dígitos."
   ]
  },
  {
   "cell_type": "code",
   "execution_count": 7,
   "metadata": {},
   "outputs": [],
   "source": [
    "from materiales.maquinas.hombre import ComputadoraHombrePequenno\n",
    "\n",
    "def interprete_chp(programa: list[int], entrada: list[int]) -> list[int]:\n",
    "    maq = ComputadoraHombrePequenno(programa=programa, entrada=entrada)\n",
    "    maq.ejecutar()\n",
    "    return list(maq.salida)"
   ]
  },
  {
   "cell_type": "code",
   "execution_count": 17,
   "metadata": {},
   "outputs": [],
   "source": [
    "# Ejemplo: multiplicar dos números de la bandeja de entrada y poner el\n",
    "# resultado en la bandeja de salida.\n",
    "# Para multiplicar a por b, sumamos a b veces. Este programa coloca a en la\n",
    "# memoria 50, b en la memoria 51 y el resultado en la memoria 52.\n",
    "programa_de_multiplicar = [\n",
    "    603,  # IR A 3\n",
    "    # Preparar constantes:\n",
    "    0,  # CERO\n",
    "    1,  # UNO\n",
    "    # Línea 3 (inicio del programa):\n",
    "    901,  # entrada -> acumulador\n",
    "    350,  # acumulador -> memoria[50]\n",
    "    901,  # entrada -> acumulador\n",
    "    351,  # acumulador -> memoria[51]\n",
    "    501,  # CERO -> acumulador\n",
    "    352,  # acumulador -> memoria[52]\n",
    "    # Línea 9 (inicio del ciclo):\n",
    "    550,  # memoria[50] -> acumulador\n",
    "    717,  # SI acumulador = 0 ENTONCES IR A 17\n",
    "    202,  # acumulador - UNO -> acumulador\n",
    "    350,  # acumulador -> memoria[50]\n",
    "    551,  # memoria[51] -> acumulador\n",
    "    152,  # acumulador + memoria[52] -> acumulador\n",
    "    352,  # acumulador -> memoria[52]\n",
    "    609,  # IR A 9\n",
    "    # Línea 17 (fin del ciclo):\n",
    "    552,  # memoria[52] -> acumulador\n",
    "    902,  # acumulador -> SALIDA\n",
    "]"
   ]
  },
  {
   "cell_type": "code",
   "execution_count": 20,
   "metadata": {},
   "outputs": [
    {
     "name": "stdout",
     "output_type": "stream",
     "text": [
      "La computadora se detuvo.\n",
      "[40]\n"
     ]
    }
   ],
   "source": [
    "# Para ejecutar el programa de multiplicar, tenemos que usar el intéreprete.\n",
    "entrada=[5, 8]  # Los números a multiplicar\n",
    "salida = interprete_chp(programa_de_multiplicar, entrada)\n",
    "\n",
    "print(salida)"
   ]
  },
  {
   "cell_type": "markdown",
   "metadata": {},
   "source": [
    "**Actividad** Implementar un intérprete de Python en Python."
   ]
  },
  {
   "cell_type": "code",
   "execution_count": 9,
   "metadata": {},
   "outputs": [
    {
     "name": "stdout",
     "output_type": "stream",
     "text": [
      "\u001b[0;31mSignature:\u001b[0m \u001b[0mexec\u001b[0m\u001b[0;34m(\u001b[0m\u001b[0msource\u001b[0m\u001b[0;34m,\u001b[0m \u001b[0mglobals\u001b[0m\u001b[0;34m=\u001b[0m\u001b[0;32mNone\u001b[0m\u001b[0;34m,\u001b[0m \u001b[0mlocals\u001b[0m\u001b[0;34m=\u001b[0m\u001b[0;32mNone\u001b[0m\u001b[0;34m,\u001b[0m \u001b[0;34m/\u001b[0m\u001b[0;34m,\u001b[0m \u001b[0;34m*\u001b[0m\u001b[0;34m,\u001b[0m \u001b[0mclosure\u001b[0m\u001b[0;34m=\u001b[0m\u001b[0;32mNone\u001b[0m\u001b[0;34m)\u001b[0m\u001b[0;34m\u001b[0m\u001b[0;34m\u001b[0m\u001b[0m\n",
      "\u001b[0;31mDocstring:\u001b[0m\n",
      "Execute the given source in the context of globals and locals.\n",
      "\n",
      "The source may be a string representing one or more Python statements\n",
      "or a code object as returned by compile().\n",
      "The globals must be a dictionary and locals can be any mapping,\n",
      "defaulting to the current globals and locals.\n",
      "If only globals is given, locals defaults to it.\n",
      "The closure must be a tuple of cellvars, and can only be used\n",
      "when source is a code object requiring exactly that many cellvars.\n",
      "\u001b[0;31mType:\u001b[0m      builtin_function_or_method"
     ]
    }
   ],
   "source": [
    "?exec"
   ]
  },
  {
   "cell_type": "code",
   "execution_count": 10,
   "metadata": {},
   "outputs": [
    {
     "name": "stdout",
     "output_type": "stream",
     "text": [
      "30\n"
     ]
    }
   ],
   "source": [
    "# Ejemplo de programa minimal en Python\n",
    "x = 10\n",
    "y = 20\n",
    "print(x + y)"
   ]
  },
  {
   "cell_type": "code",
   "execution_count": 11,
   "metadata": {},
   "outputs": [
    {
     "name": "stdout",
     "output_type": "stream",
     "text": [
      "30\n"
     ]
    }
   ],
   "source": [
    "exec(\"x = 10; y = 20; print(x + y)\")"
   ]
  },
  {
   "cell_type": "code",
   "execution_count": 12,
   "metadata": {},
   "outputs": [
    {
     "name": "stdout",
     "output_type": "stream",
     "text": [
      "x = 10\n",
      "y = 15\n",
      "print(x+y)\n",
      "25\n"
     ]
    }
   ],
   "source": [
    "for k in range(3):\n",
    "    codigo = input()\n",
    "    print(codigo)\n",
    "    exec(codigo)"
   ]
  },
  {
   "cell_type": "markdown",
   "metadata": {},
   "source": [
    "### 3.2 Compiladores"
   ]
  },
  {
   "cell_type": "markdown",
   "metadata": {},
   "source": [
    "Intuitivamente, un compilador es un programa que traduce un programa de un\n",
    "lenguaje a otro.\n",
    "Sin embargo, la definición formal requiere que especifiquemos que el programa\n",
    "traducido debe ser *equivalente* al original, y ese es un detalle técnico\n",
    "muy importante.\n",
    "\n",
    "**Definición** Sean $A$ y $B$ lenguajes de programación.\n",
    "Un *compilador* de $A$ a $B$ es un programa $T$ que recibe como entrada un\n",
    "programa $P^A$ escrito en $A$ y produce como salida un programa $P^B$ escrito en\n",
    "$B$; es decir, define una función\n",
    "$$T: A \\to B\\text{;}$$\n",
    "más aún, $P^B$ es tal que para toda entrada $e\\in D$ se cumple que\n",
    "$$P^B(e) = P^A(e)\\text{.}$$"
   ]
  },
  {
   "cell_type": "markdown",
   "metadata": {},
   "source": [
    "**Observación** Usualmente $B$ es un lenguaje máquina, por lo que $P^B$ es un\n",
    "programa que puede ser ejecutado directamente en una máquina, sin necesidad de\n",
    "un intérprete.\n",
    "Cuando esto no es así, se requiere de un intérprete de $B$ o bien otro\n",
    "compilador de $B$ a un lenguaje máquina."
   ]
  },
  {
   "cell_type": "markdown",
   "metadata": {},
   "source": [
    "**Actividad** Usar el compilador de ensamblador incluido en el contenedor de\n",
    "Docker de estas notas para compilar el programa \"*Hola mundo*\".\n",
    "Luego, usar el editor hexadecimal para comparar el programa original con el\n",
    "programa compilado.\n",
    "\n",
    "```asm\n",
    "section .data\n",
    "\thello:     db 'Hola, mundo!',10    ; Saludo más un salto de línea\n",
    "\thelloLen:  equ $-hello             ; Longitud del saludo\n",
    "\n",
    "section .text\n",
    "\tglobal _start\n",
    "\n",
    "_start:\n",
    "\tmov eax,4            ; Llamada al sistema para escribir (sys_write)\n",
    "\tmov ebx,1            ; Descriptor de archivo 1: salida estándar\n",
    "\tmov ecx,hello        ; Poner la dirección de hello en ecx\n",
    "\tmov edx,helloLen     ; Pon la longitud de hello en edx\n",
    "\tint 80h              ; Llamada al sistema\n",
    "\n",
    "\tmov eax,1            ; Llamada al sistema para terminar (sys_exit)\n",
    "\tmov ebx,0            ; Salir con código de error 0 (éxito)\n",
    "\tint 80h\n",
    "```\n",
    "\n",
    "Para compilar el programa anterior, ejecutar los siguientes comandos en una\n",
    "terminal de Visual Studio Code.\n",
    "Para abrir una terminal en Visual Studio Code, puedes usar la paleta de comandos\n",
    "con la combinación de teclas `Ctrl+Shift+P` y escribir *Terminal: Crear nueva\n",
    "terminal*.\n",
    "\n",
    "```bash\n",
    "cd programas/ensamblador\n",
    "nasm -f elf64 hola.asm\n",
    "ld -s -o hola hola.o\n",
    "chmod +x hola\n",
    "./hola\n",
    "```"
   ]
  },
  {
   "cell_type": "markdown",
   "metadata": {},
   "source": [
    "**Actividad** Usar el compilador de C (*gcc*), incluido en el contenedor de\n",
    "Docker para estas notas, para compilar y ejecutar el programa \"*Hola mundo*\".\n",
    "Luego usar un editor de hexadecimales para analizar el código objeto generado.\n",
    "\n",
    "```c\n",
    "#include <stdio.h>\n",
    "int main() {\n",
    "   printf(\"¡Hola, mundo!\");\n",
    "   return 0;\n",
    "}\n",
    "```"
   ]
  },
  {
   "cell_type": "markdown",
   "metadata": {},
   "source": [
    "### 3.3 Lenguajes intermedios y máquinas virtuales\n",
    "\n",
    "En la realidad, la mayoría de los compiladores no traducen directamente de un\n",
    "lenguaje a otro, sino que utilizan un *lenguaje intermedio* y una *máquina\n",
    "virtual*, es decir un híbrido de las técnicas de compilación e interpretación."
   ]
  },
  {
   "cell_type": "markdown",
   "metadata": {},
   "source": [
    "**Actividad** Usar el compilador integrado de Python para analizar el código\n",
    "objeto de un programa, y compararlo con la salida  del deseasamblador de Python."
   ]
  },
  {
   "cell_type": "code",
   "execution_count": 13,
   "metadata": {},
   "outputs": [],
   "source": [
    "# Compilamos el código\n",
    "programa = \"\"\"\n",
    "base = 5\n",
    "altura = 7\n",
    "area = base * altura / 2\n",
    "print(area)\n",
    "\"\"\"\n",
    "obj = compile(programa, \"<string>\", \"exec\")"
   ]
  },
  {
   "cell_type": "code",
   "execution_count": 14,
   "metadata": {},
   "outputs": [
    {
     "data": {
      "text/plain": [
       "bytes"
      ]
     },
     "execution_count": 14,
     "metadata": {},
     "output_type": "execute_result"
    }
   ],
   "source": [
    "# obj.co_code es un objeto de tipo bytes\n",
    "type(obj.co_code)"
   ]
  },
  {
   "cell_type": "code",
   "execution_count": 15,
   "metadata": {},
   "outputs": [
    {
     "name": "stdout",
     "output_type": "stream",
     "text": [
      "El código objeto contine los siguientes 52 bytes:\n",
      "97 00 64 00 5A 00 64 01 5A 01\n",
      "65 00 65 01 7A 05 00 00 64 02\n",
      "7A 0B 00 00 5A 02 02 00 65 03\n",
      "65 02 A6 01 00 00 AB 01 00 00\n",
      "00 00 00 00 00 00 01 00 64 03\n",
      "53 00\n"
     ]
    }
   ],
   "source": [
    "print(f\"El código objeto contine los siguientes {len(obj.co_code)} bytes:\")\n",
    "for i in range(0, len(obj.co_code), 10):  # Mostrar de 10 en 10\n",
    "    print(*(f\"{b:02X}\" for b in obj.co_code[i:i+10]))  # Mostrar en hexadecimal"
   ]
  },
  {
   "cell_type": "code",
   "execution_count": 16,
   "metadata": {},
   "outputs": [
    {
     "name": "stdout",
     "output_type": "stream",
     "text": [
      "  0           0 RESUME                   0\n",
      "\n",
      "  2           2 LOAD_CONST               0 (5)\n",
      "              4 STORE_NAME               0 (base)\n",
      "\n",
      "  3           6 LOAD_CONST               1 (7)\n",
      "              8 STORE_NAME               1 (altura)\n",
      "\n",
      "  4          10 LOAD_NAME                0 (base)\n",
      "             12 LOAD_NAME                1 (altura)\n",
      "             14 BINARY_OP                5 (*)\n",
      "             18 LOAD_CONST               2 (2)\n",
      "             20 BINARY_OP               11 (/)\n",
      "             24 STORE_NAME               2 (area)\n",
      "\n",
      "  5          26 PUSH_NULL\n",
      "             28 LOAD_NAME                3 (print)\n",
      "             30 LOAD_NAME                2 (area)\n",
      "             32 PRECALL                  1\n",
      "             36 CALL                     1\n",
      "             46 POP_TOP\n",
      "             48 LOAD_CONST               3 (None)\n",
      "             50 RETURN_VALUE\n"
     ]
    }
   ],
   "source": [
    "dis.disassemble(obj)"
   ]
  },
  {
   "cell_type": "markdown",
   "metadata": {},
   "source": [
    "**Actividad** Comparar las ventajas y desventajas de la compilación y la\n",
    "interpretación."
   ]
  }
 ],
 "metadata": {
  "kernelspec": {
   "display_name": ".venv",
   "language": "python",
   "name": "python3"
  },
  "language_info": {
   "codemirror_mode": {
    "name": "ipython",
    "version": 3
   },
   "file_extension": ".py",
   "mimetype": "text/x-python",
   "name": "python",
   "nbconvert_exporter": "python",
   "pygments_lexer": "ipython3",
   "version": "3.11.2"
  },
  "orig_nbformat": 4
 },
 "nbformat": 4,
 "nbformat_minor": 2
}
