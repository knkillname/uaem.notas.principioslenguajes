{
 "cells": [
  {
   "cell_type": "markdown",
   "metadata": {},
   "source": [
    "# Máquinas abstractas"
   ]
  },
  {
   "cell_type": "markdown",
   "metadata": {},
   "source": [
    "## 1. Máquinas e intérpretes"
   ]
  },
  {
   "cell_type": "markdown",
   "metadata": {},
   "source": [
    "Una *máquina abstracta* es un modelo de sistema computacional que recibe \n",
    "entradas y produce salidas de acuerdo a un conjunto de reglas.\n",
    "Estos modelos son *máquinas* porque permiten la ejecución paso a paso de\n",
    "instrucciones, y son *abstractas* porque no están limitadas por las leyes\n",
    "físicas.\n",
    "Toda máquina abstracta particular define un conjunto de *estados* en los que se\n",
    "puede encontrar, y cuentan con un conjunto de *instrucciones* que permiten \n",
    "alterar el estado de la máquina."
   ]
  },
  {
   "cell_type": "markdown",
   "metadata": {},
   "source": [
    "**Ejemplo** El estatus civil de una persona puede ser soltero, casado, viudo,\n",
    "divorciado, etc. Estos son los estados posibles de una persona. Las\n",
    "instrucciones que permiten alterar el estado civil son casarse, divorciarse,\n",
    "enviudar, etc."
   ]
  },
  {
   "cell_type": "markdown",
   "metadata": {},
   "source": [
    "### Estudio de caso: La Computadora del Hombre Pequeño\n",
    "Intuitivamente las máquinas abstractas son abstracciones simplificadas e\n",
    "idealizadas de las computadoras reales.\n",
    "En este sentido, uno de los modelos didácticos más simples es el de la\n",
    "[*Computadora del Hombre Pequeño*](https://en.wikipedia.org/wiki/Little_man_computer)\n",
    "(CHP), que ilustra de manera muy simplificada el funcionamiento de una\n",
    "computadora con arquitecura de Von Neumann (como las computadoras actuales).\n",
    "- La CHP consiste en un hombre pequeño que vive en una sala de correos con una\n",
    "  bandeja de entrada y una bandeja de salida.\n",
    "- El hombre pequeño cuenta con un ábaco (*acumulador*) para almacenar un número\n",
    "  de tres dígitos así como realizar sumas y restas.\n",
    "- La sala tiene 100 cajones numerados del 00 al 99 y cada cajón contiene una \n",
    "  carta con un número de tres dígitos.\n",
    "- El hombre puede leer el contenido de un cajón, escribir en él, y moverse\n",
    "  a otro cajón.\n",
    "- El hombre puede leer el número de la carta en el cajón en el que se encuentra,\n",
    "  y en base a ese número puede decidir qué hacer a continuación.\n",
    "\n",
    "En cada paso, el hombre pequeño realiza un ciclo de tres pasos, mejor conocido\n",
    "como ciclo de *fetch-decode-execute*:\n",
    "1. **Traer**: El hombre lee el número de la carta en el cajón en el que se\n",
    "   encuentra.\n",
    "2. **Decodificar**: El hombre decide qué hacer en base al número de la carta.\n",
    "3. **Ejecutar**: El hombre realiza la acción correspondiente y se mueve al\n",
    "   siguiente cajón a menos que la acción sea moverse a un cajón específico.\n",
    "\n",
    "Para decodificar el número de la carta, el hombre pequeño utiliza una tabla como\n",
    "esta:\n",
    "\n",
    "Instrucción | Número de la carta | Descripción\n",
    ":---------- | :----------------: | :----------\n",
    "**HALT** | 000 | Detente (hora de tomar un descanso).\n",
    "**ADD** | 1xx | Suma a tu ábaco el número de la carta `xx`.\n",
    "**SUBTRACT** | 2xx | Resta de tu ábaco el número de la carta `xx`.\n",
    "**STORE** | 3xx | Escribe el número de tu ábaco en una carta y ponla en el cajón `xx`.\n",
    "**LOAD** | 5xx | Pon en tu ábaco el número que está escrito la carta del cajón `xx`.\n",
    "**BRANCH** | 6xx | Dirígete al cajón `xx`.\n",
    "**BRANCH IF ZERO** | 7xx | Dirígete al cajón `xx` si el número en tu ábaco es cero.\n",
    "**BRANCH IF POSITIVE**| 8xx | Dirígete al cajón `xx` si el número en tu ábaco es positivo.\n",
    "**INPUT** | 901 | Toma una carta de la bandeja de entrada y copia el número en tu ábaco.\n",
    "**OUTPUT** | 902 | Escribe el número de tu ábaco en una carta y ponla en la bandeja de salida."
   ]
  },
  {
   "cell_type": "code",
   "execution_count": 3,
   "metadata": {},
   "outputs": [],
   "source": [
    "from materiales.maquinas.hombre import ComputadoraHombrePequenno"
   ]
  },
  {
   "cell_type": "code",
   "execution_count": 29,
   "metadata": {},
   "outputs": [
    {
     "data": {
      "text/html": [
       "↓[<code>002</code>, <code>003</code>, <code>009</code>, <code>019</code>, <code>004</code>, <code>002</code>, <code>000</code>]\n",
       "<table>\n",
       "<tr><td><code>000</code></td><th><strong>X0</strong></th><th><strong>X1</strong></th><th><strong>X2</strong></th><th><strong>X3</strong></th><th><strong>X4</strong></th><th><strong>X5</strong></th><th><strong>X6</strong></th><th><strong>X7</strong></th><th><strong>X8</strong></th><th><strong>X9</strong></th></tr>\n",
       "<tr><th><strong>0X</strong></th><td><code>▶901</code></td><td><code>310</code></td><td><code>901</code></td><td><code>110</code></td><td><code>902</code></td><td><code>000</code></td><td><code>000</code></td><td><code>000</code></td><td><code>000</code></td><td><code>000</code></td></tr>\n",
       "<tr><th><strong>1X</strong></th><td><code>000</code></td><td><code>000</code></td><td><code>000</code></td><td><code>000</code></td><td><code>000</code></td><td><code>000</code></td><td><code>000</code></td><td><code>000</code></td><td><code>000</code></td><td><code>000</code></td></tr>\n",
       "<tr><th><strong>2X</strong></th><td><code>000</code></td><td><code>000</code></td><td><code>000</code></td><td><code>000</code></td><td><code>000</code></td><td><code>000</code></td><td><code>000</code></td><td><code>000</code></td><td><code>000</code></td><td><code>000</code></td></tr>\n",
       "<tr><th><strong>3X</strong></th><td><code>000</code></td><td><code>000</code></td><td><code>000</code></td><td><code>000</code></td><td><code>000</code></td><td><code>000</code></td><td><code>000</code></td><td><code>000</code></td><td><code>000</code></td><td><code>000</code></td></tr>\n",
       "<tr><th><strong>4X</strong></th><td><code>000</code></td><td><code>000</code></td><td><code>000</code></td><td><code>000</code></td><td><code>000</code></td><td><code>000</code></td><td><code>000</code></td><td><code>000</code></td><td><code>000</code></td><td><code>000</code></td></tr>\n",
       "<tr><th><strong>5X</strong></th><td><code>000</code></td><td><code>000</code></td><td><code>000</code></td><td><code>000</code></td><td><code>000</code></td><td><code>000</code></td><td><code>000</code></td><td><code>000</code></td><td><code>000</code></td><td><code>000</code></td></tr>\n",
       "<tr><th><strong>6X</strong></th><td><code>000</code></td><td><code>000</code></td><td><code>000</code></td><td><code>000</code></td><td><code>000</code></td><td><code>000</code></td><td><code>000</code></td><td><code>000</code></td><td><code>000</code></td><td><code>000</code></td></tr>\n",
       "<tr><th><strong>7X</strong></th><td><code>000</code></td><td><code>000</code></td><td><code>000</code></td><td><code>000</code></td><td><code>000</code></td><td><code>000</code></td><td><code>000</code></td><td><code>000</code></td><td><code>000</code></td><td><code>000</code></td></tr>\n",
       "<tr><th><strong>8X</strong></th><td><code>000</code></td><td><code>000</code></td><td><code>000</code></td><td><code>000</code></td><td><code>000</code></td><td><code>000</code></td><td><code>000</code></td><td><code>000</code></td><td><code>000</code></td><td><code>000</code></td></tr>\n",
       "<tr><th><strong>9X</strong></th><td><code>000</code></td><td><code>000</code></td><td><code>000</code></td><td><code>000</code></td><td><code>000</code></td><td><code>000</code></td><td><code>000</code></td><td><code>000</code></td><td><code>000</code></td><td><code>000</code></td></tr>\n",
       "</table>\n",
       "↓[]"
      ],
      "text/plain": [
       "ComputadoraHombrePequenno(programa=[901, 310, 901, 110, 902], contador=0, acumulador=0, entrada=deque([2, 3, 9, 19, 4, 2, 0]), salida=deque([]))"
      ]
     },
     "execution_count": 29,
     "metadata": {},
     "output_type": "execute_result"
    }
   ],
   "source": [
    "# Ejemplo: sumar dos números de la bandeja de entrada y poner el \n",
    "# resultado en la bandeja de salida\n",
    "maq = ComputadoraHombrePequenno()\n",
    "maq.cargar_entrada([2, 3, 9, 19, 4, 2, 0])\n",
    "maq.cargar_programa([901, 310, 901, 110, 902])"
   ]
  },
  {
   "cell_type": "code",
   "execution_count": 35,
   "metadata": {},
   "outputs": [
    {
     "name": "stdout",
     "output_type": "stream",
     "text": [
      "La computadora se detuvo.\n"
     ]
    },
    {
     "data": {
      "text/html": [
       "↓[<code>009</code>, <code>019</code>, <code>004</code>, <code>002</code>, <code>000</code>]\n",
       "<table>\n",
       "<tr><td><code>005</code></td><th><strong>X0</strong></th><th><strong>X1</strong></th><th><strong>X2</strong></th><th><strong>X3</strong></th><th><strong>X4</strong></th><th><strong>X5</strong></th><th><strong>X6</strong></th><th><strong>X7</strong></th><th><strong>X8</strong></th><th><strong>X9</strong></th></tr>\n",
       "<tr><th><strong>0X</strong></th><td><code>901</code></td><td><code>310</code></td><td><code>901</code></td><td><code>110</code></td><td><code>902</code></td><td><code>000</code></td><td><code>000</code></td><td><code>000</code></td><td><code>000</code></td><td><code>000</code></td></tr>\n",
       "<tr><th><strong>1X</strong></th><td><code>002</code></td><td><code>000</code></td><td><code>000</code></td><td><code>000</code></td><td><code>000</code></td><td><code>000</code></td><td><code>000</code></td><td><code>000</code></td><td><code>000</code></td><td><code>000</code></td></tr>\n",
       "<tr><th><strong>2X</strong></th><td><code>000</code></td><td><code>000</code></td><td><code>000</code></td><td><code>000</code></td><td><code>000</code></td><td><code>000</code></td><td><code>000</code></td><td><code>000</code></td><td><code>000</code></td><td><code>000</code></td></tr>\n",
       "<tr><th><strong>3X</strong></th><td><code>000</code></td><td><code>000</code></td><td><code>000</code></td><td><code>000</code></td><td><code>000</code></td><td><code>000</code></td><td><code>000</code></td><td><code>000</code></td><td><code>000</code></td><td><code>000</code></td></tr>\n",
       "<tr><th><strong>4X</strong></th><td><code>000</code></td><td><code>000</code></td><td><code>000</code></td><td><code>000</code></td><td><code>000</code></td><td><code>000</code></td><td><code>000</code></td><td><code>000</code></td><td><code>000</code></td><td><code>000</code></td></tr>\n",
       "<tr><th><strong>5X</strong></th><td><code>000</code></td><td><code>000</code></td><td><code>000</code></td><td><code>000</code></td><td><code>000</code></td><td><code>000</code></td><td><code>000</code></td><td><code>000</code></td><td><code>000</code></td><td><code>000</code></td></tr>\n",
       "<tr><th><strong>6X</strong></th><td><code>000</code></td><td><code>000</code></td><td><code>000</code></td><td><code>000</code></td><td><code>000</code></td><td><code>000</code></td><td><code>000</code></td><td><code>000</code></td><td><code>000</code></td><td><code>000</code></td></tr>\n",
       "<tr><th><strong>7X</strong></th><td><code>000</code></td><td><code>000</code></td><td><code>000</code></td><td><code>000</code></td><td><code>000</code></td><td><code>000</code></td><td><code>000</code></td><td><code>000</code></td><td><code>000</code></td><td><code>000</code></td></tr>\n",
       "<tr><th><strong>8X</strong></th><td><code>000</code></td><td><code>000</code></td><td><code>000</code></td><td><code>000</code></td><td><code>000</code></td><td><code>000</code></td><td><code>000</code></td><td><code>000</code></td><td><code>000</code></td><td><code>000</code></td></tr>\n",
       "<tr><th><strong>9X</strong></th><td><code>000</code></td><td><code>000</code></td><td><code>000</code></td><td><code>000</code></td><td><code>000</code></td><td><code>000</code></td><td><code>000</code></td><td><code>000</code></td><td><code>000</code></td><td><code>000</code></td></tr>\n",
       "</table>\n",
       "↓[<code>005</code>]"
      ],
      "text/plain": [
       "ComputadoraHombrePequenno(programa=[901, 310, 901, 110, 902, 0, 0, 0, 0, 0, 2], contador=100, acumulador=5, entrada=deque([9, 19, 4, 2, 0]), salida=deque([5]))"
      ]
     },
     "execution_count": 35,
     "metadata": {},
     "output_type": "execute_result"
    }
   ],
   "source": [
    "# NOTA: Ejecuta esta celda varias veces para ver el resultado\n",
    "maq.transicion()"
   ]
  },
  {
   "cell_type": "markdown",
   "metadata": {},
   "source": [
    "### Estudio de caso: El desensamblador de Python"
   ]
  },
  {
   "cell_type": "markdown",
   "metadata": {},
   "source": [
    "Python también se puede ver como una máquina abstracta.\n",
    "En este caso, la máquina abstracta de Python es una máquina de pila, es decir,\n",
    "una máquina que utiliza una pila para almacenar datos y realizar operaciones.\n",
    "\n",
    "Una *pila* es una estructura de datos que permite almacenar datos y recuperarlos\n",
    "en el orden inverso al que fueron almacenados.\n",
    "Es decir, en una pila los datos solamente se pueden *apilar* en la cima o\n",
    "*desapilar* de la cima."
   ]
  },
  {
   "cell_type": "code",
   "execution_count": 37,
   "metadata": {},
   "outputs": [
    {
     "name": "stdout",
     "output_type": "stream",
     "text": [
      "100\n"
     ]
    }
   ],
   "source": [
    "# Ejemplo de pequeño programa de Python:\n",
    "x = 100\n",
    "print(x)"
   ]
  },
  {
   "cell_type": "code",
   "execution_count": 43,
   "metadata": {},
   "outputs": [
    {
     "name": "stdout",
     "output_type": "stream",
     "text": [
      "  0           0 RESUME                   0\n",
      "\n",
      "  2           2 LOAD_CONST               0 (100)\n",
      "              4 STORE_NAME               0 (x)\n",
      "\n",
      "  3           6 PUSH_NULL\n",
      "              8 LOAD_NAME                1 (print)\n",
      "             10 LOAD_NAME                0 (x)\n",
      "             12 PRECALL                  1\n",
      "             16 CALL                     1\n",
      "             26 POP_TOP\n",
      "             28 LOAD_CONST               1 (None)\n",
      "             30 RETURN_VALUE\n"
     ]
    }
   ],
   "source": [
    "import dis\n",
    "\n",
    "# Una cadena de texto entre triples comillas puede tener saltos de línea.\n",
    "texto = \"\"\"\n",
    "x = 100\n",
    "print(x)\n",
    "\"\"\"\n",
    "dis.dis(texto)  # Mostrar en pantalla el programa de la máquina abstracta"
   ]
  },
  {
   "cell_type": "markdown",
   "metadata": {},
   "source": [
    "La saida del desensaamblador de Python es una secuencia de instrucciones\n",
    "divididas las siguientes columnas:\n",
    "- La primera columna indica el número de línea en el texto original.\n",
    "- La segunda columna indica la posición de la instrucción la memoria de la\n",
    "  máquina abstracta.\n",
    "  Los números que faltan en la secuencia casi siempre indican que esa posición\n",
    "  está ocupada por un dato, como puede ser un número o una cadena de texto.\n",
    "  Si una de estas instrucciones es el objetivo de un salto condicional, se\n",
    "  indica con una marca `>>`.\n",
    "- La tercera columna indica la instrucción en lenguaje de la máquina.\n",
    "- La cuarta columna indica el argumento de la instrucción, seguido del nombre\n",
    "  entre paréntesis."
   ]
  },
  {
   "cell_type": "code",
   "execution_count": 44,
   "metadata": {},
   "outputs": [
    {
     "name": "stdout",
     "output_type": "stream",
     "text": [
      "  0           0 RESUME                   0\n",
      "\n",
      "  2           2 LOAD_CONST               0 (23)\n",
      "              4 STORE_NAME               0 (edad)\n",
      "\n",
      "  3           6 LOAD_CONST               1 ('Vamos por un Yakult')\n",
      "              8 STORE_NAME               1 (mensaje)\n",
      "\n",
      "  4          10 LOAD_NAME                0 (edad)\n",
      "             12 LOAD_CONST               2 (18)\n",
      "             14 COMPARE_OP               5 (>=)\n",
      "             20 POP_JUMP_FORWARD_IF_FALSE     4 (to 30)\n",
      "\n",
      "  5          22 LOAD_CONST               3 ('Vamos por unas chelas')\n",
      "             24 STORE_NAME               1 (mensaje)\n",
      "             26 LOAD_CONST               4 (None)\n",
      "             28 RETURN_VALUE\n",
      "\n",
      "  4     >>   30 LOAD_CONST               4 (None)\n",
      "             32 RETURN_VALUE\n"
     ]
    }
   ],
   "source": [
    "programa = '''\n",
    "edad = 23\n",
    "mensaje = \"Vamos por un Yakult\"\n",
    "if edad >= 18:\n",
    "    mensaje = \"Vamos por unas chelas\"\n",
    "'''\n",
    "dis.dis(programa)"
   ]
  },
  {
   "cell_type": "markdown",
   "metadata": {},
   "source": [
    "**Definición** Sea $M$ una máquina abstracta\n",
    "- Un *programa* $P$ de $M$ es un texto finito que define operaciones de $M$ y\n",
    "  que hace que $M$ transite de un estado a otro de forma legal.\n",
    "- Definimos a $L(M)$ “*el lenguaje máquina de $M$*” como el conjunto de todos\n",
    "  los programas de $M$."
   ]
  },
  {
   "cell_type": "code",
   "execution_count": null,
   "metadata": {},
   "outputs": [],
   "source": []
  }
 ],
 "metadata": {
  "kernelspec": {
   "display_name": ".venv",
   "language": "python",
   "name": "python3"
  },
  "language_info": {
   "codemirror_mode": {
    "name": "ipython",
    "version": 3
   },
   "file_extension": ".py",
   "mimetype": "text/x-python",
   "name": "python",
   "nbconvert_exporter": "python",
   "pygments_lexer": "ipython3",
   "version": "3.11.2"
  },
  "orig_nbformat": 4
 },
 "nbformat": 4,
 "nbformat_minor": 2
}
