{
 "cells": [
  {
   "cell_type": "markdown",
   "metadata": {},
   "source": [
    "# Programación imperativa\n",
    "\n",
    "En general, existen dos maneras fundamentalmente distintas de programar:\n",
    "\n",
    "- **Programación imperativa**: los programas consisten en series de instrucciones\n",
    "  que indican a la computadora qué hacer y cómo hacerlo.\n",
    "- **Programación declarativa**: los programas consisten en descripciones de hechos\n",
    "  y problemas que deben ser resueltos.\n",
    "  El cómo se resuelven estos problemas queda a cargo de la computadora.\n",
    "\n",
    "Históricamente los lenguajes de programación han evolucionado mediante\n",
    "abstracciones que permiten expresar conceptos de manera más simple comenzando\n",
    "por la máquina y terminando en el problema a resolver, de manera que los\n",
    "lenguajes imperativos han sido los más utilizados hasta el momento, aunque\n",
    "últimamente los lenguajes declarativos han ganado gran popularidad.\n",
    "\n",
    "En este módulo vamos a aprender diferentes conceptos de la programación\n",
    "imperativa y en el próximo módulo vamos a aprender los conceptos de la\n",
    "programación declarativa; solo hay que tomar en cuenta que el buen programador\n",
    "usa ambos tipos de lenguajes y sus distintos paradigmas como una caja de\n",
    "herramientas para resolver los problemas que se le presenten."
   ]
  },
  {
   "cell_type": "markdown",
   "metadata": {},
   "source": [
    "## 1. Identificadores"
   ]
  },
  {
   "cell_type": "markdown",
   "metadata": {},
   "source": [
    "### 1.1. Identificadores y objetos denotables"
   ]
  },
  {
   "cell_type": "markdown",
   "metadata": {},
   "source": [
    "\n",
    "Quizá la abstracción de datos más importante que se ha hecho en la programación\n",
    "imperativa es la de **identificador** o **nombre**.\n",
    "Los identificadores son cadenas de caracteres que se utilizan para referirse a\n",
    "**objetos denotables** en el lenguaje de programación.\n",
    "\n",
    "Un objeto denotable es básicamente cualquier cosa que se pueda construir en\n",
    "lenguaje de programación, por ejemplo, un número, una cadena de caracteres, una\n",
    "lista, una función, etc. siempre que el lenguaje te permita construirlo y\n",
    "asignarle un nombre.\n",
    "\n",
    "Es importante mencionar que los identificadores no son los objetos que denotan,\n",
    "sino que son una manera de referirse a ellos. \n",
    "\n",
    "**Notación** Usamos las *metavariables* (variables que representan variables)\n",
    "`foo`, `bar`, `baz`, `qux`, `quux`, para referirnos a identificadores arbitrarios.\n",
    "Estas son de uso común en la literatura de programación."
   ]
  },
  {
   "cell_type": "markdown",
   "metadata": {},
   "source": [
    "**Ejemplo** En Python los nombres son *etiquetas* que se colocan sobre objetos.\n",
    "Puedes pensar en ellas como notas post-it que se pegan sobre los objetos que \n",
    "identifican, y que además los puedes cambiar de objeto cuando quieras.\n",
    "\n",
    "<img src=\"img/variablespostit.svg\" height=\"256\" />\n"
   ]
  },
  {
   "cell_type": "code",
   "execution_count": 1,
   "metadata": {},
   "outputs": [
    {
     "data": {
      "text/plain": [
       "139798955840752"
      ]
     },
     "execution_count": 1,
     "metadata": {},
     "output_type": "execute_result"
    }
   ],
   "source": [
    "# En Python todos los objetos denotables tienen un número identificador\n",
    "# único mientras existen en la memoria.\n",
    "id(\"Hola\")"
   ]
  },
  {
   "cell_type": "markdown",
   "metadata": {},
   "source": [
    "Cuando dos variables se refieren al mismo objeto, se dice que son *alias* una\n",
    "de la otra."
   ]
  },
  {
   "cell_type": "code",
   "execution_count": 2,
   "metadata": {},
   "outputs": [
    {
     "name": "stdout",
     "output_type": "stream",
     "text": [
      "bar='Calculadora' hace referencia al objeto id(bar)=139798955848176\n",
      "foo='Jamón' hace referencia al objeto id(foo)=139798955601920\n",
      "bar='Jamón' hace referencia al objeto id(bar)=139798955601920\n",
      "foo='Monja' hace referencia al objeto id(foo)=139798955908208\n",
      "bar='Jamón' hace referencia al objeto id(bar)=139798955601920\n",
      "bar='Jamón' hace referencia al objeto id(bar)=139798955973072\n"
     ]
    }
   ],
   "source": [
    "# Colocamos foo sobre la cadena \"Jamón\" y bar sobre la misma cadena\n",
    "bar = \"Calculadora\"\n",
    "print(f\"{bar=} hace referencia al objeto {id(bar)=}\")\n",
    "foo = \"Jamón\"\n",
    "print(f\"{foo=} hace referencia al objeto {id(foo)=}\")\n",
    "bar = foo  # bar es un alias de foo\n",
    "print(f\"{bar=} hace referencia al objeto {id(bar)=}\")\n",
    "# Movemos foo a otra cadena\n",
    "foo = \"Monja\"\n",
    "print(f\"{foo=} hace referencia al objeto {id(foo)=}\")\n",
    "print(f\"{bar=} hace referencia al objeto {id(bar)=}\")\n",
    "bar = \"Tortas\"  # Aquí ya no hay referencias al jamón\n",
    "bar = \"Jamón\"\n",
    "print(f\"{bar=} hace referencia al objeto {id(bar)=}\")"
   ]
  },
  {
   "cell_type": "code",
   "execution_count": 3,
   "metadata": {},
   "outputs": [
    {
     "name": "stdout",
     "output_type": "stream",
     "text": [
      "foo=[1, 2, 3]\n",
      "bar=[1, 2, 3]\n",
      "Modificamos foo...\n",
      "foo=[1, 2, 3, 4]\n",
      "bar=[1, 2, 3, 4]\n"
     ]
    }
   ],
   "source": [
    "# Este es un error muy común entre los programadores novatos que aún no\n",
    "# entienden cómo funciona la asignación de variables en Python.\n",
    "foo = [1, 2, 3]\n",
    "print(f\"{foo=}\")\n",
    "\n",
    "bar = foo  # bar hace referencia la misma lista que foo\n",
    "print(f\"{bar=}\")\n",
    "\n",
    "print(\"Modificamos foo...\")\n",
    "foo.append(4)\n",
    "print(f\"{foo=}\")\n",
    "print(f\"{bar=}\")  # bar también se modifica!"
   ]
  },
  {
   "cell_type": "markdown",
   "metadata": {},
   "source": [
    "En los lenguajes de programación imperativos no cualquier cadena de caracteres\n",
    "es un identificador ni todos los identificadores son variables.\n",
    "- Los identificadores están delimitados por la sintaxis del lenguaje.\n",
    "- Las palabras reservadas del lenguaje no pueden ser usadas como\n",
    "  identificadores.\n",
    "- Algunos identificadores son provistos por el lenguaje y en general no se\n",
    "  pueden modificar.\n"
   ]
  },
  {
   "cell_type": "code",
   "execution_count": 4,
   "metadata": {},
   "outputs": [],
   "source": [
    "# En Python, los identificadores pueden tener letras UNICODE, dígitos y\n",
    "# guiones bajos, pero no pueden comenzar con un dígito.\n",
    "perrito1 = \"🐶\"\n",
    "_toro_malo95 = \"🐱\"\n",
    "δ = 0.0001\n",
    "未知 = [...]"
   ]
  },
  {
   "cell_type": "code",
   "execution_count": 5,
   "metadata": {},
   "outputs": [],
   "source": [
    "# Estas variables están prohibidas en Python. Producen un SyntaxError\n",
    "# 1perrito = \"Hola\"\n",
    "# 🐶 = \"Guau\""
   ]
  },
  {
   "cell_type": "markdown",
   "metadata": {},
   "source": [
    "A pesar de que en teoría es posible que un lenguaje de programación permita\n",
    "usar cualquier cadena de caracteres como identificador, en la práctica solo se\n",
    "recomienda usar identificadores escritos en inglés."
   ]
  },
  {
   "cell_type": "markdown",
   "metadata": {},
   "source": [
    "Python tiene 35 palabras reservadas que no pueden ser usadas como\n",
    "identificadores:\n",
    "1. `False`\n",
    "1. `None`\n",
    "1. `True`\n",
    "1. `and`\n",
    "1. `as`\n",
    "1. `assert`\n",
    "1. `async`\n",
    "1. `await`\n",
    "1. `break`\n",
    "1. `class`\n",
    "1. `continue`\n",
    "1. `def`\n",
    "1. `del`\n",
    "1. `elif`\n",
    "1. `else`\n",
    "1. `except`\n",
    "1. `finally`\n",
    "1. `for`\n",
    "1. `from`\n",
    "1. `global`\n",
    "1. `if`\n",
    "1. `import`\n",
    "1. `in`\n",
    "1. `is`\n",
    "1. `lambda`\n",
    "1. `nonlocal`\n",
    "1. `not`\n",
    "1. `or`\n",
    "1. `pass`\n",
    "1. `raise`\n",
    "1. `return`\n",
    "1. `try`\n",
    "1. `while`\n",
    "1. `with`\n",
    "1. `yield`"
   ]
  },
  {
   "cell_type": "markdown",
   "metadata": {},
   "source": [
    "**Definición**: El conjunto de identificadores accesibles desde una instrucción\n",
    "concreta durante la ejecución de un programa es su **entorno de referencia** o\n",
    "simplemente el **entorno**."
   ]
  },
  {
   "cell_type": "code",
   "execution_count": 6,
   "metadata": {},
   "outputs": [
    {
     "data": {
      "text/plain": [
       "{'__name__': '__main__',\n",
       " '__doc__': 'Automatically created module for IPython interactive environment',\n",
       " '__package__': None,\n",
       " '__loader__': None,\n",
       " '__spec__': None,\n",
       " '__builtin__': <module 'builtins' (built-in)>,\n",
       " '__builtins__': <module 'builtins' (built-in)>,\n",
       " '_ih': ['',\n",
       "  '# En Python todos los objetos denotables tienen un número identificador\\n# único mientras existen en la memoria.\\nid(\"Hola\")',\n",
       "  '# Colocamos foo sobre la cadena \"Jamón\" y bar sobre la misma cadena\\nbar = \"Calculadora\"\\nprint(f\"{bar=} hace referencia al objeto {id(bar)=}\")\\nfoo = \"Jamón\"\\nprint(f\"{foo=} hace referencia al objeto {id(foo)=}\")\\nbar = foo  # bar es un alias de foo\\nprint(f\"{bar=} hace referencia al objeto {id(bar)=}\")\\n# Movemos foo a otra cadena\\nfoo = \"Monja\"\\nprint(f\"{foo=} hace referencia al objeto {id(foo)=}\")\\nprint(f\"{bar=} hace referencia al objeto {id(bar)=}\")\\nbar = \"Tortas\"  # Aquí ya no hay referencias al jamón\\nbar = \"Jamón\"\\nprint(f\"{bar=} hace referencia al objeto {id(bar)=}\")',\n",
       "  '# Este es un error muy común entre los programadores novatos que aún no\\n# entienden cómo funciona la asignación de variables en Python.\\nfoo = [1, 2, 3]\\nprint(f\"{foo=}\")\\n\\nbar = foo  # bar hace referencia la misma lista que foo\\nprint(f\"{bar=}\")\\n\\nprint(\"Modificamos foo...\")\\nfoo.append(4)\\nprint(f\"{foo=}\")\\nprint(f\"{bar=}\")  # bar también se modifica!',\n",
       "  '# En Python, los identificadores pueden tener letras UNICODE, dígitos y\\n# guiones bajos, pero no pueden comenzar con un dígito.\\nperrito1 = \"🐶\"\\n_toro_malo95 = \"🐱\"\\nδ = 0.0001\\n未知 = [...]',\n",
       "  '# Estas variables están prohibidas en Python. Producen un SyntaxError\\n# 1perrito = \"Hola\"\\n# 🐶 = \"Guau\"',\n",
       "  '# En Python, el entorno de referencia es un diccionario que mapea\\n# nombres de variables locales y globales a objetos.\\nglobals() | locals()'],\n",
       " '_oh': {1: 139798955840752},\n",
       " '_dh': [PosixPath('/workspaces/uaem.notas.principioslenguajes/notas'),\n",
       "  PosixPath('/workspaces/uaem.notas.principioslenguajes/notas')],\n",
       " 'In': ['',\n",
       "  '# En Python todos los objetos denotables tienen un número identificador\\n# único mientras existen en la memoria.\\nid(\"Hola\")',\n",
       "  '# Colocamos foo sobre la cadena \"Jamón\" y bar sobre la misma cadena\\nbar = \"Calculadora\"\\nprint(f\"{bar=} hace referencia al objeto {id(bar)=}\")\\nfoo = \"Jamón\"\\nprint(f\"{foo=} hace referencia al objeto {id(foo)=}\")\\nbar = foo  # bar es un alias de foo\\nprint(f\"{bar=} hace referencia al objeto {id(bar)=}\")\\n# Movemos foo a otra cadena\\nfoo = \"Monja\"\\nprint(f\"{foo=} hace referencia al objeto {id(foo)=}\")\\nprint(f\"{bar=} hace referencia al objeto {id(bar)=}\")\\nbar = \"Tortas\"  # Aquí ya no hay referencias al jamón\\nbar = \"Jamón\"\\nprint(f\"{bar=} hace referencia al objeto {id(bar)=}\")',\n",
       "  '# Este es un error muy común entre los programadores novatos que aún no\\n# entienden cómo funciona la asignación de variables en Python.\\nfoo = [1, 2, 3]\\nprint(f\"{foo=}\")\\n\\nbar = foo  # bar hace referencia la misma lista que foo\\nprint(f\"{bar=}\")\\n\\nprint(\"Modificamos foo...\")\\nfoo.append(4)\\nprint(f\"{foo=}\")\\nprint(f\"{bar=}\")  # bar también se modifica!',\n",
       "  '# En Python, los identificadores pueden tener letras UNICODE, dígitos y\\n# guiones bajos, pero no pueden comenzar con un dígito.\\nperrito1 = \"🐶\"\\n_toro_malo95 = \"🐱\"\\nδ = 0.0001\\n未知 = [...]',\n",
       "  '# Estas variables están prohibidas en Python. Producen un SyntaxError\\n# 1perrito = \"Hola\"\\n# 🐶 = \"Guau\"',\n",
       "  '# En Python, el entorno de referencia es un diccionario que mapea\\n# nombres de variables locales y globales a objetos.\\nglobals() | locals()'],\n",
       " 'Out': {1: 139798955840752},\n",
       " 'get_ipython': <bound method InteractiveShell.get_ipython of <ipykernel.zmqshell.ZMQInteractiveShell object at 0x7f257b14fc90>>,\n",
       " 'exit': <IPython.core.autocall.ZMQExitAutocall at 0x7f257b170650>,\n",
       " 'quit': <IPython.core.autocall.ZMQExitAutocall at 0x7f257b170650>,\n",
       " 'open': <function io.open(file, mode='r', buffering=-1, encoding=None, errors=None, newline=None, closefd=True, opener=None)>,\n",
       " '_': 139798955840752,\n",
       " '__': '',\n",
       " '___': '',\n",
       " '__vsc_ipynb_file__': '/workspaces/uaem.notas.principioslenguajes/notas/03._paradigmas_imperativos.ipynb',\n",
       " '_i': '# Estas variables están prohibidas en Python. Producen un SyntaxError\\n# 1perrito = \"Hola\"\\n# 🐶 = \"Guau\"',\n",
       " '_ii': '# En Python, los identificadores pueden tener letras UNICODE, dígitos y\\n# guiones bajos, pero no pueden comenzar con un dígito.\\nperrito1 = \"🐶\"\\n_toro_malo95 = \"🐱\"\\nδ = 0.0001\\n未知 = [...]',\n",
       " '_iii': '# Este es un error muy común entre los programadores novatos que aún no\\n# entienden cómo funciona la asignación de variables en Python.\\nfoo = [1, 2, 3]\\nprint(f\"{foo=}\")\\n\\nbar = foo  # bar hace referencia la misma lista que foo\\nprint(f\"{bar=}\")\\n\\nprint(\"Modificamos foo...\")\\nfoo.append(4)\\nprint(f\"{foo=}\")\\nprint(f\"{bar=}\")  # bar también se modifica!',\n",
       " '_i1': '# En Python todos los objetos denotables tienen un número identificador\\n# único mientras existen en la memoria.\\nid(\"Hola\")',\n",
       " '_1': 139798955840752,\n",
       " '_i2': '# Colocamos foo sobre la cadena \"Jamón\" y bar sobre la misma cadena\\nbar = \"Calculadora\"\\nprint(f\"{bar=} hace referencia al objeto {id(bar)=}\")\\nfoo = \"Jamón\"\\nprint(f\"{foo=} hace referencia al objeto {id(foo)=}\")\\nbar = foo  # bar es un alias de foo\\nprint(f\"{bar=} hace referencia al objeto {id(bar)=}\")\\n# Movemos foo a otra cadena\\nfoo = \"Monja\"\\nprint(f\"{foo=} hace referencia al objeto {id(foo)=}\")\\nprint(f\"{bar=} hace referencia al objeto {id(bar)=}\")\\nbar = \"Tortas\"  # Aquí ya no hay referencias al jamón\\nbar = \"Jamón\"\\nprint(f\"{bar=} hace referencia al objeto {id(bar)=}\")',\n",
       " 'bar': [1, 2, 3, 4],\n",
       " 'foo': [1, 2, 3, 4],\n",
       " '_i3': '# Este es un error muy común entre los programadores novatos que aún no\\n# entienden cómo funciona la asignación de variables en Python.\\nfoo = [1, 2, 3]\\nprint(f\"{foo=}\")\\n\\nbar = foo  # bar hace referencia la misma lista que foo\\nprint(f\"{bar=}\")\\n\\nprint(\"Modificamos foo...\")\\nfoo.append(4)\\nprint(f\"{foo=}\")\\nprint(f\"{bar=}\")  # bar también se modifica!',\n",
       " '_i4': '# En Python, los identificadores pueden tener letras UNICODE, dígitos y\\n# guiones bajos, pero no pueden comenzar con un dígito.\\nperrito1 = \"🐶\"\\n_toro_malo95 = \"🐱\"\\nδ = 0.0001\\n未知 = [...]',\n",
       " 'perrito1': '🐶',\n",
       " '_toro_malo95': '🐱',\n",
       " 'δ': 0.0001,\n",
       " '未知': [Ellipsis],\n",
       " '_i5': '# Estas variables están prohibidas en Python. Producen un SyntaxError\\n# 1perrito = \"Hola\"\\n# 🐶 = \"Guau\"',\n",
       " '_i6': '# En Python, el entorno de referencia es un diccionario que mapea\\n# nombres de variables locales y globales a objetos.\\nglobals() | locals()'}"
      ]
     },
     "execution_count": 6,
     "metadata": {},
     "output_type": "execute_result"
    }
   ],
   "source": [
    "# En Python, el entorno de referencia es un diccionario que mapea\n",
    "# nombres de variables locales y globales a objetos.\n",
    "globals() | locals()"
   ]
  },
  {
   "cell_type": "markdown",
   "metadata": {},
   "source": [
    "La *declaración* de un identificador es la instrucción que lo introduce en el\n",
    "entorno de referencia.\n",
    "Existen dos tipos:\n",
    "- La *declaración implícita* es la que se hace al asignarle un valor a un\n",
    "  identificador por primera vez.\n",
    "- La *declaración explícita* es la que se hace con una instrucción especial\n",
    "  para declarar identificadores, como `var` en JavaScript."
   ]
  },
  {
   "cell_type": "code",
   "execution_count": 7,
   "metadata": {},
   "outputs": [
    {
     "name": "stdout",
     "output_type": "stream",
     "text": [
      "baz=42\n"
     ]
    }
   ],
   "source": [
    "# Python usa la declaración implícita:\n",
    "baz = 42\n",
    "print(f\"{baz=}\")"
   ]
  },
  {
   "cell_type": "markdown",
   "metadata": {},
   "source": [
    "| Lenguaje   | Tipo de declaración | Ejemplo      |\n",
    "|------------|---------------------|--------------|\n",
    "| Python     | Implícita           | `x = 1`      |\n",
    "| C++        | Explícita           | `int x = 1;` |\n",
    "| Java       | Explícita           | `int x = 1;` |\n",
    "| JavaScript | Implícita           | `x = 1`      |\n",
    "| R          | Implícita           | `x <- 1`     |"
   ]
  },
  {
   "cell_type": "markdown",
   "metadata": {},
   "source": [
    "Algunos lenguajes también ofrecen una instrucción para *eliminar* un\n",
    "identificador del entorno de referencia.\n",
    "Por ejemplo, Python usa `del foo` para eliminar el identificador `foo`, y\n",
    "JavaScript usa `delete foo`."
   ]
  },
  {
   "cell_type": "code",
   "execution_count": 8,
   "metadata": {},
   "outputs": [
    {
     "name": "stdout",
     "output_type": "stream",
     "text": [
      "Defenestrar\n"
     ]
    }
   ],
   "source": [
    "foo = \"Defenestrar\"\n",
    "bar = foo\n",
    "del foo  # Borramos el nombre foo, no el objeto al que hacía referencia\n",
    "# print(foo)  # Esta instrucción produce un NameError\n",
    "print(bar)  # bar sigue existiendo"
   ]
  },
  {
   "cell_type": "markdown",
   "metadata": {},
   "source": [
    "### 1.2 Expresiones y sentencias\n",
    "\n",
    "**Definiciones**:\n",
    "- Un **literal** es un objeto denotable que se puede representar directamente en\n",
    "  el código fuente, como números y cadenas de caracteres.\n",
    "- Un **operador** es un símbolo que representa una operación sobre uno o más\n",
    "  objetos denotables, como `+` y `*`.\n",
    "- Una **expresión** es una combinación de identificadores, operadores y\n",
    "  literales que puede ser evaluada para obtener un valor.\n",
    "  Por ejemplo, `1 + 2` es una expresión que se evalúa a `3`, y `x + 1` es una\n",
    "  expresión cuyo valor depende del valor del identificador `x`.\n",
    "- Una **sentencia** es una instrucción que puede ser ejecutada para producir un\n",
    "  efecto en el entorno de referencia o en el sistema.\n",
    "  Por ejemplo, `x = 1` es una sentencia que asigna el valor `1` al identificador\n",
    "  `x`, y `print(x)` es una sentencia que imprime el valor del identificador `x`\n",
    "  en la salida estándar.\n",
    "\n",
    "Los identificadores se usan para referirse a objetos denotables; estos objetos\n",
    "se suelen construir usando expresiones y se manipulan mediante sentencias."
   ]
  },
  {
   "cell_type": "code",
   "execution_count": 9,
   "metadata": {},
   "outputs": [
    {
     "name": "stdout",
     "output_type": "stream",
     "text": [
      "Nada de nada\n"
     ]
    }
   ],
   "source": [
    "resultado = print(\"Nada de nada\")"
   ]
  },
  {
   "cell_type": "code",
   "execution_count": 10,
   "metadata": {},
   "outputs": [],
   "source": [
    "resultado"
   ]
  },
  {
   "cell_type": "markdown",
   "metadata": {},
   "source": [
    "#### Literales\n",
    "\n",
    "Los literales son los objetos denotables más simples que *no* son\n",
    "identificadores.\n",
    "Estos se representan directamente en el código fuente.\n",
    "Python soporta los siguientes tipos de literales:\n",
    "- Números enteros no negativos (de cualquier tamaño)\n",
    "- Números de punto flotante (de precisión doble)\n",
    "- Números imaginarios\n",
    "- Cadenas de caracteres\n",
    "- Bytes"
   ]
  },
  {
   "cell_type": "code",
   "execution_count": 11,
   "metadata": {},
   "outputs": [
    {
     "data": {
      "text/plain": [
       "99999999999999999999999999999"
      ]
     },
     "execution_count": 11,
     "metadata": {},
     "output_type": "execute_result"
    }
   ],
   "source": [
    "99999999999999999999999999999"
   ]
  },
  {
   "cell_type": "code",
   "execution_count": 12,
   "metadata": {},
   "outputs": [
    {
     "data": {
      "text/plain": [
       "802791535955"
      ]
     },
     "execution_count": 12,
     "metadata": {},
     "output_type": "execute_result"
    }
   ],
   "source": [
    "# Enteros en binario, comienzan con el prefijo 0b\n",
    "0b1011101011101010000110101011010101010011"
   ]
  },
  {
   "cell_type": "code",
   "execution_count": 13,
   "metadata": {},
   "outputs": [
    {
     "data": {
      "text/plain": [
       "16434824"
      ]
     },
     "execution_count": 13,
     "metadata": {},
     "output_type": "execute_result"
    }
   ],
   "source": [
    "# Enteros en octal, comienzan con el prefijo 0o\n",
    "0o76543210"
   ]
  },
  {
   "cell_type": "code",
   "execution_count": 14,
   "metadata": {},
   "outputs": [
    {
     "data": {
      "text/plain": [
       "18364758544493064720"
      ]
     },
     "execution_count": 14,
     "metadata": {},
     "output_type": "execute_result"
    }
   ],
   "source": [
    "# Enteros en hexadecimal, comienzan con el prefijo 0x\n",
    "0xFEDCBA9876543210"
   ]
  },
  {
   "cell_type": "code",
   "execution_count": 15,
   "metadata": {},
   "outputs": [
    {
     "data": {
      "text/plain": [
       "3.141592653589793"
      ]
     },
     "execution_count": 15,
     "metadata": {},
     "output_type": "execute_result"
    }
   ],
   "source": [
    "3.1415926535897932384626433832795028841971693993751058209749445923078164"
   ]
  },
  {
   "cell_type": "code",
   "execution_count": 16,
   "metadata": {},
   "outputs": [
    {
     "data": {
      "text/plain": [
       "42j"
      ]
     },
     "execution_count": 16,
     "metadata": {},
     "output_type": "execute_result"
    }
   ],
   "source": [
    "42j  # Números imaginarios"
   ]
  },
  {
   "cell_type": "code",
   "execution_count": 17,
   "metadata": {},
   "outputs": [
    {
     "data": {
      "text/plain": [
       "'¡Me amarraron como puerco!'"
      ]
     },
     "execution_count": 17,
     "metadata": {},
     "output_type": "execute_result"
    }
   ],
   "source": [
    "\"¡Me amarraron como puerco!\"  # Cadenas de texto"
   ]
  },
  {
   "cell_type": "code",
   "execution_count": 18,
   "metadata": {},
   "outputs": [
    {
     "data": {
      "text/plain": [
       "b'Soy una cadena de bytes bip-bop-bip.'"
      ]
     },
     "execution_count": 18,
     "metadata": {},
     "output_type": "execute_result"
    }
   ],
   "source": [
    "b\"Soy una cadena de bytes bip-bop-bip.\"  # Cadenas de bytes"
   ]
  },
  {
   "cell_type": "code",
   "execution_count": 19,
   "metadata": {},
   "outputs": [
    {
     "name": "stdout",
     "output_type": "stream",
     "text": [
      "cadena='¡Python 🐍 está cañón!'\n",
      "bytes_=b'\\xc2\\xa1Python \\xf0\\x9f\\x90\\x8d est\\xc3\\xa1 ca\\xc3\\xb1\\xc3\\xb3n!'\n",
      "La cadena tiene 21 caracteres, pero 28 bytes.\n",
      "¡Hay caracteres que requieren más de un byte!\n",
      "'¡' ⟼ 194 161\n",
      "'P' ⟼ 80\n",
      "'y' ⟼ 121\n",
      "'t' ⟼ 116\n",
      "'h' ⟼ 104\n",
      "'o' ⟼ 111\n",
      "'n' ⟼ 110\n",
      "' ' ⟼ 32\n",
      "'🐍' ⟼ 240 159 144 141\n",
      "' ' ⟼ 32\n",
      "'e' ⟼ 101\n",
      "'s' ⟼ 115\n",
      "'t' ⟼ 116\n",
      "'á' ⟼ 195 161\n",
      "' ' ⟼ 32\n",
      "'c' ⟼ 99\n",
      "'a' ⟼ 97\n",
      "'ñ' ⟼ 195 177\n",
      "'ó' ⟼ 195 179\n",
      "'n' ⟼ 110\n",
      "'!' ⟼ 33\n"
     ]
    }
   ],
   "source": [
    "# Observa que un solo caracter puede requerir más de un byte\n",
    "cadena = \"¡Python 🐍 está cañón!\"\n",
    "bytes_ = cadena.encode(\"utf8\")  # Codificamos la cadena en UTF-8\n",
    "print(f\"{cadena=}\")\n",
    "print(f\"{bytes_=}\")\n",
    "print(f\"La cadena tiene {len(cadena)} caracteres, pero {len(bytes_)} bytes.\")\n",
    "if len(cadena) < len(bytes_):\n",
    "    print(\"¡Hay caracteres que requieren más de un byte!\")\n",
    "\n",
    "# Cada byte es un entero entre 0 y 255\n",
    "for caracter in cadena:\n",
    "    print(f\"{caracter!r} ⟼\", *caracter.encode(\"utf8\"))"
   ]
  },
  {
   "cell_type": "markdown",
   "metadata": {},
   "source": [
    "#### Operadores\n",
    "\n",
    "Los operadores son símbolos que representan una operación sobre uno o más\n",
    "objetos denotables.\n",
    "Esencialmente, son los que te permiten usar un lenguaje de programación para\n",
    "calcular cosas."
   ]
  },
  {
   "cell_type": "code",
   "execution_count": 20,
   "metadata": {},
   "outputs": [
    {
     "data": {
      "text/plain": [
       "2.857142857142857"
      ]
     },
     "execution_count": 20,
     "metadata": {},
     "output_type": "execute_result"
    }
   ],
   "source": [
    "(50 - 5 * (5 + 1)) / 7"
   ]
  },
  {
   "cell_type": "markdown",
   "metadata": {},
   "source": [
    "Nótese que esta misma expresión en otros lenguajes como C++ o Java da como\n",
    "resultado un número entero, ya que en estos lenguajes la división de enteros\n",
    "produce un entero."
   ]
  },
  {
   "cell_type": "markdown",
   "metadata": {},
   "source": [
    "**Actividad** Averiguar cómo calcular $(50 - 5\\,(5 + 1)) / 7$ en C++.\n",
    "¿Basta con declarar el resultado como `double` así?\n",
    "```cpp\n",
    "double resultado = (50 - 5 * (5 + 1)) / 7;\n",
    "```"
   ]
  },
  {
   "cell_type": "markdown",
   "metadata": {},
   "source": [
    "Al revés, si queremos usar la división entera en Python, podemos usar el\n",
    "operador `//` en lugar de `/`."
   ]
  },
  {
   "cell_type": "code",
   "execution_count": 21,
   "metadata": {},
   "outputs": [
    {
     "data": {
      "text/plain": [
       "11"
      ]
     },
     "execution_count": 21,
     "metadata": {},
     "output_type": "execute_result"
    }
   ],
   "source": [
    "81 // 7  # División entera"
   ]
  },
  {
   "cell_type": "markdown",
   "metadata": {},
   "source": [
    "Algunos lenguajes admiten un operador para calcular potencias, como `**` en\n",
    "Python.\n",
    "- En R, Excel, y BASIC se usa `x^y`.\n",
    "- Fortran, Python, JavaScript y PHP usan `x**y`.\n",
    "- Algol y variantes antiguas de BASIC usaban `x↑y`.\n",
    "- Haskell usa `x^^y`.\n",
    "- APL utiliza `x*y`.\n",
    "- C, C++, Java, C#, Rust y otros no tienen un operador para calcular potencias,\n",
    "  y dependen de una función definida en una biblioteca estándar.\n",
    "  Por ejemplo, en C++ se usa `std::pow(x, y)`."
   ]
  },
  {
   "cell_type": "code",
   "execution_count": 22,
   "metadata": {},
   "outputs": [
    {
     "data": {
      "text/plain": [
       "65537"
      ]
     },
     "execution_count": 22,
     "metadata": {},
     "output_type": "execute_result"
    }
   ],
   "source": [
    "2**16 + 1"
   ]
  },
  {
   "cell_type": "code",
   "execution_count": 23,
   "metadata": {},
   "outputs": [
    {
     "data": {
      "text/plain": [
       "65537"
      ]
     },
     "execution_count": 23,
     "metadata": {},
     "output_type": "execute_result"
    }
   ],
   "source": [
    "# La función pow() es equivalente al operador **\n",
    "pow(2, 16) + 1"
   ]
  },
  {
   "cell_type": "markdown",
   "metadata": {},
   "source": [
    "Algunos operadores son unarios, es decir, solo operan sobre un objeto denotable,\n",
    "por ejemplo, el operador de negación aritmética `-` es unario."
   ]
  },
  {
   "cell_type": "code",
   "execution_count": 24,
   "metadata": {},
   "outputs": [
    {
     "data": {
      "text/plain": [
       "-91"
      ]
     },
     "execution_count": 24,
     "metadata": {},
     "output_type": "execute_result"
    }
   ],
   "source": [
    "-91  # Esto no es un literal, es una expresión unaria"
   ]
  },
  {
   "cell_type": "code",
   "execution_count": 25,
   "metadata": {},
   "outputs": [
    {
     "name": "stdout",
     "output_type": "stream",
     "text": [
      "True and False=False\n",
      "True or False=True\n",
      "not True=False\n"
     ]
    }
   ],
   "source": [
    "# True es un identificador (y palabra reservada) que hace referencia a\n",
    "# una constante booleana.\n",
    "\n",
    "print(f\"{True and False=}\")  # Operador lógico AND\n",
    "print(f\"{True or False=}\")  # Operador lógico OR\n",
    "print(f\"{not True=}\")  # Operador lógico NOT"
   ]
  },
  {
   "cell_type": "markdown",
   "metadata": {},
   "source": [
    "**Definición** (de operadores de cortocircuito)\n",
    "- Una expresión `expr` es **verdaderosa** (*truthy*) si `bool(expr)` es `True`.\n",
    "- Una expresión `expr` es **falsosa** (*falsy* )si `bool(expr)` es `False`.\n",
    "- Si `x` es verdaderosa, entonces `x or y` se evalúa a `x` (y `y` no se evalúa),\n",
    "  de lo contrario `x or y` se evalúa a `y`.\n",
    "- Si `x` es falsosa, entonces `x and y` se evalúa a `x` (y `y` no se evalúa),\n",
    "  de lo contrario `x and y` se evalúa a `y`."
   ]
  },
  {
   "cell_type": "code",
   "execution_count": 26,
   "metadata": {},
   "outputs": [
    {
     "name": "stdout",
     "output_type": "stream",
     "text": [
      "bool('')=False\n",
      "bool('False')=True\n"
     ]
    }
   ],
   "source": [
    "# La cadena vacía es falsosa, cualquier otra cadena es verdaderosa\n",
    "print(f\"{bool('')=}\")\n",
    "print(f\"{bool('False')=}\")  # \"False\" es no vacía, y es verdaderosa"
   ]
  },
  {
   "cell_type": "markdown",
   "metadata": {},
   "source": [
    "Es muy común entre los programadores experimentados usar los operadores de\n",
    "cortocircuito para escribir expresiones más cortas, legibles, y seguras.\n",
    "Por ejemplo el siguiente código en Python produce un error cuando la cadena\n",
    "`foo` es vacía:\n",
    "```python\n",
    "if foo[0] == \"A\":  # IndexError si foo es vacía porque foo[0] no existe\n",
    "    ...\n",
    "```\n",
    "\n",
    "Para correjirlo, podemos usar el operador de cortocircuito `and`:\n",
    "```python\n",
    "if foo and foo[0] == \"A\":  # Si foo es vacía entonces foo[0] no se evalúa\n",
    "    ...\n",
    "```\n"
   ]
  },
  {
   "cell_type": "markdown",
   "metadata": {},
   "source": [
    "Como segundo ejemplo considera que se desea concatenar la cadena `foo` con\n",
    "`bar` o `baz`; una de estas dos cadenas es vacía y la otra no.\n",
    "```python\n",
    "if bar:\n",
    "    foo += bar\n",
    "else:\n",
    "    foo += baz\n",
    "```\n",
    "Usando el operador de cortocircuito `or` podemos escribirlo de manera más\n",
    "concisa:\n",
    "```python\n",
    "foo += bar or baz\n",
    "``` "
   ]
  },
  {
   "cell_type": "code",
   "execution_count": 27,
   "metadata": {},
   "outputs": [
    {
     "data": {
      "text/plain": [
       "'Carambola'"
      ]
     },
     "execution_count": 27,
     "metadata": {},
     "output_type": "execute_result"
    }
   ],
   "source": [
    "foo = \"Cara\"\n",
    "bar = \"\"  # Cambia esto por \"cola\"\n",
    "baz = \"mbola\"\n",
    "\n",
    "foo + (bar or baz)"
   ]
  },
  {
   "cell_type": "markdown",
   "metadata": {},
   "source": [
    "**Actividad** Determinar en qué casos los siguientes tipos de datos son\n",
    "verdaderosos o falsosos en Python:\n",
    "- Números enteros\n",
    "- Números de punto flotante\n",
    "- Números complejos\n",
    "- ~~Cadenas de caracteres~~ (Respuesta: falsosas si y solo si son vacías)\n",
    "- Listas\n",
    "- None"
   ]
  },
  {
   "cell_type": "code",
   "execution_count": 28,
   "metadata": {},
   "outputs": [
    {
     "name": "stdout",
     "output_type": "stream",
     "text": [
      "bool(0)=False\n",
      "bool(-1)=True\n",
      "bool(0.0)=False\n",
      "bool(3.14)=True\n",
      "bool(1+1j)=True\n",
      "bool(0+0j)=False\n",
      "bool([1, 2, 3])=True\n",
      "bool([])=False\n",
      "bool([[]])=True\n"
     ]
    }
   ],
   "source": [
    "print(f\"{bool(0)=}\")  # El cero es falsoso\n",
    "print(f\"{bool(-1)=}\")  # Cualquier otro entero es verdaderoso\n",
    "print(f\"{bool(0.0)=}\")  # El 0.0 es falsoso\n",
    "print(f\"{bool(3.14)=}\")  # Cualquier otro número es verdaderoso (incluyendo nan e inf)\n",
    "print(f\"{bool(1+1j)=}\")\n",
    "print(f\"{bool(0+0j)=}\")\n",
    "\n",
    "print(f\"{bool([1, 2, 3])=}\")\n",
    "print(f\"{bool([])=}\")\n",
    "print(f\"{bool([[]])=}\")"
   ]
  },
  {
   "cell_type": "code",
   "execution_count": 29,
   "metadata": {},
   "outputs": [
    {
     "name": "stdout",
     "output_type": "stream",
     "text": [
      "A[2][1]=[[]]\n"
     ]
    }
   ],
   "source": [
    "A = [[], [[], []], [[], [[]], [[], [[]]]]]\n",
    "print(f\"{A[2][1]=}\")"
   ]
  },
  {
   "cell_type": "code",
   "execution_count": 30,
   "metadata": {},
   "outputs": [
    {
     "name": "stdout",
     "output_type": "stream",
     "text": [
      "inf + 1=inf\n",
      "-inf=-inf\n",
      "inf + inf=inf\n",
      "inf - inf=nan\n",
      "inf * inf=inf\n",
      "inf / inf=nan\n",
      "inf ** inf=inf\n",
      "0.0 ** 0.0=1.0\n",
      "inf == inf=True\n",
      "inf < inf=False\n",
      "nan + 1=nan\n",
      "-nan=nan\n",
      "nan * 3.14=nan\n",
      "nan + nan=nan\n",
      "nan / nan=nan\n",
      "nan ** 4=nan\n",
      "nan == nan=False\n",
      "nan < nan=False\n"
     ]
    }
   ],
   "source": [
    "inf = float(\"inf\")\n",
    "print(f\"{inf + 1=}\")\n",
    "print(f\"{-inf=}\")\n",
    "print(f\"{inf + inf=}\")\n",
    "print(f\"{inf - inf=}\")\n",
    "print(f\"{inf * inf=}\")\n",
    "print(f\"{inf / inf=}\")\n",
    "print(f\"{inf ** inf=}\")\n",
    "print(f\"{0.0 ** 0.0=}\")\n",
    "print(f\"{inf == inf=}\")\n",
    "print(f\"{inf < inf=}\")\n",
    "\n",
    "nan = float(\"nan\")\n",
    "print(f\"{nan + 1=}\")\n",
    "print(f\"{-nan=}\")\n",
    "print(f\"{nan * 3.14=}\")\n",
    "print(f\"{nan + nan=}\")\n",
    "print(f\"{nan / nan=}\")\n",
    "print(f\"{nan ** 4=}\")\n",
    "\n",
    "print(f\"{nan == nan=}\")\n",
    "print(f\"{nan < nan=}\")"
   ]
  },
  {
   "cell_type": "code",
   "execution_count": 31,
   "metadata": {},
   "outputs": [
    {
     "name": "stdout",
     "output_type": "stream",
     "text": [
      "bool(nan)=True\n",
      "bool(inf)=True\n",
      "bool(-inf)=True\n"
     ]
    }
   ],
   "source": [
    "print(f\"{bool(nan)=}\")\n",
    "print(f\"{bool(inf)=}\")\n",
    "print(f\"{bool(-inf)=}\")"
   ]
  },
  {
   "cell_type": "code",
   "execution_count": 32,
   "metadata": {},
   "outputs": [
    {
     "name": "stdout",
     "output_type": "stream",
     "text": [
      "bool(None)=False\n"
     ]
    }
   ],
   "source": [
    "print(f\"{bool(None)=}\")"
   ]
  },
  {
   "cell_type": "markdown",
   "metadata": {},
   "source": [
    "En C, C++, Java, C#, y otros lenguajes, los operadores de cortocircuito son\n",
    "`&&` y `||`."
   ]
  },
  {
   "cell_type": "markdown",
   "metadata": {},
   "source": [
    "Además de los operadores lógicos de cortocircuito, los lenguajes de\n",
    "programación imperativos suelen tener operadores lógicos binarios que operan\n",
    "bit a bit."
   ]
  },
  {
   "cell_type": "code",
   "execution_count": 33,
   "metadata": {},
   "outputs": [
    {
     "data": {
      "text/plain": [
       "0"
      ]
     },
     "execution_count": 33,
     "metadata": {},
     "output_type": "execute_result"
    }
   ],
   "source": [
    "0b101 & 0b010  # 5 AND 2"
   ]
  },
  {
   "cell_type": "code",
   "execution_count": 34,
   "metadata": {},
   "outputs": [
    {
     "data": {
      "text/plain": [
       "7"
      ]
     },
     "execution_count": 34,
     "metadata": {},
     "output_type": "execute_result"
    }
   ],
   "source": [
    "0b101 | 0b010  # 5 OR 2"
   ]
  },
  {
   "cell_type": "code",
   "execution_count": 35,
   "metadata": {},
   "outputs": [
    {
     "data": {
      "text/plain": [
       "7"
      ]
     },
     "execution_count": 35,
     "metadata": {},
     "output_type": "execute_result"
    }
   ],
   "source": [
    "0b101 ^ 0b010  # 5 XOR 2"
   ]
  },
  {
   "cell_type": "code",
   "execution_count": 36,
   "metadata": {},
   "outputs": [
    {
     "data": {
      "text/plain": [
       "-6"
      ]
     },
     "execution_count": 36,
     "metadata": {},
     "output_type": "execute_result"
    }
   ],
   "source": [
    "# Negación. Los números se representan en complemento a 2\n",
    "~0b101"
   ]
  },
  {
   "cell_type": "code",
   "execution_count": 37,
   "metadata": {},
   "outputs": [
    {
     "data": {
      "text/plain": [
       "80"
      ]
     },
     "execution_count": 37,
     "metadata": {},
     "output_type": "execute_result"
    }
   ],
   "source": [
    "0b10100000 >> 1  # Desplazamiento a la derecha (división por 2)"
   ]
  },
  {
   "cell_type": "code",
   "execution_count": 38,
   "metadata": {},
   "outputs": [
    {
     "name": "stdout",
     "output_type": "stream",
     "text": [
      "1010000\n"
     ]
    }
   ],
   "source": [
    "print(f\"{_:b}\")"
   ]
  },
  {
   "cell_type": "code",
   "execution_count": 39,
   "metadata": {},
   "outputs": [
    {
     "data": {
      "text/plain": [
       "640"
      ]
     },
     "execution_count": 39,
     "metadata": {},
     "output_type": "execute_result"
    }
   ],
   "source": [
    "0b10100000 << 2  # Desplazamiento a la izquierda (multiplicación por 2)"
   ]
  },
  {
   "cell_type": "code",
   "execution_count": 40,
   "metadata": {},
   "outputs": [
    {
     "name": "stdout",
     "output_type": "stream",
     "text": [
      "1010000000\n"
     ]
    }
   ],
   "source": [
    "print(f\"{_:b}\")"
   ]
  },
  {
   "cell_type": "code",
   "execution_count": 41,
   "metadata": {},
   "outputs": [
    {
     "data": {
      "text/plain": [
       "False"
      ]
     },
     "execution_count": 41,
     "metadata": {},
     "output_type": "execute_result"
    }
   ],
   "source": [
    "\"Una cosa\" == \"Otra cosa\"  # Operador de igualdad"
   ]
  },
  {
   "cell_type": "code",
   "execution_count": 42,
   "metadata": {},
   "outputs": [
    {
     "data": {
      "text/plain": [
       "True"
      ]
     },
     "execution_count": 42,
     "metadata": {},
     "output_type": "execute_result"
    }
   ],
   "source": [
    "foo = \"Una cosa\"\n",
    "bar = foo\n",
    "\n",
    "foo is bar  # Operador de identidad"
   ]
  },
  {
   "cell_type": "code",
   "execution_count": 43,
   "metadata": {},
   "outputs": [
    {
     "name": "stdout",
     "output_type": "stream",
     "text": [
      "foo == bar=True\n",
      "foo is bar=False\n"
     ]
    }
   ],
   "source": [
    "foo = [1, 2, 3]\n",
    "bar = [1, 2, 3]\n",
    "\n",
    "print(f\"{foo == bar=}\")\n",
    "print(f\"{foo is bar=}\")"
   ]
  },
  {
   "cell_type": "markdown",
   "metadata": {},
   "source": [
    "Python en particular incluye un operator de multiplicación de matrices `@`.\n",
    "Dado que Python no tiene sopoerte nativo para matrices, este operador está\n",
    "definido en la biblioteca no estándar `numpy`."
   ]
  },
  {
   "cell_type": "code",
   "execution_count": 44,
   "metadata": {},
   "outputs": [
    {
     "name": "stdout",
     "output_type": "stream",
     "text": [
      "A=array([[47,  6, 19],\n",
      "       [37, 95, 79],\n",
      "       [48, 57, 15]])\n",
      "B=array([[36, 20, 21],\n",
      "       [26, 51,  6],\n",
      "       [ 9, 59,  9]])\n",
      "A@B=array([[ 2019,  2367,  1194],\n",
      "       [ 4513, 10246,  2058],\n",
      "       [ 3345,  4752,  1485]])\n"
     ]
    }
   ],
   "source": [
    "import numpy as np\n",
    "\n",
    "A = np.random.randint(0, 100, size=(3, 3))\n",
    "B = np.random.randint(0, 100, size=(3, 3))\n",
    "print(f\"{A=}\")\n",
    "print(f\"{B=}\")\n",
    "print(f\"{A@B=}\")"
   ]
  },
  {
   "cell_type": "markdown",
   "metadata": {},
   "source": [
    "El **operador ternario** `foo if cond else bar` se evalúa a `foo` si `cond` es\n",
    "verdaderosa, y a `bar` si `cond` es falsosa."
   ]
  },
  {
   "cell_type": "code",
   "execution_count": 45,
   "metadata": {},
   "outputs": [
    {
     "name": "stdout",
     "output_type": "stream",
     "text": [
      "Súbete a mi bici 🎶\n"
     ]
    }
   ],
   "source": [
    "# Ejemplo de operador ternario\n",
    "edad = 15\n",
    "vehiculo = \"moto\" if edad >= 16 else \"bici\"\n",
    "print(f\"Súbete a mi {vehiculo} 🎶\")"
   ]
  },
  {
   "cell_type": "markdown",
   "metadata": {},
   "source": [
    "En lenguajes como C, C++, Java, C#, y otros, el operador ternario se escribe\n",
    "como `cond ? foo : bar`."
   ]
  },
  {
   "cell_type": "markdown",
   "metadata": {},
   "source": [
    "La **llamada a función** es un operador que se usa para llamar a una función\n",
    "con los argumentos que recibe.\n",
    "En casi todos los lengujes de programación, la llamada a función se representa\n",
    "con paréntesis, por ejemplo, `f(x)` llama a la función `f` con el argumento `x`.\n",
    "Veremos más sobre funciones en la siguiente sección."
   ]
  },
  {
   "cell_type": "code",
   "execution_count": 46,
   "metadata": {},
   "outputs": [
    {
     "data": {
      "text/plain": [
       "42"
      ]
     },
     "execution_count": 46,
     "metadata": {},
     "output_type": "execute_result"
    }
   ],
   "source": [
    "abs(-42)  # Valor absoluto"
   ]
  },
  {
   "cell_type": "markdown",
   "metadata": {},
   "source": [
    "El operador de subíndice `[]` se usa para acceder a los elementos de un objeto\n",
    "denotable que representa una colección, como una cadena de caracteres o una\n",
    "lista."
   ]
  },
  {
   "cell_type": "code",
   "execution_count": 47,
   "metadata": {},
   "outputs": [
    {
     "data": {
      "text/plain": [
       "'Y'"
      ]
     },
     "execution_count": 47,
     "metadata": {},
     "output_type": "execute_result"
    }
   ],
   "source": [
    "\"¿Y mis 50000 pesos qué!\"[1]"
   ]
  },
  {
   "cell_type": "markdown",
   "metadata": {},
   "source": [
    "#### Expresiones\n",
    "\n",
    "- Un literal es una expresión que se evalúa a sí misma.\n",
    "- Un identificador es una expresión que se evalúa al objeto denotado por el\n",
    "  identificador.\n",
    "- Una expresión que combina operadores, identificadores y literales se evalúa\n",
    "  de acuerdo a las reglas de precedencia y asociatividad de los operadores."
   ]
  },
  {
   "cell_type": "markdown",
   "metadata": {},
   "source": [
    "## 2. Estructuras de control"
   ]
  },
  {
   "cell_type": "markdown",
   "metadata": {},
   "source": [
    "### 2.1 Programación no estructurada"
   ]
  },
  {
   "cell_type": "markdown",
   "metadata": {},
   "source": [
    "Recordemos que la programación imperativa evolucionó a partir del lenguaje\n",
    "máquina:\n",
    "\n",
    "- La máquina tiene **contador de programa** que indica el número de instrucción\n",
    "  (posición en la memoria) que se ejecutará a continuación.\n",
    "- Cuando se termina de ejecutar una instrucción, el contador de programa se\n",
    "  incrementa en uno a menos que la instrucción sea una **instrucción de\n",
    "  salto**, en cuyo caso el valor cambia al que la instrucción de salto indique.\n",
    "\n",
    "En los lenguajes de programación imperativos modernos, esta instrucción de salto\n",
    "se conoce como `goto` y se utiliza para saltar a una instrucción arbitraria del\n",
    "programa, generalmente indicada por una etiqueta.\n",
    "Al tipo de programación que abusa de la instrucción `goto` se le conoce como\n",
    "**programación no estructurada**.\n"
   ]
  },
  {
   "cell_type": "markdown",
   "metadata": {},
   "source": [
    "**Ejemplo**  En C++ las etiquetas se indican con el símbolo `:`.\n",
    "Consideremos el siguiente programa escrito en C++ que imprime los\n",
    "números de Fibonacci menores o iguales a un número `n_max` dado por el usuario.\n",
    "Las variables `i` y `j` se declaran explícitamente como enteros, y contienen dos\n",
    "números consecutivos de la sucesión de Fibonacci.\n",
    "Podemos observar que el programa tiene tres etiquetas: `loop`, `iterate` y\n",
    "`exit`:\n",
    "\n",
    "```C++\n",
    "#include <iostream>\n",
    "\n",
    "int main() {\n",
    "  int n_max, i = 1, j = 0;\n",
    "  std::cout << \"n = \";\n",
    "  std::cin >> n_max;\n",
    "\n",
    "loop:\n",
    "  if (j <= n_max) goto iterate;\n",
    "  goto exit;\n",
    "\n",
    "iterate:\n",
    "  std::cout << j << \" \";\n",
    "  j += i;\n",
    "  i = j - i;\n",
    "  goto loop;\n",
    "\n",
    "exit:\n",
    "  std::cout << std::endl;\n",
    "  return 0;\n",
    "}\n",
    "```"
   ]
  },
  {
   "cell_type": "markdown",
   "metadata": {},
   "source": [
    "**Actividad**: Usar el depurador de Visual Studio Code para ejecutar el programa\n",
    "anterior paso a paso y seguir el flujo de ejecución."
   ]
  },
  {
   "cell_type": "markdown",
   "metadata": {},
   "source": [
    "Muchos lenguajes de programación modernos como Python y JavaScript no\n",
    "implementan la instrucción `goto` porque se considera una **mala práctica de\n",
    "programación**.\n",
    "Ya en 1966 se sabía que la instrucción  `goto` es innecesaria para construir\n",
    "cualquier programa (veremos este resultado en la siguiente subsección), pero en\n",
    "1968 se publicó un influyente ensayo titulado [*Go To Statement Considered\n",
    "Harmful*][1] donde Edsger Dijkstra critica el esta instrucción `goto` porque\n",
    "produce código ilegible, que en terminología moderna conocemos popularmente como\n",
    "[*código espagueti*](https://en.wikipedia.org/wiki/Spaghetti_code).\n",
    "\n",
    "[1]: https://doi.org/10.1145/362929.362947"
   ]
  },
  {
   "cell_type": "markdown",
   "metadata": {},
   "source": [
    "En la programación no estructurada el entorno de referencia son todas los\n",
    "identificadores que se han declarado hasta el momento de la ejecución de una\n",
    "instrucción."
   ]
  },
  {
   "cell_type": "markdown",
   "metadata": {},
   "source": [
    "### 2.2 La programación estructurada"
   ]
  },
  {
   "cell_type": "markdown",
   "metadata": {},
   "source": [
    "En 1957 [FORTRAN](https://en.wikipedia.org/wiki/Fortran) se convirtió el primer\n",
    "lenguaje de programación en no depender de la instrucción `goto` para construir\n",
    "programas.\n",
    "El truco estaba en la capacidad de organizar el código en **bloques** y usar\n",
    "**estructuras de control** para controlar el flujo de ejecución del programa.\n",
    "\n",
    "**Definición** (de bloques de código) Un **bloque de código** se define\n",
    "recursivamente de la siguiente manera:\n",
    "- Una instrucción es un bloque de código por sí misma.\n",
    "- **Estructura secuencial**: Si $A$ y $B$ son bloques de código, entonces\n",
    "  “$A$`; `$B$” es el bloque de código que ejecuta $A$ y después ejecuta $B$.\n",
    "- **Estructura condicional**: Si $c$ es una expresión booleana y $A$ un bloque\n",
    "  de código, entonces “`si` $c$ `entonces` $A$ `fin`” es el bloque de código que\n",
    "  ejecuta $A$ si y sólo si $c$ es verdadera.\n",
    "- **Estructura iterativa**: Si $c$ es una expresión booleana y $A$ un bloque de\n",
    "  código, entonces “`mientras` $c$ `hacer` $A$ `fin`” es el bloque de código que\n",
    "  ejecuta $A$ mientras $c$ sea verdadera.\n",
    "  "
   ]
  },
  {
   "cell_type": "markdown",
   "metadata": {},
   "source": [
    "#### La estructura secuencial\n",
    "\n",
    "La estructura más simple de todas es la evolución natural de que el contador\n",
    "de programa se incremente en uno después de ejecutar una instrucción: las \n",
    "instrucciones se ejecutan una detrás de otra en el orden en que aparecen.\n",
    "Para separar las instrucciones en bloques de código se usa algún símbolo como el\n",
    "punto y coma `;` en C++ o el salto de línea en Python."
   ]
  },
  {
   "cell_type": "markdown",
   "metadata": {},
   "source": [
    "Si $B_1$, $B_2$, $\\ldots$, $B_n$ son bloques de código, entonces la estructura\n",
    "secuencial tiene la siguiente forma:\n",
    "\n",
    "- $B_1$`;`\n",
    "- $B_2$`;`\n",
    "- $\\quad\\vdots$\n",
    "- $B_n$`;`\n",
    "\n",
    "En particular, si cada bloque de código es una instrucción, se vería así:\n",
    "\n",
    "- $\\textit{instrucción}_1$\n",
    "- $\\textit{instrucción}_2$\n",
    "- $\\qquad\\vdots$\n",
    "- $\\textit{instrucción}_n$"
   ]
  },
  {
   "cell_type": "markdown",
   "metadata": {},
   "source": [
    "Algunos lenguajes de programación incluso tienen símbolos especiales para\n",
    "agrupar instrucciones en bloques de código:\n",
    "- Las palabras `begin` y `end` se usan ALGOL, Pascal, Ada y otros.\n",
    "- Las llaves `{` y `}` se usan en los descendientes del lenguaje B (C, C++,\n",
    "  Java, JavaScript, C#, etc.).\n"
   ]
  },
  {
   "cell_type": "markdown",
   "metadata": {},
   "source": [
    "**Actividad** En el siguiente programa escrito en C++; `std::cout` se usa para\n",
    "imprimir en la terminal, y `std::endl` representa un salto de línea.\n",
    "Determina qué imprime el programa y por qué.\n",
    "\n",
    "\n",
    "```C++\n",
    "#include <iostream>\n",
    "int foo = 1;\n",
    "\n",
    "void bloque_d() {\n",
    "  // Bloque D\n",
    "  std::cout << \"Bloque D: foo=\" << foo << std::endl;  \n",
    "}\n",
    "\n",
    "int main() {\n",
    "  // Bloque A\n",
    "  std::cout << \"Bloque A: foo=\" << foo << std::endl;\n",
    "  int foo = 2;\n",
    "\n",
    "  {\n",
    "    // Bloque B\n",
    "    int foo = 3;\n",
    "    std::cout << \"Bloque B: foo=\" << foo << std::endl;\n",
    "  }\n",
    "\n",
    "  {\n",
    "    // Bloque C\n",
    "    std::cout << \"Bloque C: foo=\" << foo << std::endl;\n",
    "  }\n",
    "\n",
    "  bloque_d();  // Llamada a la función bloque_d\n",
    "\n",
    "  std::cout << \"Bloque A: foo=\" << foo << std::endl;\n",
    "  return 0;\n",
    "}\n",
    "```"
   ]
  },
  {
   "cell_type": "markdown",
   "metadata": {},
   "source": [
    "#### La estructura condicional\n",
    "\n",
    "La estructura condicional evoluciona a partir de las instrucciones de salto\n",
    "condicional del lenguaje máquina, en donde el contador de programa cambia al\n",
    "valor de una etiqueta si y sólo si una condición es verdadera.\n",
    "\n",
    "Si $c$ es una expresión booleana y $B$ un bloque de código, entonces la\n",
    "estructura condicional tiene la siguiente forma:\n",
    "\n",
    "- `si` $\\mathit{c}$ `entonces`\n",
    "  - $\\mathit{B}$`;`\n",
    "\n",
    "Es equivalente al siguiente pseudocódigo que usa la instrucción “`vaya a`”\n",
    "(*goto*) y la etiqueta $L$:\n",
    "\n",
    "- `si` $\\neg\\mathit{c}$ `entonces vaya a` $L$`;`\n",
    "- $B$`;`\n",
    "- $L: \\ldots$"
   ]
  },
  {
   "cell_type": "markdown",
   "metadata": {},
   "source": [
    "**Actividad** Explorar la estructura condicional en Python y sus variantes."
   ]
  },
  {
   "cell_type": "code",
   "execution_count": 48,
   "metadata": {},
   "outputs": [
    {
     "name": "stdout",
     "output_type": "stream",
     "text": [
      "Vamos a dar un paseo en coche.\n"
     ]
    }
   ],
   "source": [
    "edad = 18\n",
    "if edad > 18:\n",
    "    print(\"Vamos por unas chelas.\")\n",
    "elif edad > 16:\n",
    "    print(\"Vamos a dar un paseo en coche.\")\n",
    "else:\n",
    "    print(\"Vamos por un Yakult.\")"
   ]
  },
  {
   "cell_type": "code",
   "execution_count": 49,
   "metadata": {},
   "outputs": [
    {
     "name": "stdout",
     "output_type": "stream",
     "text": [
      "Eres regiomontano.\n"
     ]
    }
   ],
   "source": [
    "estado = \"MTY\"\n",
    "match estado:\n",
    "    case \"MOR\":\n",
    "        print(\"Eres guayabo.\")\n",
    "    case \"CDMX\":\n",
    "        print(\"Eres chilango.\")\n",
    "    case \"AGS\":\n",
    "        print(\"Eres hidrocálido.\")\n",
    "    case \"GRO\":\n",
    "        print(\"Eres guerrerense.\")\n",
    "    case \"MTY\":\n",
    "        print(\"Eres regiomontano.\")\n",
    "    case _:\n",
    "        print(\"Eres del interior, provinciano.\")"
   ]
  },
  {
   "cell_type": "markdown",
   "metadata": {},
   "source": [
    "#### La estructura iterativa\n",
    "\n",
    "La estructura iterativa evoluciona a partir de las instrucciones de salto\n",
    "condicional que apuntan a una instrucción anterior, de manera que el contador de\n",
    "programa regresa a un valor menor.\n",
    "\n",
    "Si $c$ es una expresión booleana y $B$ un bloque de código, entonces la\n",
    "estructura iterativa tiene la siguiente forma:\n",
    "\n",
    "- `mientras` $\\mathit{c}$ `haga`\n",
    "  - $\\mathit{B}$`;`\n",
    "\n",
    "Es equivalente al siguiente pseudocódigo que usa la instrucción “`vaya a`”\n",
    "(*goto*) y las etiquetas $L$ y $M$:\n",
    "\n",
    "- $L:$ `si` $\\neg\\mathit{c}$ `entonces vaya a` $M$`;`\n",
    "- $B$`;`\n",
    "- `vaya a` $L$`;`\n",
    "- $M: \\ldots$"
   ]
  },
  {
   "cell_type": "markdown",
   "metadata": {},
   "source": [
    "**Actividad** Explorar la estructura iterativa en Python y sus variantes."
   ]
  },
  {
   "cell_type": "code",
   "execution_count": 50,
   "metadata": {},
   "outputs": [
    {
     "name": "stdout",
     "output_type": "stream",
     "text": [
      "Tienes 15; vamos por un Yakult.\n",
      "Esperamos un año.\n",
      "Tienes 16; vamos por un Yakult.\n",
      "Esperamos un año.\n",
      "Tienes 17; vamos por un Yakult.\n",
      "Esperamos un año.\n",
      "Vamos por una chela.\n"
     ]
    }
   ],
   "source": [
    "edad = 15\n",
    "while edad < 18:\n",
    "    print(f\"Tienes {edad}; vamos por un Yakult.\")\n",
    "    print(\"Esperamos un año.\")\n",
    "    edad += 1\n",
    "print(\"Vamos por una chela.\")"
   ]
  },
  {
   "cell_type": "code",
   "execution_count": 51,
   "metadata": {},
   "outputs": [
    {
     "data": {
      "text/plain": [
       "[10, 11, 12, 13, 14, 15, 16, 17]"
      ]
     },
     "execution_count": 51,
     "metadata": {},
     "output_type": "execute_result"
    }
   ],
   "source": [
    "list(range(10, 18))"
   ]
  },
  {
   "cell_type": "code",
   "execution_count": 52,
   "metadata": {},
   "outputs": [
    {
     "name": "stdout",
     "output_type": "stream",
     "text": [
      "Tienes 10; vamos por un Yakult.\n",
      "Tienes 11; vamos por un Yakult.\n",
      "Tienes 12; vamos por un Yakult.\n",
      "Tienes 13; vamos por un Yakult.\n",
      "Tienes 14; vamos por un Yakult.\n",
      "Tienes 15; vamos por un Yakult.\n",
      "Tienes 16; vamos por un Yakult.\n",
      "Tienes 17; vamos por un Yakult.\n",
      "Vamos por una chela.\n"
     ]
    }
   ],
   "source": [
    "for edad in range(10, 18):\n",
    "    print(f\"Tienes {edad}; vamos por un Yakult.\")\n",
    "print(\"Vamos por una chela.\")"
   ]
  },
  {
   "cell_type": "code",
   "execution_count": 53,
   "metadata": {},
   "outputs": [
    {
     "name": "stdout",
     "output_type": "stream",
     "text": [
      "Tienes 1; vamos por un Yakult.\n",
      "Tienes 2; vamos por un Yakult.\n",
      "Tienes 3; vamos por un Yakult.\n",
      "Tienes 4; vamos por un Yakult.\n",
      "Tienes 5; vamos por un Yakult.\n",
      "Tienes 6; vamos por un Yakult.\n",
      "Tienes 7; vamos por un Yakult.\n",
      "Tienes 8; vamos por un Yakult.\n",
      "Tienes 9; vamos por un Yakult.\n",
      "Tienes 10; vamos por un Yakult.\n",
      "Tienes 11; vamos por un Yakult.\n",
      "Tienes 12; vamos por un Yakult.\n",
      "Tienes 13; vamos por un Yakult.\n",
      "Tienes 14; vamos por un Yakult.\n",
      "Tienes 15; vamos por un Yakult.\n",
      "Tienes 16; vamos por un Yakult.\n",
      "Tienes 17; vamos por un Yakult.\n",
      "Tienes 18; vamos por una chela.\n"
     ]
    }
   ],
   "source": [
    "for edad in range(99):\n",
    "    if edad < 1:\n",
    "        continue\n",
    "    if edad >= 18:\n",
    "        print(f\"Tienes {edad}; vamos por una chela.\")\n",
    "        break\n",
    "    print(f\"Tienes {edad}; vamos por un Yakult.\")"
   ]
  },
  {
   "cell_type": "markdown",
   "metadata": {},
   "source": [
    "#### El Teorema del programa estructurado\n",
    "\n",
    "En [1966 Böhm y Jacopini][1] demostraron matemáticamente que cualquier programa\n",
    "se puede escribir, al menos en principio, usando únicamente las estructuras de\n",
    "control secuencial, condicional e iterativa.\n",
    "Este resultado es completamente teóríco, pues las transformaciones que usan para\n",
    "convertir un programa no estructurado en uno que sí es estructurado lo vuelven\n",
    "aún más ilegible que el programa original.\n",
    "\n",
    "[1]: https://dl.acm.org/doi/10.1145/355592.365646"
   ]
  },
  {
   "cell_type": "markdown",
   "metadata": {},
   "source": [
    "El teorma de Böhm y Jacopini se refiere concretamente a [diagramas de flujo][1],\n",
    "pero se puede extender de forma natural a cualquier lenguaje de programación.\n",
    "Específicamente demostraron que cualquier diagrama de flujo se puede convertir\n",
    "a otro equivalente que tiene solamente estos tres artefactos con sus respectivas\n",
    "representaciones gráficas:\n",
    "\n",
    "![Diagramas de estructuras de control](img/Structured_program_patterns.svg)\n",
    "\n",
    "[1]: https://en.wikipedia.org/wiki/Flowchart"
   ]
  },
  {
   "cell_type": "markdown",
   "metadata": {},
   "source": [
    "A este resultado famoso se conoce como el **Teorema del programa estructurado**\n",
    "y muchos argumentan que es la justificación teórica de que la programación no\n",
    "estructurada es innecesaria.\n",
    "En la práctica se sabe que en algunos *muy raros* casos, la instrucción `goto`\n",
    "no solamente hace al programa más eficiente, sino más legible.\n",
    "\n",
    "En lo particular, como docente de programación, no recomiendo usar la\n",
    "instrucción `goto` a menos que tengas muchos años de experiencia programando y\n",
    "una muy buena razón para hacerlo.\n",
    "Antes de escribir ese `goto` pregúntate si la eficiencia que ganas es\n",
    "significativa y si no perderás legibilidad en el proceso.\n",
    "\n"
   ]
  },
  {
   "cell_type": "markdown",
   "metadata": {},
   "source": [
    "### 2.3 Estructuras de control adicionales\n",
    "\n",
    "Aunque el teorema del programa estructurado establece solo tres estructuras de\n",
    "control, en la práctica los lenguajes de programación modernos tienen muchas\n",
    "más que son de gran utilidad."
   ]
  },
  {
   "cell_type": "markdown",
   "metadata": {},
   "source": [
    "#### Funciones\n",
    "\n",
    "Las funciones son bloques de código que han sido encapsulados como una unidad\n",
    "para realizar una tarea específica.\n",
    "Usualmente las funciones tienen un nombre y pueden recibir parámetros de entrada\n",
    "y regresar un valor de salida, es decir, son una abstracción de algoritmo.\n",
    "\n",
    "La notación de funciones es usualmente la misma que las funciones matemáticas:\n",
    "el nombre de la función seguido de paréntesis que contienen los parámetros de\n",
    "entrada separados por comas.\n",
    "Al evaluar una función, se sustituyen los parámetros de entrada por los valores\n",
    "que se le pasan a la función, y se evalúa el bloque de código, y la salida\n",
    "sustituye la llamada a la función."
   ]
  },
  {
   "cell_type": "code",
   "execution_count": 54,
   "metadata": {},
   "outputs": [
    {
     "data": {
      "text/plain": [
       "1.7071067811865475"
      ]
     },
     "execution_count": 54,
     "metadata": {},
     "output_type": "execute_result"
    }
   ],
   "source": [
    "# Importamos coseno y pi del módulo math\n",
    "from math import cos, pi\n",
    "\n",
    "cos(pi / 4) + 1"
   ]
  },
  {
   "cell_type": "markdown",
   "metadata": {},
   "source": [
    "En Python las funciones se declaran con la palabra `def` seguida del nombre de\n",
    "la función y una lista de parámetros entre paréntesis, y terminando con dos\n",
    "puntos `:`. El cuerpo de la función se escribe indentado con cuatro espacios.\n",
    "Asimismo, la primera línea del cuerpo de la función puede ser una cadena de\n",
    "caracteres que se usa como documentación de la función."
   ]
  },
  {
   "cell_type": "code",
   "execution_count": 55,
   "metadata": {},
   "outputs": [],
   "source": [
    "def fib(n):\n",
    "    \"\"\"Imprime la sucesión de Fibonacci hasta n.\"\"\"\n",
    "    i, j = 1, 0\n",
    "    while j < n:\n",
    "        print(j, end=\" \")\n",
    "        i, j = j, i + j\n",
    "    print()"
   ]
  },
  {
   "cell_type": "code",
   "execution_count": 56,
   "metadata": {},
   "outputs": [
    {
     "name": "stdout",
     "output_type": "stream",
     "text": [
      "0 1 1 2 3 5 8 13 21 34 55 89 144 233 377 610 987 \n"
     ]
    }
   ],
   "source": [
    "resultado = fib(1000)"
   ]
  },
  {
   "cell_type": "markdown",
   "metadata": {},
   "source": [
    "**Terminología** Existen varios tipos de *funciones* en programación dependiendo\n",
    "de su salida, alcance y efectos secundarios:\n",
    "- **Función**: Es una función que regresa un valor.\n",
    "  Este valor puede ser calculado a partir de cero o más parámetros de entrada.\n",
    "  Una función que calcula el valor de la constante pi sigue esta definición, así\n",
    "  como también la función coseno.\n",
    "- **Subrutina**: Es una función que no regresa un valor.\n",
    "  Se usa para realizar una tarea específica que altera el estado del programa\n",
    "  o del sistema, pero que no calcula un valor; por ejemplo, imprimir un mensaje\n",
    "  en la terminal o asegurarse de que un archivo exista.\n",
    "- **Método**: Es una función o subrutina que pertenece a un objeto.\n",
    "  Usualmente se denota con $x.f(\\ldots)$ donde $x$ es el objeto y $f$ es el\n",
    "  método.\n",
    "  Por ejemplo, en Python las cadenas de caracteres tienen un método `upper` que\n",
    "  regresa una copia de la cadena en mayúsculas (`\"Hola\".upper()`).\n",
    "  Esta función es específica de las cadenas de caracteres y no de cualquier\n",
    "  objeto."
   ]
  },
  {
   "cell_type": "markdown",
   "metadata": {},
   "source": [
    "Se puede observar que el ejemplo anterior era una *subrutina*.\n",
    "Si intentamos quitar el cero del resultado anterior haciendo algo como\n",
    "```python\n",
    "resultado.remove(0)  # Usamos el método remove de las listas\n",
    "```\n",
    "obtenemos un `AttributeError` porque, de hecho, `resultado` no es una lista,\n",
    "sino `None`.\n",
    "En Python, `None` es el objeto que representa la ausencia de valor, y es el\n",
    "valor de retorno de las funciones que no regresan nada."
   ]
  },
  {
   "cell_type": "code",
   "execution_count": 57,
   "metadata": {},
   "outputs": [
    {
     "data": {
      "text/plain": [
       "NoneType"
      ]
     },
     "execution_count": 57,
     "metadata": {},
     "output_type": "execute_result"
    }
   ],
   "source": [
    "type(resultado)"
   ]
  },
  {
   "cell_type": "markdown",
   "metadata": {},
   "source": [
    "Podemos corregir el programa anterior haciendo que la función `fibonacci`\n",
    "regrese una lista en lugar de imprimirla.\n",
    "Se usa la sentencia `return` para regresar un valor de una función como se\n",
    "muestra a continuación:"
   ]
  },
  {
   "cell_type": "code",
   "execution_count": 58,
   "metadata": {},
   "outputs": [
    {
     "name": "stdout",
     "output_type": "stream",
     "text": [
      "[0, 1, 1, 2, 3, 5, 8, 13, 21, 34, 55, 89, 144, 233, 377, 610, 987]\n"
     ]
    }
   ],
   "source": [
    "# Ejemplo de función con anotaciones de tipo (opcionales)\n",
    "def fib(n: int) -> list[int]:\n",
    "    \"\"\"Devuelve la sucesión de Fibonacci hasta n.\"\"\"\n",
    "    i, j, resultado = 1, 0, []\n",
    "    while j < n:\n",
    "        resultado.append(j)  # Agregamos j a la lista resultado\n",
    "        i, j = j, i + j\n",
    "    return resultado\n",
    "\n",
    "\n",
    "resultado = fib(1000)\n",
    "print(resultado)"
   ]
  },
  {
   "cell_type": "code",
   "execution_count": 59,
   "metadata": {},
   "outputs": [
    {
     "name": "stdout",
     "output_type": "stream",
     "text": [
      "[1, 1, 2, 3, 5, 8, 13, 21, 34, 55, 89, 144, 233, 377, 610, 987]\n"
     ]
    }
   ],
   "source": [
    "resultado.remove(0)  # Eliminamos el cero con el método remove\n",
    "print(resultado)"
   ]
  },
  {
   "cell_type": "code",
   "execution_count": 60,
   "metadata": {},
   "outputs": [
    {
     "data": {
      "text/plain": [
       "11"
      ]
     },
     "execution_count": 60,
     "metadata": {},
     "output_type": "execute_result"
    }
   ],
   "source": [
    "resultado.index(144)  # El m. index encuentra el índice de un elemento"
   ]
  },
  {
   "cell_type": "markdown",
   "metadata": {},
   "source": [
    "**Actividad** Buscar la sintaxis de funciones en JavaScript, R y C++.\n",
    "¿Puedes convertir el programa anterior en una función en estos lenguajes?"
   ]
  },
  {
   "cell_type": "markdown",
   "metadata": {},
   "source": [
    "#### Manejo de excepciones\n",
    "\n",
    "Las excepciones son errores que ocurren durante la ejecución de un programa,\n",
    "como dividir entre cero, abrir un archivo que no existe, usar un identificador\n",
    "que no ha sido declarado, etc.\n",
    "\n",
    "Muchos lenguajes de programación modernos tienen una estructura de control para\n",
    "manejar las excepciones; usualmente consta de dos o tres partes:\n",
    "- El bloque *intentar* contiene el código inseguro que puede generar una\n",
    "  excepción.\n",
    "- El bloque *atrapar* contiene el código que se ejecuta cuando se genera una\n",
    "- excepción.\n",
    "- El bloque *finalmente* es opcional, y contiene el código que se ejecuta\n",
    "  siempre, ya sea que se haya generado una excepción o no."
   ]
  },
  {
   "cell_type": "markdown",
   "metadata": {},
   "source": [
    "En Python esta estructura de control se llama `try`."
   ]
  },
  {
   "cell_type": "code",
   "execution_count": 61,
   "metadata": {},
   "outputs": [
    {
     "name": "stdout",
     "output_type": "stream",
     "text": [
      "¡Qué viej@ estás!\n"
     ]
    }
   ],
   "source": [
    "while True:\n",
    "    try:  # Código protegido:\n",
    "        edad = int(input(\"¿Cuántos años tienes? \"))\n",
    "    except ValueError:  # Manejo de excepciones:\n",
    "        print(\"Eso no es un número. Intenta de nuevo.\")\n",
    "    else:  # Código que se ejecuta si no hay excepciones (desprotegido):\n",
    "        print(\"¡Qué viej@ estás!\")\n",
    "        break  # Salimos del ciclo"
   ]
  },
  {
   "cell_type": "markdown",
   "metadata": {},
   "source": [
    "Para lanzar una excepción se usa la instrucción `raise` seguida de un objeto\n",
    "que representa la excepción."
   ]
  },
  {
   "cell_type": "code",
   "execution_count": 62,
   "metadata": {},
   "outputs": [
    {
     "name": "stdout",
     "output_type": "stream",
     "text": [
      "0.3333333333333333\n",
      "0.6666666666666666\n",
      "Se produjo este error: ¡No me gusta ese número!\n"
     ]
    }
   ],
   "source": [
    "malo = 3  # Intenta cambiar este valor a 0 o 15\n",
    "try:\n",
    "    for i in range(1, 10):\n",
    "        if i == malo:\n",
    "            raise ValueError(\"¡No me gusta ese número!\")\n",
    "        print(i / malo)\n",
    "except ValueError as error:\n",
    "    print(\"Se produjo este error:\", error)\n",
    "except ZeroDivisionError as error:\n",
    "    print(\"No puedes dividir entre cero.\")\n",
    "else:\n",
    "    print(\"Todo salió bien.\")"
   ]
  },
  {
   "cell_type": "markdown",
   "metadata": {},
   "source": [
    "C++ tiene una estructura de control similar llamada `try`.\n",
    "Para lanzar una excepción se usa la instrucción `throw` seguida de un número\n",
    "entero que representa la excepción.\n",
    "\n",
    "```C++\n",
    "try {\n",
    "  int edad = 15;\n",
    "  if (edad >= 18) {\n",
    "    cout << \"Caite con las chelas.\";\n",
    "  } else {\n",
    "    throw (edad);  // Lanzar una excepción\n",
    "  }\n",
    "}\n",
    "catch (int codigoDeError) {\n",
    "  cout << \"No puedes tomar chelas a los\" << codigoDeError << \" años.\";\n",
    "} \n",
    "```"
   ]
  },
  {
   "cell_type": "markdown",
   "metadata": {},
   "source": [
    "Java, JavaScript, C# y otros lenguajes tienen la misma sintaxis que C++, solo\n",
    "hay diferencia en los tipos de datos que se pueden usar como excepciones.\n",
    "- En Java y C#, las excepciones deben ser subclases de la clase `Exception`.\n",
    "- En JavaScript, las excepciones pueden ser cualquier objeto.\n",
    "\n",
    "El lenguaje C no tiene una estructura de control para manejar excepciones, pero\n",
    "tiene una función llamada `setjmp` que se usa para definir un punto de retorno\n",
    "en el programa, y una función llamada `longjmp` que se usa para saltar a ese\n",
    "punto de retorno.\n",
    "Esencialmente, estas funciones implementan la estructura de control `try`\n",
    "mediante el uso de `goto`."
   ]
  },
  {
   "cell_type": "markdown",
   "metadata": {},
   "source": [
    "**Actividad** Convierte los ejemplos anteriores a JavaScript y pruébalos en el\n",
    "navegador."
   ]
  },
  {
   "cell_type": "markdown",
   "metadata": {},
   "source": [
    "#### Contextos de ejecución\n",
    "\n",
    "Python tiene una estructura de control llamada `with` que se usa para crear\n",
    "**contextos de ejecución**; estos son bloques de código en los que el entorno\n",
    "de referencia se modifica de manera temporal."
   ]
  },
  {
   "cell_type": "code",
   "execution_count": 63,
   "metadata": {},
   "outputs": [],
   "source": [
    "# Para abrir un archivo usamos la función open()\n",
    "archivo = open(\"img/variablespostit.svg\")\n",
    "contenido = archivo.read(100)\n",
    "archivo.close()  # A la banda se le olvida cerrar el archivo"
   ]
  },
  {
   "cell_type": "code",
   "execution_count": 64,
   "metadata": {},
   "outputs": [],
   "source": [
    "with open(\"img/variablespostit.svg\") as archivo:\n",
    "    # El archivo se cierra automáticamente al salir del bloque with\n",
    "    contenido = archivo.read(100)"
   ]
  },
  {
   "cell_type": "markdown",
   "metadata": {},
   "source": [
    "### 2.4 Módulos y bibliotecas "
   ]
  },
  {
   "cell_type": "markdown",
   "metadata": {},
   "source": [
    "Toda vez que un lenguaje de programación permite definir funciones y subrutinas,\n",
    "los programas se conciben como funciones que se llaman unas a otras para\n",
    "realizar una tarea específica.\n",
    "Pero entonces veremos que unas funciones son demasiado comunes y que se usan en\n",
    "muchos programas, por lo que es conveniente empaquetarlas en un lugar accesible\n",
    "para todos los programas que las necesiten."
   ]
  },
  {
   "cell_type": "markdown",
   "metadata": {},
   "source": [
    "**Definición** Una **biblioteca** (*library*) es una colección de funciones y\n",
    "otros objetos denotables que se pueden incluir en programa mediante un sistema\n",
    "de importación.\n"
   ]
  },
  {
   "cell_type": "markdown",
   "metadata": {},
   "source": [
    "En lenguaje C, las bibliotecas se incluyen con la instrucción `#include`.\n",
    "Esto hace que el preprocesador del lenguaje copie y pegue el contenido de la\n",
    "biblioteca en el programa antes de compilarlo.\n",
    "En Python, cualquier archivo `foo.py` es una biblioteca que se puede importar\n",
    "con la instrucción `import foo`."
   ]
  },
  {
   "cell_type": "code",
   "execution_count": 65,
   "metadata": {},
   "outputs": [],
   "source": [
    "# La biblioteca estándar de Python incluye un módulo math para\n",
    "# funciones matemáticas\n",
    "import math"
   ]
  },
  {
   "cell_type": "code",
   "execution_count": 66,
   "metadata": {},
   "outputs": [
    {
     "name": "stdout",
     "output_type": "stream",
     "text": [
      "Help on built-in module math:\n",
      "\n",
      "NAME\n",
      "    math\n",
      "\n",
      "DESCRIPTION\n",
      "    This module provides access to the mathematical functions\n",
      "    defined by the C standard.\n",
      "\n",
      "FUNCTIONS\n",
      "    acos(x, /)\n",
      "        Return the arc cosine (measured in radians) of x.\n",
      "        \n",
      "        The result is between 0 and pi.\n",
      "    \n",
      "    acosh(x, /)\n",
      "        Return the inverse hyperbolic cosine of x.\n",
      "    \n",
      "    asin(x, /)\n",
      "        Return the arc sine (measured in radians) of x.\n",
      "        \n",
      "        The result is between -pi/2 and pi/2.\n",
      "    \n",
      "    asinh(x, /)\n",
      "        Return the inverse hyperbolic sine of x.\n",
      "    \n",
      "    atan(x, /)\n",
      "        Return the arc tangent (measured in radians) of x.\n",
      "        \n",
      "        The result is between -pi/2 and pi/2.\n",
      "    \n",
      "    atan2(y, x, /)\n",
      "        Return the arc tangent (measured in radians) of y/x.\n",
      "        \n",
      "        Unlike atan(y/x), the signs of both x and y are considered.\n",
      "    \n",
      "    atanh(x, /)\n",
      "        Return the inverse hyperbolic tangent of x.\n",
      "    \n",
      "    cbrt(x, /)\n",
      "        Return the cube root of x.\n",
      "    \n",
      "    ceil(x, /)\n",
      "        Return the ceiling of x as an Integral.\n",
      "        \n",
      "        This is the smallest integer >= x.\n",
      "    \n",
      "    comb(n, k, /)\n",
      "        Number of ways to choose k items from n items without repetition and without order.\n",
      "        \n",
      "        Evaluates to n! / (k! * (n - k)!) when k <= n and evaluates\n",
      "        to zero when k > n.\n",
      "        \n",
      "        Also called the binomial coefficient because it is equivalent\n",
      "        to the coefficient of k-th term in polynomial expansion of the\n",
      "        expression (1 + x)**n.\n",
      "        \n",
      "        Raises TypeError if either of the arguments are not integers.\n",
      "        Raises ValueError if either of the arguments are negative.\n",
      "    \n",
      "    copysign(x, y, /)\n",
      "        Return a float with the magnitude (absolute value) of x but the sign of y.\n",
      "        \n",
      "        On platforms that support signed zeros, copysign(1.0, -0.0)\n",
      "        returns -1.0.\n",
      "    \n",
      "    cos(x, /)\n",
      "        Return the cosine of x (measured in radians).\n",
      "    \n",
      "    cosh(x, /)\n",
      "        Return the hyperbolic cosine of x.\n",
      "    \n",
      "    degrees(x, /)\n",
      "        Convert angle x from radians to degrees.\n",
      "    \n",
      "    dist(p, q, /)\n",
      "        Return the Euclidean distance between two points p and q.\n",
      "        \n",
      "        The points should be specified as sequences (or iterables) of\n",
      "        coordinates.  Both inputs must have the same dimension.\n",
      "        \n",
      "        Roughly equivalent to:\n",
      "            sqrt(sum((px - qx) ** 2.0 for px, qx in zip(p, q)))\n",
      "    \n",
      "    erf(x, /)\n",
      "        Error function at x.\n",
      "    \n",
      "    erfc(x, /)\n",
      "        Complementary error function at x.\n",
      "    \n",
      "    exp(x, /)\n",
      "        Return e raised to the power of x.\n",
      "    \n",
      "    exp2(x, /)\n",
      "        Return 2 raised to the power of x.\n",
      "    \n",
      "    expm1(x, /)\n",
      "        Return exp(x)-1.\n",
      "        \n",
      "        This function avoids the loss of precision involved in the direct evaluation of exp(x)-1 for small x.\n",
      "    \n",
      "    fabs(x, /)\n",
      "        Return the absolute value of the float x.\n",
      "    \n",
      "    factorial(n, /)\n",
      "        Find n!.\n",
      "        \n",
      "        Raise a ValueError if x is negative or non-integral.\n",
      "    \n",
      "    floor(x, /)\n",
      "        Return the floor of x as an Integral.\n",
      "        \n",
      "        This is the largest integer <= x.\n",
      "    \n",
      "    fmod(x, y, /)\n",
      "        Return fmod(x, y), according to platform C.\n",
      "        \n",
      "        x % y may differ.\n",
      "    \n",
      "    frexp(x, /)\n",
      "        Return the mantissa and exponent of x, as pair (m, e).\n",
      "        \n",
      "        m is a float and e is an int, such that x = m * 2.**e.\n",
      "        If x is 0, m and e are both 0.  Else 0.5 <= abs(m) < 1.0.\n",
      "    \n",
      "    fsum(seq, /)\n",
      "        Return an accurate floating point sum of values in the iterable seq.\n",
      "        \n",
      "        Assumes IEEE-754 floating point arithmetic.\n",
      "    \n",
      "    gamma(x, /)\n",
      "        Gamma function at x.\n",
      "    \n",
      "    gcd(*integers)\n",
      "        Greatest Common Divisor.\n",
      "    \n",
      "    hypot(...)\n",
      "        hypot(*coordinates) -> value\n",
      "        \n",
      "        Multidimensional Euclidean distance from the origin to a point.\n",
      "        \n",
      "        Roughly equivalent to:\n",
      "            sqrt(sum(x**2 for x in coordinates))\n",
      "        \n",
      "        For a two dimensional point (x, y), gives the hypotenuse\n",
      "        using the Pythagorean theorem:  sqrt(x*x + y*y).\n",
      "        \n",
      "        For example, the hypotenuse of a 3/4/5 right triangle is:\n",
      "        \n",
      "            >>> hypot(3.0, 4.0)\n",
      "            5.0\n",
      "    \n",
      "    isclose(a, b, *, rel_tol=1e-09, abs_tol=0.0)\n",
      "        Determine whether two floating point numbers are close in value.\n",
      "        \n",
      "          rel_tol\n",
      "            maximum difference for being considered \"close\", relative to the\n",
      "            magnitude of the input values\n",
      "          abs_tol\n",
      "            maximum difference for being considered \"close\", regardless of the\n",
      "            magnitude of the input values\n",
      "        \n",
      "        Return True if a is close in value to b, and False otherwise.\n",
      "        \n",
      "        For the values to be considered close, the difference between them\n",
      "        must be smaller than at least one of the tolerances.\n",
      "        \n",
      "        -inf, inf and NaN behave similarly to the IEEE 754 Standard.  That\n",
      "        is, NaN is not close to anything, even itself.  inf and -inf are\n",
      "        only close to themselves.\n",
      "    \n",
      "    isfinite(x, /)\n",
      "        Return True if x is neither an infinity nor a NaN, and False otherwise.\n",
      "    \n",
      "    isinf(x, /)\n",
      "        Return True if x is a positive or negative infinity, and False otherwise.\n",
      "    \n",
      "    isnan(x, /)\n",
      "        Return True if x is a NaN (not a number), and False otherwise.\n",
      "    \n",
      "    isqrt(n, /)\n",
      "        Return the integer part of the square root of the input.\n",
      "    \n",
      "    lcm(*integers)\n",
      "        Least Common Multiple.\n",
      "    \n",
      "    ldexp(x, i, /)\n",
      "        Return x * (2**i).\n",
      "        \n",
      "        This is essentially the inverse of frexp().\n",
      "    \n",
      "    lgamma(x, /)\n",
      "        Natural logarithm of absolute value of Gamma function at x.\n",
      "    \n",
      "    log(...)\n",
      "        log(x, [base=math.e])\n",
      "        Return the logarithm of x to the given base.\n",
      "        \n",
      "        If the base not specified, returns the natural logarithm (base e) of x.\n",
      "    \n",
      "    log10(x, /)\n",
      "        Return the base 10 logarithm of x.\n",
      "    \n",
      "    log1p(x, /)\n",
      "        Return the natural logarithm of 1+x (base e).\n",
      "        \n",
      "        The result is computed in a way which is accurate for x near zero.\n",
      "    \n",
      "    log2(x, /)\n",
      "        Return the base 2 logarithm of x.\n",
      "    \n",
      "    modf(x, /)\n",
      "        Return the fractional and integer parts of x.\n",
      "        \n",
      "        Both results carry the sign of x and are floats.\n",
      "    \n",
      "    nextafter(x, y, /)\n",
      "        Return the next floating-point value after x towards y.\n",
      "    \n",
      "    perm(n, k=None, /)\n",
      "        Number of ways to choose k items from n items without repetition and with order.\n",
      "        \n",
      "        Evaluates to n! / (n - k)! when k <= n and evaluates\n",
      "        to zero when k > n.\n",
      "        \n",
      "        If k is not specified or is None, then k defaults to n\n",
      "        and the function returns n!.\n",
      "        \n",
      "        Raises TypeError if either of the arguments are not integers.\n",
      "        Raises ValueError if either of the arguments are negative.\n",
      "    \n",
      "    pow(x, y, /)\n",
      "        Return x**y (x to the power of y).\n",
      "    \n",
      "    prod(iterable, /, *, start=1)\n",
      "        Calculate the product of all the elements in the input iterable.\n",
      "        \n",
      "        The default start value for the product is 1.\n",
      "        \n",
      "        When the iterable is empty, return the start value.  This function is\n",
      "        intended specifically for use with numeric values and may reject\n",
      "        non-numeric types.\n",
      "    \n",
      "    radians(x, /)\n",
      "        Convert angle x from degrees to radians.\n",
      "    \n",
      "    remainder(x, y, /)\n",
      "        Difference between x and the closest integer multiple of y.\n",
      "        \n",
      "        Return x - n*y where n*y is the closest integer multiple of y.\n",
      "        In the case where x is exactly halfway between two multiples of\n",
      "        y, the nearest even value of n is used. The result is always exact.\n",
      "    \n",
      "    sin(x, /)\n",
      "        Return the sine of x (measured in radians).\n",
      "    \n",
      "    sinh(x, /)\n",
      "        Return the hyperbolic sine of x.\n",
      "    \n",
      "    sqrt(x, /)\n",
      "        Return the square root of x.\n",
      "    \n",
      "    tan(x, /)\n",
      "        Return the tangent of x (measured in radians).\n",
      "    \n",
      "    tanh(x, /)\n",
      "        Return the hyperbolic tangent of x.\n",
      "    \n",
      "    trunc(x, /)\n",
      "        Truncates the Real x to the nearest Integral toward 0.\n",
      "        \n",
      "        Uses the __trunc__ magic method.\n",
      "    \n",
      "    ulp(x, /)\n",
      "        Return the value of the least significant bit of the float x.\n",
      "\n",
      "DATA\n",
      "    e = 2.718281828459045\n",
      "    inf = inf\n",
      "    nan = nan\n",
      "    pi = 3.141592653589793\n",
      "    tau = 6.283185307179586\n",
      "\n",
      "FILE\n",
      "    (built-in)\n",
      "\n",
      "\n"
     ]
    }
   ],
   "source": [
    "help(math)"
   ]
  },
  {
   "cell_type": "markdown",
   "metadata": {},
   "source": [
    "Los módulos definen **espacios de nombres**, es decir, identificadores que\n",
    "agrupan otros identificadores.\n",
    "Por ejemplo, el módulo `math` de Python agrupa las funciones `sin`, `cos`,\n",
    "`tan`, etc. así como las constantes `pi` y `e`.\n",
    "Si `foo` es un identificador en el espacio de nombres `bar`, entonces se puede\n",
    "acceder a él como `bar.foo` (el punto es el *operador de acceso a miembros* en\n",
    "Python)."
   ]
  },
  {
   "cell_type": "code",
   "execution_count": 67,
   "metadata": {},
   "outputs": [
    {
     "data": {
      "text/plain": [
       "3.141592653589793"
      ]
     },
     "execution_count": 67,
     "metadata": {},
     "output_type": "execute_result"
    }
   ],
   "source": [
    "math.pi"
   ]
  },
  {
   "cell_type": "code",
   "execution_count": 68,
   "metadata": {},
   "outputs": [
    {
     "data": {
      "text/plain": [
       "-1.0"
      ]
     },
     "execution_count": 68,
     "metadata": {},
     "output_type": "execute_result"
    }
   ],
   "source": [
    "math.cos(math.pi)"
   ]
  },
  {
   "cell_type": "markdown",
   "metadata": {},
   "source": [
    "También es posible importar solo algunos identificadores de un módulo."
   ]
  },
  {
   "cell_type": "code",
   "execution_count": 69,
   "metadata": {},
   "outputs": [
    {
     "name": "stdout",
     "output_type": "stream",
     "text": [
      "cos(pi)=-1.0\n"
     ]
    }
   ],
   "source": [
    "from math import cos, pi\n",
    "\n",
    "print(f\"{cos(pi)=}\")"
   ]
  },
  {
   "cell_type": "code",
   "execution_count": 70,
   "metadata": {},
   "outputs": [],
   "source": [
    "from math import *  # Importa todo lo que hay en math"
   ]
  },
  {
   "cell_type": "code",
   "execution_count": 71,
   "metadata": {},
   "outputs": [
    {
     "data": {
      "text/plain": [
       "1.2246467991473532e-16"
      ]
     },
     "execution_count": 71,
     "metadata": {},
     "output_type": "execute_result"
    }
   ],
   "source": [
    "sin(pi)"
   ]
  },
  {
   "cell_type": "code",
   "execution_count": 72,
   "metadata": {},
   "outputs": [],
   "source": [
    "import cmath"
   ]
  },
  {
   "cell_type": "code",
   "execution_count": 73,
   "metadata": {},
   "outputs": [
    {
     "data": {
      "text/plain": [
       "<function cmath.cos(z, /)>"
      ]
     },
     "execution_count": 73,
     "metadata": {},
     "output_type": "execute_result"
    }
   ],
   "source": [
    "math.cos\n",
    "cmath.cos"
   ]
  },
  {
   "cell_type": "markdown",
   "metadata": {},
   "source": [
    "Cuando los programadores hablan acerca de la *programación estructurada* muchas\n",
    "veces no sólo se refieren al uso de estructuras de control, sino a una\n",
    "*metodología* de programación que aprovecha la modularización para el diseño\n",
    "de programas que tiene las siguientes características:\n",
    "\n",
    "- **Diseño descendente de programas**: Los programas se diseñan como una\n",
    "  jerarquía de módulos en abstracto que iterativamente se refinan hasta llegar\n",
    "  a un programa concreto.\n",
    "- **Programación modular**: Las unidades del programa se agrupan en módulos que\n",
    "  tienen una única funcionalidad.\n",
    "  Es decir, todos los identificadores de un módulo tienen un propósito común.\n",
    "- **Identificadores significativos**: Los identificadores se eligen de manera\n",
    "  que sean descriptivos de su propósito.\n",
    "  Por ejemplo, `area_rectangulo` es un identificador más significativo que `A`.\n",
    "- **Documentación**: Todos los identificadores y módulos tienen documentación\n",
    "  que describe su propósito y cómo se usan.\n",
    "  El código tiene comentarios que explican el propósito de las partes más\n",
    "  complejas.\n",
    "- **Estructuras de control**: Se evita el código espagueti usando únicamente\n",
    "  las estructuras de control del lenguaje.\n",
    "- **Uso de estructuras de datos**: Como veremos en la siguiente sección, las\n",
    "  estructuras de datos son una abstracción de datos que se usan para agrupar\n",
    "  y abstraer datos complejos."
   ]
  },
  {
   "cell_type": "markdown",
   "metadata": {},
   "source": [
    "**Actividad** Escribir una biblioteca de cálculo de áreas y perímetros de\n",
    "figuras geométricas en Python."
   ]
  },
  {
   "cell_type": "code",
   "execution_count": 74,
   "metadata": {},
   "outputs": [
    {
     "data": {
      "image/png": "[encoded data removed]",
      "text/plain": [
       "<Figure size 640x480 with 1 Axes>"
      ]
     },
     "metadata": {},
     "output_type": "display_data"
    }
   ],
   "source": [
    "import geometria\n",
    "import matplotlib.pyplot as plt\n",
    "\n",
    "fig, ax = plt.subplots()\n",
    "geometria.dibujar_cuadrado(1, ax)\n",
    "ax.set_aspect(\"equal\", \"box\")"
   ]
  },
  {
   "cell_type": "markdown",
   "metadata": {},
   "source": [
    "**Actividad** Repetir el ejercicio anterior en C++."
   ]
  },
  {
   "cell_type": "markdown",
   "metadata": {},
   "source": [
    "## 3. Estructurado de datos\n",
    "\n",
    "\n",
    "### 3.1 Sistemas de tipos\n",
    "**Definición** Un **tipo de dato** es un conjunto de valores homogéneos que\n",
    "comparten una misma representación estructural en memoria, así como un conjunto\n",
    "de operaciones que se pueden realizar sobre ellos."
   ]
  },
  {
   "cell_type": "markdown",
   "metadata": {},
   "source": [
    "Los tipos de datos se clasifican en dos grandes grupos:\n",
    "- Los **tipos de datos escalares** son los tipos de datos más simples, que no\n",
    "  resultan de, ni permiten la, combinación de otros datos.\n",
    "  Por ejemplo, los números enteros, los números de punto flotante, los números\n",
    "  complejos, las cadenas de caracteres, etc.\n",
    "- Los **tipos de datos compuestos** son los que resultan de agrupar o combinar\n",
    "  varios datos de uno o más tipos.\n",
    "  Por ejemplo, las listas, los diccionarios, los conjuntos, etc."
   ]
  },
  {
   "cell_type": "markdown",
   "metadata": {},
   "source": [
    "**Definición** Un **sistema de tipos** es un conjunto de reglas que gobierna a\n",
    "los tipos de datos de un lenguaje de programación:\n",
    "- Los tipos de datos predefinidos en el lenguaje.\n",
    "- Los mecanismos para definir nuevos tipos de datos.\n",
    "- Las reglas para el control de tipos, es decir, su equivalencia, conversión e\n",
    "  inferencia.\n",
    "- Las restricciones dinámicas o estáticas que se imponen a los tipos de datos."
   ]
  },
  {
   "cell_type": "code",
   "execution_count": 75,
   "metadata": {},
   "outputs": [
    {
     "name": "stdout",
     "output_type": "stream",
     "text": [
      "type(128)=<class 'int'>\n",
      "type(3.1416)=<class 'float'>\n",
      "type('Hola')=<class 'str'>\n",
      "type(b'Hola')=<class 'bytes'>\n",
      "type(True)=<class 'bool'>\n",
      "type(None)=<class 'NoneType'>\n"
     ]
    }
   ],
   "source": [
    "# La función type devuelve el tipo de un objeto.\n",
    "# Estos son los tipos de datos primitivos en Python:\n",
    "print(f\"{type(128)=}\")\n",
    "print(f\"{type(3.1416)=}\")\n",
    "print(f\"{type('Hola')=}\")\n",
    "print(f\"{type(b'Hola')=}\")\n",
    "print(f\"{type(True)=}\")\n",
    "print(f\"{type(None)=}\")"
   ]
  },
  {
   "cell_type": "code",
   "execution_count": 88,
   "metadata": {},
   "outputs": [
    {
     "name": "stdout",
     "output_type": "stream",
     "text": [
      "type(1+1j)=<class 'complex'>\n",
      "type(z.real)=<class 'float'>\n",
      "type(z.imag)=<class 'float'>\n"
     ]
    }
   ],
   "source": [
    "# Tipos de datos compuestos:\n",
    "print(f\"{type(1+1j)=}\")\n",
    "z = 1 + 1j\n",
    "print(f\"{type(z.real)=}\")\n",
    "print(f\"{type(z.imag)=}\")"
   ]
  },
  {
   "cell_type": "code",
   "execution_count": 80,
   "metadata": {},
   "outputs": [
    {
     "data": {
      "text/plain": [
       "1"
      ]
     },
     "execution_count": 80,
     "metadata": {},
     "output_type": "execute_result"
    }
   ],
   "source": [
    "lista = [1, 2, 3, []]\n",
    "lista[0]"
   ]
  },
  {
   "cell_type": "markdown",
   "metadata": {},
   "source": [
    "#### Tipados estático/dinámico y débil/fuerte\n",
    "\n",
    "**Definición**(tipado estático y dinámico)\n",
    "Un lenguaje de programación tiene **tipado estático** si las restricciones de\n",
    "tipos se verifican en tiempo de compilación, es decir, antes de ejecutar el\n",
    "programa, en caso contrario se dice que el lenguaje tiene **tipado dinámico**.\n",
    "\n",
    "**Definición**(tipado fuerte y débil)\n",
    "Un lenguaje de programación tiene **tipado fuerte** si no permite realizar\n",
    "operaciones entre tipos de datos incompatibles, es decir, si no permite\n",
    "conversión implícita entre tipos de datos, en caso contrario se dice que el\n",
    "lenguaje tiene **tipado débil**."
   ]
  },
  {
   "cell_type": "code",
   "execution_count": 81,
   "metadata": {},
   "outputs": [
    {
     "name": "stdout",
     "output_type": "stream",
     "text": [
      "type(foo)=<class 'int'>\n",
      "type(foo)=<class 'str'>\n"
     ]
    }
   ],
   "source": [
    "# Python tiene tipado dinámico, pero fuerte.\n",
    "# Esto significa que las variables no tienen tipo, pero los objetos sí.\n",
    "\n",
    "foo = 42\n",
    "print(f\"{type(foo)=}\")\n",
    "foo = \"Hola\"\n",
    "print(f\"{type(foo)=}\")"
   ]
  },
  {
   "cell_type": "code",
   "execution_count": 82,
   "metadata": {},
   "outputs": [
    {
     "name": "stdout",
     "output_type": "stream",
     "text": [
      "Se produjo este error: unsupported operand type(s) for +: 'int' and 'str'\n"
     ]
    }
   ],
   "source": [
    "foo = 42\n",
    "bar = \"Tamal\"\n",
    "\n",
    "try:\n",
    "    foo + bar\n",
    "except TypeError as error:\n",
    "    print(\"Se produjo este error:\", error)"
   ]
  },
  {
   "cell_type": "markdown",
   "metadata": {},
   "source": [
    "**Actividad** Determinar si C++ y JavaScript tienen tipado estático o dinámico,\n",
    "y si tienen tipado fuerte o débil replicando nuestros ejemplos de Python."
   ]
  },
  {
   "cell_type": "markdown",
   "metadata": {},
   "source": [
    "### 3.2 Tipos de datos abstractos"
   ]
  },
  {
   "cell_type": "markdown",
   "metadata": {},
   "source": [
    "Al programador experimentado le interesa más el *comportamiento* y *significado*\n",
    "de los datos que su representación en memoria.\n",
    "Por ejemplo, al diseñar catálogo para una biblioteca, es más útil pensar en\n",
    "*libros* que tienen título, autor, fecha de publicación, etc., que en cadenas\n",
    "de caracteres, números enteros, etc.\n",
    "E inclusive algo tan simple como una fecha es la composición de tres números.\n"
   ]
  },
  {
   "cell_type": "code",
   "execution_count": 83,
   "metadata": {},
   "outputs": [
    {
     "name": "stdout",
     "output_type": "stream",
     "text": [
      "type(hoy)=<class 'datetime.date'>\n",
      "hoy=datetime.date(2023, 10, 28)\n"
     ]
    }
   ],
   "source": [
    "from datetime import date\n",
    "\n",
    "hoy = date.today()\n",
    "print(f\"{type(hoy)=}\")\n",
    "print(f\"{hoy=}\")"
   ]
  },
  {
   "cell_type": "code",
   "execution_count": 84,
   "metadata": {},
   "outputs": [
    {
     "name": "stdout",
     "output_type": "stream",
     "text": [
      "hoy.year=2023\n",
      "hoy.month=10\n",
      "hoy.day=28\n"
     ]
    }
   ],
   "source": [
    "print(f\"{hoy.year=}\")\n",
    "print(f\"{hoy.month=}\")\n",
    "print(f\"{hoy.day=}\")"
   ]
  },
  {
   "cell_type": "code",
   "execution_count": 85,
   "metadata": {},
   "outputs": [
    {
     "name": "stdout",
     "output_type": "stream",
     "text": [
      "fin - inicio=datetime.timedelta(days=4029)\n"
     ]
    }
   ],
   "source": [
    "# ¿Cuántos días duró la guerra de independencia de México?\n",
    "inicio = date(1810, 9, 16)\n",
    "fin = date(1821, 9, 27)\n",
    "print(f\"{fin - inicio=}\")"
   ]
  },
  {
   "cell_type": "markdown",
   "metadata": {},
   "source": [
    "#### Estructuras de datos"
   ]
  },
  {
   "cell_type": "code",
   "execution_count": 86,
   "metadata": {},
   "outputs": [],
   "source": [
    "from dataclasses import dataclass\n",
    "from datetime import date\n",
    "\n",
    "\n",
    "@dataclass\n",
    "class Libro:\n",
    "    titulo: str\n",
    "    autor: str\n",
    "    fecha: date"
   ]
  },
  {
   "cell_type": "markdown",
   "metadata": {},
   "source": [
    "TODO: Poner ejemplo de cómo se usa esta estructura de datos en Python."
   ]
  },
  {
   "cell_type": "code",
   "execution_count": null,
   "metadata": {},
   "outputs": [],
   "source": []
  },
  {
   "cell_type": "markdown",
   "metadata": {},
   "source": [
    "#### Clases"
   ]
  },
  {
   "cell_type": "code",
   "execution_count": null,
   "metadata": {},
   "outputs": [],
   "source": [
    "class MiClase:\n",
    "    \"\"\"Ejemplo simple de una clase\"\"\"\n",
    "\n",
    "    i = 12345\n",
    "\n",
    "    def f(self):\n",
    "        return \"¡Hola, mundo!\""
   ]
  },
  {
   "cell_type": "markdown",
   "metadata": {},
   "source": [
    "#### Caso de estudio: La lista doblemente ligada"
   ]
  },
  {
   "cell_type": "markdown",
   "metadata": {},
   "source": [
    "#### Manejo de memoria y recolección de basura"
   ]
  },
  {
   "cell_type": "code",
   "execution_count": 8,
   "metadata": {},
   "outputs": [],
   "source": [
    "from collections.abc import Sequence\n",
    "\n",
    "NULL = -1\n",
    "\n",
    "\n",
    "class Memoria(Sequence[int]):\n",
    "    \"\"\"\n",
    "    Memoria dinámica con asignación contigua de bloques.\n",
    "\n",
    "    La memoria se representa como un arreglo de enteros. Algunos de\n",
    "    estos enteros son direcciones de memoria, y otros son datos. Los\n",
    "    datos se almacenan en bloques contiguos de memoria, y las\n",
    "    direcciones de memoria apuntan al primer elemento de cada bloque.\n",
    "\n",
    "    Los bloques libres se enlazan en una lista enlazada simple. Cada\n",
    "    bloque libre contiene la dirección del siguiente bloque libre, o\n",
    "    NULL si es el último bloque libre.\n",
    "\n",
    "    Atributos\n",
    "    ---------\n",
    "    \n",
    "    \"\"\"\n",
    "    def __init__(self, tamano_memoria: int, tamano_bloque: int) -> None:\n",
    "        self._tamano_memoria = tamano_memoria\n",
    "        self._tamano_bloque = tamano_bloque\n",
    "        self._datos: list[int] = [0] * tamano_memoria\n",
    "        self._libre: int  # Dirección del primer bloque libre\n",
    "        self.inicializar()\n",
    "    \n",
    "    @property\n",
    "    def tamano_memoria(self) -> int:\n",
    "        \"\"\"Devuelve el tamaño de la memoria.\"\"\"\n",
    "        return self._tamano_memoria\n",
    "    \n",
    "    @property\n",
    "    def tamano_bloque(self) -> int:\n",
    "        \"\"\"Devuelve el tamaño de los bloques de memoria.\"\"\"\n",
    "        return self._tamano_bloque\n",
    "\n",
    "    def inicializar(self) -> None:\n",
    "        \"\"\"Inicializa la memoria.\"\"\"\n",
    "        for i in range(0, self._tamano_memoria, self._tamano_bloque):\n",
    "            self._datos[i] = i + self._tamano_bloque\n",
    "        self._datos[i] = NULL\n",
    "        self._libre = 0\n",
    "\n",
    "    def malloc(self) -> int:\n",
    "        \"\"\"Asigna un bloque de memoria y devuelve su dirección.\"\"\"\n",
    "        if self._libre == NULL:\n",
    "            raise MemoryError(\"No hay memoria disponible.\")\n",
    "        bloque = self._libre\n",
    "        self._libre = self._datos[bloque]\n",
    "        return bloque\n",
    "\n",
    "    def free(self, bloque: int) -> None:\n",
    "        \"\"\"Libera un bloque de memoria.\"\"\"\n",
    "        if not (0 <= bloque < self._tamano_memoria):\n",
    "            raise ValueError(\"Dirección de memoria inválida.\")\n",
    "        self._datos[bloque] = self._libre\n",
    "        self._libre = bloque\n",
    "\n",
    "    def __len__(self) -> int:\n",
    "        \"\"\"Devuelve el tamaño de la memoria.\"\"\"\n",
    "        return self.tamano_memoria\n",
    "\n",
    "    def __getitem__(self, direccion: int) -> int:\n",
    "        \"\"\"Devuelve el valor almacenado en la dirección de memoria.\"\"\"\n",
    "        return self._datos[direccion]\n",
    "\n",
    "    def __setitem__(self, direccion: int, valor: int) -> None:\n",
    "        \"\"\"Almacena el valor en la dirección de memoria.\"\"\"\n",
    "        self._datos[direccion] = int(valor)"
   ]
  },
  {
   "cell_type": "code",
   "execution_count": 9,
   "metadata": {},
   "outputs": [
    {
     "name": "stdout",
     "output_type": "stream",
     "text": [
      "[3, 0, 0, 6, 0, 0, 9, 0, 0, 12, 0, 0, 15, 0, 0, 18, 0, 0, 21, 0, 0, 24, 0, 0, 27, 0, 0, 30, 0, 0, 33, 0, 0, 36, 0, 0, 39, 0, 0, 42, 0, 0, 45, 0, 0, 48, 0, 0, 51, 0, 0, 54, 0, 0, 57, 0, 0, 60, 0, 0, 63, 0, 0, 66, 0, 0, 69, 0, 0, 72, 0, 0, 75, 0, 0, 78, 0, 0, 81, 0, 0, 84, 0, 0, 87, 0, 0, 90, 0, 0, 93, 0, 0, 96, 0, 0, 99, 0, 0, 102, 0, 0, 105, 0, 0, 108, 0, 0, 111, 0, 0, 114, 0, 0, 117, 0, 0, 120, 0, 0, 123, 0, 0, 126, 0, 0, 129, 0, 0, 132, 0, 0, 135, 0, 0, 138, 0, 0, 141, 0, 0, 144, 0, 0, 147, 0, 0, 150, 0, 0, 153, 0, 0, 156, 0, 0, 159, 0, 0, 162, 0, 0, 165, 0, 0, 168, 0, 0, 171, 0, 0, 174, 0, 0, 177, 0, 0, 180, 0, 0, 183, 0, 0, 186, 0, 0, 189, 0, 0, 192, 0, 0, 195, 0, 0, 198, 0, 0, 201, 0, 0, 204, 0, 0, 207, 0, 0, 210, 0, 0, 213, 0, 0, 216, 0, 0, 219, 0, 0, 222, 0, 0, 225, 0, 0, 228, 0, 0, 231, 0, 0, 234, 0, 0, 237, 0, 0, 240, 0, 0, 243, 0, 0, 246, 0, 0, 249, 0, 0, 252, 0, 0, 255, 0, 0, -1]\n"
     ]
    }
   ],
   "source": [
    "mem = Memoria(256, 3)\n",
    "print(list(mem))"
   ]
  },
  {
   "cell_type": "markdown",
   "metadata": {},
   "source": [
    "## 4. Programación orientada a objetos"
   ]
  },
  {
   "cell_type": "markdown",
   "metadata": {},
   "source": [
    "### 4.1 Los cuatro pilares de la programación orientada a objetos"
   ]
  },
  {
   "cell_type": "markdown",
   "metadata": {},
   "source": [
    "#### Abstracción"
   ]
  },
  {
   "cell_type": "markdown",
   "metadata": {},
   "source": [
    "#### Encapsulamiento"
   ]
  },
  {
   "cell_type": "markdown",
   "metadata": {},
   "source": [
    "#### Herencia"
   ]
  },
  {
   "cell_type": "markdown",
   "metadata": {},
   "source": [
    "#### Polimorfismo"
   ]
  },
  {
   "cell_type": "markdown",
   "metadata": {},
   "source": [
    "### 4.2 Clases vs. objetos"
   ]
  },
  {
   "cell_type": "markdown",
   "metadata": {},
   "source": [
    "#### El constructor y el destructor"
   ]
  },
  {
   "cell_type": "markdown",
   "metadata": {},
   "source": [
    "#### Sobrecarga de operadores"
   ]
  },
  {
   "cell_type": "markdown",
   "metadata": {},
   "source": [
    "#### Atributos y métodos de clase"
   ]
  },
  {
   "cell_type": "markdown",
   "metadata": {},
   "source": [
    "### 4.3 Herencia"
   ]
  },
  {
   "cell_type": "markdown",
   "metadata": {},
   "source": [
    "#### Herencia simple vs. múltiple"
   ]
  },
  {
   "cell_type": "markdown",
   "metadata": {},
   "source": [
    "#### Clases abstractas e interfaces"
   ]
  },
  {
   "cell_type": "markdown",
   "metadata": {},
   "source": [
    "### 4.4 Los patrones de diseño orientado a objetos"
   ]
  },
  {
   "cell_type": "markdown",
   "metadata": {},
   "source": []
  }
 ],
 "metadata": {
  "kernelspec": {
   "display_name": ".venv",
   "language": "python",
   "name": "python3"
  },
  "language_info": {
   "codemirror_mode": {
    "name": "ipython",
    "version": 3
   },
   "file_extension": ".py",
   "mimetype": "text/x-python",
   "name": "python",
   "nbconvert_exporter": "python",
   "pygments_lexer": "ipython3",
   "version": "3.11.2"
  },
  "orig_nbformat": 4
 },
 "nbformat": 4,
 "nbformat_minor": 2
}
