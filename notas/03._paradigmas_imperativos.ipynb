{
 "cells": [
  {
   "cell_type": "markdown",
   "metadata": {},
   "source": [
    "# Programación imperativa\n",
    "\n",
    "En general, existen dos maneras fundamentalmente distintas de programar:\n",
    "\n",
    "- **Programación imperativa**: los programas consisten en series de instrucciones\n",
    "  que indican a la computadora qué hacer y cómo hacerlo.\n",
    "- **Programación declarativa**: los programas consisten en descripciones de hechos\n",
    "  y problemas que deben ser resueltos.\n",
    "  El cómo se resuelven estos problemas queda a cargo de la computadora.\n",
    "\n",
    "Históricamente los lenguajes de programación han evolucionado mediante\n",
    "abstracciones que permiten expresar conceptos de manera más simple comenzando\n",
    "por la máquina y terminando en el problema a resolver, de manera que los\n",
    "lenguajes imperativos han sido los más utilizados hasta el momento, aunque\n",
    "últimamente los lenguajes declarativos han ganado gran popularidad.\n",
    "\n",
    "En este módulo vamos a aprender diferentes conceptos de la programación\n",
    "imperativa y en el próximo módulo vamos a aprender los conceptos de la\n",
    "programación declarativa; solo hay que tomar en cuenta que el buen programador\n",
    "usa ambos tipos de lenguajes y sus distintos paradigmas como una caja de\n",
    "herramientas para resolver los problemas que se le presenten."
   ]
  },
  {
   "cell_type": "markdown",
   "metadata": {},
   "source": [
    "## 1. Identificadores y objetos denotables\n",
    "\n",
    "Quizá la abstracción de datos más importante que se ha hecho en la programación\n",
    "imperativa es la de **identificador** o **nombre**.\n",
    "Los identificadores son cadenas de caracteres que se utilizan para referirse a\n",
    "**objetos denotables** en el lenguaje de programación.\n",
    "\n",
    "Un objeto denotable es básicamente cualquier cosa que se pueda construir en\n",
    "lenguaje de programación, por ejemplo, un número, una cadena de caracteres, una\n",
    "lista, una función, etc. siempre que el lenguaje te permita construirlo y\n",
    "asignarle un nombre.\n",
    "\n",
    "Es importante mencionar que los identificadores no son los objetos que denotan,\n",
    "sino que son una manera de referirse a ellos. \n",
    "\n",
    "**Notación** Usamos las *metavariables* `foo`, `bar`, `baz`, `qux`, `quux`, para\n",
    "referirnos a identificadores arbitrarios.\n",
    "Estas son de uso común en la literatura de programación."
   ]
  },
  {
   "cell_type": "markdown",
   "metadata": {},
   "source": [
    "**Ejemplo** En Python los nombres son *etiquetas* que se colocan sobre objetos.\n",
    "Puedes pensar en ellas como notas post-it que se pegan sobre los objetos que \n",
    "identifican, y que además los puedes cambiar de objeto cuando quieras.\n",
    "\n",
    "<img src=\"img/variablespostit.svg\" height=\"256\" />\n"
   ]
  },
  {
   "cell_type": "code",
   "execution_count": 1,
   "metadata": {},
   "outputs": [
    {
     "data": {
      "text/plain": [
       "140173774229232"
      ]
     },
     "execution_count": 1,
     "metadata": {},
     "output_type": "execute_result"
    }
   ],
   "source": [
    "# En Python todos los objetos denotables tienen un número identificador\n",
    "# único mientras existen en la memoria.\n",
    "id(\"Hola\")"
   ]
  },
  {
   "cell_type": "code",
   "execution_count": 8,
   "metadata": {},
   "outputs": [
    {
     "name": "stdout",
     "output_type": "stream",
     "text": [
      "foo='Jamón' hace referencia al objeto id(foo)=140173774188224\n",
      "bar='Jamón' hace referencia al objeto id(bar)=140173774188224\n",
      "foo='Monja' hace referencia al objeto id(foo)=140173774116912\n",
      "bar='Jamón' hace referencia al objeto id(bar)=140173774188224\n"
     ]
    }
   ],
   "source": [
    "# Colocamos foo sobre la cadena \"Jamón\" y bar sobre la misma cadena\n",
    "foo = \"Jamón\"\n",
    "print(f\"{foo=} hace referencia al objeto {id(foo)=}\")\n",
    "bar = foo\n",
    "print(f\"{bar=} hace referencia al objeto {id(bar)=}\")\n",
    "# Movemos foo a otra cadena\n",
    "foo = \"Monja\"\n",
    "print(f\"{foo=} hace referencia al objeto {id(foo)=}\")\n",
    "print(f\"{bar=} hace referencia al objeto {id(bar)=}\")\n"
   ]
  },
  {
   "cell_type": "code",
   "execution_count": 29,
   "metadata": {},
   "outputs": [
    {
     "name": "stdout",
     "output_type": "stream",
     "text": [
      "foo=[1, 2, 3]\n",
      "bar=[1, 2, 3]\n",
      "Modificamos foo...\n",
      "foo=[1, 2, 3, 4]\n",
      "bar=[1, 2, 3, 4]\n"
     ]
    }
   ],
   "source": [
    "# Este es un error muy común entre los programadores novatos que aún no\n",
    "# entienden cómo funciona la asignación de variables en Python.\n",
    "foo = [1, 2, 3]\n",
    "print(f\"{foo=}\")\n",
    "\n",
    "bar = foo  # bar hace referencia la misma lista que foo\n",
    "print(f\"{bar=}\")\n",
    "\n",
    "print(\"Modificamos foo...\")\n",
    "foo.append(4)\n",
    "print(f\"{foo=}\")\n",
    "print(f\"{bar=}\")  # bar también se modifica!"
   ]
  },
  {
   "cell_type": "code",
   "execution_count": null,
   "metadata": {},
   "outputs": [],
   "source": []
  }
 ],
 "metadata": {
  "kernelspec": {
   "display_name": ".venv",
   "language": "python",
   "name": "python3"
  },
  "language_info": {
   "codemirror_mode": {
    "name": "ipython",
    "version": 3
   },
   "file_extension": ".py",
   "mimetype": "text/x-python",
   "name": "python",
   "nbconvert_exporter": "python",
   "pygments_lexer": "ipython3",
   "version": "3.11.2"
  },
  "orig_nbformat": 4
 },
 "nbformat": 4,
 "nbformat_minor": 2
}
