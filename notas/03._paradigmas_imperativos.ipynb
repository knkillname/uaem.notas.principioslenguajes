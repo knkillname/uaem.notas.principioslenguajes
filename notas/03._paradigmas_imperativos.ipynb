{
 "cells": [
  {
   "cell_type": "markdown",
   "metadata": {},
   "source": [
    "# Programación imperativa\n",
    "\n",
    "En general, existen dos maneras fundamentalmente distintas de programar:\n",
    "\n",
    "- **Programación imperativa**: los programas consisten en series de instrucciones\n",
    "  que indican a la computadora qué hacer y cómo hacerlo.\n",
    "- **Programación declarativa**: los programas consisten en descripciones de hechos\n",
    "  y problemas que deben ser resueltos.\n",
    "  El cómo se resuelven estos problemas queda a cargo de la computadora.\n",
    "\n",
    "Históricamente los lenguajes de programación han evolucionado mediante\n",
    "abstracciones que permiten expresar conceptos de manera más simple comenzando\n",
    "por la máquina y terminando en el problema a resolver, de manera que los\n",
    "lenguajes imperativos han sido los más utilizados hasta el momento, aunque\n",
    "últimamente los lenguajes declarativos han ganado gran popularidad.\n",
    "\n",
    "En este módulo vamos a aprender diferentes conceptos de la programación\n",
    "imperativa y en el próximo módulo vamos a aprender los conceptos de la\n",
    "programación declarativa; solo hay que tomar en cuenta que el buen programador\n",
    "usa ambos tipos de lenguajes y sus distintos paradigmas como una caja de\n",
    "herramientas para resolver los problemas que se le presenten."
   ]
  },
  {
   "cell_type": "markdown",
   "metadata": {},
   "source": [
    "## 1. Identificadores"
   ]
  },
  {
   "cell_type": "markdown",
   "metadata": {},
   "source": [
    "### 1.1. Identificadores y objetos denotables"
   ]
  },
  {
   "cell_type": "markdown",
   "metadata": {},
   "source": [
    "\n",
    "Quizá la abstracción de datos más importante que se ha hecho en la programación\n",
    "imperativa es la de **identificador** o **nombre**.\n",
    "Los identificadores son cadenas de caracteres que se utilizan para referirse a\n",
    "**objetos denotables** en el lenguaje de programación.\n",
    "\n",
    "Un objeto denotable es básicamente cualquier cosa que se pueda construir en\n",
    "lenguaje de programación, por ejemplo, un número, una cadena de caracteres, una\n",
    "lista, una función, etc. siempre que el lenguaje te permita construirlo y\n",
    "asignarle un nombre.\n",
    "\n",
    "Es importante mencionar que los identificadores no son los objetos que denotan,\n",
    "sino que son una manera de referirse a ellos. \n",
    "\n",
    "**Notación** Usamos las *metavariables* (variables que representan variables)\n",
    "`foo`, `bar`, `baz`, `qux`, `quux`, para referirnos a identificadores arbitrarios.\n",
    "Estas son de uso común en la literatura de programación."
   ]
  },
  {
   "cell_type": "markdown",
   "metadata": {},
   "source": [
    "**Ejemplo** En Python los nombres son *etiquetas* que se colocan sobre objetos.\n",
    "Puedes pensar en ellas como notas post-it que se pegan sobre los objetos que \n",
    "identifican, y que además los puedes cambiar de objeto cuando quieras.\n",
    "\n",
    "<img src=\"img/variablespostit.svg\" height=\"256\" />\n"
   ]
  },
  {
   "cell_type": "code",
   "execution_count": null,
   "metadata": {},
   "outputs": [],
   "source": [
    "# En Python todos los objetos denotables tienen un número identificador\n",
    "# único mientras existen en la memoria.\n",
    "id(\"Hola\")"
   ]
  },
  {
   "cell_type": "markdown",
   "metadata": {},
   "source": [
    "Cuando dos variables se refieren al mismo objeto, se dice que son *alias* una\n",
    "de la otra."
   ]
  },
  {
   "cell_type": "code",
   "execution_count": null,
   "metadata": {},
   "outputs": [],
   "source": [
    "# Colocamos foo sobre la cadena \"Jamón\" y bar sobre la misma cadena\n",
    "bar = \"Calculadora\"\n",
    "print(f\"{bar=} hace referencia al objeto {id(bar)=}\")\n",
    "foo = \"Jamón\"\n",
    "print(f\"{foo=} hace referencia al objeto {id(foo)=}\")\n",
    "bar = foo  # bar es un alias de foo\n",
    "print(f\"{bar=} hace referencia al objeto {id(bar)=}\")\n",
    "# Movemos foo a otra cadena\n",
    "foo = \"Monja\"\n",
    "print(f\"{foo=} hace referencia al objeto {id(foo)=}\")\n",
    "print(f\"{bar=} hace referencia al objeto {id(bar)=}\")\n",
    "bar = \"Tortas\"  # Aquí ya no hay referencias al jamón\n",
    "bar = \"Jamón\"\n",
    "print(f\"{bar=} hace referencia al objeto {id(bar)=}\")"
   ]
  },
  {
   "cell_type": "code",
   "execution_count": null,
   "metadata": {},
   "outputs": [],
   "source": [
    "# Este es un error muy común entre los programadores novatos que aún no\n",
    "# entienden cómo funciona la asignación de variables en Python.\n",
    "foo = [1, 2, 3]\n",
    "print(f\"{foo=}\")\n",
    "\n",
    "bar = foo  # bar hace referencia la misma lista que foo\n",
    "print(f\"{bar=}\")\n",
    "\n",
    "print(\"Modificamos foo...\")\n",
    "foo.append(4)\n",
    "print(f\"{foo=}\")\n",
    "print(f\"{bar=}\")  # bar también se modifica!"
   ]
  },
  {
   "cell_type": "markdown",
   "metadata": {},
   "source": [
    "En los lenguajes de programación imperativos no cualquier cadena de caracteres\n",
    "es un identificador ni todos los identificadores son variables.\n",
    "- Los identificadores están delimitados por la sintaxis del lenguaje.\n",
    "- Las palabras reservadas del lenguaje no pueden ser usadas como\n",
    "  identificadores.\n",
    "- Algunos identificadores son provistos por el lenguaje y en general no se\n",
    "  pueden modificar.\n"
   ]
  },
  {
   "cell_type": "code",
   "execution_count": null,
   "metadata": {},
   "outputs": [],
   "source": [
    "# En Python, los identificadores pueden tener letras UNICODE, dígitos y\n",
    "# guiones bajos, pero no pueden comenzar con un dígito.\n",
    "perrito1 = \"🐶\"\n",
    "_toro_malo95 = \"🐱\"\n",
    "δ = 0.0001\n",
    "未知 = [...]"
   ]
  },
  {
   "cell_type": "code",
   "execution_count": null,
   "metadata": {},
   "outputs": [],
   "source": [
    "# Estas variables están prohibidas en Python. Producen un SyntaxError\n",
    "# 1perrito = \"Hola\"\n",
    "# 🐶 = \"Guau\""
   ]
  },
  {
   "cell_type": "markdown",
   "metadata": {},
   "source": [
    "A pesar de que en teoría es posible que un lenguaje de programación permita\n",
    "usar cualquier cadena de caracteres como identificador, en la práctica solo se\n",
    "recomienda usar identificadores escritos en inglés."
   ]
  },
  {
   "cell_type": "markdown",
   "metadata": {},
   "source": [
    "Python tiene 35 palabras reservadas que no pueden ser usadas como\n",
    "identificadores:\n",
    "1. `False`\n",
    "1. `None`\n",
    "1. `True`\n",
    "1. `and`\n",
    "1. `as`\n",
    "1. `assert`\n",
    "1. `async`\n",
    "1. `await`\n",
    "1. `break`\n",
    "1. `class`\n",
    "1. `continue`\n",
    "1. `def`\n",
    "1. `del`\n",
    "1. `elif`\n",
    "1. `else`\n",
    "1. `except`\n",
    "1. `finally`\n",
    "1. `for`\n",
    "1. `from`\n",
    "1. `global`\n",
    "1. `if`\n",
    "1. `import`\n",
    "1. `in`\n",
    "1. `is`\n",
    "1. `lambda`\n",
    "1. `nonlocal`\n",
    "1. `not`\n",
    "1. `or`\n",
    "1. `pass`\n",
    "1. `raise`\n",
    "1. `return`\n",
    "1. `try`\n",
    "1. `while`\n",
    "1. `with`\n",
    "1. `yield`"
   ]
  },
  {
   "cell_type": "markdown",
   "metadata": {},
   "source": [
    "**Definición**: El conjunto de identificadores accesibles desde una instrucción\n",
    "concreta durante la ejecución de un programa es su **entorno de referencia** o\n",
    "simplemente el **entorno**."
   ]
  },
  {
   "cell_type": "code",
   "execution_count": null,
   "metadata": {},
   "outputs": [],
   "source": [
    "# En Python, el entorno de referencia es un diccionario que mapea\n",
    "# nombres de variables locales y globales a objetos.\n",
    "globals() | locals()"
   ]
  },
  {
   "cell_type": "markdown",
   "metadata": {},
   "source": [
    "La *declaración* de un identificador es la instrucción que lo introduce en el\n",
    "entorno de referencia.\n",
    "Existen dos tipos:\n",
    "- La *declaración implícita* es la que se hace al asignarle un valor a un\n",
    "  identificador por primera vez.\n",
    "- La *declaración explícita* es la que se hace con una instrucción especial\n",
    "  para declarar identificadores, como `var` en JavaScript."
   ]
  },
  {
   "cell_type": "code",
   "execution_count": null,
   "metadata": {},
   "outputs": [],
   "source": [
    "# Python usa la declaración implícita:\n",
    "baz = 42\n",
    "print(f\"{baz=}\")"
   ]
  },
  {
   "cell_type": "markdown",
   "metadata": {},
   "source": [
    "| Lenguaje   | Tipo de declaración | Ejemplo      |\n",
    "|------------|---------------------|--------------|\n",
    "| Python     | Implícita           | `x = 1`      |\n",
    "| C++        | Explícita           | `int x = 1;` |\n",
    "| Java       | Explícita           | `int x = 1;` |\n",
    "| JavaScript | Implícita           | `x = 1`      |\n",
    "| R          | Implícita           | `x <- 1`     |"
   ]
  },
  {
   "cell_type": "markdown",
   "metadata": {},
   "source": [
    "Algunos lenguajes también ofrecen una instrucción para *eliminar* un\n",
    "identificador del entorno de referencia.\n",
    "Por ejemplo, Python usa `del foo` para eliminar el identificador `foo`, y\n",
    "JavaScript usa `delete foo`."
   ]
  },
  {
   "cell_type": "code",
   "execution_count": null,
   "metadata": {},
   "outputs": [],
   "source": [
    "foo = \"Defenestrar\"\n",
    "bar = foo\n",
    "del foo  # Borramos el nombre foo, no el objeto al que hacía referencia\n",
    "# print(foo)  # Esta instrucción produce un NameError\n",
    "print(bar)  # bar sigue existiendo"
   ]
  },
  {
   "cell_type": "markdown",
   "metadata": {},
   "source": [
    "### 1.2 Expresiones y sentencias\n",
    "\n",
    "**Definiciones**:\n",
    "- Un **literal** es un objeto denotable que se puede representar directamente en\n",
    "  el código fuente, como números y cadenas de caracteres.\n",
    "- Un **operador** es un símbolo que representa una operación sobre uno o más\n",
    "  objetos denotables, como `+` y `*`.\n",
    "- Una **expresión** es una combinación de identificadores, operadores y\n",
    "  literales que puede ser evaluada para obtener un valor.\n",
    "  Por ejemplo, `1 + 2` es una expresión que se evalúa a `3`, y `x + 1` es una\n",
    "  expresión cuyo valor depende del valor del identificador `x`.\n",
    "- Una **sentencia** es una instrucción que puede ser ejecutada para producir un\n",
    "  efecto en el entorno de referencia o en el sistema.\n",
    "  Por ejemplo, `x = 1` es una sentencia que asigna el valor `1` al identificador\n",
    "  `x`, y `print(x)` es una sentencia que imprime el valor del identificador `x`\n",
    "  en la salida estándar.\n",
    "\n",
    "Los identificadores se usan para referirse a objetos denotables; estos objetos\n",
    "se suelen construir usando expresiones y se manipulan mediante sentencias."
   ]
  },
  {
   "cell_type": "code",
   "execution_count": null,
   "metadata": {},
   "outputs": [],
   "source": [
    "resultado = print(\"¿Cuál es el resultado de la función print?\")"
   ]
  },
  {
   "cell_type": "code",
   "execution_count": null,
   "metadata": {},
   "outputs": [],
   "source": [
    "print(resultado)"
   ]
  },
  {
   "cell_type": "markdown",
   "metadata": {},
   "source": [
    "#### Literales\n",
    "\n",
    "Los literales son los objetos denotables más simples que *no* son\n",
    "identificadores.\n",
    "Estos se representan directamente en el código fuente.\n",
    "Python soporta los siguientes tipos de literales:\n",
    "- Números enteros no negativos (de cualquier tamaño)\n",
    "- Números de punto flotante (de precisión doble)\n",
    "- Números imaginarios\n",
    "- Cadenas de caracteres\n",
    "- Bytes"
   ]
  },
  {
   "cell_type": "code",
   "execution_count": null,
   "metadata": {},
   "outputs": [],
   "source": [
    "99999999999999999999999999999"
   ]
  },
  {
   "cell_type": "code",
   "execution_count": null,
   "metadata": {},
   "outputs": [],
   "source": [
    "# Enteros en binario, comienzan con el prefijo 0b\n",
    "0b1011101011101010000110101011010101010011"
   ]
  },
  {
   "cell_type": "code",
   "execution_count": null,
   "metadata": {},
   "outputs": [],
   "source": [
    "# Enteros en octal, comienzan con el prefijo 0o\n",
    "0o76543210"
   ]
  },
  {
   "cell_type": "code",
   "execution_count": null,
   "metadata": {},
   "outputs": [],
   "source": [
    "# Enteros en hexadecimal, comienzan con el prefijo 0x\n",
    "0xFEDCBA9876543210"
   ]
  },
  {
   "cell_type": "code",
   "execution_count": null,
   "metadata": {},
   "outputs": [],
   "source": [
    "# Números de punto flotante\n",
    "3.1415926535897932384626433832795028841971693993751058209749445923078164"
   ]
  },
  {
   "cell_type": "code",
   "execution_count": null,
   "metadata": {},
   "outputs": [],
   "source": [
    "42j  # Números imaginarios"
   ]
  },
  {
   "cell_type": "code",
   "execution_count": null,
   "metadata": {},
   "outputs": [],
   "source": [
    "\"¡Me amarraron como puerco!\"  # Cadenas de texto"
   ]
  },
  {
   "cell_type": "code",
   "execution_count": null,
   "metadata": {},
   "outputs": [],
   "source": [
    "b\"Soy una cadena de bytes bip-bop-bip.\"  # Cadenas de bytes"
   ]
  },
  {
   "cell_type": "code",
   "execution_count": null,
   "metadata": {},
   "outputs": [],
   "source": [
    "# Observa que un solo caracter puede requerir más de un byte\n",
    "cadena = \"¡Python 🐍 está cañón!\"\n",
    "bytes_ = cadena.encode(\"utf8\")  # Codificamos la cadena en UTF-8\n",
    "print(f\"{cadena=}\")\n",
    "print(f\"{bytes_=}\")\n",
    "print(f\"La cadena tiene {len(cadena)} caracteres, pero {len(bytes_)} bytes.\")\n",
    "if len(cadena) < len(bytes_):\n",
    "    print(\"¡Hay caracteres que requieren más de un byte!\")\n",
    "\n",
    "# Cada byte es un entero entre 0 y 255\n",
    "for caracter in cadena:\n",
    "    print(f\"{caracter!r} ⟼\", *caracter.encode(\"utf8\"))"
   ]
  },
  {
   "cell_type": "markdown",
   "metadata": {},
   "source": [
    "#### Operadores\n",
    "\n",
    "Los operadores son símbolos que representan una operación sobre uno o más\n",
    "objetos denotables.\n",
    "Esencialmente, son los que te permiten usar un lenguaje de programación para\n",
    "calcular cosas."
   ]
  },
  {
   "cell_type": "code",
   "execution_count": null,
   "metadata": {},
   "outputs": [],
   "source": [
    "(50 - 5 * (5 + 1)) / 7"
   ]
  },
  {
   "cell_type": "markdown",
   "metadata": {},
   "source": [
    "Nótese que esta misma expresión en otros lenguajes como C++ o Java da como\n",
    "resultado un número entero, ya que en estos lenguajes la división de enteros\n",
    "produce un entero."
   ]
  },
  {
   "cell_type": "markdown",
   "metadata": {},
   "source": [
    "**Actividad** Averiguar cómo calcular $(50 - 5\\,(5 + 1)) / 7$ en C++.\n",
    "¿Basta con declarar el resultado como `double` así?\n",
    "```cpp\n",
    "double resultado = (50 - 5 * (5 + 1)) / 7;\n",
    "```"
   ]
  },
  {
   "cell_type": "markdown",
   "metadata": {},
   "source": [
    "Al revés, si queremos usar la división entera en Python, podemos usar el\n",
    "operador `//` en lugar de `/`."
   ]
  },
  {
   "cell_type": "code",
   "execution_count": null,
   "metadata": {},
   "outputs": [],
   "source": [
    "81 // 7  # División entera"
   ]
  },
  {
   "cell_type": "markdown",
   "metadata": {},
   "source": [
    "Algunos lenguajes admiten un operador para calcular potencias, como `**` en\n",
    "Python.\n",
    "- En R, Excel, y BASIC se usa `x^y`.\n",
    "- Fortran, Python, JavaScript y PHP usan `x**y`.\n",
    "- Algol y variantes antiguas de BASIC usaban `x↑y`.\n",
    "- Haskell usa `x^^y`.\n",
    "- APL utiliza `x*y`.\n",
    "- C, C++, Java, C#, Rust y otros no tienen un operador para calcular potencias,\n",
    "  y dependen de una función definida en una biblioteca estándar.\n",
    "  Por ejemplo, en C++ se usa `std::pow(x, y)`."
   ]
  },
  {
   "cell_type": "code",
   "execution_count": null,
   "metadata": {},
   "outputs": [],
   "source": [
    "2**16 + 1"
   ]
  },
  {
   "cell_type": "code",
   "execution_count": null,
   "metadata": {},
   "outputs": [],
   "source": [
    "# La función pow() es equivalente al operador **\n",
    "pow(2, 16) + 1"
   ]
  },
  {
   "cell_type": "markdown",
   "metadata": {},
   "source": [
    "Algunos operadores son unarios, es decir, solo operan sobre un objeto denotable,\n",
    "por ejemplo, el operador de negación aritmética `-` es unario."
   ]
  },
  {
   "cell_type": "code",
   "execution_count": null,
   "metadata": {},
   "outputs": [],
   "source": [
    "-91  # Esto no es un literal, es una expresión unaria"
   ]
  },
  {
   "cell_type": "code",
   "execution_count": null,
   "metadata": {},
   "outputs": [],
   "source": [
    "# ¿No me crees? ¡Pues mira el Abstract Syntax Tree!\n",
    "import ast\n",
    "\n",
    "print(ast.dump(ast.parse(\"-91\", mode=\"eval\")))"
   ]
  },
  {
   "cell_type": "code",
   "execution_count": null,
   "metadata": {},
   "outputs": [],
   "source": [
    "# True es un identificador (y palabra reservada) que hace referencia a\n",
    "# una constante booleana.\n",
    "\n",
    "print(f\"{True and False=}\")  # Operador lógico AND\n",
    "print(f\"{True or False=}\")  # Operador lógico OR\n",
    "print(f\"{not True=}\")  # Operador lógico NOT"
   ]
  },
  {
   "cell_type": "markdown",
   "metadata": {},
   "source": [
    "Al respecto de estos operadores, es importante aclarar la manera en que\n",
    "funcionan.\n",
    "\n",
    "**Definición** (de operadores de cortocircuito)\n",
    "- Una expresión `expr` es **verdaderosa** (*truthy*) si `bool(expr)` es `True`.\n",
    "- Una expresión `expr` es **falsosa** (*falsy* )si `bool(expr)` es `False`.\n",
    "- Si `x` es verdaderosa, entonces `x or y` se evalúa a `x` (y `y` no se evalúa),\n",
    "  de lo contrario `x or y` se evalúa a `y`.\n",
    "- Si `x` es falsosa, entonces `x and y` se evalúa a `x` (y `y` no se evalúa),\n",
    "  de lo contrario `x and y` se evalúa a `y`."
   ]
  },
  {
   "cell_type": "code",
   "execution_count": null,
   "metadata": {},
   "outputs": [],
   "source": [
    "# La cadena vacía es falsosa, cualquier otra cadena es verdaderosa\n",
    "print(f\"{bool('')=}\")\n",
    "print(f\"{bool('False')=}\")  # \"False\" es no vacía, y es verdaderosa"
   ]
  },
  {
   "cell_type": "markdown",
   "metadata": {},
   "source": [
    "Es muy común entre los programadores experimentados usar los operadores de\n",
    "cortocircuito para escribir expresiones más cortas, legibles, y seguras.\n",
    "Por ejemplo el siguiente código en Python produce un error cuando la cadena\n",
    "`foo` es vacía:\n",
    "```python\n",
    "if foo[0] == \"A\":  # IndexError si foo es vacía porque foo[0] no existe\n",
    "    ...\n",
    "```\n",
    "\n",
    "Para correjirlo, podemos usar el operador de cortocircuito `and`:\n",
    "```python\n",
    "if foo and foo[0] == \"A\":  # Si foo es vacía entonces foo[0] no se evalúa\n",
    "    ...\n",
    "```\n"
   ]
  },
  {
   "cell_type": "markdown",
   "metadata": {},
   "source": [
    "Como segundo ejemplo considera que se desea concatenar la cadena `foo` con\n",
    "`bar` o `baz`; una de estas dos cadenas es vacía y la otra no.\n",
    "```python\n",
    "if bar:\n",
    "    foo += bar\n",
    "else:\n",
    "    foo += baz\n",
    "```\n",
    "Usando el operador de cortocircuito `or` podemos escribirlo de manera más\n",
    "concisa:\n",
    "```python\n",
    "foo += bar or baz\n",
    "``` "
   ]
  },
  {
   "cell_type": "code",
   "execution_count": null,
   "metadata": {},
   "outputs": [],
   "source": [
    "foo = \"Cara\"\n",
    "bar = \"\"  # Cambia esto por \"cola\"\n",
    "baz = \"mbola\"\n",
    "\n",
    "foo + (bar or baz)"
   ]
  },
  {
   "cell_type": "markdown",
   "metadata": {},
   "source": [
    "**Actividad** Determinar en qué casos los siguientes tipos de datos son\n",
    "verdaderosos o falsosos en Python:\n",
    "- Números enteros\n",
    "- Números de punto flotante\n",
    "- Números complejos\n",
    "- ~~Cadenas de caracteres~~ (Respuesta: falsosas si y solo si son vacías)\n",
    "- Listas\n",
    "- None"
   ]
  },
  {
   "cell_type": "code",
   "execution_count": null,
   "metadata": {},
   "outputs": [],
   "source": [
    "from math import nan, inf\n",
    "print(f\"{bool(0)=}\")  # El cero es falsoso\n",
    "print(f\"{bool(-1)=}\")  # Cualquier otro entero es verdaderoso\n",
    "print(f\"{bool(0.0)=}\")  # El 0.0 es falsoso\n",
    "print(f\"{bool(3.14)=}\")  # Cualquier otro número es verdaderoso\n",
    "print(f\"{bool(inf)=}\")  # ... incluyendo el infinito\n",
    "print(f\"{bool(nan)=}\")  # ... y también el NaN (Not a Number)\n",
    "print(f\"{bool(1+1j)=}\")  # Los números complejos son verdaderosos\n",
    "print(f\"{bool(0+0j)=}\")  # ...excepto el cero complejo\n",
    "print(f\"{bool([1, 2, 3])=}\")  # Las listas no vacías son verdaderosas\n",
    "print(f\"{bool([])=}\")  # Las listas vacías son falsosas\n",
    "print(f\"{bool([[]])=}\")  # Observa que esta lista no está vacía\n",
    "print(f\"{bool(None)=}\")  # None es falsoso\n",
    "print(f\"{bool(...)=}\")  # ... es verdaderoso\n",
    "print(f\"{bool()=}\")  # *Nada* es falsoso\n"
   ]
  },
  {
   "cell_type": "markdown",
   "metadata": {},
   "source": [
    "En C, C++, Java, C#, y otros lenguajes, los operadores de cortocircuito son\n",
    "`&&` y `||`."
   ]
  },
  {
   "cell_type": "markdown",
   "metadata": {},
   "source": [
    "Además de los operadores lógicos de cortocircuito, los lenguajes de\n",
    "programación imperativos suelen tener operadores lógicos binarios que operan\n",
    "bit a bit."
   ]
  },
  {
   "cell_type": "code",
   "execution_count": null,
   "metadata": {},
   "outputs": [],
   "source": [
    "0b101 & 0b010  # 5 AND 2"
   ]
  },
  {
   "cell_type": "code",
   "execution_count": null,
   "metadata": {},
   "outputs": [],
   "source": [
    "0b101 | 0b010  # 5 OR 2"
   ]
  },
  {
   "cell_type": "code",
   "execution_count": null,
   "metadata": {},
   "outputs": [],
   "source": [
    "0b101 ^ 0b010  # 5 XOR 2"
   ]
  },
  {
   "cell_type": "code",
   "execution_count": null,
   "metadata": {},
   "outputs": [],
   "source": [
    "# Negación. Los números se representan en complemento a 2\n",
    "~0b101"
   ]
  },
  {
   "cell_type": "code",
   "execution_count": null,
   "metadata": {},
   "outputs": [],
   "source": [
    "0b10100000 >> 1  # Desplazamiento a la derecha (división por 2)"
   ]
  },
  {
   "cell_type": "code",
   "execution_count": null,
   "metadata": {},
   "outputs": [],
   "source": [
    "print(f\"{_:b}\")"
   ]
  },
  {
   "cell_type": "code",
   "execution_count": null,
   "metadata": {},
   "outputs": [],
   "source": [
    "0b10100000 << 2  # Desplazamiento a la izquierda (multiplicación por 2)"
   ]
  },
  {
   "cell_type": "code",
   "execution_count": null,
   "metadata": {},
   "outputs": [],
   "source": [
    "print(f\"{_:b}\")"
   ]
  },
  {
   "cell_type": "code",
   "execution_count": null,
   "metadata": {},
   "outputs": [],
   "source": [
    "\"Una cosa\" == \"Otra cosa\"  # Operador de igualdad"
   ]
  },
  {
   "cell_type": "code",
   "execution_count": null,
   "metadata": {},
   "outputs": [],
   "source": [
    "foo = \"Una cosa\"\n",
    "bar = foo\n",
    "\n",
    "foo is bar  # Operador de identidad"
   ]
  },
  {
   "cell_type": "code",
   "execution_count": null,
   "metadata": {},
   "outputs": [],
   "source": [
    "foo = [1, 2, 3]\n",
    "bar = [1, 2, 3]\n",
    "\n",
    "print(f\"{foo == bar=}\")\n",
    "print(f\"{foo is bar=}\")"
   ]
  },
  {
   "cell_type": "markdown",
   "metadata": {},
   "source": [
    "Python en particular incluye un operator de multiplicación de matrices `@`.\n",
    "Dado que Python no tiene sopoerte nativo para matrices, este operador está\n",
    "definido en la biblioteca no estándar `numpy`."
   ]
  },
  {
   "cell_type": "code",
   "execution_count": null,
   "metadata": {},
   "outputs": [],
   "source": [
    "import numpy as np\n",
    "\n",
    "A = np.random.randint(0, 100, size=(3, 3))\n",
    "B = np.random.randint(0, 100, size=(3, 3))\n",
    "print(f\"{A=}\")\n",
    "print(f\"{B=}\")\n",
    "print(f\"{A@B=}\")"
   ]
  },
  {
   "cell_type": "markdown",
   "metadata": {},
   "source": [
    "El **operador ternario** `foo if cond else bar` se evalúa a `foo` si `cond` es\n",
    "verdaderosa, y a `bar` si `cond` es falsosa."
   ]
  },
  {
   "cell_type": "code",
   "execution_count": null,
   "metadata": {},
   "outputs": [],
   "source": [
    "# Ejemplo de operador ternario\n",
    "edad = 15\n",
    "vehiculo = \"moto\" if edad >= 16 else \"bici\"\n",
    "print(f\"Súbete a mi {vehiculo} 🎶\")"
   ]
  },
  {
   "cell_type": "markdown",
   "metadata": {},
   "source": [
    "En lenguajes como C, C++, Java, C#, y otros, el operador ternario se escribe\n",
    "como `cond ? foo : bar`."
   ]
  },
  {
   "cell_type": "markdown",
   "metadata": {},
   "source": [
    "La **llamada a función** es un operador que se usa para llamar a una función\n",
    "con los argumentos que recibe.\n",
    "En casi todos los lengujes de programación, la llamada a función se representa\n",
    "con paréntesis, por ejemplo, `f(x)` llama a la función `f` con el argumento `x`.\n",
    "Veremos más sobre funciones en la siguiente sección."
   ]
  },
  {
   "cell_type": "code",
   "execution_count": null,
   "metadata": {},
   "outputs": [],
   "source": [
    "abs(-42)  # Valor absoluto"
   ]
  },
  {
   "cell_type": "markdown",
   "metadata": {},
   "source": [
    "El operador de subíndice `[]` se usa para acceder a los elementos de un objeto\n",
    "denotable que representa una colección, como una cadena de caracteres o una\n",
    "lista."
   ]
  },
  {
   "cell_type": "code",
   "execution_count": null,
   "metadata": {},
   "outputs": [],
   "source": [
    "\"¿Y mis 50000 pesos qué!\"[1]"
   ]
  },
  {
   "cell_type": "markdown",
   "metadata": {},
   "source": [
    "#### Expresiones\n",
    "\n",
    "- Un literal es una expresión que se evalúa a sí misma.\n",
    "- Un identificador es una expresión que se evalúa al objeto denotado por el\n",
    "  identificador.\n",
    "- Una expresión que combina operadores, identificadores y literales se evalúa\n",
    "  de acuerdo a las reglas de precedencia y asociatividad de los operadores."
   ]
  },
  {
   "cell_type": "markdown",
   "metadata": {},
   "source": [
    "## 2. Estructuras de control"
   ]
  },
  {
   "cell_type": "markdown",
   "metadata": {},
   "source": [
    "### 2.1 Programación no estructurada"
   ]
  },
  {
   "cell_type": "markdown",
   "metadata": {},
   "source": [
    "Recordemos que la programación imperativa evolucionó a partir del lenguaje\n",
    "máquina:\n",
    "\n",
    "- La máquina tiene **contador de programa** que indica el número de instrucción\n",
    "  (posición en la memoria) que se ejecutará a continuación.\n",
    "- Cuando se termina de ejecutar una instrucción, el contador de programa se\n",
    "  incrementa en uno a menos que la instrucción sea una **instrucción de\n",
    "  salto**, en cuyo caso el valor cambia al que la instrucción de salto indique.\n",
    "\n",
    "En los lenguajes de programación imperativos modernos, esta instrucción de salto\n",
    "se conoce como `goto` y se utiliza para saltar a una instrucción arbitraria del\n",
    "programa, generalmente indicada por una etiqueta.\n",
    "Al tipo de programación que abusa de la instrucción `goto` se le conoce como\n",
    "**programación no estructurada**.\n"
   ]
  },
  {
   "cell_type": "markdown",
   "metadata": {},
   "source": [
    "**Ejemplo**  En C++ las etiquetas se indican con el símbolo `:`.\n",
    "Consideremos el siguiente programa escrito en C++ que imprime los\n",
    "números de Fibonacci menores o iguales a un número `n_max` dado por el usuario.\n",
    "Las variables `i` y `j` se declaran explícitamente como enteros, y contienen dos\n",
    "números consecutivos de la sucesión de Fibonacci.\n",
    "Podemos observar que el programa tiene tres etiquetas: `loop`, `iterate` y\n",
    "`exit`:\n",
    "\n",
    "```C++\n",
    "#include <iostream>\n",
    "\n",
    "int main() {\n",
    "  int n_max, i = 1, j = 0;\n",
    "  std::cout << \"n = \";\n",
    "  std::cin >> n_max;\n",
    "\n",
    "loop:\n",
    "  if (j <= n_max) goto iterate;\n",
    "  goto exit;\n",
    "\n",
    "iterate:\n",
    "  std::cout << j << \" \";\n",
    "  j += i;\n",
    "  i = j - i;\n",
    "  goto loop;\n",
    "\n",
    "exit:\n",
    "  std::cout << std::endl;\n",
    "  return 0;\n",
    "}\n",
    "```"
   ]
  },
  {
   "cell_type": "markdown",
   "metadata": {},
   "source": [
    "**Actividad**: Usar el depurador de Visual Studio Code para ejecutar el programa\n",
    "anterior paso a paso y seguir el flujo de ejecución."
   ]
  },
  {
   "cell_type": "markdown",
   "metadata": {},
   "source": [
    "Muchos lenguajes de programación modernos como Python y JavaScript no\n",
    "implementan la instrucción `goto` porque se considera una **mala práctica de\n",
    "programación**.\n",
    "Ya en 1966 se sabía que la instrucción  `goto` es innecesaria para construir\n",
    "cualquier programa (veremos este resultado en la siguiente subsección), pero en\n",
    "1968 se publicó un influyente ensayo titulado [*Go To Statement Considered\n",
    "Harmful*][1] donde Edsger Dijkstra critica el esta instrucción `goto` porque\n",
    "produce código ilegible, que en terminología moderna conocemos popularmente como\n",
    "[*código espagueti*](https://en.wikipedia.org/wiki/Spaghetti_code).\n",
    "\n",
    "[1]: https://doi.org/10.1145/362929.362947"
   ]
  },
  {
   "cell_type": "markdown",
   "metadata": {},
   "source": [
    "En la programación no estructurada el entorno de referencia son todas los\n",
    "identificadores que se han declarado hasta el momento de la ejecución de una\n",
    "instrucción."
   ]
  },
  {
   "cell_type": "markdown",
   "metadata": {},
   "source": [
    "### 2.2 La programación estructurada"
   ]
  },
  {
   "cell_type": "markdown",
   "metadata": {},
   "source": [
    "En 1957 [FORTRAN](https://en.wikipedia.org/wiki/Fortran) se convirtió el primer\n",
    "lenguaje de programación en no depender de la instrucción `goto` para construir\n",
    "programas.\n",
    "El truco estaba en la capacidad de organizar el código en **bloques** y usar\n",
    "**estructuras de control** para controlar el flujo de ejecución del programa.\n",
    "\n",
    "**Definición** (de bloques de código) Un **bloque de código** se define\n",
    "recursivamente de la siguiente manera:\n",
    "- Una instrucción es un bloque de código por sí misma.\n",
    "- **Estructura secuencial**: Si $A$ y $B$ son bloques de código, entonces\n",
    "  “$A$`; `$B$” es el bloque de código que ejecuta $A$ y después ejecuta $B$.\n",
    "- **Estructura condicional**: Si $c$ es una expresión booleana y $A$ un bloque\n",
    "  de código, entonces “`si` $c$ `entonces` $A$ `fin`” es el bloque de código que\n",
    "  ejecuta $A$ si y sólo si $c$ es verdadera.\n",
    "- **Estructura iterativa**: Si $c$ es una expresión booleana y $A$ un bloque de\n",
    "  código, entonces “`mientras` $c$ `hacer` $A$ `fin`” es el bloque de código que\n",
    "  ejecuta $A$ mientras $c$ sea verdadera.\n",
    "  "
   ]
  },
  {
   "cell_type": "markdown",
   "metadata": {},
   "source": [
    "#### La estructura secuencial\n",
    "\n",
    "La estructura más simple de todas es la evolución natural de que el contador\n",
    "de programa se incremente en uno después de ejecutar una instrucción: las \n",
    "instrucciones se ejecutan una detrás de otra en el orden en que aparecen.\n",
    "Para separar las instrucciones en bloques de código se usa algún símbolo como el\n",
    "punto y coma `;` en C++ o el salto de línea en Python."
   ]
  },
  {
   "cell_type": "markdown",
   "metadata": {},
   "source": [
    "Si $B_1$, $B_2$, $\\ldots$, $B_n$ son bloques de código, entonces la estructura\n",
    "secuencial tiene la siguiente forma:\n",
    "\n",
    "- $B_1$`;`\n",
    "- $B_2$`;`\n",
    "- $\\quad\\vdots$\n",
    "- $B_n$`;`\n",
    "\n",
    "En particular, si cada bloque de código es una instrucción, se vería así:\n",
    "\n",
    "- $\\textit{instrucción}_1$\n",
    "- $\\textit{instrucción}_2$\n",
    "- $\\qquad\\vdots$\n",
    "- $\\textit{instrucción}_n$"
   ]
  },
  {
   "cell_type": "markdown",
   "metadata": {},
   "source": [
    "Algunos lenguajes de programación incluso tienen símbolos especiales para\n",
    "agrupar instrucciones en bloques de código:\n",
    "- Las palabras `begin` y `end` se usan ALGOL, Pascal, Ada y otros.\n",
    "- Las llaves `{` y `}` se usan en los descendientes del lenguaje B (C, C++,\n",
    "  Java, JavaScript, C#, etc.).\n"
   ]
  },
  {
   "cell_type": "markdown",
   "metadata": {},
   "source": [
    "**Actividad** En el siguiente programa escrito en C++; `std::cout` se usa para\n",
    "imprimir en la terminal, y `std::endl` representa un salto de línea.\n",
    "Determina qué imprime el programa y por qué.\n",
    "\n",
    "\n",
    "```C++\n",
    "#include <iostream>\n",
    "int foo = 1;\n",
    "\n",
    "void bloque_d() {\n",
    "  // Bloque D\n",
    "  std::cout << \"Bloque D: foo=\" << foo << std::endl;  \n",
    "}\n",
    "\n",
    "int main() {\n",
    "  // Bloque A\n",
    "  std::cout << \"Bloque A: foo=\" << foo << std::endl;\n",
    "  int foo = 2;\n",
    "\n",
    "  {\n",
    "    // Bloque B\n",
    "    int foo = 3;\n",
    "    std::cout << \"Bloque B: foo=\" << foo << std::endl;\n",
    "  }\n",
    "\n",
    "  {\n",
    "    // Bloque C\n",
    "    std::cout << \"Bloque C: foo=\" << foo << std::endl;\n",
    "  }\n",
    "\n",
    "  bloque_d();  // Llamada a la función bloque_d\n",
    "\n",
    "  std::cout << \"Bloque A: foo=\" << foo << std::endl;\n",
    "  return 0;\n",
    "}\n",
    "```"
   ]
  },
  {
   "cell_type": "markdown",
   "metadata": {},
   "source": [
    "#### La estructura condicional\n",
    "\n",
    "La estructura condicional evoluciona a partir de las instrucciones de salto\n",
    "condicional del lenguaje máquina, en donde el contador de programa cambia al\n",
    "valor de una etiqueta si y sólo si una condición es verdadera.\n",
    "\n",
    "Si $c$ es una expresión booleana y $B$ un bloque de código, entonces la\n",
    "estructura condicional tiene la siguiente forma:\n",
    "\n",
    "- `si` $\\mathit{c}$ `entonces`\n",
    "  - $\\mathit{B}$`;`\n",
    "\n",
    "Es equivalente al siguiente pseudocódigo que usa la instrucción “`vaya a`”\n",
    "(*goto*) y la etiqueta $L$:\n",
    "\n",
    "- `si` $\\neg\\mathit{c}$ `entonces vaya a` $L$`;`\n",
    "- $B$`;`\n",
    "- $L: \\ldots$"
   ]
  },
  {
   "cell_type": "markdown",
   "metadata": {},
   "source": [
    "**Actividad** Explorar la estructura condicional en Python y sus variantes."
   ]
  },
  {
   "cell_type": "code",
   "execution_count": null,
   "metadata": {},
   "outputs": [],
   "source": [
    "edad = 18\n",
    "if edad > 18:\n",
    "    print(\"Vamos por unas chelas.\")\n",
    "elif edad > 16:\n",
    "    print(\"Vamos a dar un paseo en coche.\")\n",
    "else:\n",
    "    print(\"Vamos por un Yakult.\")"
   ]
  },
  {
   "cell_type": "code",
   "execution_count": null,
   "metadata": {},
   "outputs": [],
   "source": [
    "estado = \"MTY\"\n",
    "match estado:\n",
    "    case \"MOR\":\n",
    "        print(\"Eres guayabo.\")\n",
    "    case \"CDMX\":\n",
    "        print(\"Eres chilango.\")\n",
    "    case \"AGS\":\n",
    "        print(\"Eres hidrocálido.\")\n",
    "    case \"GRO\":\n",
    "        print(\"Eres guerrerense.\")\n",
    "    case \"MTY\":\n",
    "        print(\"Eres regiomontano.\")\n",
    "    case _:\n",
    "        print(\"Eres del interior, provinciano.\")"
   ]
  },
  {
   "cell_type": "markdown",
   "metadata": {},
   "source": [
    "#### La estructura iterativa\n",
    "\n",
    "La estructura iterativa evoluciona a partir de las instrucciones de salto\n",
    "condicional que apuntan a una instrucción anterior, de manera que el contador de\n",
    "programa regresa a un valor menor.\n",
    "\n",
    "Si $c$ es una expresión booleana y $B$ un bloque de código, entonces la\n",
    "estructura iterativa tiene la siguiente forma:\n",
    "\n",
    "- `mientras` $\\mathit{c}$ `haga`\n",
    "  - $\\mathit{B}$`;`\n",
    "\n",
    "Es equivalente al siguiente pseudocódigo que usa la instrucción “`vaya a`”\n",
    "(*goto*) y las etiquetas $L$ y $M$:\n",
    "\n",
    "- $L:$ `si` $\\neg\\mathit{c}$ `entonces vaya a` $M$`;`\n",
    "- $B$`;`\n",
    "- `vaya a` $L$`;`\n",
    "- $M: \\ldots$"
   ]
  },
  {
   "cell_type": "markdown",
   "metadata": {},
   "source": [
    "**Actividad** Explorar la estructura iterativa en Python y sus variantes."
   ]
  },
  {
   "cell_type": "code",
   "execution_count": null,
   "metadata": {},
   "outputs": [],
   "source": [
    "edad = 15\n",
    "while edad < 18:\n",
    "    print(f\"Tienes {edad}; vamos por un Yakult.\")\n",
    "    print(\"Esperamos un año.\")\n",
    "    edad += 1\n",
    "print(\"Vamos por una chela.\")"
   ]
  },
  {
   "cell_type": "code",
   "execution_count": null,
   "metadata": {},
   "outputs": [],
   "source": [
    "list(range(10, 18))"
   ]
  },
  {
   "cell_type": "code",
   "execution_count": null,
   "metadata": {},
   "outputs": [],
   "source": [
    "for edad in range(10, 18):\n",
    "    print(f\"Tienes {edad}; vamos por un Yakult.\")\n",
    "print(\"Vamos por una chela.\")"
   ]
  },
  {
   "cell_type": "code",
   "execution_count": null,
   "metadata": {},
   "outputs": [],
   "source": [
    "for edad in range(99):\n",
    "    if edad < 1:\n",
    "        continue\n",
    "    if edad >= 18:\n",
    "        print(f\"Tienes {edad}; vamos por una chela.\")\n",
    "        break\n",
    "    print(f\"Tienes {edad}; vamos por un Yakult.\")"
   ]
  },
  {
   "cell_type": "markdown",
   "metadata": {},
   "source": [
    "#### El Teorema del programa estructurado\n",
    "\n",
    "En [1966 Böhm y Jacopini][1] demostraron matemáticamente que cualquier programa\n",
    "se puede escribir, al menos en principio, usando únicamente las estructuras de\n",
    "control secuencial, condicional e iterativa.\n",
    "Este resultado es completamente teóríco, pues las transformaciones que usan para\n",
    "convertir un programa no estructurado en uno que sí es estructurado lo vuelven\n",
    "aún más ilegible que el programa original.\n",
    "\n",
    "[1]: https://dl.acm.org/doi/10.1145/355592.365646"
   ]
  },
  {
   "cell_type": "markdown",
   "metadata": {},
   "source": [
    "El teorma de Böhm y Jacopini se refiere concretamente a [diagramas de flujo][1],\n",
    "pero se puede extender de forma natural a cualquier lenguaje de programación.\n",
    "Específicamente demostraron que cualquier diagrama de flujo se puede convertir\n",
    "a otro equivalente que tiene solamente estos tres artefactos con sus respectivas\n",
    "representaciones gráficas:\n",
    "\n",
    "![Diagramas de estructuras de control](img/Structured_program_patterns.svg)\n",
    "\n",
    "[1]: https://en.wikipedia.org/wiki/Flowchart"
   ]
  },
  {
   "cell_type": "markdown",
   "metadata": {},
   "source": [
    "A este resultado famoso se conoce como el **Teorema del programa estructurado**\n",
    "y muchos argumentan que es la justificación teórica de que la programación no\n",
    "estructurada es innecesaria.\n",
    "En la práctica se sabe que en algunos *muy raros* casos, la instrucción `goto`\n",
    "no solamente hace al programa más eficiente, sino más legible.\n",
    "\n",
    "En lo particular, como docente de programación, no recomiendo usar la\n",
    "instrucción `goto` a menos que tengas muchos años de experiencia programando y\n",
    "una muy buena razón para hacerlo.\n",
    "Antes de escribir ese `goto` pregúntate si la eficiencia que ganas es\n",
    "significativa y si no perderás legibilidad en el proceso.\n",
    "\n"
   ]
  },
  {
   "cell_type": "markdown",
   "metadata": {},
   "source": [
    "### 2.3 Estructuras de control adicionales\n",
    "\n",
    "Aunque el teorema del programa estructurado establece solo tres estructuras de\n",
    "control, en la práctica los lenguajes de programación modernos tienen muchas\n",
    "más que son de gran utilidad."
   ]
  },
  {
   "cell_type": "markdown",
   "metadata": {},
   "source": [
    "#### Funciones\n",
    "\n",
    "Las funciones son bloques de código que han sido encapsulados como una unidad\n",
    "para realizar una tarea específica.\n",
    "Usualmente las funciones tienen un nombre y pueden recibir parámetros de entrada\n",
    "y regresar un valor de salida, es decir, son una abstracción de algoritmo.\n",
    "\n",
    "La notación de funciones es usualmente la misma que las funciones matemáticas:\n",
    "el nombre de la función seguido de paréntesis que contienen los parámetros de\n",
    "entrada separados por comas.\n",
    "Al evaluar una función, se sustituyen los parámetros de entrada por los valores\n",
    "que se le pasan a la función, y se evalúa el bloque de código, y la salida\n",
    "sustituye la llamada a la función."
   ]
  },
  {
   "cell_type": "code",
   "execution_count": null,
   "metadata": {},
   "outputs": [],
   "source": [
    "# Importamos coseno y pi del módulo math\n",
    "from math import cos, pi\n",
    "\n",
    "cos(pi / 4) + 1"
   ]
  },
  {
   "cell_type": "markdown",
   "metadata": {},
   "source": [
    "En Python las funciones se declaran con la palabra `def` seguida del nombre de\n",
    "la función y una lista de parámetros entre paréntesis, y terminando con dos\n",
    "puntos `:`. El cuerpo de la función se escribe indentado con cuatro espacios.\n",
    "Asimismo, la primera línea del cuerpo de la función puede ser una cadena de\n",
    "caracteres que se usa como documentación de la función."
   ]
  },
  {
   "cell_type": "code",
   "execution_count": null,
   "metadata": {},
   "outputs": [],
   "source": [
    "def fib(n):\n",
    "    \"\"\"Imprime la sucesión de Fibonacci hasta n.\"\"\"\n",
    "    i, j = 1, 0\n",
    "    while j < n:\n",
    "        print(j, end=\" \")\n",
    "        i, j = j, i + j\n",
    "    print()"
   ]
  },
  {
   "cell_type": "code",
   "execution_count": null,
   "metadata": {},
   "outputs": [],
   "source": [
    "resultado = fib(1000)"
   ]
  },
  {
   "cell_type": "markdown",
   "metadata": {},
   "source": [
    "**Terminología** Existen varios tipos de *funciones* en programación dependiendo\n",
    "de su salida, alcance y efectos secundarios:\n",
    "- **Función**: Es una función que regresa un valor.\n",
    "  Este valor puede ser calculado a partir de cero o más parámetros de entrada.\n",
    "  Una función que calcula el valor de la constante pi sigue esta definición, así\n",
    "  como también la función coseno.\n",
    "- **Subrutina**: Es una función que no regresa un valor.\n",
    "  Se usa para realizar una tarea específica que altera el estado del programa\n",
    "  o del sistema, pero que no calcula un valor; por ejemplo, imprimir un mensaje\n",
    "  en la terminal o asegurarse de que un archivo exista.\n",
    "- **Método**: Es una función o subrutina que pertenece a un objeto.\n",
    "  Usualmente se denota con $x.f(\\ldots)$ donde $x$ es el objeto y $f$ es el\n",
    "  método.\n",
    "  Por ejemplo, en Python las cadenas de caracteres tienen un método `upper` que\n",
    "  regresa una copia de la cadena en mayúsculas (`\"Hola\".upper()`).\n",
    "  Esta función es específica de las cadenas de caracteres y no de cualquier\n",
    "  objeto."
   ]
  },
  {
   "cell_type": "markdown",
   "metadata": {},
   "source": [
    "Se puede observar que el ejemplo anterior era una *subrutina*.\n",
    "Si intentamos quitar el cero del resultado anterior haciendo algo como\n",
    "```python\n",
    "resultado.remove(0)  # Usamos el método remove de las listas\n",
    "```\n",
    "obtenemos un `AttributeError` porque, de hecho, `resultado` no es una lista,\n",
    "sino `None`.\n",
    "En Python, `None` es el objeto que representa la ausencia de valor, y es el\n",
    "valor de retorno de las funciones que no regresan nada."
   ]
  },
  {
   "cell_type": "code",
   "execution_count": null,
   "metadata": {},
   "outputs": [],
   "source": [
    "type(resultado)"
   ]
  },
  {
   "cell_type": "markdown",
   "metadata": {},
   "source": [
    "Podemos corregir el programa anterior haciendo que la función `fibonacci`\n",
    "regrese una lista en lugar de imprimirla.\n",
    "Se usa la sentencia `return` para regresar un valor de una función como se\n",
    "muestra a continuación:"
   ]
  },
  {
   "cell_type": "code",
   "execution_count": null,
   "metadata": {},
   "outputs": [],
   "source": [
    "# Ejemplo de función con anotaciones de tipo (opcionales)\n",
    "def fib(n: int) -> list[int]:\n",
    "    \"\"\"Devuelve la sucesión de Fibonacci hasta n.\"\"\"\n",
    "    i, j, resultado = 1, 0, []\n",
    "    while j < n:\n",
    "        resultado.append(j)  # Agregamos j a la lista resultado\n",
    "        i, j = j, i + j\n",
    "    return resultado\n",
    "\n",
    "\n",
    "resultado = fib(1000)\n",
    "print(resultado)"
   ]
  },
  {
   "cell_type": "code",
   "execution_count": null,
   "metadata": {},
   "outputs": [],
   "source": [
    "resultado.remove(0)  # Eliminamos el cero con el método remove\n",
    "print(resultado)"
   ]
  },
  {
   "cell_type": "code",
   "execution_count": null,
   "metadata": {},
   "outputs": [],
   "source": [
    "resultado.index(144)  # El m. index encuentra el índice de un elemento"
   ]
  },
  {
   "cell_type": "markdown",
   "metadata": {},
   "source": [
    "**Actividad** Buscar la sintaxis de funciones en JavaScript, R y C++.\n",
    "¿Puedes convertir el programa anterior en una función en estos lenguajes?"
   ]
  },
  {
   "cell_type": "markdown",
   "metadata": {},
   "source": [
    "#### Manejo de excepciones\n",
    "\n",
    "Las excepciones son errores que ocurren durante la ejecución de un programa,\n",
    "como dividir entre cero, abrir un archivo que no existe, usar un identificador\n",
    "que no ha sido declarado, etc.\n",
    "\n",
    "Muchos lenguajes de programación modernos tienen una estructura de control para\n",
    "manejar las excepciones; usualmente consta de dos o tres partes:\n",
    "- El bloque *intentar* contiene el código inseguro que puede generar una\n",
    "  excepción.\n",
    "- El bloque *atrapar* contiene el código que se ejecuta cuando se genera una\n",
    "- excepción.\n",
    "- El bloque *finalmente* es opcional, y contiene el código que se ejecuta\n",
    "  siempre, ya sea que se haya generado una excepción o no."
   ]
  },
  {
   "cell_type": "markdown",
   "metadata": {},
   "source": [
    "En Python esta estructura de control se llama `try`."
   ]
  },
  {
   "cell_type": "code",
   "execution_count": null,
   "metadata": {},
   "outputs": [],
   "source": [
    "while True:\n",
    "    try:  # Código protegido:\n",
    "        edad = int(input(\"¿Cuántos años tienes? \"))\n",
    "    except ValueError:  # Manejo de excepciones:\n",
    "        print(\"Eso no es un número. Intenta de nuevo.\")\n",
    "    else:  # Código que se ejecuta si no hay excepciones (desprotegido):\n",
    "        print(\"¡Qué viej@ estás!\")\n",
    "        break  # Salimos del ciclo"
   ]
  },
  {
   "cell_type": "markdown",
   "metadata": {},
   "source": [
    "Para lanzar una excepción se usa la instrucción `raise` seguida de un objeto\n",
    "que representa la excepción."
   ]
  },
  {
   "cell_type": "code",
   "execution_count": null,
   "metadata": {},
   "outputs": [],
   "source": [
    "malo = 3  # Intenta cambiar este valor a 0 o 15\n",
    "try:\n",
    "    for i in range(1, 10):\n",
    "        if i == malo:\n",
    "            raise ValueError(\"¡No me gusta ese número!\")\n",
    "        print(i / malo)\n",
    "except ValueError as error:\n",
    "    print(\"Se produjo este error:\", error)\n",
    "except ZeroDivisionError as error:\n",
    "    print(\"No puedes dividir entre cero.\")\n",
    "else:\n",
    "    print(\"Todo salió bien.\")"
   ]
  },
  {
   "cell_type": "markdown",
   "metadata": {},
   "source": [
    "C++ tiene una estructura de control similar llamada `try`.\n",
    "Para lanzar una excepción se usa la instrucción `throw` seguida de un número\n",
    "entero que representa la excepción.\n",
    "\n",
    "```C++\n",
    "try {\n",
    "  int edad = 15;\n",
    "  if (edad >= 18) {\n",
    "    cout << \"Caite con las chelas.\";\n",
    "  } else {\n",
    "    throw (edad);  // Lanzar una excepción\n",
    "  }\n",
    "}\n",
    "catch (int codigoDeError) {\n",
    "  cout << \"No puedes tomar chelas a los\" << codigoDeError << \" años.\";\n",
    "} \n",
    "```"
   ]
  },
  {
   "cell_type": "markdown",
   "metadata": {},
   "source": [
    "Java, JavaScript, C# y otros lenguajes tienen la misma sintaxis que C++, solo\n",
    "hay diferencia en los tipos de datos que se pueden usar como excepciones.\n",
    "- En Java y C#, las excepciones deben ser subclases de la clase `Exception`.\n",
    "- En JavaScript, las excepciones pueden ser cualquier objeto.\n",
    "\n",
    "El lenguaje C no tiene una estructura de control para manejar excepciones, pero\n",
    "tiene una función llamada `setjmp` que se usa para definir un punto de retorno\n",
    "en el programa, y una función llamada `longjmp` que se usa para saltar a ese\n",
    "punto de retorno.\n",
    "Esencialmente, estas funciones implementan la estructura de control `try`\n",
    "mediante el uso de `goto`."
   ]
  },
  {
   "cell_type": "markdown",
   "metadata": {},
   "source": [
    "**Actividad** Convierte los ejemplos anteriores a JavaScript y pruébalos en el\n",
    "navegador."
   ]
  },
  {
   "cell_type": "markdown",
   "metadata": {},
   "source": [
    "#### Contextos de ejecución\n",
    "\n",
    "Python tiene una estructura de control llamada `with` que se usa para crear\n",
    "**contextos de ejecución**; estos son bloques de código en los que el entorno\n",
    "de referencia se modifica de manera temporal."
   ]
  },
  {
   "cell_type": "code",
   "execution_count": null,
   "metadata": {},
   "outputs": [],
   "source": [
    "# NO HAGAS ESTO!!!\n",
    "# Para abrir un archivo usamos la función open()\n",
    "archivo = open(\"img/variablespostit.svg\")\n",
    "contenido = archivo.read(100)\n",
    "archivo.close()  # A la banda se le olvida cerrar el archivo"
   ]
  },
  {
   "cell_type": "code",
   "execution_count": null,
   "metadata": {},
   "outputs": [],
   "source": [
    "# MEJOR HAZ ESTO EN SU LUGAR:\n",
    "with open(\"img/variablespostit.svg\") as archivo:\n",
    "    # El archivo se cierra automáticamente al salir del bloque with\n",
    "    contenido = archivo.read(100)"
   ]
  },
  {
   "cell_type": "markdown",
   "metadata": {},
   "source": [
    "### 2.4 Módulos y bibliotecas "
   ]
  },
  {
   "cell_type": "markdown",
   "metadata": {},
   "source": [
    "Toda vez que un lenguaje de programación permite definir funciones y subrutinas,\n",
    "los programas se conciben como funciones que se llaman unas a otras para\n",
    "realizar una tarea específica.\n",
    "Pero entonces veremos que unas funciones son demasiado comunes y que se usan en\n",
    "muchos programas, por lo que es conveniente empaquetarlas en un lugar accesible\n",
    "para todos los programas que las necesiten."
   ]
  },
  {
   "cell_type": "markdown",
   "metadata": {},
   "source": [
    "**Definición** Una **biblioteca** (*library*) es una colección de funciones y\n",
    "otros objetos denotables que se pueden incluir en programa mediante un sistema\n",
    "de importación.\n"
   ]
  },
  {
   "cell_type": "markdown",
   "metadata": {},
   "source": [
    "En lenguaje C, las bibliotecas se incluyen con la instrucción `#include`.\n",
    "Esto hace que el preprocesador del lenguaje copie y pegue el contenido de la\n",
    "biblioteca en el programa antes de compilarlo.\n",
    "En Python, cualquier archivo `foo.py` es una biblioteca que se puede importar\n",
    "con la instrucción `import foo`."
   ]
  },
  {
   "cell_type": "code",
   "execution_count": null,
   "metadata": {},
   "outputs": [],
   "source": [
    "# La biblioteca estándar de Python incluye un módulo math para\n",
    "# funciones matemáticas\n",
    "import math"
   ]
  },
  {
   "cell_type": "code",
   "execution_count": null,
   "metadata": {},
   "outputs": [],
   "source": [
    "help(math)"
   ]
  },
  {
   "cell_type": "markdown",
   "metadata": {},
   "source": [
    "Los módulos definen **espacios de nombres**, es decir, identificadores que\n",
    "agrupan otros identificadores.\n",
    "Por ejemplo, el módulo `math` de Python agrupa las funciones `sin`, `cos`,\n",
    "`tan`, etc. así como las constantes `pi` y `e`.\n",
    "Si `foo` es un identificador en el espacio de nombres `bar`, entonces se puede\n",
    "acceder a él como `bar.foo` (el punto es el *operador de acceso a miembros* en\n",
    "Python)."
   ]
  },
  {
   "cell_type": "code",
   "execution_count": null,
   "metadata": {},
   "outputs": [],
   "source": [
    "math.pi"
   ]
  },
  {
   "cell_type": "code",
   "execution_count": null,
   "metadata": {},
   "outputs": [],
   "source": [
    "math.cos(math.pi)"
   ]
  },
  {
   "cell_type": "markdown",
   "metadata": {},
   "source": [
    "También es posible importar solo algunos identificadores de un módulo."
   ]
  },
  {
   "cell_type": "code",
   "execution_count": null,
   "metadata": {},
   "outputs": [],
   "source": [
    "from math import cos, pi\n",
    "\n",
    "print(f\"{cos(pi)=}\")"
   ]
  },
  {
   "cell_type": "code",
   "execution_count": null,
   "metadata": {},
   "outputs": [],
   "source": [
    "from math import *  # Importa todo lo que hay en math"
   ]
  },
  {
   "cell_type": "code",
   "execution_count": null,
   "metadata": {},
   "outputs": [],
   "source": [
    "sin(pi/2)"
   ]
  },
  {
   "cell_type": "markdown",
   "metadata": {},
   "source": [
    "Los espacios de nombres son una manera de evitar conflictos entre\n",
    "identificadores, por ejemplo, si dos módulos `foo` y `bar` tienen una función\n",
    "llamada `baz`, entonces se puede acceder a ellas de manera distinta mediante\n",
    "`foo.baz` y `bar.baz`."
   ]
  },
  {
   "cell_type": "code",
   "execution_count": null,
   "metadata": {},
   "outputs": [],
   "source": [
    "import cmath  # Módulo de funciones matemáticas complejas\n",
    "\n",
    "math.cos\n",
    "cmath.cos"
   ]
  },
  {
   "cell_type": "markdown",
   "metadata": {},
   "source": [
    "Cuando los programadores hablan acerca de la *programación estructurada* muchas\n",
    "veces no sólo se refieren al uso de estructuras de control, sino a una\n",
    "*metodología* de programación que aprovecha la modularización para el diseño\n",
    "de programas que tiene las siguientes características:\n",
    "\n",
    "- **Diseño descendente de programas**: Los programas se diseñan como una\n",
    "  jerarquía de módulos en abstracto que iterativamente se refinan hasta llegar\n",
    "  a un programa concreto.\n",
    "- **Programación modular**: Las unidades del programa se agrupan en módulos que\n",
    "  tienen una única funcionalidad.\n",
    "  Es decir, todos los identificadores de un módulo tienen un propósito común.\n",
    "- **Identificadores significativos**: Los identificadores se eligen de manera\n",
    "  que sean descriptivos de su propósito.\n",
    "  Por ejemplo, `area_rectangulo` es un identificador más significativo que `A`.\n",
    "- **Documentación**: Todos los identificadores y módulos tienen documentación\n",
    "  que describe su propósito y cómo se usan.\n",
    "  El código tiene comentarios que explican el propósito de las partes más\n",
    "  complejas.\n",
    "- **Estructuras de control**: Se evita el código espagueti usando únicamente\n",
    "  las estructuras de control del lenguaje.\n",
    "- **Uso de estructuras de datos**: Como veremos en la siguiente sección, las\n",
    "  estructuras de datos son una abstracción de datos que se usan para agrupar\n",
    "  y abstraer datos complejos."
   ]
  },
  {
   "cell_type": "markdown",
   "metadata": {},
   "source": [
    "**Actividad** Escribir una biblioteca de cálculo de áreas y perímetros de\n",
    "figuras geométricas en Python."
   ]
  },
  {
   "cell_type": "code",
   "execution_count": null,
   "metadata": {},
   "outputs": [],
   "source": [
    "import geometria\n",
    "import matplotlib.pyplot as plt\n",
    "\n",
    "fig, ax = plt.subplots()\n",
    "geometria.dibujar_cuadrado(1, ax)\n",
    "ax.set_aspect(\"equal\", \"box\")"
   ]
  },
  {
   "cell_type": "markdown",
   "metadata": {},
   "source": [
    "**Actividad** Repetir el ejercicio anterior en C++."
   ]
  },
  {
   "cell_type": "markdown",
   "metadata": {},
   "source": [
    "## 3. Estructurado de datos\n",
    "\n",
    "\n",
    "### 3.1 Sistemas de tipos\n",
    "**Definición** Un **tipo de dato** es un conjunto de valores homogéneos que\n",
    "comparten una misma representación estructural en memoria, así como un conjunto\n",
    "de operaciones que se pueden realizar sobre ellos."
   ]
  },
  {
   "cell_type": "markdown",
   "metadata": {},
   "source": [
    "Los tipos de datos se clasifican en dos grandes grupos:\n",
    "- Los **tipos de datos escalares** son los tipos de datos más simples, que no\n",
    "  resultan de, ni permiten la, combinación de otros datos.\n",
    "  Por ejemplo, los números enteros, los números de punto flotante, los números\n",
    "  complejos, las cadenas de caracteres, etc.\n",
    "- Los **tipos de datos compuestos** son los que resultan de agrupar o combinar\n",
    "  varios datos de uno o más tipos.\n",
    "  Por ejemplo, las listas, los diccionarios, los conjuntos, etc."
   ]
  },
  {
   "cell_type": "markdown",
   "metadata": {},
   "source": [
    "**Definición** Un **sistema de tipos** es un conjunto de reglas que gobierna a\n",
    "los tipos de datos de un lenguaje de programación:\n",
    "- Los tipos de datos predefinidos en el lenguaje.\n",
    "- Los mecanismos para definir nuevos tipos de datos.\n",
    "- Las reglas para el control de tipos, es decir, su equivalencia, conversión e\n",
    "  inferencia.\n",
    "- Las restricciones dinámicas o estáticas que se imponen a los tipos de datos."
   ]
  },
  {
   "cell_type": "code",
   "execution_count": null,
   "metadata": {},
   "outputs": [],
   "source": [
    "# La función type devuelve el tipo de un objeto.\n",
    "# Estos son los tipos de datos primitivos en Python:\n",
    "print(f\"{type(128)=}\")\n",
    "print(f\"{type(3.1416)=}\")\n",
    "print(f\"{type('Hola')=}\")\n",
    "print(f\"{type(b'Hola')=}\")\n",
    "print(f\"{type(True)=}\")\n",
    "print(f\"{type(None)=}\")"
   ]
  },
  {
   "cell_type": "code",
   "execution_count": null,
   "metadata": {},
   "outputs": [],
   "source": [
    "# Los tipos de datos compuestos contienen otros objetos:\n",
    "print(f\"{type(1+1j)=}\")\n",
    "z = 1 + 1j\n",
    "print(f\"{type(z.real)=}\")\n",
    "print(f\"{type(z.imag)=}\")"
   ]
  },
  {
   "cell_type": "code",
   "execution_count": null,
   "metadata": {},
   "outputs": [],
   "source": [
    "# Las listas también son tipos de datos compuestos:\n",
    "lista = [1, 2, 3, []]\n",
    "lista[0]"
   ]
  },
  {
   "cell_type": "markdown",
   "metadata": {},
   "source": [
    "#### Tipados estático/dinámico y débil/fuerte\n",
    "\n",
    "**Definición**(tipado estático y dinámico)\n",
    "Un lenguaje de programación tiene **tipado estático** si las restricciones de\n",
    "tipos se verifican en tiempo de compilación, es decir, antes de ejecutar el\n",
    "programa, en caso contrario se dice que el lenguaje tiene **tipado dinámico**.\n",
    "\n",
    "**Definición**(tipado fuerte y débil)\n",
    "Un lenguaje de programación tiene **tipado fuerte** si no permite realizar\n",
    "operaciones entre tipos de datos incompatibles, es decir, si no permite\n",
    "conversión implícita entre tipos de datos, en caso contrario se dice que el\n",
    "lenguaje tiene **tipado débil**."
   ]
  },
  {
   "cell_type": "code",
   "execution_count": null,
   "metadata": {},
   "outputs": [],
   "source": [
    "# Python tiene tipado dinámico, pero fuerte.\n",
    "# Esto significa que las variables no tienen tipo, pero los objetos sí.\n",
    "\n",
    "foo = 42\n",
    "print(f\"{type(foo)=}\")\n",
    "foo = \"Hola\"\n",
    "print(f\"{type(foo)=}\")"
   ]
  },
  {
   "cell_type": "code",
   "execution_count": null,
   "metadata": {},
   "outputs": [],
   "source": [
    "foo = 42\n",
    "bar = \"8\"\n",
    "\n",
    "try:\n",
    "    foo + bar\n",
    "except TypeError as error:\n",
    "    print(\"Se produjo este error:\", error)"
   ]
  },
  {
   "cell_type": "markdown",
   "metadata": {},
   "source": [
    "**Actividad** Determinar si C++ y JavaScript tienen tipado estático o dinámico,\n",
    "y si tienen tipado fuerte o débil replicando nuestros ejemplos de Python."
   ]
  },
  {
   "cell_type": "markdown",
   "metadata": {},
   "source": [
    "### 3.2 Tipos de datos abstractos"
   ]
  },
  {
   "cell_type": "markdown",
   "metadata": {},
   "source": [
    "Al programador experimentado le interesa más el *comportamiento* y *significado*\n",
    "de los datos que su representación en memoria.\n",
    "Por ejemplo, al diseñar catálogo para una biblioteca, es más útil pensar en\n",
    "*libros* que tienen título, autor, fecha de publicación, etc., que en cadenas\n",
    "de caracteres, números enteros, etc.\n",
    "E inclusive algo tan simple como una fecha es la composición de tres números.\n"
   ]
  },
  {
   "cell_type": "code",
   "execution_count": null,
   "metadata": {},
   "outputs": [],
   "source": [
    "from datetime import date\n",
    "\n",
    "hoy = date.today()\n",
    "print(f\"{type(hoy)=}\")\n",
    "print(f\"{hoy=}\")\n",
    "print(hoy)"
   ]
  },
  {
   "cell_type": "code",
   "execution_count": null,
   "metadata": {},
   "outputs": [],
   "source": [
    "print(f\"{hoy.year=}\")\n",
    "print(f\"{hoy.month=}\")\n",
    "print(f\"{hoy.day=}\")"
   ]
  },
  {
   "cell_type": "code",
   "execution_count": null,
   "metadata": {},
   "outputs": [],
   "source": [
    "# ¿Cuántos días duró la guerra de independencia de México?\n",
    "inicio = date(1810, 9, 16)\n",
    "fin = date(1821, 9, 27)\n",
    "print(f\"{fin - inicio=}\")  # Operación entre fechas"
   ]
  },
  {
   "cell_type": "markdown",
   "metadata": {},
   "source": [
    "#### Estructuras de datos"
   ]
  },
  {
   "cell_type": "markdown",
   "metadata": {},
   "source": [
    "**Definición** Un **tipo de dato abstracto** es una clase de objetos cuyo\n",
    "comportamiento está definido por un conjunto de valores posibles así como las\n",
    "operaciones que se pueden realizar sobre ellos.\n",
    "\n",
    "En el caso de los lenguajes imperativos, los tipos de datos abstractos se\n",
    "implementan como **estructuras de datos**."
   ]
  },
  {
   "cell_type": "markdown",
   "metadata": {},
   "source": [
    "Python y JavaScript ofrecen la posibilidad de definir estructuras de datos\n",
    "mediante *diccionarios* y *objetos* respectivamente.\n",
    "Ambos tienen sintaxis similar, y se pueden usar para el mismo propósito."
   ]
  },
  {
   "cell_type": "code",
   "execution_count": null,
   "metadata": {},
   "outputs": [],
   "source": [
    "mi_libro = {}\n",
    "print(f\"{type(mi_libro)=}\")\n",
    "mi_libro[\"titulo\"] = \"1984\"\n",
    "mi_libro[\"autor\"] = \"George Orwell\"\n",
    "mi_libro[\"fecha\"] = {\"dia\": 8, \"mes\": 6, \"año\": 1949}\n",
    "print(f\"{mi_libro=}\")"
   ]
  },
  {
   "cell_type": "markdown",
   "metadata": {},
   "source": [
    "Para acceder a los elementos de un diccionario u objeto se usa el operador de\n",
    "subíndice `[]` con la clave del elemento que se desea acceder:"
   ]
  },
  {
   "cell_type": "code",
   "execution_count": null,
   "metadata": {},
   "outputs": [],
   "source": [
    "print(f'{mi_libro[\"autor\"]=}')\n",
    "print(f'{mi_libro[\"titulo\"]=}')\n",
    "print(f'{mi_libro[\"fecha\"][\"año\"]=}')"
   ]
  },
  {
   "cell_type": "markdown",
   "metadata": {},
   "source": [
    "Un diccionario es una herramienta muy apropiada cuando nuestra estructura de\n",
    "datos aún no está bien definida, a lo mejor algunos elementos son opcionales o\n",
    "se pueden agregar nuevos elementos en cualquier momento.\n",
    "En cambio si nuestra estructura de datos está bien definida, es mejor usar lo\n",
    "que en Python se conoce como *dataclass*:"
   ]
  },
  {
   "cell_type": "code",
   "execution_count": null,
   "metadata": {},
   "outputs": [],
   "source": [
    "from dataclasses import dataclass\n",
    "from datetime import date\n",
    "\n",
    "\n",
    "@dataclass\n",
    "class Libro:\n",
    "    \"\"\"Datos bibliográficos de un libro.\"\"\"\n",
    "    titulo: str\n",
    "    autor: str\n",
    "    fecha: date\n",
    "\n",
    "# Efectivamente, Libro es un nuevo tipo de dato:\n",
    "print(f\"{type(Libro)=}\")"
   ]
  },
  {
   "cell_type": "code",
   "execution_count": null,
   "metadata": {},
   "outputs": [],
   "source": [
    "# Para crear un Libro, usamos la estructura Libro como si fuese una\n",
    "# función:\n",
    "mi_libro = Libro(\"1984\", \"George Orwell\", date(1949, 6, 8))\n",
    "# El tipo de esta variable es Libro:\n",
    "print(f\"{type(mi_libro)=}\")\n",
    "print(f\"{mi_libro=}\")\n",
    "\n",
    "# Para acceder a los atributos de un objeto, usamos la notación de\n",
    "# punto; esto es, el operador de acceso a miembros:\n",
    "print(f\"{mi_libro.titulo=}\")\n",
    "print(f\"{mi_libro.autor=}\")\n",
    "print(f\"{mi_libro.fecha=}\")"
   ]
  },
  {
   "cell_type": "code",
   "execution_count": null,
   "metadata": {},
   "outputs": [],
   "source": [
    "from operator import attrgetter\n",
    "\n",
    "lista_de_libros = [\n",
    "    Libro(\"El señor de las moscas\", \"William Golding\", date(1954, 9, 17)),\n",
    "    Libro(\"El señor de los anillos\", \"J.R.R. Tolkien\", date(1954, 7, 29)),\n",
    "    Libro(\"Las crónicas de Narnia\", \"C.S. Lewis\", date(1950, 10, 16)),\n",
    "    Libro(\"Harry Potter y la piedra filosofal\", \"J.K. Rowling\", date(1997, 6, 26)),\n",
    "    Libro(\"El llano en llamas\", \"Juan Rulfo\", date(1953, 1, 1)),\n",
    "    Libro(\"El Zarco\", \"Ignacio Manuel Altamirano\", date(1901, 1, 1)),\n",
    "    Libro(\n",
    "        \"El ingenioso hidalgo Don Quijote de La Mancha\",\n",
    "        \"Miguel de Cervantes\",\n",
    "        date(1605, 1, 1),\n",
    "    ),\n",
    "]\n",
    "\n",
    "# Ordenamos la lista de libros por fecha y título\n",
    "lista_de_libros.sort(key=attrgetter(\"fecha\", \"titulo\"))\n",
    "for libro in lista_de_libros:\n",
    "    print(f\"{libro.fecha.year}: {libro.titulo}\")"
   ]
  },
  {
   "cell_type": "markdown",
   "metadata": {},
   "source": [
    "#### Clases"
   ]
  },
  {
   "cell_type": "markdown",
   "metadata": {},
   "source": [
    "Habrás notado que para definir una estructura de datos en Python usamos la\n",
    "palabra `class` en lugar de `def`.\n",
    "Esto es porque en Python no tiene soporte nativo para estructuras de datos, y\n",
    "en cambio usa un mecanismo más general llamado **clases**."
   ]
  },
  {
   "cell_type": "code",
   "execution_count": null,
   "metadata": {},
   "outputs": [],
   "source": [
    "class MiClase:\n",
    "    \"\"\"Ejemplo simple de una clase\"\"\"\n",
    "\n",
    "    i = 12345\n",
    "\n",
    "    def f(self):\n",
    "        return \"¡Hola, mundo!\""
   ]
  },
  {
   "cell_type": "markdown",
   "metadata": {},
   "source": [
    "**Definición** Una **clase** es la definición de un tipo de dato\n",
    "abstracto que consta de:\n",
    "\n",
    "- **Atributos**: Los datos que componen el tipo de dato.\n",
    "- **Métodos**: Las operaciones que se pueden realizar sobre los datos.\n",
    "\n",
    "La clase encapsula los atributos y métodos en un solo bloque de código.\n",
    "\n",
    "Un **objeto** es una instancia de una clase, es decir, un objeto es un valor\n",
    "concreto de un tipo de dato abstracto."
   ]
  },
  {
   "cell_type": "markdown",
   "metadata": {},
   "source": [
    "A veces es difícil distinguir entre una clase y un objeto, pero sirve mucho\n",
    "pensar en una clase como la abstracción ideal de todos los objetos de un mismo\n",
    "tipo.\n",
    "Mira a tu alrededor y verás que hay muchos objetos que son de la misma clase,\n",
    "como tu computadora:\n",
    "- Existe un concepto abstracto y general de computadora que solo existe en el\n",
    "  mundo de las ideas: es aquel en el que piensas cuando te dicen la palabra\n",
    "  *computadora*. Esta es una *clase* de objetos.\n",
    "- Pero también existen computadoras concretas, como la que estás usando para\n",
    "  leer este texto. Esta es una *instancia* concreta de la clase *computadora*,\n",
    "  y es un *objeto* de la clase *computadora*."
   ]
  },
  {
   "cell_type": "markdown",
   "metadata": {},
   "source": [
    "\n",
    "**Ejemplo** La clase `Libro` tiene los atributos `titulo`, `autor` y `fecha`, y los métodos `prestar` y `devolver`. Un libro como \"El señor\n",
    "de los anillos\" tiene muchas instancias distribuidas al rededor del\n",
    "mundo. Cada libro particular es un *objeto* de la clase *libro*."
   ]
  },
  {
   "cell_type": "code",
   "execution_count": null,
   "metadata": {},
   "outputs": [],
   "source": [
    "foo = MiClase()  # Instancia de la clase MiClase\n",
    "print(f\"{type(foo)=}\")\n",
    "print(f\"{foo.i=}\")\n",
    "print(f\"{type(foo.i)=}\")\n",
    "print(f\"{foo.f()=}\")"
   ]
  },
  {
   "cell_type": "markdown",
   "metadata": {},
   "source": [
    "#### Caso de estudio: La lista doblemente ligada"
   ]
  },
  {
   "cell_type": "markdown",
   "metadata": {},
   "source": [
    "Las estructuras de datos se suelen usar para representar datos muy complejos.\n",
    "Uno de los primeros y más importantes tipos de datos abstractos es la **lista**,\n",
    "que es una colección de datos ordenados.\n",
    "Naturalmente Python ya tiene un tipo de datos abstracto para listas, pero vamos\n",
    "a implementar una lista doblemente ligada para entender cómo funcionan las\n",
    "estructuras de datos en otros lenguajes."
   ]
  },
  {
   "cell_type": "markdown",
   "metadata": {},
   "source": [
    "Primero observemos que si partimos una lista de manera arbitraria en cualquier\n",
    "punto, obtenemos dos listas, más pequeñas, pero listas al fin y al cabo.\n",
    "Luego entonces, decimos que la lista es un objeto *recursivo*, es decir, que se\n",
    "puede definir en términos de sí misma:\n",
    "\n",
    "- Una lista es una lista vacía, o\n",
    "- una lista es un elemento seguido de una lista."
   ]
  },
  {
   "cell_type": "code",
   "execution_count": null,
   "metadata": {},
   "outputs": [],
   "source": [
    "from dataclasses import dataclass\n",
    "from typing import Any\n",
    "\n",
    "@dataclass\n",
    "class Lista:\n",
    "    elemento: Any\n",
    "    siguiente: \"Lista | None\" = None"
   ]
  },
  {
   "cell_type": "code",
   "execution_count": null,
   "metadata": {},
   "outputs": [],
   "source": [
    "frutas = Lista(\"Pera\", None)\n",
    "print(f\"{frutas=}\")\n",
    "frutas.siguiente = Lista(\"Manzana\", None)\n",
    "print(f\"{frutas=}\")\n",
    "frutas.siguiente.siguiente = Lista(\"Piña\", None)\n",
    "print(f\"{frutas=}\")"
   ]
  },
  {
   "cell_type": "markdown",
   "metadata": {},
   "source": [
    "A este tipo de estructura se le conoce como *lista enlazada* o *lista ligada*, \n",
    "pues cada elemento de la lista contiene un enlace al elemento siguiente.\n",
    "La *lista doblemente ligada* es una lista enlazada en la que cada elemento\n",
    "contiene un enlace al elemento siguiente y al anterior.\n",
    "Para facilitar la implementación, agregaremos un elemento ficticio *centinela*,\n",
    "que no contiene ningún dato, pero marca el inicio y el final de la lista. "
   ]
  },
  {
   "cell_type": "code",
   "execution_count": null,
   "metadata": {},
   "outputs": [],
   "source": [
    "from collections.abc import MutableSequence\n",
    "from dataclasses import dataclass\n",
    "from typing import Generic, Iterable, TypeVar\n",
    "\n",
    "T = TypeVar(\"T\")  # Variable de tipo\n",
    "\n",
    "\n",
    "@dataclass\n",
    "class Nodo(Generic[T]):\n",
    "    \"\"\"Nodo de una lista doblemente ligada.\"\"\"\n",
    "\n",
    "    valor: T\n",
    "    siguiente: \"Nodo | None\" = None\n",
    "    anterior: \"Nodo | None\" = None\n",
    "\n",
    "\n",
    "class ListaDoblementeLigada(MutableSequence[T]):\n",
    "    \"\"\"Lista doblemente ligada.\n",
    "\n",
    "    Esta clase implementa la interfaz de MutableSequence.\n",
    "\n",
    "    Atributos\n",
    "    ---------\n",
    "    centinela : Nodo\n",
    "        Nodo centinela de la lista.\n",
    "\n",
    "    Métodos\n",
    "    -------\n",
    "    append(valor)\n",
    "        Inserta el valor al final de la lista.\n",
    "    extend(iterable)\n",
    "        Extiende la lista con los elementos del iterable.\n",
    "    insert(indice, valor)\n",
    "        Inserta el valor en la posición indice.\n",
    "    pop()\n",
    "        Elimina el último elemento de la lista y lo devuelve.\n",
    "    remove(valor)\n",
    "        Elimina la primera ocurrencia de valor.\n",
    "    reverse()\n",
    "        Invierte el orden de los elementos de la lista.\n",
    "    \"\"\"\n",
    "\n",
    "    def __init__(self, iterable: Iterable[T] = ()) -> None:\n",
    "        # Crear el nodo centinela\n",
    "        self._centinela = Nodo(None, None, None)\n",
    "        self._centinela.siguiente = self._centinela\n",
    "        self._centinela.anterior = self._centinela\n",
    "        # Establecer la longitud inicial\n",
    "        self._longitud = 0\n",
    "        # Insertar los elementos del iterable\n",
    "        self.extend(iterable)\n",
    "\n",
    "    def _traer_nodo(self, indice: int) -> Nodo[T]:\n",
    "        \"\"\"Devuelve el nodo en la posición indice.\"\"\"\n",
    "        if indice >= len(self) or indice < -len(self):\n",
    "            raise IndexError(\"índice fuera de rango\")\n",
    "\n",
    "        nodo = self._centinela\n",
    "        if indice >= 0:\n",
    "            # Avanzamos indice + 1 veces\n",
    "            for _ in range(indice + 1):\n",
    "                nodo = nodo.siguiente\n",
    "        else:\n",
    "            # Retrocedemos -indice veces\n",
    "            for _ in range(-indice):\n",
    "                nodo = nodo.anterior\n",
    "        return nodo\n",
    "\n",
    "    def __getitem__(self, indice: int) -> T:\n",
    "        \"\"\"lista[indice]\n",
    "\n",
    "        Devuelve el elemento en la posición indice.\n",
    "        \"\"\"\n",
    "        return self._traer_nodo(indice).valor\n",
    "\n",
    "    def __setitem__(self, indice: int, valor: T) -> None:\n",
    "        \"\"\"lista[indice] = valor\n",
    "\n",
    "        Cambia el valor del elemento en la posición indice.\n",
    "        \"\"\"\n",
    "        nodo = self._traer_nodo(indice)\n",
    "        nodo.valor = valor\n",
    "\n",
    "    def __delitem__(self, indice: int) -> None:\n",
    "        \"\"\"del lista[indice]\n",
    "\n",
    "        Elimina el elemento en la posición indice.\n",
    "        \"\"\"\n",
    "        nodo = self._traer_nodo(indice)\n",
    "        nodo.anterior.siguiente = nodo.siguiente\n",
    "        nodo.siguiente.anterior = nodo.anterior\n",
    "        self._longitud -= 1\n",
    "\n",
    "    def __len__(self) -> int:\n",
    "        \"\"\"len(lista)\n",
    "\n",
    "        Devuelve el número de elementos en la lista.\n",
    "        \"\"\"\n",
    "        return self._longitud\n",
    "\n",
    "    def insert(self, indice: int, valor: T) -> None:\n",
    "        \"\"\"lista.insert(indice, valor)\n",
    "\n",
    "        Inserta el valor en la posición indice.\n",
    "        \"\"\"\n",
    "        if indice >= len(self):  # Insertamos al final\n",
    "            nodo = self._centinela\n",
    "        elif indice < -len(self):  # Insertamos al principio\n",
    "            nodo = self._centinela.siguiente\n",
    "        else:  # Insertamos en medio\n",
    "            nodo = self._traer_nodo(indice)\n",
    "\n",
    "        nuevo = Nodo(valor, siguiente=nodo, anterior=nodo.anterior)\n",
    "        nodo.anterior.siguiente = nuevo\n",
    "        nodo.anterior = nuevo\n",
    "        self._longitud += 1\n",
    "    \n",
    "    def __repr__(self) -> str:\n",
    "        \"\"\"Devuelve una representación de la lista.\"\"\"\n",
    "        elementos = list(self)\n",
    "        nombre_clase = type(self).__name__\n",
    "        return f\"{nombre_clase}({elementos})\""
   ]
  },
  {
   "cell_type": "markdown",
   "metadata": {},
   "source": [
    "Vale la pena dedicar un rato a estudiar este código.\n",
    "- En la línea 1 se importa una clase abstracta `MutableSequence`.\n",
    "  Todas los objetos de Python que se comportan como una lista implementan esta\n",
    "  clase abstracta.\n",
    "  Esencialmente cuando intentamos crear una nueva clase de lista podemos heredar\n",
    "  de `MutableSequence`; esta clase nos solicita que implementemos unas cuántas\n",
    "  operaciones básicas, como obtener, insertar y eliminar un elemento, y a cambio\n",
    "  nos da todas las demás operaciones que se pueden realizar sobre una lista,\n",
    "  como invertir, anexar, etc.\n",
    "- En la línea 5 se define una **variable de tipo** `T`, que será usada más\n",
    "  adelante para definir el tipo de dato de los elementos de la lista.\n",
    "  Esta variable no se usa en tiempo de ejecución, sino que es una anotación que\n",
    "  los humanos, los editores de texto y sus herramientas de análisis de código\n",
    "  pueden usar para determinar si el código es correcto.\n",
    "- Las líneas 8 a 14 definen la clase `Nodo` que representa un elemento de la\n",
    "  lista.\n",
    "  Cada nodo contiene un dato, y dos enlaces: uno al nodo siguiente y otro al\n",
    "  nodo anterior.\n",
    "- La línea 17 declara que la clase `ListaDoblementeLigada` hereda de\n",
    "  `MutableSequence`; esto significa que la clase `ListaDoblementeLigada` tiene\n",
    "  todos los métodos que tiene una lista común.\n",
    "- Las líneas 43 a 51 definen el método `__init__` que se usa para inicializar\n",
    "  (o sea, darle valores iniciales) a un nuevo objeto de nuestra clase.\n",
    "  En nuestro caso particular se usa para inicializar la lista vacía con un nodo\n",
    "  centinela, declarar que tiene cero elementos, y rellenar la lista con los\n",
    "  elementos que se le pasan como argumento `iterable`.\n",
    "  Nótese que el método `extend` no está definido, pero se hereda de la clase\n",
    "  `MutableSequence`.\n",
    "- Las líneas 53 a 67 definen a un método para buscar un nodo por su posición en\n",
    "  la lista; este método se usa para implementar los demás métodos de la clase.\n",
    "- De la línea 69 hasta la 116 se definen los métodos que se necesitan para\n",
    "  implementar la clase `MutableSequence`: `__getitem__`, `__setitem__`,\n",
    "  `__delitem__`, `__len__`, e `insert`; estos métodos sobrecargan los operadores\n",
    "  de subíndice `[]`, asignación `[]=`, eliminación `del[]`, e implementan la\n",
    "  función `len`, y el método `insert` respectivamente. \n",
    "- Finalmente de la línea 118 en adelante se define el método `__repr__` que se\n",
    "  usa para representar a la lista como una cadena de caracteres.\n",
    "  Este método se llama cuando se usa la función `repr` o la instrucción `print`."
   ]
  },
  {
   "cell_type": "code",
   "execution_count": null,
   "metadata": {},
   "outputs": [],
   "source": [
    "foo = ListaDoblementeLigada([0, 1, 2, 3])\n",
    "print(f\"{type(foo)=}\")"
   ]
  },
  {
   "cell_type": "code",
   "execution_count": null,
   "metadata": {},
   "outputs": [],
   "source": [
    "foo.extend([4, 5, 6])\n",
    "print(f\"{foo=}\")"
   ]
  },
  {
   "cell_type": "code",
   "execution_count": null,
   "metadata": {},
   "outputs": [],
   "source": [
    "foo.reverse()\n",
    "print(f\"{foo=}\")"
   ]
  },
  {
   "cell_type": "markdown",
   "metadata": {},
   "source": [
    "#### Manejo de memoria y recolección de basura"
   ]
  },
  {
   "cell_type": "code",
   "execution_count": null,
   "metadata": {},
   "outputs": [],
   "source": [
    "from collections.abc import Sequence\n",
    "\n",
    "NULL = -1\n",
    "\n",
    "\n",
    "class Memoria(Sequence[int]):\n",
    "    \"\"\"\n",
    "    Memoria dinámica con asignación contigua de bloques.\n",
    "\n",
    "    La memoria se representa como un arreglo de enteros. Algunos de\n",
    "    estos enteros son direcciones de memoria, y otros son datos. Los\n",
    "    datos se almacenan en bloques contiguos de memoria, y las\n",
    "    direcciones de memoria apuntan al primer elemento de cada bloque.\n",
    "\n",
    "    Los bloques libres se enlazan en una lista enlazada simple. Cada\n",
    "    bloque libre contiene la dirección del siguiente bloque libre, o\n",
    "    NULL si es el último bloque libre.\n",
    "    \"\"\"\n",
    "    def __init__(self, tamano_memoria: int, tamano_bloque: int) -> None:\n",
    "        self._tamano_memoria = tamano_memoria\n",
    "        self._tamano_bloque = tamano_bloque\n",
    "        self._datos: list[int] = [0] * tamano_memoria\n",
    "        self._libre: int  # Dirección del primer bloque libre\n",
    "        self.inicializar()\n",
    "    \n",
    "    @property\n",
    "    def tamano_memoria(self) -> int:\n",
    "        \"\"\"Devuelve el tamaño de la memoria.\"\"\"\n",
    "        return self._tamano_memoria\n",
    "    \n",
    "    @property\n",
    "    def tamano_bloque(self) -> int:\n",
    "        \"\"\"Devuelve el tamaño de los bloques de memoria.\"\"\"\n",
    "        return self._tamano_bloque\n",
    "\n",
    "    def inicializar(self) -> None:\n",
    "        \"\"\"Inicializa la memoria.\"\"\"\n",
    "        for i in range(0, self._tamano_memoria, self._tamano_bloque):\n",
    "            self._datos[i] = i + self._tamano_bloque\n",
    "        self._datos[i] = NULL\n",
    "        self._libre = 0\n",
    "\n",
    "    def malloc(self) -> int:\n",
    "        \"\"\"Asigna un bloque de memoria y devuelve su dirección.\"\"\"\n",
    "        if self._libre == NULL:\n",
    "            raise MemoryError(\"No hay memoria disponible.\")\n",
    "        direccion = self._libre\n",
    "        self._libre = self._datos[direccion]\n",
    "        return direccion\n",
    "\n",
    "    def free(self, direccion: int) -> None:\n",
    "        \"\"\"Libera un bloque de memoria.\"\"\"\n",
    "        if not (0 <= direccion < self._tamano_memoria):\n",
    "            raise ValueError(\"Dirección de memoria inválida.\")\n",
    "        self._datos[direccion] = self._libre\n",
    "        self._libre = direccion\n",
    "\n",
    "    def __len__(self) -> int:\n",
    "        \"\"\"Devuelve el tamaño de la memoria.\"\"\"\n",
    "        return self.tamano_memoria\n",
    "\n",
    "    def __getitem__(self, direccion: int) -> int:\n",
    "        \"\"\"Devuelve el valor almacenado en la dirección de memoria.\"\"\"\n",
    "        return self._datos[direccion]\n",
    "\n",
    "    def __setitem__(self, direccion: int, valor: int) -> None:\n",
    "        \"\"\"Almacena el valor en la dirección de memoria.\"\"\"\n",
    "        self._datos[direccion] = int(valor)"
   ]
  },
  {
   "cell_type": "code",
   "execution_count": null,
   "metadata": {},
   "outputs": [],
   "source": [
    "mem = Memoria(256, 3)\n",
    "print(list(mem))"
   ]
  },
  {
   "cell_type": "code",
   "execution_count": null,
   "metadata": {},
   "outputs": [],
   "source": [
    "centinela = mem.malloc()  # Apuntador a memoria asignada\n",
    "print(f\"{centinela=}\")"
   ]
  },
  {
   "cell_type": "code",
   "execution_count": null,
   "metadata": {},
   "outputs": [],
   "source": [
    "mem[centinela] = centinela # El siguiente del centinela es sí mismo\n",
    "mem[centinela + 1] = NULL\n",
    "mem[centinela + 2] = centinela # El anterior al centinela es sí mismo\n",
    "print(list(mem))"
   ]
  },
  {
   "cell_type": "code",
   "execution_count": null,
   "metadata": {},
   "outputs": [],
   "source": [
    "def agregar_elemento(memoria: Memoria, valor: int) -> None:\n",
    "    \"\"\"Agrega un elemento al final de la lista.\"\"\"\n",
    "    ultimo = memoria[centinela + 2]  # Dirección del último elemento\n",
    "    nuevo = memoria.malloc()  # Dirección del nuevo elemento\n",
    "    memoria[nuevo] = centinela  # El siguiente del nuevo es el centinela\n",
    "    memoria[nuevo + 1] = valor\n",
    "    memoria[nuevo + 2] = ultimo  # El anterior del nuevo es el último\n",
    "    memoria[ultimo] = nuevo  # El siguiente del último es el nuevo\n",
    "    memoria[centinela + 2] = nuevo  # El anterior del centinela es el nuevo"
   ]
  },
  {
   "cell_type": "code",
   "execution_count": null,
   "metadata": {},
   "outputs": [],
   "source": [
    "agregar_elemento(mem, 2)\n",
    "agregar_elemento(mem, 3)\n",
    "agregar_elemento(mem, 5)\n",
    "agregar_elemento(mem, 7)\n",
    "agregar_elemento(mem, 11)\n",
    "print(list(mem))"
   ]
  },
  {
   "cell_type": "code",
   "execution_count": null,
   "metadata": {},
   "outputs": [],
   "source": [
    "for i in range(0, len(mem) - 2, mem.tamano_bloque):\n",
    "    print(f\"{i}: {mem[i], mem[i+1], mem[i+2]}\")"
   ]
  },
  {
   "cell_type": "markdown",
   "metadata": {},
   "source": [
    "## 4. Programación orientada a objetos"
   ]
  },
  {
   "cell_type": "markdown",
   "metadata": {},
   "source": [
    "### 4.1 Los cuatro pilares de la programación orientada a objetos"
   ]
  },
  {
   "cell_type": "markdown",
   "metadata": {},
   "source": [
    "#### Abstracción\n",
    "\n",
    "Una clase abstrae un concepto del mundo real en un tipo de dato abstracto.\n",
    "Por ejemplo, la clase `Libro` abstrae el concepto de libro en un tipo de dato que tiene atributos como `titulo`, `autor` y `fecha`, y métodos como `prestar` y `devolver`.\n"
   ]
  },
  {
   "cell_type": "markdown",
   "metadata": {},
   "source": [
    "#### Encapsulamiento\n",
    "\n",
    "Una clase encapsula datos y métodos exponiendo al usuario únicamente\n",
    "los que son necesarios para usar el tipo de dato abstracto."
   ]
  },
  {
   "cell_type": "markdown",
   "metadata": {},
   "source": [
    "#### Herencia\n",
    "\n",
    "Las clases pueden compartir atributos y métodos mediante la herencia,\n",
    "es decir, una clase puede heredar de otra clase y extenderla con nuevos\n",
    "atributos y métodos."
   ]
  },
  {
   "cell_type": "markdown",
   "metadata": {},
   "source": [
    "#### Polimorfismo\n",
    "\n",
    "El polimorfismo es la capacidad de que un método tenga diferentes\n",
    "implementaciones dependiendo del tipo de objeto que lo llama."
   ]
  },
  {
   "cell_type": "markdown",
   "metadata": {},
   "source": [
    "### 4.2 Clases vs. objetos\n",
    "\n",
    "Una clase es una plantilla (o molde) para crear objetos concretos.\n",
    "En particular, existen dos métodos especiales que se consideran\n",
    "en los lenguajes orientados a objetos:"
   ]
  },
  {
   "cell_type": "markdown",
   "metadata": {},
   "source": [
    "#### El constructor y el destructor\n",
    "\n",
    "El **constructor** es el método que se llama cuando se crea un objeto,\n",
    "sirve generalmente para darle valores iniciales que sean válidos al objeto.\n",
    "En Python, el constructor se llama *inicializador* y se denota por el identificador `__init__`.\n",
    "\n",
    "El **destructor** es el método que se llama justo antes de que se destruya\n",
    "un objeto, sirve generalmente para liberar recursos (memoria, archivos o dispositivos) que el objeto haya usado.\n",
    "En Python, el destructor se llama *finalizador* y se denota por el identificador `__del__`."
   ]
  },
  {
   "cell_type": "code",
   "execution_count": null,
   "metadata": {},
   "outputs": [],
   "source": [
    "class A:\n",
    "    def __init__(self, x, y):\n",
    "        self.x = x\n",
    "        self.y = y\n",
    "        print(f\"Inicializando objeto {id(self)}.\")\n",
    "    \n",
    "    def __del__(self):\n",
    "        print(f\"Finalizando objeto {id(self)}.\")"
   ]
  },
  {
   "cell_type": "code",
   "execution_count": null,
   "metadata": {},
   "outputs": [],
   "source": [
    "foo = A(1, 2)\n",
    "foo.x\n",
    "bar = foo\n",
    "del foo\n",
    "del bar"
   ]
  },
  {
   "cell_type": "markdown",
   "metadata": {},
   "source": [
    "#### Sobrecarga de operadores"
   ]
  },
  {
   "cell_type": "code",
   "execution_count": null,
   "metadata": {},
   "outputs": [],
   "source": [
    "class Vector2D:\n",
    "    def __init__(self, x, y):\n",
    "        self.x = x\n",
    "        self.y = y\n",
    "    \n",
    "    def __add__(self, other):\n",
    "        if not isinstance(other, Vector2D):\n",
    "            raise TypeError(f\"No sé sumar Vector2D con {type(other)}\")\n",
    "        return Vector2D(self.x + other.x, self.y + other.y)\n",
    "    \n",
    "    def __mul__(self, other):\n",
    "        if not isinstance(other, (int, float)):\n",
    "            return NotImplemented\n",
    "        return Vector2D(other*self.x, other*self.y)\n",
    "    \n",
    "    def __rmul__(self, other):\n",
    "        return self*other\n",
    "\n",
    "    def __repr__(self) -> str:\n",
    "        return f\"Vector2D({self.x}, {self.y})\""
   ]
  },
  {
   "cell_type": "code",
   "execution_count": null,
   "metadata": {},
   "outputs": [],
   "source": [
    "punto1 = Vector2D(1, 1)\n",
    "punto2 = Vector2D(3, 4)\n",
    "resultado = 3*punto1 + punto2\n",
    "resultado"
   ]
  },
  {
   "cell_type": "markdown",
   "metadata": {},
   "source": [
    "#### Atributos y métodos de clase"
   ]
  },
  {
   "cell_type": "code",
   "execution_count": null,
   "metadata": {},
   "outputs": [],
   "source": [
    "import math\n",
    "class Vector2D:\n",
    "    orden_norma = 2\n",
    "\n",
    "    def __init__(self, x, y):\n",
    "        self.x = x\n",
    "        self.y = y\n",
    "    \n",
    "    def __add__(self, other):\n",
    "        if not isinstance(other, Vector2D):\n",
    "            raise TypeError(f\"No sé sumar Vector2D con {type(other)}\")\n",
    "        return Vector2D(self.x + other.x, self.y + other.y)\n",
    "    \n",
    "    def __mul__(self, other):\n",
    "        if not isinstance(other, (int, float)):\n",
    "            return NotImplemented\n",
    "        return Vector2D(other*self.x, other*self.y)\n",
    "    \n",
    "    def __rmul__(self, other):\n",
    "        return self*other\n",
    "\n",
    "    def __repr__(self) -> str:\n",
    "        return f\"Vector2D({self.x}, {self.y})\"\n",
    "    \n",
    "    def norma(self):\n",
    "        p = Vector2D.orden_norma\n",
    "        return math.pow(abs(self.x)**p + abs(self.y)**p, 1/p)"
   ]
  },
  {
   "cell_type": "markdown",
   "metadata": {},
   "source": [
    "### 4.3 Herencia"
   ]
  },
  {
   "cell_type": "code",
   "execution_count": null,
   "metadata": {},
   "outputs": [],
   "source": [
    "class AveDeEstanque:\n",
    "    def flotar(self):\n",
    "        print(f\"El ave {id(self)} flota.\")\n",
    "    \n",
    "    def hacer_sonido(self):\n",
    "        ...\n",
    "    \n",
    "    def volar(self):\n",
    "        ..."
   ]
  },
  {
   "cell_type": "code",
   "execution_count": null,
   "metadata": {},
   "outputs": [],
   "source": [
    "class Pato(AveDeEstanque):\n",
    "    def hacer_sonido(self):\n",
    "        print(\"¡Cuac!\")\n",
    "    \n",
    "    def volar(self):\n",
    "        print(f\"El pato {id(self)} vuela.\")\n",
    "\n",
    "class PatoDeGoma(AveDeEstanque):\n",
    "    def hacer_sonido(self):\n",
    "        print(\"¡Pip!\")\n",
    "    \n",
    "    def volar(self):\n",
    "        print(f\"El pato {id(self)} no vuela.\")\n",
    "\n",
    "class Ganso(AveDeEstanque):\n",
    "    def hacer_sonido(self):\n",
    "        print(\"Grac\")\n",
    "    \n",
    "    def volar(self):\n",
    "        print(f\"El ganso {id(self)} vuela.\")\n"
   ]
  },
  {
   "cell_type": "code",
   "execution_count": null,
   "metadata": {},
   "outputs": [],
   "source": [
    "lucas = Pato()\n",
    "lucas.flotar()"
   ]
  },
  {
   "cell_type": "code",
   "execution_count": null,
   "metadata": {},
   "outputs": [],
   "source": [
    "lucas.hacer_sonido()"
   ]
  },
  {
   "cell_type": "code",
   "execution_count": null,
   "metadata": {},
   "outputs": [],
   "source": [
    "felipe = PatoDeGoma()\n",
    "felipe.flotar()\n",
    "felipe.hacer_sonido()"
   ]
  },
  {
   "cell_type": "markdown",
   "metadata": {},
   "source": [
    "#### Clases abstractas e interfaces"
   ]
  },
  {
   "cell_type": "code",
   "execution_count": null,
   "metadata": {},
   "outputs": [],
   "source": [
    "from abc import ABCMeta, abstractmethod\n",
    "class AveDeEstanque(metaclass=ABCMeta):\n",
    "    def flotar(self):\n",
    "        print(f\"El ave {id(self)} flota.\")\n",
    "    \n",
    "    @abstractmethod\n",
    "    def hacer_sonido(self):\n",
    "        ...\n",
    "    \n",
    "    @abstractmethod\n",
    "    def volar(self):\n",
    "        ...\n",
    "\n",
    "try:\n",
    "    pepito = AveDeEstanque()\n",
    "except TypeError as error:\n",
    "    print(\"Se produjo este error:\", error)"
   ]
  },
  {
   "cell_type": "code",
   "execution_count": null,
   "metadata": {},
   "outputs": [],
   "source": [
    "class Pato(AveDeEstanque):\n",
    "    def hacer_sonido(self):\n",
    "        print(\"¡Cuac!\")\n",
    "    \n",
    "    def volar(self):\n",
    "        print(f\"El pato {id(self)} vuela.\")\n",
    "\n",
    "pepito = Pato()"
   ]
  }
 ],
 "metadata": {
  "kernelspec": {
   "display_name": ".venv",
   "language": "python",
   "name": "python3"
  },
  "language_info": {
   "codemirror_mode": {
    "name": "ipython",
    "version": 3
   },
   "file_extension": ".py",
   "mimetype": "text/x-python",
   "name": "python",
   "nbconvert_exporter": "python",
   "pygments_lexer": "ipython3",
   "version": "3.11.2"
  },
  "orig_nbformat": 4
 },
 "nbformat": 4,
 "nbformat_minor": 2
}
