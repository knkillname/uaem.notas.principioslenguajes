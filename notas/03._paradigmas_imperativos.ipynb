{
 "cells": [
  {
   "cell_type": "markdown",
   "metadata": {},
   "source": [
    "# Programación imperativa\n",
    "\n",
    "En general, existen dos maneras fundamentalmente distintas de programar:\n",
    "\n",
    "- **Programación imperativa**: los programas consisten en series de instrucciones\n",
    "  que indican a la computadora qué hacer y cómo hacerlo.\n",
    "- **Programación declarativa**: los programas consisten en descripciones de hechos\n",
    "  y problemas que deben ser resueltos.\n",
    "  El cómo se resuelven estos problemas queda a cargo de la computadora.\n",
    "\n",
    "Históricamente los lenguajes de programación han evolucionado mediante\n",
    "abstracciones que permiten expresar conceptos de manera más simple comenzando\n",
    "por la máquina y terminando en el problema a resolver, de manera que los\n",
    "lenguajes imperativos han sido los más utilizados hasta el momento, aunque\n",
    "últimamente los lenguajes declarativos han ganado gran popularidad.\n",
    "\n",
    "En este módulo vamos a aprender diferentes conceptos de la programación\n",
    "imperativa y en el próximo módulo vamos a aprender los conceptos de la\n",
    "programación declarativa; solo hay que tomar en cuenta que el buen programador\n",
    "usa ambos tipos de lenguajes y sus distintos paradigmas como una caja de\n",
    "herramientas para resolver los problemas que se le presenten."
   ]
  },
  {
   "cell_type": "markdown",
   "metadata": {},
   "source": [
    "## 1. Identificadores y el entorno de referencia"
   ]
  },
  {
   "cell_type": "markdown",
   "metadata": {},
   "source": [
    "### 1.1. Identificadores y objetos denotables"
   ]
  },
  {
   "cell_type": "markdown",
   "metadata": {},
   "source": [
    "\n",
    "Quizá la abstracción de datos más importante que se ha hecho en la programación\n",
    "imperativa es la de **identificador** o **nombre**.\n",
    "Los identificadores son cadenas de caracteres que se utilizan para referirse a\n",
    "**objetos denotables** en el lenguaje de programación.\n",
    "\n",
    "Un objeto denotable es básicamente cualquier cosa que se pueda construir en\n",
    "lenguaje de programación, por ejemplo, un número, una cadena de caracteres, una\n",
    "lista, una función, etc. siempre que el lenguaje te permita construirlo y\n",
    "asignarle un nombre.\n",
    "\n",
    "Es importante mencionar que los identificadores no son los objetos que denotan,\n",
    "sino que son una manera de referirse a ellos. \n",
    "\n",
    "**Notación** Usamos las *metavariables* (variables que representan variables)\n",
    "`foo`, `bar`, `baz`, `qux`, `quux`, para referirnos a identificadores arbitrarios.\n",
    "Estas son de uso común en la literatura de programación."
   ]
  },
  {
   "cell_type": "markdown",
   "metadata": {},
   "source": [
    "**Ejemplo** En Python los nombres son *etiquetas* que se colocan sobre objetos.\n",
    "Puedes pensar en ellas como notas post-it que se pegan sobre los objetos que \n",
    "identifican, y que además los puedes cambiar de objeto cuando quieras.\n",
    "\n",
    "<img src=\"img/variablespostit.svg\" height=\"256\" />\n"
   ]
  },
  {
   "cell_type": "code",
   "execution_count": null,
   "metadata": {},
   "outputs": [],
   "source": [
    "# En Python todos los objetos denotables tienen un número identificador\n",
    "# único mientras existen en la memoria.\n",
    "id(\"Hola\")"
   ]
  },
  {
   "cell_type": "markdown",
   "metadata": {},
   "source": [
    "Cuando dos variables se refieren al mismo objeto, se dice que son *alias* una\n",
    "de la otra."
   ]
  },
  {
   "cell_type": "code",
   "execution_count": null,
   "metadata": {},
   "outputs": [],
   "source": [
    "# Colocamos foo sobre la cadena \"Jamón\" y bar sobre la misma cadena\n",
    "bar = \"Calculadora\"\n",
    "print(f\"{bar=} hace referencia al objeto {id(bar)=}\")\n",
    "foo = \"Jamón\"\n",
    "print(f\"{foo=} hace referencia al objeto {id(foo)=}\")\n",
    "bar = foo  # bar es un alias de foo\n",
    "print(f\"{bar=} hace referencia al objeto {id(bar)=}\")\n",
    "# Movemos foo a otra cadena\n",
    "foo = \"Monja\"\n",
    "print(f\"{foo=} hace referencia al objeto {id(foo)=}\")\n",
    "print(f\"{bar=} hace referencia al objeto {id(bar)=}\")\n",
    "bar = \"Tortas\"  # Aquí ya no hay referencias al jamón\n",
    "bar = \"Jamón\"\n",
    "print(f\"{bar=} hace referencia al objeto {id(bar)=}\")"
   ]
  },
  {
   "cell_type": "code",
   "execution_count": null,
   "metadata": {},
   "outputs": [],
   "source": [
    "# Este es un error muy común entre los programadores novatos que aún no\n",
    "# entienden cómo funciona la asignación de variables en Python.\n",
    "foo = [1, 2, 3]\n",
    "print(f\"{foo=}\")\n",
    "\n",
    "bar = foo  # bar hace referencia la misma lista que foo\n",
    "print(f\"{bar=}\")\n",
    "\n",
    "print(\"Modificamos foo...\")\n",
    "foo.append(4)\n",
    "print(f\"{foo=}\")\n",
    "print(f\"{bar=}\")  # bar también se modifica!"
   ]
  },
  {
   "cell_type": "markdown",
   "metadata": {},
   "source": [
    "En los lenguajes de programación imperativos no cualquier cadena de caracteres\n",
    "es un identificador ni todos los identificadores son variables.\n",
    "- Los identificadores están delimitados por la sintaxis del lenguaje.\n",
    "- Las palabras reservadas del lenguaje no pueden ser usadas como\n",
    "  identificadores.\n",
    "- Algunos identificadores son provistos por el lenguaje y en general no se\n",
    "  pueden modificar.\n"
   ]
  },
  {
   "cell_type": "code",
   "execution_count": null,
   "metadata": {},
   "outputs": [],
   "source": [
    "# En Python, los identificadores pueden tener letras UNICODE, dígitos y\n",
    "# guiones bajos, pero no pueden comenzar con un dígito.\n",
    "perrito1 = \"🐶\"\n",
    "_toro_malo95 = \"🐱\"\n",
    "δ = 0.0001\n",
    "未知 = [...]"
   ]
  },
  {
   "cell_type": "code",
   "execution_count": null,
   "metadata": {},
   "outputs": [],
   "source": [
    "# Estas variables están prohibidas en Python. Producen un SyntaxError\n",
    "# 1perrito = \"Hola\"\n",
    "# 🐶 = \"Guau\""
   ]
  },
  {
   "cell_type": "markdown",
   "metadata": {},
   "source": [
    "A pesar de que en teoría es posible que un lenguaje de programación permita\n",
    "usar cualquier cadena de caracteres como identificador, en la práctica solo se\n",
    "recomienda usar identificadores escritos en inglés."
   ]
  },
  {
   "cell_type": "markdown",
   "metadata": {},
   "source": [
    "Python tiene 35 palabras reservadas que no pueden ser usadas como\n",
    "identificadores:\n",
    "1. `False`\n",
    "1. `None`\n",
    "1. `True`\n",
    "1. `and`\n",
    "1. `as`\n",
    "1. `assert`\n",
    "1. `async`\n",
    "1. `await`\n",
    "1. `break`\n",
    "1. `class`\n",
    "1. `continue`\n",
    "1. `def`\n",
    "1. `del`\n",
    "1. `elif`\n",
    "1. `else`\n",
    "1. `except`\n",
    "1. `finally`\n",
    "1. `for`\n",
    "1. `from`\n",
    "1. `global`\n",
    "1. `if`\n",
    "1. `import`\n",
    "1. `in`\n",
    "1. `is`\n",
    "1. `lambda`\n",
    "1. `nonlocal`\n",
    "1. `not`\n",
    "1. `or`\n",
    "1. `pass`\n",
    "1. `raise`\n",
    "1. `return`\n",
    "1. `try`\n",
    "1. `while`\n",
    "1. `with`\n",
    "1. `yield`"
   ]
  },
  {
   "cell_type": "markdown",
   "metadata": {},
   "source": [
    "**Definición**: El conjunto de identificadores accesibles desde una instrucción\n",
    "concreta durante la ejecución de un programa es su **entorno de referencia** o\n",
    "simplemente el **entorno**."
   ]
  },
  {
   "cell_type": "code",
   "execution_count": null,
   "metadata": {},
   "outputs": [],
   "source": [
    "# En Python, el entorno de referencia es un diccionario que mapea\n",
    "# nombres de variables locales y globales a objetos.\n",
    "globals() | locals()"
   ]
  },
  {
   "cell_type": "markdown",
   "metadata": {},
   "source": [
    "La *declaración* de un identificador es la instrucción que lo introduce en el\n",
    "entorno de referencia.\n",
    "Existen dos tipos:\n",
    "- La *declaración implícita* es la que se hace al asignarle un valor a un\n",
    "  identificador por primera vez.\n",
    "- La *declaración explícita* es la que se hace con una instrucción especial\n",
    "  para declarar identificadores, como `var` en JavaScript."
   ]
  },
  {
   "cell_type": "code",
   "execution_count": null,
   "metadata": {},
   "outputs": [],
   "source": [
    "# Python usa la declaración implícita:\n",
    "baz = 42\n",
    "print(f\"{baz=}\")"
   ]
  },
  {
   "cell_type": "markdown",
   "metadata": {},
   "source": [
    "| Lenguaje   | Tipo de declaración | Ejemplo      |\n",
    "|------------|---------------------|--------------|\n",
    "| Python     | Implícita           | `x = 1`      |\n",
    "| C++        | Explícita           | `int x = 1;` |\n",
    "| Java       | Explícita           | `int x = 1;` |\n",
    "| JavaScript | Implícita           | `x = 1`      |\n",
    "| R          | Implícita           | `x <- 1`     |"
   ]
  },
  {
   "cell_type": "markdown",
   "metadata": {},
   "source": [
    "Algunos lenguajes también ofrecen una instrucción para *eliminar* un\n",
    "identificador del entorno de referencia.\n",
    "Por ejemplo, Python usa `del foo` para eliminar el identificador `foo`, y\n",
    "JavaScript usa `delete foo`."
   ]
  },
  {
   "cell_type": "code",
   "execution_count": null,
   "metadata": {},
   "outputs": [],
   "source": [
    "foo = \"Defenestrar\"\n",
    "bar = foo\n",
    "del foo  # Borramos el nombre foo, no el objeto al que hacía referencia\n",
    "# print(foo)  # Esta instrucción produce un NameError\n",
    "print(bar)  # bar sigue existiendo"
   ]
  },
  {
   "cell_type": "markdown",
   "metadata": {},
   "source": [
    "## 2. Estructuras de control y las reglas de alcance"
   ]
  },
  {
   "cell_type": "markdown",
   "metadata": {},
   "source": [
    "### 2.1 Programación no estructurada"
   ]
  },
  {
   "cell_type": "markdown",
   "metadata": {},
   "source": [
    "Recordemos que la programación imperativa evolucionó a partir del lenguaje\n",
    "máquina:\n",
    "\n",
    "- La máquina tiene **contador de programa** que indica el número de instrucción\n",
    "  (posición en la memoria) que se ejecutará a continuación.\n",
    "- Cuando se termina de ejecutar una instrucción, el contador de programa se\n",
    "  incrementa en uno a menos que la instrucción sea una **instrucción de\n",
    "  salto**, en cuyo caso el valor cambia al que la instrucción de salto indique.\n",
    "\n",
    "En los lenguajes de programación imperativos modernos, esta instrucción de salto\n",
    "se conoce como `goto` y se utiliza para saltar a una instrucción arbitraria del\n",
    "programa, generalmente indicada por una etiqueta.\n",
    "Al tipo de programación que abusa de la instrucción `goto` se le conoce como\n",
    "**programación no estructurada**.\n"
   ]
  },
  {
   "cell_type": "markdown",
   "metadata": {},
   "source": [
    "**Ejemplo**  En C++ las etiquetas se indican con el símbolo `:`.\n",
    "Consideremos el siguiente programa escrito en C++ que imprime los\n",
    "números de Fibonacci menores o iguales a un número `n_max` dado por el usuario.\n",
    "Las variables `i` y `j` se declaran explícitamente como enteros, y contienen dos\n",
    "números consecutivos de la sucesión de Fibonacci.\n",
    "Podemos observar que el programa tiene tres etiquetas: `loop`, `iterate` y\n",
    "`exit`:\n",
    "\n",
    "```C++\n",
    "#include <iostream>\n",
    "\n",
    "int main() {\n",
    "  int n_max, i = 1, j = 0;\n",
    "  std::cout << \"n = \";\n",
    "  std::cin >> n_max;\n",
    "\n",
    "loop:\n",
    "  if (j <= n_max) goto iterate;\n",
    "  goto exit;\n",
    "\n",
    "iterate:\n",
    "  std::cout << j << \" \";\n",
    "  j += i;\n",
    "  i = j - i;\n",
    "  goto loop;\n",
    "\n",
    "exit:\n",
    "  std::cout << std::endl;\n",
    "  return 0;\n",
    "}\n",
    "```"
   ]
  },
  {
   "cell_type": "markdown",
   "metadata": {},
   "source": [
    "**Actividad**: Usar el depurador de Visual Studio Code para ejecutar el programa\n",
    "anterior paso a paso y seguir el flujo de ejecución."
   ]
  },
  {
   "cell_type": "markdown",
   "metadata": {},
   "source": [
    "Muchos lenguajes de programación modernos como Python y JavaScript no\n",
    "implementan la instrucción `goto` porque se considera una **mala práctica de\n",
    "programación**.\n",
    "Ya en 1966 se sabía que la instrucción  `goto` es innecesaria para construir\n",
    "cualquier programa (veremos este resultado en la siguiente subsección), pero en\n",
    "1968 se publicó un influyente ensayo titulado [*Go To Statement Considered\n",
    "Harmful*][1] donde Edsger Dijkstra critica el esta instrucción `goto` porque\n",
    "produce código ilegible, que en terminología moderna conocemos popularmente como\n",
    "[*código espagueti*](https://en.wikipedia.org/wiki/Spaghetti_code).\n",
    "\n",
    "[1]: https://doi.org/10.1145/362929.362947"
   ]
  },
  {
   "cell_type": "markdown",
   "metadata": {},
   "source": [
    "En la programación no estructurada el entorno de referencia son todas los\n",
    "identificadores que se han declarado hasta el momento de la ejecución de una\n",
    "instrucción."
   ]
  },
  {
   "cell_type": "markdown",
   "metadata": {},
   "source": [
    "### 2.2 La programación estructurada"
   ]
  },
  {
   "cell_type": "markdown",
   "metadata": {},
   "source": [
    "En 1957 [FORTRAN](https://en.wikipedia.org/wiki/Fortran) se convirtió el primer\n",
    "lenguaje de programación en no depender de la instrucción `goto` para construir\n",
    "programas.\n",
    "El truco estaba en la capacidad de organizar el código en **bloques** y usar\n",
    "**estructuras de control** para controlar el flujo de ejecución del programa.\n",
    "\n",
    "**Definición** (de bloques de código) Un **bloque de código** se define\n",
    "recursivamente de la siguiente manera:\n",
    "- Una instrucción es un bloque de código por sí misma.\n",
    "- **Estructura secuencial**: Si $A$ y $B$ son bloques de código, entonces\n",
    "  “$A$`; `$B$” es el bloque de código que ejecuta $A$ y después ejecuta $B$.\n",
    "- **Estructura condicional**: Si $c$ es una expresión booleana y $A$ un bloque\n",
    "  de código, entonces “`si` $c$ `entonces` $A$ `fin`” es el bloque de código que\n",
    "  ejecuta $A$ si y sólo si $c$ es verdadera.\n",
    "- **Estructura iterativa**: Si $c$ es una expresión booleana y $A$ un bloque de\n",
    "  código, entonces “`mientras` $c$ `hacer` $A$ `fin`” es el bloque de código que\n",
    "  ejecuta $A$ mientras $c$ sea verdadera.\n",
    "  "
   ]
  },
  {
   "cell_type": "markdown",
   "metadata": {},
   "source": [
    "#### La estructura secuencial\n",
    "\n",
    "La estructura más simple de todas es la evolución natural de que el contador\n",
    "de programa se incremente en uno después de ejecutar una instrucción: las \n",
    "instrucciones se ejecutan una detrás de otra en el orden en que aparecen.\n",
    "Para separar las instrucciones en bloques de código se usa algún símbolo como el\n",
    "punto y coma `;` en C++ o el salto de línea en Python."
   ]
  },
  {
   "cell_type": "markdown",
   "metadata": {},
   "source": [
    "Si $B_1$, $B_2$, $\\ldots$, $B_n$ son bloques de código, entonces la estructura\n",
    "secuencial tiene la siguiente forma:\n",
    "\n",
    "- $B_1$`;`\n",
    "- $B_2$`;`\n",
    "- $\\quad\\vdots$\n",
    "- $B_n$`;`\n",
    "\n",
    "En particular, si cada bloque de código es una instrucción, se vería así:\n",
    "\n",
    "- $\\textit{instrucción}_1$\n",
    "- $\\textit{instrucción}_2$\n",
    "- $\\qquad\\vdots$\n",
    "- $\\textit{instrucción}_n$"
   ]
  },
  {
   "cell_type": "markdown",
   "metadata": {},
   "source": [
    "Algunos lenguajes de programación incluso tienen símbolos especiales para\n",
    "agrupar instrucciones en bloques de código:\n",
    "- Las palabras `begin` y `end` se usan ALGOL, Pascal, Ada y otros.\n",
    "- Las llaves `{` y `}` se usan en los descendientes del lenguaje B (C, C++,\n",
    "  Java, JavaScript, C#, etc.).\n"
   ]
  },
  {
   "cell_type": "markdown",
   "metadata": {},
   "source": [
    "**Actividad** En el siguiente programa escrito en C++; `std::cout` se usa para\n",
    "imprimir en la terminal, y `std::endl` representa un salto de línea.\n",
    "Determina qué imprime el programa y por qué.\n",
    "\n",
    "\n",
    "```C++\n",
    "#include <iostream>\n",
    "int foo = 1;\n",
    "\n",
    "void bloque_d() {\n",
    "  // Bloque D\n",
    "  std::cout << \"Bloque D: foo=\" << foo << std::endl;  \n",
    "}\n",
    "\n",
    "int main() {\n",
    "  // Bloque A\n",
    "  std::cout << \"Bloque A: foo=\" << foo << std::endl;\n",
    "  int foo = 2;\n",
    "\n",
    "  {\n",
    "    // Bloque B\n",
    "    int foo = 3;\n",
    "    std::cout << \"Bloque B: foo=\" << foo << std::endl;\n",
    "  }\n",
    "\n",
    "  {\n",
    "    // Bloque C\n",
    "    std::cout << \"Bloque C: foo=\" << foo << std::endl;\n",
    "  }\n",
    "\n",
    "  bloque_d();  // Llamada a la función bloque_d\n",
    "\n",
    "  std::cout << \"Bloque A: foo=\" << foo << std::endl;\n",
    "  return 0;\n",
    "}\n",
    "```"
   ]
  },
  {
   "cell_type": "markdown",
   "metadata": {},
   "source": [
    "#### La estructura condicional\n",
    "\n",
    "La estructura condicional evoluciona a partir de las instrucciones de salto\n",
    "condicional del lenguaje máquina, en donde el contador de programa cambia al\n",
    "valor de una etiqueta si y sólo si una condición es verdadera.\n",
    "\n",
    "Si $c$ es una expresión booleana y $B$ un bloque de código, entonces la\n",
    "estructura condicional tiene la siguiente forma:\n",
    "\n",
    "- `si` $\\mathit{c}$ `entonces`\n",
    "  - $\\mathit{B}$`;`\n",
    "\n",
    "Es equivalente al siguiente pseudocódigo que usa la instrucción “`vaya a`”\n",
    "(*goto*) y la etiqueta $L$:\n",
    "\n",
    "- `si` $\\neg\\mathit{c}$ `entonces vaya a` $L$`;`\n",
    "- $B$`;`\n",
    "- $L: \\ldots$"
   ]
  },
  {
   "cell_type": "markdown",
   "metadata": {},
   "source": [
    "**Actividad** Explorar la estructura condicional en Python y sus variantes."
   ]
  },
  {
   "cell_type": "code",
   "execution_count": null,
   "metadata": {},
   "outputs": [],
   "source": [
    "edad = 18\n",
    "if edad > 18:\n",
    "    print(\"Vamos por unas chelas.\")\n",
    "elif edad > 16:\n",
    "    print(\"Vamos a dar un paseo en coche.\")\n",
    "else:\n",
    "    print(\"Vamos por un Yakult.\")"
   ]
  },
  {
   "cell_type": "code",
   "execution_count": null,
   "metadata": {},
   "outputs": [],
   "source": [
    "estado = \"MTY\"\n",
    "match estado:\n",
    "    case \"MOR\":\n",
    "        print(\"Eres guayabo.\")\n",
    "    case \"CDMX\":\n",
    "        print(\"Eres chilango.\")\n",
    "    case \"AGS\":\n",
    "        print(\"Eres hidrocálido.\")\n",
    "    case \"GRO\":\n",
    "        print(\"Eres guerrerense.\")\n",
    "    case \"MTY\":\n",
    "        print(\"Eres regiomontano.\")\n",
    "    case _:\n",
    "        print(\"Eres del interior, provinciano.\")\n"
   ]
  },
  {
   "cell_type": "markdown",
   "metadata": {},
   "source": [
    "#### La estructura iterativa\n",
    "\n",
    "La estructura iterativa evoluciona a partir de las instrucciones de salto\n",
    "condicional que apuntan a una instrucción anterior, de manera que el contador de\n",
    "programa regresa a un valor menor.\n",
    "\n",
    "Si $c$ es una expresión booleana y $B$ un bloque de código, entonces la\n",
    "estructura iterativa tiene la siguiente forma:\n",
    "\n",
    "- `mientras` $\\mathit{c}$ `haga`\n",
    "  - $\\mathit{B}$`;`\n",
    "\n",
    "Es equivalente al siguiente pseudocódigo que usa la instrucción “`vaya a`”\n",
    "(*goto*) y las etiquetas $L$ y $M$:\n",
    "\n",
    "- $L:$ `si` $\\neg\\mathit{c}$ `entonces vaya a` $M$`;`\n",
    "- $B$`;`\n",
    "- `vaya a` $L$`;`\n",
    "- $M: \\ldots$"
   ]
  },
  {
   "cell_type": "markdown",
   "metadata": {},
   "source": [
    "**Actividad** Explorar la estructura iterativa en Python y sus variantes."
   ]
  },
  {
   "cell_type": "code",
   "execution_count": null,
   "metadata": {},
   "outputs": [],
   "source": [
    "edad = 15\n",
    "while edad < 18:\n",
    "    print(f\"Tienes {edad}; vamos por un Yakult.\")\n",
    "    print(\"Esperamos un año.\")\n",
    "    edad += 1\n",
    "print(\"Vamos por una chela.\")"
   ]
  },
  {
   "cell_type": "code",
   "execution_count": null,
   "metadata": {},
   "outputs": [],
   "source": [
    "list(range(10, 18))"
   ]
  },
  {
   "cell_type": "code",
   "execution_count": null,
   "metadata": {},
   "outputs": [],
   "source": [
    "for edad in range(10, 18):\n",
    "    print(f\"Tienes {edad}; vamos por un Yakult.\")\n",
    "print(\"Vamos por una chela.\")"
   ]
  },
  {
   "cell_type": "code",
   "execution_count": null,
   "metadata": {},
   "outputs": [],
   "source": [
    "for edad in range(99):\n",
    "    if edad < 1:\n",
    "        continue\n",
    "    if edad >= 18:\n",
    "        print(f\"Tienes {edad}; vamos por una chela.\")\n",
    "        break\n",
    "    print(f\"Tienes {edad}; vamos por un Yakult.\")\n"
   ]
  },
  {
   "cell_type": "markdown",
   "metadata": {},
   "source": [
    "#### El Teorema del programa estructurado\n",
    "\n",
    "En [1966 Böhm y Jacopini][1] demostraron matemáticamente que cualquier programa\n",
    "se puede escribir, al menos en principio, usando únicamente las estructuras de\n",
    "control secuencial, condicional e iterativa.\n",
    "Este resultado es completamente teóríco, pues las transformaciones que usan para\n",
    "convertir un programa no estructurado en uno que sí es estructurado lo vuelven\n",
    "aún más ilegible que el programa original.\n",
    "\n",
    "[1]: https://dl.acm.org/doi/10.1145/355592.365646"
   ]
  },
  {
   "cell_type": "markdown",
   "metadata": {},
   "source": [
    "El teorma de Böhm y Jacopini se refiere concretamente a [diagramas de flujo][1],\n",
    "pero se puede extender de forma natural a cualquier lenguaje de programación.\n",
    "Específicamente demostraron que cualquier diagrama de flujo se puede convertir\n",
    "a otro equivalente que tiene solamente estos tres artefactos con sus respectivas\n",
    "representaciones gráficas:\n",
    "\n",
    "![Diagramas de estructuras de control](img/Structured_program_patterns.svg)\n",
    "\n",
    "[1]: https://en.wikipedia.org/wiki/Flowchart"
   ]
  },
  {
   "cell_type": "markdown",
   "metadata": {},
   "source": [
    "A este resultado famoso se conoce como el **Teorema del programa estructurado**\n",
    "y muchos argumentan que es la justificación teórica de que la programación no\n",
    "estructurada es innecesaria.\n",
    "En la práctica se sabe que en algunos *muy raros* casos, la instrucción `goto`\n",
    "no solamente hace al programa más eficiente, sino más legible.\n",
    "\n",
    "En lo particular, como docente de programación, no recomiendo usar la\n",
    "instrucción `goto` a menos que tengas muchos años de experiencia programando y\n",
    "una muy buena razón para hacerlo.\n",
    "Antes de escribir ese `goto` pregúntate si la eficiencia que ganas es\n",
    "significativa y si no perderás legibilidad en el proceso.\n",
    "\n"
   ]
  }
 ],
 "metadata": {
  "kernelspec": {
   "display_name": ".venv",
   "language": "python",
   "name": "python3"
  },
  "language_info": {
   "codemirror_mode": {
    "name": "ipython",
    "version": 3
   },
   "file_extension": ".py",
   "mimetype": "text/x-python",
   "name": "python",
   "nbconvert_exporter": "python",
   "pygments_lexer": "ipython3",
   "version": "3.11.2"
  },
  "orig_nbformat": 4
 },
 "nbformat": 4,
 "nbformat_minor": 2
}
