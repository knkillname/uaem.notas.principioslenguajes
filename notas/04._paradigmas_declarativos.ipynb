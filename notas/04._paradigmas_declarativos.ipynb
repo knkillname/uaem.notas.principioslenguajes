{
 "cells": [
  {
   "cell_type": "markdown",
   "metadata": {},
   "source": [
    "# Paradigmas declarativos\n",
    "\n",
    "Recordemos que los lenguajes de programación se dividen en dos grandes grupos:\n",
    "los lenguajes imperativos y los lenguajes declarativos.\n",
    "Vimos que los lenguajes imperativos se basan en la ejecución de instrucciones\n",
    "que modifican el estado del programa (sus variables, estructuras de datos,\n",
    "contexto, etc.).\n",
    "A continuación estudiamos los lenguajes declarativos, que se basan en la\n",
    "reescritura de términos."
   ]
  },
  {
   "cell_type": "markdown",
   "metadata": {},
   "source": [
    "## 1. Programación funcional"
   ]
  },
  {
   "cell_type": "markdown",
   "metadata": {},
   "source": [
    "La *susbtitución* es quizá la operación más importante en matemáticas, y una que\n",
    "vale la pena estudiar con mucho cuidado al estudiante de programación.\n",
    "Consideremos el siguiente ejemplo:\n",
    "\n",
    "> Sean $f(x) = x^2 + 1$ y $g(x) = x - 1$; entonces $f(g(x)) = (x - 1)^2 + 1$.\n",
    "> Cuando $x = 2$ tenemos que $f(g(2)) = (2 - 1)^2 + 1 = (1)^2 + 1 = 1 + 1 = 2$.\n",
    "\n",
    "$f$ y $g$ se usan de dos maneras distintas: la primera vez se usan como\n",
    "*nombres* para una función, y de paso también definen a $x$ como un\n",
    "*parámetro* formal; las veces subsecuentes $f$ y $g$ se usan como *expresiones*\n",
    "que se evalúan a un valor concreto mediante la operación de sustitución.\n",
    "\n",
    "Esta operación de *reescribir* una expresión mediante substituciones sucesivas\n",
    "es la base de la programación funcional."
   ]
  },
  {
   "cell_type": "markdown",
   "metadata": {},
   "source": [
    "### 1.1. Expresiones Lambda"
   ]
  },
  {
   "cell_type": "markdown",
   "metadata": {},
   "source": [
    "En Python podemos emular este enunciado de la siguiente manera:"
   ]
  },
  {
   "cell_type": "code",
   "execution_count": null,
   "metadata": {},
   "outputs": [],
   "source": [
    "def f(x):\n",
    "    return x**2 + 1\n",
    "\n",
    "def g(x):\n",
    "    return x - 1\n",
    "\n",
    "f(g(2))"
   ]
  },
  {
   "cell_type": "markdown",
   "metadata": {},
   "source": [
    "Sin embargo, notemos que la sintaxis `def` está diseñada principalmente para\n",
    "denotar a un bloque de código imperativo que *retorna* un valor de resultado.\n",
    "Cuando nuestra función consiste en evaluar una expresión, podemos usar una\n",
    "sintaxis alternativa llamada *lambda*:"
   ]
  },
  {
   "cell_type": "code",
   "execution_count": null,
   "metadata": {},
   "outputs": [],
   "source": [
    "f = lambda x: x**2 + 1\n",
    "g = lambda x: x - 1\n",
    "f(g(2))"
   ]
  },
  {
   "cell_type": "markdown",
   "metadata": {},
   "source": [
    "`lambda x: x**2 + 1` crea una función que depende de una variable `x`; esta\n",
    "función se evalúa a la expresión `x**2 + 1` cuando se le da un valor a `x`.\n",
    "La asignación `f = lambda x: x**2 + 1` hace que la variable `f` se refiera a\n",
    "a esta función.\n",
    "\n",
    "**Observación** En Python las funciones son objetos denotables (datos), es\n",
    "decir, que se pueden referir mediante un nombre y se pueden pasar como\n",
    "argumentos a otras funciones.\n",
    "Esto es común a todos los lenguajes de programación funcional.\n",
    "En la jerga de Python se dice que las funciones son *ciudadanos de primera\n",
    "clase*.\n",
    "Así, en los lenguajes puramente funcionales no hay distinción entre datos y\n",
    "funciones."
   ]
  },
  {
   "cell_type": "code",
   "execution_count": null,
   "metadata": {},
   "outputs": [],
   "source": [
    "# Sustituyendo f y g en la expresión f(g(2)) por su definición:\n",
    "(lambda x: x**2 + 1)((lambda x: x - 1)(2))"
   ]
  },
  {
   "cell_type": "markdown",
   "metadata": {},
   "source": [
    "Nada previene a una expresión lambda de aparecer en el lado derecho de otra\n",
    "expresión lambda.\n",
    "Por ejemplo, consideremos $f(x, y) = x^2 + y^2 - x\\,y$.\n",
    "La manera más natural de definir esta función en Python usando la sintaxis\n",
    "`lambda` es la siguiente:"
   ]
  },
  {
   "cell_type": "code",
   "execution_count": null,
   "metadata": {},
   "outputs": [],
   "source": [
    "f = lambda x, y: x**2 + y**2 - x*y\n",
    "f(2, 3)"
   ]
  },
  {
   "cell_type": "markdown",
   "metadata": {},
   "source": [
    "Sin embargo también podemos definir $f$ de la siguiente manera:"
   ]
  },
  {
   "cell_type": "code",
   "execution_count": null,
   "metadata": {},
   "outputs": [],
   "source": [
    "f = lambda x: (lambda y: x**2 + y**2 - x*y)  # Estos paréntesis son innecesarios\n",
    "f(2)(3)"
   ]
  },
  {
   "cell_type": "markdown",
   "metadata": {},
   "source": [
    "¿Qué está pasando aquí? `lambda x: ...` crea una función que depende de una\n",
    "variable `x`, y la expresión que sigue a los dos  puntos es otra expresión\n",
    "lambda, es decir que $f$ es una función que se evalúa a otra función."
   ]
  },
  {
   "cell_type": "code",
   "execution_count": null,
   "metadata": {},
   "outputs": [],
   "source": [
    "type(f(2))"
   ]
  },
  {
   "cell_type": "markdown",
   "metadata": {},
   "source": [
    "Dado que $x = 2$, la expresión `lambda y: x**2 + y**2 - x*y` se evalúa (mediante\n",
    "substiución) a `lambda y: 2**2 + y**2 - 2*y`, es decir, a la función\n",
    "$g(y) = y^2 - 2\\,y + 4$.\n",
    "Luego, substituyendo $y = 3$ en esta función obtenemos\n",
    "$f(2)(3) = 3^2 - 2\\cdot 3 + 4 = 9 - 6 + 4 = 7$."
   ]
  },
  {
   "cell_type": "code",
   "execution_count": null,
   "metadata": {},
   "outputs": [],
   "source": [
    "(lambda x: lambda y: x**2 + y**2 - x*y)(2)(3)"
   ]
  },
  {
   "cell_type": "markdown",
   "metadata": {},
   "source": [
    "Ciertamente este ejemplo es muy artificial, pero nos sirve para ilustrar la\n",
    "idea de que las funciones se pueden evaluar a otras funciones."
   ]
  },
  {
   "cell_type": "markdown",
   "metadata": {},
   "source": [
    "Finalmente, el paradigma funcional admite funciones *recursivas*, es decir,\n",
    "funciones que se definen en términos de sí mismas:"
   ]
  },
  {
   "cell_type": "markdown",
   "metadata": {},
   "source": [
    "El factorial de un número natural $n$ equivale a multiplicar\n",
    "$$n! = 1 \\times 2 \\times 3 \\times \\cdots \\times n$$\n",
    "\n",
    "Formalmente, usamos una definición recursiva:\n",
    "$$\\begin{align*}\n",
    "0! &= 1 & \\text{(caso base)}\\\\\n",
    "n! &= n \\times (n - 1)! & \\text{(paso inductivo)}\\\\\n",
    "\\end{align*}$$"
   ]
  },
  {
   "cell_type": "code",
   "execution_count": null,
   "metadata": {},
   "outputs": [],
   "source": [
    "factorial = lambda n: 1 if n == 0 else n * factorial(n - 1)\n",
    "\n",
    "factorial(3)"
   ]
  },
  {
   "cell_type": "markdown",
   "metadata": {},
   "source": [
    "La evaluación de esta función es por substiución, así:\n",
    "```text\n",
    "factorial(3) ::= (1 if n == 0 else n * factorial(n - 1))(3)\n",
    "             ::= 1 if 3 == 0 else 3 * factorial(3 - 1)\n",
    "             ::= 3 * factorial(2)\n",
    "             ::= 3 * (1 if n == 0 else n * factorial(n - 1))(2)\n",
    "             ::= 3 * (1 if 2 == 0 else 2 * factorial(2 - 1))\n",
    "             ::= 3 * 2 * factorial(1)\n",
    "             ::= 3 * 2 * (1 if n == 0 else n * factorial(n - 1))(1)\n",
    "             ::= 3 * 2 * (1 if 1 == 0 else 1 * factorial(1 - 1))\n",
    "             ::= 3 * 2 * 1 * factorial(0)\n",
    "             ::= 3 * 2 * 1 * (1 if n == 0 else n * factorial(n - 1))(0)\n",
    "             ::= 3 * 2 * 1 * (1 if 0 == 0 else 0 * factorial(0 - 1))\n",
    "             ::= 3 * 2 * 1 * 1\n",
    "             ::= 3 * 2 * 1\n",
    "             ::= 3 * 2\n",
    "             ::= 6\n",
    "```"
   ]
  },
  {
   "cell_type": "markdown",
   "metadata": {},
   "source": [
    "En los lenguajes procedurales también se pueden programar funciones recursivas, aunque su análisis es más complicado."
   ]
  },
  {
   "cell_type": "code",
   "execution_count": null,
   "metadata": {},
   "outputs": [],
   "source": [
    "def hanoi(A, B, C, n):\n",
    "    if n <= 0:\n",
    "        return\n",
    "    hanoi(A, C, B, n - 1)\n",
    "    print(f\"Mover de {A} a {C}.\")\n",
    "    hanoi(B, A, C, n - 1)\n",
    "\n",
    "hanoi(\"1\", \"2\", \"3\", 5)"
   ]
  },
  {
   "cell_type": "markdown",
   "metadata": {},
   "source": [
    "Obsérvese que el cómputo se lleva a cabo sin necesidad de variables ni de\n",
    "actualizar el estado del programa, solamente mediante la reescritura de\n",
    "expresiones.\n",
    "En todo caso, las *variables* en la programación funcional no son tan variables\n",
    "después de todo, sino *inmutables*, ya que una vez que se les asigna un valor\n",
    "no se les puede cambiar."
   ]
  },
  {
   "cell_type": "markdown",
   "metadata": {},
   "source": [
    "### 1.2. Los ingredientes de la programación funcional\n",
    "\n",
    "La programación funcional tiene su origen en el *cálculo lambda*, un sistema\n",
    "formal de computación creado por Alonzo Church en la década de 1930.\n",
    "Todos los lenguajes de programación funcionales tienen las mismas tres\n",
    "construcciones básicas que el cálculo lambda, a saber:\n",
    "\n",
    "1. **Variables**: una cadena de caracteres como $x$ denota un parámetro.\n",
    "2. **Abstracción**: $\\lambda x. M$ define una función que depende de un\n",
    "   parámetro $x$ y se evalúa a la expresión $M$.\n",
    "3. **Aplicación**: $(M\\,N)$ evalúa la expresión $M$ y la aplica a la expresión\n",
    "   $N$."
   ]
  },
  {
   "cell_type": "markdown",
   "metadata": {},
   "source": [
    "#### Reescritura de expresiones\n",
    "En la programación funcional tenemos esencialmente dos reglas de reescritura\n",
    "de expresiones, llamadas *reducciones* $\\alpha$ y $\\beta$.\n",
    "Para estudiar estas reglas de reescritura usaremos la notación $t[x := r]$ para\n",
    "referirnos a la expresión $t$ en la que todas las ocurrencias de la variable\n",
    "$x$ han sido substituidas por la expresión $r$."
   ]
  },
  {
   "cell_type": "markdown",
   "metadata": {},
   "source": [
    "##### $\\alpha$-conversión\n",
    "Dos funciones son iguales si y sólo si producen el mismo resultado para\n",
    "cualquier argumento.\n",
    "En particular, cambiar el nombre de un parámetro formal no cambia la función.\n",
    "Por ejemplo, las funciones $f(x) = x^2 + 1$ y $g(y) = y^2 + 1$ son\n",
    "iguales porque los nombres de los parámetros formales son irrelevantes.\n",
    "\n",
    "**Definición** Sean $x$ e $y$ dos variables distintas y $M$ una expresión que\n",
    "depende de $x$; entonces $\\lambda x. M$ se puede reescribir como\n",
    "$\\lambda y.M[x := y]$.\n",
    "\n",
    "**Ejemplo** Consideremos la expresión $\\lambda x. x^2 + 1$. Claramente $y$ no\n",
    "aparece en esta expresión, así que $\\lambda x. x^2 + 1$ se puede reescribir\n",
    "como $\\lambda y. y^2 + 1$."
   ]
  },
  {
   "cell_type": "markdown",
   "metadata": {},
   "source": [
    "##### $\\beta$-reducción\n",
    "La $\\beta$-reducción es la regla de reescritura más importante en la\n",
    "programación funcional, y proviene de la idea de que una función se evalúa\n",
    "mediante el reemplazo de su parámetro formal por el argumento.\n",
    "\n",
    "**Definición** Sean $x$ una variable, $M$ una expresión que depende de $x$ y\n",
    "$N$ una expresión; entonces $(\\lambda x. M)\\,N$ se puede reescribir como\n",
    "$M[x := N]$.\n",
    "\n",
    "**Ejemplo** Consideremos la expresión\n",
    "$(\\lambda x. \\lambda y. x^2 + y^2 - x\\,y)\\,2$.\n",
    "Entonces sustituyendo $x$ por $2$ obtenemos la expresión\n",
    "$\\lambda y. 2^2 + y^2 - 2\\,y$.\n"
   ]
  },
  {
   "cell_type": "markdown",
   "metadata": {},
   "source": [
    "## 2. Estudio de caso: Programación funcional en Python\n"
   ]
  },
  {
   "cell_type": "markdown",
   "metadata": {},
   "source": [
    "### 2.1 Características la programación funcional"
   ]
  },
  {
   "cell_type": "markdown",
   "metadata": {},
   "source": [
    "#### Funciones sin efectos secundarios ni estado\n",
    "\n",
    "El *estado* de un programa es, en esencia, la asociación entre todos los nombres\n",
    "y valores que hay en un momento dado, es decir, el entorno de referencia."
   ]
  },
  {
   "cell_type": "code",
   "execution_count": null,
   "metadata": {},
   "outputs": [],
   "source": [
    "class Personaje:\n",
    "    \"\"\"Clase que representa a un personaje en un script de diálogo.\"\"\"\n",
    "    sangria=4\n",
    "\n",
    "    def __init__(self, nombre):\n",
    "        self.nombre = nombre\n",
    "    \n",
    "    def hablar(self, mensaje, contexto=None):\n",
    "        print(f\"{self.nombre.upper().center(80, ' ')}\")\n",
    "        if contexto:\n",
    "            print(f\"{' '*self.sangria}({contexto})\")\n",
    "        print(f\"{' '*self.sangria}{mensaje}\")\n",
    "    \n",
    "    def hacer(self, accion):\n",
    "        print(f\"{self.nombre.upper()} {accion}\")"
   ]
  },
  {
   "cell_type": "code",
   "execution_count": null,
   "metadata": {},
   "outputs": [],
   "source": [
    "mago = Personaje(\"Gandalf\")\n",
    "mago.hablar(\"¡Un mago nunca llega tarde!\")\n",
    "mago.hacer(\"se levanta y se va.\")"
   ]
  },
  {
   "cell_type": "code",
   "execution_count": null,
   "metadata": {},
   "outputs": [],
   "source": [
    "mago.nombre = \"Rody\"  # Cambiamos el nombre del mago (el estado del objeto)\n",
    "Personaje.sangria = 2\n",
    "mago.hablar(\"¡Chin Pum Pan Tortillas Papas!\", \"Haciendo un conjuro\")\n",
    "mago.hacer(\"Saca un conejo de su sombrero\")"
   ]
  },
  {
   "cell_type": "markdown",
   "metadata": {},
   "source": [
    "Notamos que hemos cambiado el nombre del mago, cambiando así el estado del\n",
    "programa.\n",
    "En cambio, en la programación funcional se prefiere nunca utilizar el operador\n",
    "de asignación (`=`), y en su lugar usar funciones que son trivialmente simples\n",
    "(la simplicidad es una virtud en la programación funcional)."
   ]
  },
  {
   "cell_type": "code",
   "execution_count": null,
   "metadata": {},
   "outputs": [],
   "source": [
    "def saludar(personaje, contexto):\n",
    "    print(contexto)\n",
    "    print(f\"Hola, soy {personaje.upper()}\")\n",
    "\n",
    "# Paso de argumentos por posición\n",
    "saludar(\"Rody\", \"Sacando una paloma del sombrero:\")\n",
    "\n",
    "# Paso de argumentos por nombre\n",
    "saludar(personaje=\"Merlín\", contexto=\"Agitando su varita mágica\")\n",
    "\n",
    "# Paso mixto:\n",
    "saludar(\"Harry Potter\", contexto=\"Peleando contra el saúco\")"
   ]
  },
  {
   "cell_type": "code",
   "execution_count": null,
   "metadata": {},
   "outputs": [],
   "source": [
    "def hablar(nombre, mensaje, contexto=None, sangria=4):\n",
    "    print(\n",
    "        \"{personaje}\\n{contexto}{mensaje}\".format(\n",
    "            personaje=nombre.upper().center(80, \" \"),\n",
    "            contexto=\" \" * sangria + f\"({contexto})\\n\" if contexto else \"\",\n",
    "            mensaje=\" \" * sangria + mensaje,\n",
    "        )\n",
    "    )"
   ]
  },
  {
   "cell_type": "code",
   "execution_count": null,
   "metadata": {},
   "outputs": [],
   "source": [
    "hablar(\n",
    "    \"McGonagall\",\n",
    "    \"Buenas noches profesor Dumbledore. ¿Son ciertos los rumores, Albus?\",\n",
    "    \"Acercándose\",\n",
    ")\n",
    "hablar(\n",
    "    \"Dumbledore\",\n",
    "    \"Eso me temo profesora. El bueno y el malo.\",\n",
    "    \"Caminando juntos\",\n",
    ")\n",
    "hablar(\"McGonagall\", \"¿Y el chico?\")"
   ]
  },
  {
   "cell_type": "markdown",
   "metadata": {},
   "source": [
    "#### Demostrabilidad\n",
    "\n",
    "Cuando uno crea aplicaciones, una característica muy importante es que los\n",
    "programas sean **correctos**, que hagan lo que dicen que hacen."
   ]
  },
  {
   "cell_type": "markdown",
   "metadata": {},
   "source": [
    "El algoritmo de la división sirve para que\n",
    "- **dados** dos números enteros $a$ y $b$\n",
    "- **encontremos** dos números $q$ y $r$ tales que \n",
    "  $$a = b\\,q + r,\\qquad 0\\le r < b$$"
   ]
  },
  {
   "cell_type": "code",
   "execution_count": null,
   "metadata": {},
   "outputs": [],
   "source": [
    "def dividir(a, b):\n",
    "    r = a\n",
    "    q = 0\n",
    "    while b <= r:  # ¿b cabe en r?\n",
    "        r -= b\n",
    "        q += 1\n",
    "    return q, r"
   ]
  },
  {
   "cell_type": "code",
   "execution_count": null,
   "metadata": {},
   "outputs": [],
   "source": [
    "a, b = 2366, 273\n",
    "q, r = dividir(a, b)\n",
    "print(f\"{a} = {b}*{q} + {r},    0 <= {r} < {b}\")"
   ]
  },
  {
   "cell_type": "markdown",
   "metadata": {},
   "source": [
    "**Teorema** Cuando el algoritmo `dividir(a, b)` devuelve `q` y `r`, tenemos que $$a = b\\,q + r,\\qquad 0\\le r < b$$\n",
    "\n",
    "*Demostración* Por inducción matemática en el número de iteraciones del ciclo `while`:\n",
    "- *Caso base*. Antes de iniciar el ciclo (iteración 0) tenemos que $r=a$ y $q=0$, pero entonces $a = 0 + a = a\\times 0 + a = a\\, q + r$.\n",
    "- *Paso inductivo* Mostraremos que si en la iteración $k$ $a = b\\,q + r$, entonces en la iteración siguiente ($k + 1$) también. En la iteración $k + 1$ las líneas 5 y 6 calculan nuevos valores de $q$ y $r$ que llamaremos  \n",
    "  $$\\begin{align*}\n",
    "  r^\\prime &= r - b \\\\\n",
    "  q^\\prime &= q + 1 \\\\\n",
    "  \\end{align*}$$\n",
    "  Entonces\n",
    "  $$\\begin{align*}\n",
    "  a &= b\\,q + r \\\\\n",
    "    &= b\\,q + b + (r - b) \\\\\n",
    "    &= b\\,(q + 1) + (r - b) \\\\\n",
    "    &= b\\,q^\\prime + r^\\prime \\\\\n",
    "  \\end{align*}$$\n",
    "\n",
    "Por lo tanto $a = b\\,q + r$ en todas las iteraciones. En particular, se vale para la iteración final, que ocurre cuando $b > r$, es decir, $0 \\le r < b$.  $\\square$"
   ]
  },
  {
   "cell_type": "code",
   "execution_count": null,
   "metadata": {},
   "outputs": [],
   "source": [
    "def dividir(a, b):\n",
    "    if b <= a:\n",
    "        q, r = dividir(a - b, b)\n",
    "        return q + 1, r\n",
    "    return 0, a"
   ]
  },
  {
   "cell_type": "markdown",
   "metadata": {},
   "source": [
    "#### Comparación del estructurado de datos"
   ]
  },
  {
   "cell_type": "code",
   "execution_count": null,
   "metadata": {},
   "outputs": [],
   "source": [
    "# Ejemplo: sistema de votación para comida en una Kermés\n",
    "# en programación orientada a objetos\n",
    "class Comida:\n",
    "    def __init__(self, nombre) -> None:\n",
    "        self.nombre = nombre\n",
    "        self.n_votos = 0\n",
    "\n",
    "class Votante:\n",
    "    def __init__(self, nombre) -> None:\n",
    "        self.nombre = nombre\n",
    "        self.voto = None\n",
    "    \n",
    "    def dar_voto(self, comida):\n",
    "        self.voto = comida\n",
    "        comida.n_votos += 1\n",
    "\n",
    "# Comidas:\n",
    "pozole = Comida(\"pozole\")\n",
    "tacos = Comida(\"tacos\")\n",
    "tamales = Comida(\"tamales\")\n",
    "enchiladas = Comida(\"enchiladas\")\n",
    "tortas = Comida(\"tortas\")\n",
    "\n",
    "# Votantes:\n",
    "lozano = Votante(\"Lozano\")\n",
    "huilotl = Votante(\"Huilotl\")\n",
    "leo = Votante(\"Leo\")\n",
    "gamboa = Votante(\"Gamboa\")\n",
    "brayan = Votante(\"Brayan\")\n",
    "oswaldo = Votante(\"Oswaldo\")\n",
    "\n",
    "# Votos\n",
    "lozano.dar_voto(enchiladas)\n",
    "huilotl.dar_voto(tamales)\n",
    "leo.dar_voto(tacos)\n",
    "gamboa.dar_voto(pozole)\n",
    "brayan.dar_voto(tortas)\n",
    "oswaldo.dar_voto(enchiladas)"
   ]
  },
  {
   "cell_type": "code",
   "execution_count": null,
   "metadata": {},
   "outputs": [],
   "source": [
    "enchiladas.n_votos"
   ]
  },
  {
   "cell_type": "code",
   "execution_count": null,
   "metadata": {},
   "outputs": [],
   "source": [
    "tortas.n_votos"
   ]
  },
  {
   "cell_type": "code",
   "execution_count": null,
   "metadata": {},
   "outputs": [],
   "source": [
    "votos = {}\n",
    "\n",
    "def hacer_voto(votante, comida):\n",
    "    votos[votante] = comida\n",
    "\n",
    "hacer_voto(\"lozano\", \"enchiladas\")\n",
    "hacer_voto(\"huilotl\",\"tamales\")\n",
    "hacer_voto(\"leo\",\"tacos\")\n",
    "hacer_voto(\"gamboa\",\"pozole\")\n",
    "hacer_voto(\"brayan\",\"tortas\")\n",
    "hacer_voto(\"oswaldo\",\"enchiladas\")\n",
    "\n",
    "votos"
   ]
  },
  {
   "cell_type": "code",
   "execution_count": null,
   "metadata": {},
   "outputs": [],
   "source": [
    "import collections\n",
    "\n",
    "cuenta = collections.Counter(votos.values())\n",
    "print(cuenta.most_common(1)[0])"
   ]
  },
  {
   "cell_type": "markdown",
   "metadata": {},
   "source": [
    "#### Wrappers (envolturas)"
   ]
  },
  {
   "cell_type": "code",
   "execution_count": null,
   "metadata": {},
   "outputs": [],
   "source": [
    "import time\n",
    "\n",
    "def medir_tiempo(func):\n",
    "    def medir():\n",
    "        return (time.perf_counter(), func(), time.perf_counter())\n",
    "\n",
    "    def calcular_diferencia(resultado):\n",
    "        return resultado[2] - resultado[0]\n",
    "    \n",
    "    return calcular_diferencia(medir())\n"
   ]
  },
  {
   "cell_type": "code",
   "execution_count": null,
   "metadata": {},
   "outputs": [],
   "source": [
    "def calcular_derivada(f, a, epsilon = 10**-6):\n",
    "    return (f(a + epsilon) - f(a - epsilon))/(2*epsilon)"
   ]
  },
  {
   "cell_type": "code",
   "execution_count": null,
   "metadata": {},
   "outputs": [],
   "source": [
    "def f_ejemplo(x):\n",
    "    return x**2 - 1\n",
    "\n",
    "calcular_derivada(f_ejemplo, 1.0, 10**-10)"
   ]
  },
  {
   "cell_type": "code",
   "execution_count": null,
   "metadata": {},
   "outputs": [],
   "source": [
    "medir_tiempo(lambda: calcular_derivada(f_ejemplo, 1.0, 10**-10))"
   ]
  },
  {
   "cell_type": "code",
   "execution_count": null,
   "metadata": {},
   "outputs": [],
   "source": [
    "def func(*args, **kwargs):\n",
    "    print(args)\n",
    "    print(kwargs)"
   ]
  },
  {
   "cell_type": "code",
   "execution_count": null,
   "metadata": {},
   "outputs": [],
   "source": [
    "func(1, 2, 3, 4, 5, a=6, b=7, c=8)"
   ]
  },
  {
   "cell_type": "markdown",
   "metadata": {},
   "source": [
    "#### Patrón Decorator"
   ]
  },
  {
   "cell_type": "code",
   "execution_count": null,
   "metadata": {},
   "outputs": [],
   "source": [
    "def medir_tiempo(func):\n",
    "    def calcular_resultado(*args, **kwargs):\n",
    "        resultado = (time.perf_counter(), func(*args, **kwargs), time.perf_counter())\n",
    "        print(f\"Tiempo de ejecución: {resultado[2] - resultado[0]} segundos\")\n",
    "        return resultado[1]\n",
    "\n",
    "    return calcular_resultado  # No se ejecuta la función"
   ]
  },
  {
   "cell_type": "code",
   "execution_count": null,
   "metadata": {},
   "outputs": [],
   "source": [
    "@medir_tiempo\n",
    "def calcular_derivada(f, a, epsilon = 10**-6):\n",
    "    return (f(a + epsilon) - f(a - epsilon))/(2*epsilon)\n",
    "\n",
    "@medir_tiempo\n",
    "def calcular_integral(f, a, b, n=1000):\n",
    "    # Calcula la integral de f entre a y b usando la regla de Simpson\n",
    "    h = (b - a)/n\n",
    "    suma = f(a) + f(b)\n",
    "    for i in range(1, n, 2):\n",
    "        suma += 4*f(a + i*h)\n",
    "    for i in range(2, n, 2):\n",
    "        suma += 2*f(a + i*h)\n",
    "    return suma*h/3\n"
   ]
  },
  {
   "cell_type": "code",
   "execution_count": null,
   "metadata": {},
   "outputs": [],
   "source": [
    "calcular_derivada(f_ejemplo, 1.0, 10**-10)"
   ]
  },
  {
   "cell_type": "code",
   "execution_count": null,
   "metadata": {},
   "outputs": [],
   "source": [
    "calcular_integral(lambda x: 2*x**3,0, 97)"
   ]
  },
  {
   "cell_type": "markdown",
   "metadata": {},
   "source": [
    "#### Patrón Currying "
   ]
  },
  {
   "cell_type": "code",
   "execution_count": null,
   "metadata": {},
   "outputs": [],
   "source": [
    "def componer(funciones):\n",
    "    def composicion(x):\n",
    "        # Aplica la composición de las funciones recursivamente\n",
    "        for f in funciones:\n",
    "            x = f(x)\n",
    "        return x\n",
    "    return composicion\n",
    "\n",
    "def metros_a_pies(metros):\n",
    "    return metros*3.28084\n",
    "\n",
    "def pies_a_pulgadas(pies):\n",
    "    return pies*12\n",
    "\n",
    "def pulgadas_a_centimetros(pulgadas):\n",
    "    return pulgadas*2.54\n",
    "\n",
    "conversion = componer([metros_a_pies, pies_a_pulgadas, pulgadas_a_centimetros])\n",
    "for metros in range(1, 11):\n",
    "    print(f\"{metros} metros = {conversion(metros):.2f} centímetros\")"
   ]
  },
  {
   "cell_type": "markdown",
   "metadata": {},
   "source": [
    "#### Patrón Mónadas"
   ]
  },
  {
   "cell_type": "markdown",
   "metadata": {},
   "source": [
    "La Mónada *Maybe* permite definir funciones que pueden fallar, es decir, que\n",
    "pueden no tener un valor de resultado.\n",
    "En este caso la implementación en Python la podemos hacer con dos clases:\n",
    "- `Just(x)`: representa un valor `x` que no falla.\n",
    "- `Nothing`: representa una función que falla.\n"
   ]
  },
  {
   "cell_type": "code",
   "execution_count": null,
   "metadata": {},
   "outputs": [],
   "source": [
    "# Implementación de la mónada Maybe\n",
    "\n",
    "class Nothing:\n",
    "    def __repr__(self):\n",
    "        return \"Nothing\"\n",
    "    \n",
    "    def bind(self, funcion):\n",
    "        return Nothing()\n",
    "\n",
    "class Just:\n",
    "    def __init__(self, valor):\n",
    "        self.valor = valor\n",
    "    \n",
    "    def __repr__(self):\n",
    "        return f\"Just({self.valor})\"\n",
    "    \n",
    "    def bind(self, funcion):\n",
    "        try:\n",
    "            return funcion(self.valor)\n",
    "        except:\n",
    "            return Nothing()\n",
    "\n",
    "def dividir(a, b):\n",
    "    if b == 0:\n",
    "        raise ValueError(\"No se puede dividir entre cero\")\n",
    "    return Just(a/b)\n",
    "\n",
    "print(Just(10).bind(lambda x: dividir(x, 2)))\n",
    "print(Just(10).bind(lambda x: dividir(x, 0)))"
   ]
  },
  {
   "cell_type": "markdown",
   "metadata": {},
   "source": [
    "#### Monada List"
   ]
  },
  {
   "cell_type": "code",
   "execution_count": null,
   "metadata": {},
   "outputs": [],
   "source": [
    "# Implementación de una monada para listas\n",
    "class List(list):\n",
    "    def bind(self, funcion):\n",
    "        resultado = []\n",
    "        for elemento in self:\n",
    "            resultado.extend(funcion(elemento))\n",
    "        return List(resultado)\n",
    "    \n",
    "    def __repr__(self):\n",
    "        return f\"List({super().__repr__()})\"\n",
    "    \n",
    "# Ejemplo:\n",
    "print(List([1, 2, 3]).bind(lambda x: List([x, x**2, x**3])))"
   ]
  },
  {
   "cell_type": "markdown",
   "metadata": {},
   "source": [
    "#### Monada Memoize"
   ]
  },
  {
   "cell_type": "code",
   "execution_count": null,
   "metadata": {},
   "outputs": [],
   "source": [
    "memo_fib = {}\n",
    "\n",
    "def fib(n):\n",
    "    if n in memo_fib:\n",
    "        return memo_fib[n]\n",
    "    if n < 2:\n",
    "        resultado = n\n",
    "    else:\n",
    "        resultado = fib(n - 1) + fib(n - 2)\n",
    "    memo_fib[n] = resultado\n",
    "    return resultado\n",
    "\n",
    "fib(44) "
   ]
  },
  {
   "cell_type": "code",
   "execution_count": null,
   "metadata": {},
   "outputs": [],
   "source": [
    "import functools\n",
    "\n",
    "@functools.lru_cache(maxsize=None)\n",
    "def fib(n):\n",
    "    if n < 2:\n",
    "        return n\n",
    "    return fib(n - 1) + fib(n - 2)\n",
    "\n",
    "fib(44)"
   ]
  },
  {
   "cell_type": "code",
   "execution_count": null,
   "metadata": {},
   "outputs": [],
   "source": []
  }
 ],
 "metadata": {
  "kernelspec": {
   "display_name": ".venv",
   "language": "python",
   "name": "python3"
  },
  "language_info": {
   "codemirror_mode": {
    "name": "ipython",
    "version": 3
   },
   "file_extension": ".py",
   "mimetype": "text/x-python",
   "name": "python",
   "nbconvert_exporter": "python",
   "pygments_lexer": "ipython3",
   "version": "3.11.2"
  }
 },
 "nbformat": 4,
 "nbformat_minor": 2
}
